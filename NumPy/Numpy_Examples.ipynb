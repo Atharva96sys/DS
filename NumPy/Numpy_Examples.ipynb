{
 "cells": [
  {
   "cell_type": "code",
   "execution_count": 1,
   "id": "a7317c9a",
   "metadata": {},
   "outputs": [],
   "source": [
    "import numpy as np"
   ]
  },
  {
   "cell_type": "markdown",
   "id": "3c9adf04",
   "metadata": {},
   "source": [
    "#### **Advanced Indexing Examples And Their Exaplanation**"
   ]
  },
  {
   "cell_type": "markdown",
   "id": "3a18a78a",
   "metadata": {},
   "source": [
    "***This Examples Are Mainly Problems Or Harder Examples***"
   ]
  },
  {
   "cell_type": "markdown",
   "id": "54a3fd6c",
   "metadata": {},
   "source": [
    "* ***Integer Array Indexing***"
   ]
  },
  {
   "cell_type": "markdown",
   "id": "473b6ee4",
   "metadata": {},
   "source": [
    "*Ex1:-Code To Find specific element from every row of an array*"
   ]
  },
  {
   "cell_type": "code",
   "execution_count": 15,
   "id": "7d7d77bf",
   "metadata": {},
   "outputs": [
    {
     "name": "stdout",
     "output_type": "stream",
     "text": [
      "[[1 2]\n",
      " [3 4]\n",
      " [5 6]]\n"
     ]
    }
   ],
   "source": [
    "a = np.array([[1,2],[3,4],[5,6]])\n",
    "print(a)"
   ]
  },
  {
   "cell_type": "code",
   "execution_count": 20,
   "id": "c664f122",
   "metadata": {},
   "outputs": [
    {
     "name": "stdout",
     "output_type": "stream",
     "text": [
      "[1 3 5]\n",
      "[1 3 5]\n"
     ]
    }
   ],
   "source": [
    "print(a[[0,1,2],[0,0,0]]) # Accessing first element from every row using [0,1,2] represents first,second,third rows\n",
    "# OR\n",
    "print(a[:,0])"
   ]
  },
  {
   "cell_type": "markdown",
   "id": "360512e2",
   "metadata": {},
   "source": [
    "**Above Example Represents How To Access List Out Of Larger Array Using Advanced Indexing**"
   ]
  },
  {
   "cell_type": "markdown",
   "id": "830642ae",
   "metadata": {},
   "source": [
    "*Ex2:-More Complex Form of Indexing*"
   ]
  },
  {
   "cell_type": "code",
   "execution_count": null,
   "id": "47fc5825",
   "metadata": {},
   "outputs": [
    {
     "name": "stdout",
     "output_type": "stream",
     "text": [
      "[[1 2 2]\n",
      " [3 4 4]\n",
      " [5 6 6]]\n"
     ]
    }
   ],
   "source": [
    "print(a[:,[0,1,1]]) \n",
    "\n",
    "# [[1,2]   <- c1\n",
    "#  [3,4]   <- c2\n",
    "#  [5,6]]  <- c3\n",
    "# a[:,[0,1,1]] -> ':' hepls to traverse along rows , '[0,1,1]' hepls to select specific element from each traversed rows\n"
   ]
  },
  {
   "cell_type": "code",
   "execution_count": null,
   "id": "de2a9a9c",
   "metadata": {},
   "outputs": [],
   "source": [
    "#  [0,1,1]     <- indexing array \n",
    "\n",
    "# [[1 2 2]     <- first row's [first,second,second] element using indexing array\n",
    "#  [3 4 4]\n",
    "#  [5 6 6]]"
   ]
  },
  {
   "cell_type": "markdown",
   "id": "3e19dd1b",
   "metadata": {},
   "source": [
    "*Ex3:-From a 6x5 array the corner elements should be selected using advanced indexing.*"
   ]
  },
  {
   "cell_type": "code",
   "execution_count": 21,
   "id": "d2716be4",
   "metadata": {},
   "outputs": [
    {
     "name": "stdout",
     "output_type": "stream",
     "text": [
      "[[ 1  2  3  4  5]\n",
      " [ 6  7  8  9 10]\n",
      " [11 12 13 14 15]\n",
      " [16 17 18 19 20]\n",
      " [21 22 23 24 25]\n",
      " [26 27 28 29 30]]\n"
     ]
    }
   ],
   "source": [
    "a = np.arange(1,31).reshape(6,5)\n",
    "print(a)"
   ]
  },
  {
   "cell_type": "code",
   "execution_count": 51,
   "id": "0e9e0bfb",
   "metadata": {},
   "outputs": [
    {
     "data": {
      "text/plain": [
       "array([[ 1,  5],\n",
       "       [26, 30]])"
      ]
     },
     "execution_count": 51,
     "metadata": {},
     "output_type": "execute_result"
    }
   ],
   "source": [
    "# Answer:-\n",
    "a[[0,0,5,5],[0,4,0,4]].reshape(2,2)\n",
    "# Here We Use two integer array for indexing corner element in original array"
   ]
  },
  {
   "cell_type": "code",
   "execution_count": 52,
   "id": "bb84db90",
   "metadata": {},
   "outputs": [
    {
     "data": {
      "text/plain": [
       "array([[ 1,  5],\n",
       "       [26, 30]])"
      ]
     },
     "execution_count": 52,
     "metadata": {},
     "output_type": "execute_result"
    }
   ],
   "source": [
    "# Another Way To Do\n",
    "a[[[0,0],[5,5]],[[0,4],[0,4]]]"
   ]
  }
 ],
 "metadata": {
  "kernelspec": {
   "display_name": "base",
   "language": "python",
   "name": "python3"
  },
  "language_info": {
   "codemirror_mode": {
    "name": "ipython",
    "version": 3
   },
   "file_extension": ".py",
   "mimetype": "text/x-python",
   "name": "python",
   "nbconvert_exporter": "python",
   "pygments_lexer": "ipython3",
   "version": "3.12.7"
  }
 },
 "nbformat": 4,
 "nbformat_minor": 5
}
