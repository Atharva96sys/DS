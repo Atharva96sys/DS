{
 "cells": [
  {
   "cell_type": "markdown",
   "id": "531f996e",
   "metadata": {},
   "source": [
    "## ***Numpy Practice Set***"
   ]
  },
  {
   "cell_type": "code",
   "execution_count": 2,
   "id": "c6b9aadb",
   "metadata": {},
   "outputs": [],
   "source": [
    "import numpy as np"
   ]
  },
  {
   "cell_type": "markdown",
   "id": "53611d1a",
   "metadata": {},
   "source": [
    "#### Q1:-How To Make 1D Array from ranging 0 to 9"
   ]
  },
  {
   "cell_type": "code",
   "execution_count": 3,
   "id": "3be909dd",
   "metadata": {},
   "outputs": [
    {
     "data": {
      "text/plain": [
       "array([0, 1, 2, 3, 4, 5, 6, 7, 8, 9])"
      ]
     },
     "execution_count": 3,
     "metadata": {},
     "output_type": "execute_result"
    }
   ],
   "source": [
    "a = np.arange(0,10)\n",
    "a"
   ]
  },
  {
   "cell_type": "markdown",
   "id": "c836ae2b",
   "metadata": {},
   "source": [
    "#### Q2:-Create a 3×3 numpy array of all True’s"
   ]
  },
  {
   "cell_type": "code",
   "execution_count": 4,
   "id": "57d96384",
   "metadata": {},
   "outputs": [
    {
     "data": {
      "text/plain": [
       "array([[ True,  True,  True],\n",
       "       [ True,  True,  True],\n",
       "       [ True,  True,  True]])"
      ]
     },
     "execution_count": 4,
     "metadata": {},
     "output_type": "execute_result"
    }
   ],
   "source": [
    "b = np.ones((3,3),dtype = 'bool')\n",
    "b"
   ]
  },
  {
   "cell_type": "markdown",
   "id": "92ecb272",
   "metadata": {},
   "source": [
    "#### Q3:-Extract all odd numbers from arr <br>\n",
    "\n",
    "#### arr = np.array([0, 1, 2, 3, 4, 5, 6, 7, 8, 9])"
   ]
  },
  {
   "cell_type": "code",
   "execution_count": 5,
   "id": "c68c77e6",
   "metadata": {},
   "outputs": [
    {
     "data": {
      "text/plain": [
       "array([ 0, -1,  2, -1,  4, -1,  6, -1,  8, -1])"
      ]
     },
     "execution_count": 5,
     "metadata": {},
     "output_type": "execute_result"
    }
   ],
   "source": [
    "arr = np.array([0, 1, 2, 3, 4, 5, 6, 7, 8, 9])\n",
    "arr[arr%2 == 1] = -1\n",
    "arr"
   ]
  },
  {
   "cell_type": "markdown",
   "id": "ab70977e",
   "metadata": {},
   "source": [
    "#### Q4:-Replace all odd numbers in arr with -1"
   ]
  },
  {
   "cell_type": "code",
   "execution_count": 6,
   "id": "8e1296e7",
   "metadata": {},
   "outputs": [
    {
     "name": "stdout",
     "output_type": "stream",
     "text": [
      "Original:- [0 1 2 3 4 5 6 7 8 9]\n",
      "New Array:- [ 0 -1  2 -1  4 -1  6 -1  8 -1]\n"
     ]
    }
   ],
   "source": [
    "arr = np.arange(0,10)\n",
    "newarr = np.copy(arr)\n",
    "\n",
    "newarr[newarr%2 == 1] = -1\n",
    "print(\"Original:-\",arr)\n",
    "print(\"New Array:-\",newarr)"
   ]
  },
  {
   "cell_type": "markdown",
   "id": "a8c01769",
   "metadata": {},
   "source": [
    "Q5:-Convert a 1D array to a 2D array with 2 rows"
   ]
  },
  {
   "cell_type": "code",
   "execution_count": 7,
   "id": "ea28db45",
   "metadata": {},
   "outputs": [
    {
     "data": {
      "text/plain": [
       "array([[0, 1, 2, 3, 4],\n",
       "       [5, 6, 7, 8, 9]])"
      ]
     },
     "execution_count": 7,
     "metadata": {},
     "output_type": "execute_result"
    }
   ],
   "source": [
    "np.arange(10).reshape(2,-1)"
   ]
  },
  {
   "cell_type": "markdown",
   "id": "5b002b6f",
   "metadata": {},
   "source": [
    "Q6:-Stack arrays a and b vertically<br>\n",
    "a = np.arange(10).reshape(2,-1)<br>\n",
    "b = np.repeat(1, 10).reshape(2,-1)\n"
   ]
  },
  {
   "cell_type": "code",
   "execution_count": 8,
   "id": "11282de5",
   "metadata": {},
   "outputs": [
    {
     "data": {
      "text/plain": [
       "array([[0, 1, 2, 3, 4],\n",
       "       [5, 6, 7, 8, 9],\n",
       "       [1, 1, 1, 1, 1],\n",
       "       [1, 1, 1, 1, 1]])"
      ]
     },
     "execution_count": 8,
     "metadata": {},
     "output_type": "execute_result"
    }
   ],
   "source": [
    "a = np.arange(10).reshape(2,-1)\n",
    "b = np.repeat(1, 10).reshape(2,-1)\n",
    "\n",
    "np.vstack((a,b))"
   ]
  },
  {
   "cell_type": "markdown",
   "id": "df947f13",
   "metadata": {},
   "source": [
    "Q7:- Stack arrays a and b horizontally"
   ]
  },
  {
   "cell_type": "code",
   "execution_count": 10,
   "id": "47f723c0",
   "metadata": {},
   "outputs": [
    {
     "data": {
      "text/plain": [
       "array([[0, 1, 2, 3, 4, 1, 1, 1, 1, 1],\n",
       "       [5, 6, 7, 8, 9, 1, 1, 1, 1, 1]])"
      ]
     },
     "execution_count": 10,
     "metadata": {},
     "output_type": "execute_result"
    }
   ],
   "source": [
    "a = np.arange(10).reshape(2,-1)\n",
    "b = np.repeat(1, 10).reshape(2,-1)\n",
    "\n",
    "np.hstack((a,b))"
   ]
  },
  {
   "cell_type": "markdown",
   "id": "fab59d53",
   "metadata": {},
   "source": [
    "Q8:-Create the following pattern without hardcoding. Use only numpy functions and the below input array a."
   ]
  },
  {
   "cell_type": "code",
   "execution_count": 24,
   "id": "eb63bc3e",
   "metadata": {},
   "outputs": [
    {
     "name": "stdout",
     "output_type": "stream",
     "text": [
      "[1 1 1 2 2 2 3 3 3]\n"
     ]
    },
    {
     "data": {
      "text/plain": [
       "array([1, 1, 1, 2, 2, 2, 3, 3, 3, 1, 2, 3, 1, 2, 3, 1, 2, 3])"
      ]
     },
     "execution_count": 24,
     "metadata": {},
     "output_type": "execute_result"
    }
   ],
   "source": [
    "a = np.array([1,2,3])\n",
    "r1 = np.repeat(a,3,axis = 0)\n",
    "print(r1)\n",
    "r2 = np.tile(a,3)\n",
    "r2\n",
    "\n",
    "np.hstack((r1,r2))"
   ]
  },
  {
   "cell_type": "markdown",
   "id": "985bb8c7",
   "metadata": {},
   "source": [
    "Q9:-Get the common items between a and b"
   ]
  },
  {
   "cell_type": "code",
   "execution_count": 25,
   "id": "716ef9a7",
   "metadata": {},
   "outputs": [
    {
     "data": {
      "text/plain": [
       "array([2, 4])"
      ]
     },
     "execution_count": 25,
     "metadata": {},
     "output_type": "execute_result"
    }
   ],
   "source": [
    "a = np.array([1,2,3,2,3,4,3,4,5,6])\n",
    "b = np.array([7,2,10,2,7,4,9,4,9,8])\n",
    "\n",
    "np.intersect1d(a,b)"
   ]
  },
  {
   "cell_type": "markdown",
   "id": "99fe4527",
   "metadata": {},
   "source": [
    "\n"
   ]
  },
  {
   "cell_type": "code",
   "execution_count": null,
   "id": "e9ff35a8",
   "metadata": {},
   "outputs": [],
   "source": []
  }
 ],
 "metadata": {
  "kernelspec": {
   "display_name": "base",
   "language": "python",
   "name": "python3"
  },
  "language_info": {
   "codemirror_mode": {
    "name": "ipython",
    "version": 3
   },
   "file_extension": ".py",
   "mimetype": "text/x-python",
   "name": "python",
   "nbconvert_exporter": "python",
   "pygments_lexer": "ipython3",
   "version": "3.12.7"
  }
 },
 "nbformat": 4,
 "nbformat_minor": 5
}
