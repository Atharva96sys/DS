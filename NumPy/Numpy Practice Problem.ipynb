{
 "cells": [
  {
   "cell_type": "markdown",
   "id": "531f996e",
   "metadata": {},
   "source": [
    "## ***Numpy Practice Set***"
   ]
  },
  {
   "cell_type": "code",
   "execution_count": 2,
   "id": "c6b9aadb",
   "metadata": {},
   "outputs": [],
   "source": [
    "import numpy as np"
   ]
  },
  {
   "cell_type": "markdown",
   "id": "53611d1a",
   "metadata": {},
   "source": [
    "#### Q1:-How To Make 1D Array from ranging 0 to 9"
   ]
  },
  {
   "cell_type": "code",
   "execution_count": 3,
   "id": "3be909dd",
   "metadata": {},
   "outputs": [
    {
     "data": {
      "text/plain": [
       "array([0, 1, 2, 3, 4, 5, 6, 7, 8, 9])"
      ]
     },
     "execution_count": 3,
     "metadata": {},
     "output_type": "execute_result"
    }
   ],
   "source": [
    "a = np.arange(0,10)\n",
    "a"
   ]
  },
  {
   "cell_type": "markdown",
   "id": "c836ae2b",
   "metadata": {},
   "source": [
    "#### Q2:-Create a 3×3 numpy array of all True’s"
   ]
  },
  {
   "cell_type": "code",
   "execution_count": 4,
   "id": "57d96384",
   "metadata": {},
   "outputs": [
    {
     "data": {
      "text/plain": [
       "array([[ True,  True,  True],\n",
       "       [ True,  True,  True],\n",
       "       [ True,  True,  True]])"
      ]
     },
     "execution_count": 4,
     "metadata": {},
     "output_type": "execute_result"
    }
   ],
   "source": [
    "b = np.ones((3,3),dtype = 'bool')\n",
    "b"
   ]
  },
  {
   "cell_type": "markdown",
   "id": "92ecb272",
   "metadata": {},
   "source": [
    "#### Q3:-Extract all odd numbers from arr <br>\n",
    "\n",
    "#### arr = np.array([0, 1, 2, 3, 4, 5, 6, 7, 8, 9])"
   ]
  },
  {
   "cell_type": "code",
   "execution_count": 5,
   "id": "c68c77e6",
   "metadata": {},
   "outputs": [
    {
     "data": {
      "text/plain": [
       "array([ 0, -1,  2, -1,  4, -1,  6, -1,  8, -1])"
      ]
     },
     "execution_count": 5,
     "metadata": {},
     "output_type": "execute_result"
    }
   ],
   "source": [
    "arr = np.array([0, 1, 2, 3, 4, 5, 6, 7, 8, 9])\n",
    "arr[arr%2 == 1] = -1\n",
    "arr"
   ]
  },
  {
   "cell_type": "markdown",
   "id": "ab70977e",
   "metadata": {},
   "source": [
    "#### Q4:-Replace all odd numbers in arr with -1"
   ]
  },
  {
   "cell_type": "code",
   "execution_count": 6,
   "id": "8e1296e7",
   "metadata": {},
   "outputs": [
    {
     "name": "stdout",
     "output_type": "stream",
     "text": [
      "Original:- [0 1 2 3 4 5 6 7 8 9]\n",
      "New Array:- [ 0 -1  2 -1  4 -1  6 -1  8 -1]\n"
     ]
    }
   ],
   "source": [
    "arr = np.arange(0,10)\n",
    "newarr = np.copy(arr)\n",
    "\n",
    "newarr[newarr%2 == 1] = -1\n",
    "print(\"Original:-\",arr)\n",
    "print(\"New Array:-\",newarr)"
   ]
  },
  {
   "cell_type": "markdown",
   "id": "a8c01769",
   "metadata": {},
   "source": [
    "Q5:-Convert a 1D array to a 2D array with 2 rows"
   ]
  },
  {
   "cell_type": "code",
   "execution_count": 7,
   "id": "ea28db45",
   "metadata": {},
   "outputs": [
    {
     "data": {
      "text/plain": [
       "array([[0, 1, 2, 3, 4],\n",
       "       [5, 6, 7, 8, 9]])"
      ]
     },
     "execution_count": 7,
     "metadata": {},
     "output_type": "execute_result"
    }
   ],
   "source": [
    "np.arange(10).reshape(2,-1)"
   ]
  },
  {
   "cell_type": "markdown",
   "id": "5b002b6f",
   "metadata": {},
   "source": [
    "Q6:-Stack arrays a and b vertically<br>\n",
    "a = np.arange(10).reshape(2,-1)<br>\n",
    "b = np.repeat(1, 10).reshape(2,-1)\n"
   ]
  },
  {
   "cell_type": "code",
   "execution_count": 8,
   "id": "11282de5",
   "metadata": {},
   "outputs": [
    {
     "data": {
      "text/plain": [
       "array([[0, 1, 2, 3, 4],\n",
       "       [5, 6, 7, 8, 9],\n",
       "       [1, 1, 1, 1, 1],\n",
       "       [1, 1, 1, 1, 1]])"
      ]
     },
     "execution_count": 8,
     "metadata": {},
     "output_type": "execute_result"
    }
   ],
   "source": [
    "a = np.arange(10).reshape(2,-1)\n",
    "b = np.repeat(1, 10).reshape(2,-1)\n",
    "\n",
    "np.vstack((a,b))"
   ]
  },
  {
   "cell_type": "markdown",
   "id": "df947f13",
   "metadata": {},
   "source": [
    "Q7:- Stack arrays a and b horizontally"
   ]
  },
  {
   "cell_type": "code",
   "execution_count": 9,
   "id": "47f723c0",
   "metadata": {},
   "outputs": [
    {
     "data": {
      "text/plain": [
       "array([[0, 1, 2, 3, 4, 1, 1, 1, 1, 1],\n",
       "       [5, 6, 7, 8, 9, 1, 1, 1, 1, 1]])"
      ]
     },
     "execution_count": 9,
     "metadata": {},
     "output_type": "execute_result"
    }
   ],
   "source": [
    "a = np.arange(10).reshape(2,-1)\n",
    "b = np.repeat(1, 10).reshape(2,-1)\n",
    "\n",
    "np.hstack((a,b))"
   ]
  },
  {
   "cell_type": "markdown",
   "id": "fab59d53",
   "metadata": {},
   "source": [
    "Q8:-Create the following pattern without hardcoding. Use only numpy functions and the below input array a."
   ]
  },
  {
   "cell_type": "code",
   "execution_count": 10,
   "id": "eb63bc3e",
   "metadata": {},
   "outputs": [
    {
     "name": "stdout",
     "output_type": "stream",
     "text": [
      "[1 1 1 2 2 2 3 3 3]\n"
     ]
    },
    {
     "data": {
      "text/plain": [
       "array([1, 1, 1, 2, 2, 2, 3, 3, 3, 1, 2, 3, 1, 2, 3, 1, 2, 3])"
      ]
     },
     "execution_count": 10,
     "metadata": {},
     "output_type": "execute_result"
    }
   ],
   "source": [
    "a = np.array([1,2,3])\n",
    "r1 = np.repeat(a,3,axis = 0)\n",
    "print(r1)\n",
    "r2 = np.tile(a,3)\n",
    "r2\n",
    "\n",
    "np.hstack((r1,r2))"
   ]
  },
  {
   "cell_type": "markdown",
   "id": "985bb8c7",
   "metadata": {},
   "source": [
    "Q9:-Get the common items between a and b"
   ]
  },
  {
   "cell_type": "code",
   "execution_count": 11,
   "id": "716ef9a7",
   "metadata": {},
   "outputs": [
    {
     "data": {
      "text/plain": [
       "array([2, 4])"
      ]
     },
     "execution_count": 11,
     "metadata": {},
     "output_type": "execute_result"
    }
   ],
   "source": [
    "a = np.array([1,2,3,2,3,4,3,4,5,6])\n",
    "b = np.array([7,2,10,2,7,4,9,4,9,8])\n",
    "\n",
    "np.intersect1d(a,b)"
   ]
  },
  {
   "cell_type": "markdown",
   "id": "99fe4527",
   "metadata": {},
   "source": [
    "Q11:-How to remove element from one array those exist in another"
   ]
  },
  {
   "cell_type": "code",
   "execution_count": 12,
   "id": "e9ff35a8",
   "metadata": {},
   "outputs": [
    {
     "data": {
      "text/plain": [
       "array([1, 3, 5, 6])"
      ]
     },
     "execution_count": 12,
     "metadata": {},
     "output_type": "execute_result"
    }
   ],
   "source": [
    "a = np.array([1,2,3,2,3,4,3,4,5,6])\n",
    "b = np.array([7,2,10,2,7,4,9,4,9,8])\n",
    "\n",
    "np.setdiff1d(a,b)"
   ]
  },
  {
   "cell_type": "markdown",
   "id": "be579524",
   "metadata": {},
   "source": [
    "Q12:-How to get the position where elements of two arrays match"
   ]
  },
  {
   "cell_type": "code",
   "execution_count": 13,
   "id": "5c019887",
   "metadata": {},
   "outputs": [
    {
     "data": {
      "text/plain": [
       "(array([1, 3, 5, 7], dtype=int64),)"
      ]
     },
     "execution_count": 13,
     "metadata": {},
     "output_type": "execute_result"
    }
   ],
   "source": [
    "a = np.array([1,2,3,2,3,4,3,4,5,6])\n",
    "b = np.array([7,2,10,2,7,4,9,4,9,8])\n",
    "\n",
    "np.where(a == b)"
   ]
  },
  {
   "cell_type": "markdown",
   "id": "c11dae68",
   "metadata": {},
   "source": [
    "Q13:- How to extract all numbers between a given range from a numpy array ?"
   ]
  },
  {
   "cell_type": "code",
   "execution_count": 14,
   "id": "3d9dd48e",
   "metadata": {},
   "outputs": [
    {
     "data": {
      "text/plain": [
       "array([ 6,  9, 10])"
      ]
     },
     "execution_count": 14,
     "metadata": {},
     "output_type": "execute_result"
    }
   ],
   "source": [
    "a = np.array([2, 6, 1, 9, 10, 3, 27])\n",
    "a[(a>=5) & (a<=10)]"
   ]
  },
  {
   "cell_type": "markdown",
   "id": "dca930a2",
   "metadata": {},
   "source": [
    "Q14:-How to make a python function that handles scalars to work on numpy arrays ?"
   ]
  },
  {
   "cell_type": "code",
   "execution_count": 15,
   "id": "4d78c563",
   "metadata": {},
   "outputs": [
    {
     "data": {
      "text/plain": [
       "array([6, 7, 9, 8, 9, 7, 5])"
      ]
     },
     "execution_count": 15,
     "metadata": {},
     "output_type": "execute_result"
    }
   ],
   "source": [
    "def maxx(a,b):\n",
    "    return np.maximum(a,b)\n",
    "\n",
    "\n",
    "a = np.array([5, 7, 9, 8, 6, 4, 5])\n",
    "b = np.array([6, 3, 4, 8, 9, 7, 1])\n",
    "maxx(a,b)"
   ]
  },
  {
   "cell_type": "markdown",
   "id": "b426c513",
   "metadata": {},
   "source": [
    "Q15:-How to swap two columns in a 2d numpy array?"
   ]
  },
  {
   "cell_type": "code",
   "execution_count": 16,
   "id": "f981a69e",
   "metadata": {},
   "outputs": [
    {
     "data": {
      "text/plain": [
       "array([[1, 0, 2],\n",
       "       [4, 3, 5],\n",
       "       [7, 6, 8]])"
      ]
     },
     "execution_count": 16,
     "metadata": {},
     "output_type": "execute_result"
    }
   ],
   "source": [
    "arr = np.arange(9).reshape(3,3)\n",
    "arr[:,[1,0,2]]"
   ]
  },
  {
   "cell_type": "markdown",
   "id": "e9ad796c",
   "metadata": {},
   "source": [
    "Q16:-How to swap two rows in a 2d numpy array?"
   ]
  },
  {
   "cell_type": "code",
   "execution_count": 17,
   "id": "8bb20c18",
   "metadata": {},
   "outputs": [
    {
     "data": {
      "text/plain": [
       "array([[3, 4, 5],\n",
       "       [0, 1, 2],\n",
       "       [6, 7, 8]])"
      ]
     },
     "execution_count": 17,
     "metadata": {},
     "output_type": "execute_result"
    }
   ],
   "source": [
    "arr = np.arange(9).reshape(3,3)\n",
    "arr[[1,0,2],:]"
   ]
  },
  {
   "cell_type": "markdown",
   "id": "4d059f7e",
   "metadata": {},
   "source": [
    "Q17:-How to reverse the rows of a 2D array?"
   ]
  },
  {
   "cell_type": "code",
   "execution_count": 18,
   "id": "ce90d1d1",
   "metadata": {},
   "outputs": [
    {
     "data": {
      "text/plain": [
       "array([[6, 7, 8],\n",
       "       [3, 4, 5],\n",
       "       [0, 1, 2]])"
      ]
     },
     "execution_count": 18,
     "metadata": {},
     "output_type": "execute_result"
    }
   ],
   "source": [
    "arr = np.arange(9).reshape(3,3)\n",
    "arr[::-1,:]"
   ]
  },
  {
   "cell_type": "markdown",
   "id": "29afa384",
   "metadata": {},
   "source": [
    "Q18:-How to reverse the columns of a 2D array?"
   ]
  },
  {
   "cell_type": "code",
   "execution_count": 19,
   "id": "62bc1a95",
   "metadata": {},
   "outputs": [
    {
     "data": {
      "text/plain": [
       "array([[2, 1, 0],\n",
       "       [5, 4, 3],\n",
       "       [8, 7, 6]])"
      ]
     },
     "execution_count": 19,
     "metadata": {},
     "output_type": "execute_result"
    }
   ],
   "source": [
    "arr = np.arange(9).reshape(3,3)\n",
    "arr[:,::-1]"
   ]
  },
  {
   "cell_type": "markdown",
   "id": "a187e2c0",
   "metadata": {},
   "source": [
    "\n",
    "Q19:-How to create a 2D array containing random floats between 5 and 10?"
   ]
  },
  {
   "cell_type": "code",
   "execution_count": 20,
   "id": "f76bacf0",
   "metadata": {},
   "outputs": [
    {
     "data": {
      "text/plain": [
       "array([[7.25795905, 8.74972882, 5.57872553],\n",
       "       [6.40076453, 6.7621149 , 7.513098  ],\n",
       "       [5.84284393, 7.73643459, 6.15710318],\n",
       "       [5.15494647, 5.4756369 , 6.75895525],\n",
       "       [5.07258939, 6.21464907, 5.9187033 ]])"
      ]
     },
     "execution_count": 20,
     "metadata": {},
     "output_type": "execute_result"
    }
   ],
   "source": [
    "arr = np.random.uniform(5,10,size=(5,3))\n",
    "arr"
   ]
  },
  {
   "cell_type": "markdown",
   "id": "98e3496f",
   "metadata": {},
   "source": [
    "Q20:-How to print only 3 decimal places in python numpy array?"
   ]
  },
  {
   "cell_type": "code",
   "execution_count": 21,
   "id": "678f9f2f",
   "metadata": {},
   "outputs": [
    {
     "data": {
      "text/plain": [
       "array([[0.1794, 0.1817, 0.0751],\n",
       "       [0.4604, 0.8687, 0.0202],\n",
       "       [0.6429, 0.3041, 0.5278],\n",
       "       [0.913 , 0.8001, 0.2909],\n",
       "       [0.967 , 0.7646, 0.512 ]])"
      ]
     },
     "execution_count": 21,
     "metadata": {},
     "output_type": "execute_result"
    }
   ],
   "source": [
    "rand_arr = np.random.random((5,3))\n",
    "np.set_printoptions(precision=4)\n",
    "rand_arr"
   ]
  },
  {
   "cell_type": "markdown",
   "id": "63b46209",
   "metadata": {},
   "source": [
    "Q21:-How to pretty print a numpy array by suppressing the scientific notation (like 1e10)?"
   ]
  },
  {
   "cell_type": "code",
   "execution_count": 22,
   "id": "06153f96",
   "metadata": {},
   "outputs": [
    {
     "data": {
      "text/plain": [
       "array([[5.4340e-04, 2.7837e-04, 4.2452e-04],\n",
       "       [8.4478e-04, 4.7189e-06, 1.2157e-04],\n",
       "       [6.7075e-04, 8.2585e-04, 1.3671e-04]])"
      ]
     },
     "execution_count": 22,
     "metadata": {},
     "output_type": "execute_result"
    }
   ],
   "source": [
    "np.random.seed(100)\n",
    "randomarr = np.random.random([3,3])/1e3\n",
    "randomarr"
   ]
  },
  {
   "cell_type": "markdown",
   "id": "bbf150d5",
   "metadata": {},
   "source": [
    "Q22:-How to limit the number of items printed in output of numpy array?\n",
    "\n"
   ]
  },
  {
   "cell_type": "code",
   "execution_count": 23,
   "id": "f5fcdceb",
   "metadata": {},
   "outputs": [
    {
     "data": {
      "text/plain": [
       "array([ 0,  1,  2, ..., 12, 13, 14])"
      ]
     },
     "execution_count": 23,
     "metadata": {},
     "output_type": "execute_result"
    }
   ],
   "source": [
    "a = np.arange(15)\n",
    "np.set_printoptions(threshold=6)\n",
    "a"
   ]
  },
  {
   "cell_type": "markdown",
   "id": "1fecbb0f",
   "metadata": {},
   "source": [
    "Q23:-How to print the full numpy array without truncating"
   ]
  },
  {
   "cell_type": "code",
   "execution_count": 24,
   "id": "b06609bf",
   "metadata": {},
   "outputs": [
    {
     "data": {
      "text/plain": [
       "array([ 0,  1,  2,  3,  4,  5,  6,  7,  8,  9, 10, 11, 12, 13, 14])"
      ]
     },
     "execution_count": 24,
     "metadata": {},
     "output_type": "execute_result"
    }
   ],
   "source": [
    "np.set_printoptions(threshold=15)\n",
    "a"
   ]
  },
  {
   "cell_type": "markdown",
   "id": "4edf81fb",
   "metadata": {},
   "source": [
    "Q24:-How to import a dataset with numbers and texts keeping the text intact in python numpy?"
   ]
  },
  {
   "cell_type": "code",
   "execution_count": 25,
   "id": "b554601c",
   "metadata": {},
   "outputs": [
    {
     "data": {
      "text/plain": [
       "array([[b'Id', b'SepalLengthCm', b'SepalWidthCm', b'PetalLengthCm',\n",
       "        b'PetalWidthCm', b'Species'],\n",
       "       [b'1', b'5.1', b'3.5', b'1.4', b'0.2', b'Iris-setosa'],\n",
       "       [b'2', b'4.9', b'3.0', b'1.4', b'0.2', b'Iris-setosa'],\n",
       "       ...,\n",
       "       [b'148', b'6.5', b'3.0', b'5.2', b'2.0', b'Iris-virginica'],\n",
       "       [b'149', b'6.2', b'3.4', b'5.4', b'2.3', b'Iris-virginica'],\n",
       "       [b'150', b'5.9', b'3.0', b'5.1', b'1.8', b'Iris-virginica']],\n",
       "      dtype=object)"
      ]
     },
     "execution_count": 25,
     "metadata": {},
     "output_type": "execute_result"
    }
   ],
   "source": [
    "iris_data = np.genfromtxt('Iris.csv', delimiter=',',dtype=object)\n",
    "iris_data"
   ]
  },
  {
   "cell_type": "markdown",
   "id": "ddb791dc",
   "metadata": {},
   "source": [
    "Q25:-How to extract a particular column from 1D array of tuples?"
   ]
  },
  {
   "cell_type": "code",
   "execution_count": 29,
   "id": "bc62e22e",
   "metadata": {},
   "outputs": [
    {
     "data": {
      "text/plain": [
       "array([b'Species', b'Iris-setosa', b'Iris-setosa', ..., b'Iris-virginica',\n",
       "       b'Iris-virginica', b'Iris-virginica'], dtype=object)"
      ]
     },
     "execution_count": 29,
     "metadata": {},
     "output_type": "execute_result"
    }
   ],
   "source": [
    "iris_data[:,-1]"
   ]
  },
  {
   "cell_type": "markdown",
   "id": "8dd3821f",
   "metadata": {},
   "source": [
    "Q26:-How to convert a 1d array of tuples to a 2d numpy array?"
   ]
  },
  {
   "cell_type": "code",
   "execution_count": null,
   "id": "89d4ce52",
   "metadata": {},
   "outputs": [
    {
     "ename": "TypeError",
     "evalue": "Cannot change data-type for object array.",
     "output_type": "error",
     "traceback": [
      "\u001b[1;31m---------------------------------------------------------------------------\u001b[0m",
      "\u001b[1;31mTypeError\u001b[0m                                 Traceback (most recent call last)",
      "Cell \u001b[1;32mIn[31], line 1\u001b[0m\n\u001b[1;32m----> 1\u001b[0m iris_data\u001b[38;5;241m.\u001b[39mdtype \u001b[38;5;241m=\u001b[39m \u001b[38;5;28mfloat\u001b[39m\n",
      "File \u001b[1;32mc:\\Users\\user\\anaconda2\\Lib\\site-packages\\numpy\\core\\_internal.py:551\u001b[0m, in \u001b[0;36m_view_is_safe\u001b[1;34m(oldtype, newtype)\u001b[0m\n\u001b[0;32m    548\u001b[0m     \u001b[38;5;28;01mreturn\u001b[39;00m\n\u001b[0;32m    550\u001b[0m \u001b[38;5;28;01mif\u001b[39;00m newtype\u001b[38;5;241m.\u001b[39mhasobject \u001b[38;5;129;01mor\u001b[39;00m oldtype\u001b[38;5;241m.\u001b[39mhasobject:\n\u001b[1;32m--> 551\u001b[0m     \u001b[38;5;28;01mraise\u001b[39;00m \u001b[38;5;167;01mTypeError\u001b[39;00m(\u001b[38;5;124m\"\u001b[39m\u001b[38;5;124mCannot change data-type for object array.\u001b[39m\u001b[38;5;124m\"\u001b[39m)\n\u001b[0;32m    552\u001b[0m \u001b[38;5;28;01mreturn\u001b[39;00m\n",
      "\u001b[1;31mTypeError\u001b[0m: Cannot change data-type for object array."
     ]
    }
   ],
   "source": []
  },
  {
   "cell_type": "code",
   "execution_count": null,
   "id": "550e4fae",
   "metadata": {},
   "outputs": [],
   "source": []
  }
 ],
 "metadata": {
  "kernelspec": {
   "display_name": "base",
   "language": "python",
   "name": "python3"
  },
  "language_info": {
   "codemirror_mode": {
    "name": "ipython",
    "version": 3
   },
   "file_extension": ".py",
   "mimetype": "text/x-python",
   "name": "python",
   "nbconvert_exporter": "python",
   "pygments_lexer": "ipython3",
   "version": "3.12.7"
  }
 },
 "nbformat": 4,
 "nbformat_minor": 5
}
