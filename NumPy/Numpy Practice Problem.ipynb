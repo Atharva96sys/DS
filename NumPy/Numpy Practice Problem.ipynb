{
 "cells": [
  {
   "cell_type": "markdown",
   "id": "531f996e",
   "metadata": {},
   "source": [
    "## ***Numpy Practice Set***"
   ]
  },
  {
   "cell_type": "code",
   "execution_count": 2,
   "id": "c6b9aadb",
   "metadata": {},
   "outputs": [],
   "source": [
    "import numpy as np"
   ]
  },
  {
   "cell_type": "markdown",
   "id": "53611d1a",
   "metadata": {},
   "source": [
    "#### Q1:-How To Make 1D Array from ranging 0 to 9"
   ]
  },
  {
   "cell_type": "code",
   "execution_count": 3,
   "id": "3be909dd",
   "metadata": {},
   "outputs": [
    {
     "data": {
      "text/plain": [
       "array([0, 1, 2, 3, 4, 5, 6, 7, 8, 9])"
      ]
     },
     "execution_count": 3,
     "metadata": {},
     "output_type": "execute_result"
    }
   ],
   "source": [
    "a = np.arange(0,10)\n",
    "a"
   ]
  },
  {
   "cell_type": "markdown",
   "id": "c836ae2b",
   "metadata": {},
   "source": [
    "#### Q2:-Create a 3×3 numpy array of all True’s"
   ]
  },
  {
   "cell_type": "code",
   "execution_count": 4,
   "id": "57d96384",
   "metadata": {},
   "outputs": [
    {
     "data": {
      "text/plain": [
       "array([[ True,  True,  True],\n",
       "       [ True,  True,  True],\n",
       "       [ True,  True,  True]])"
      ]
     },
     "execution_count": 4,
     "metadata": {},
     "output_type": "execute_result"
    }
   ],
   "source": [
    "b = np.ones((3,3),dtype = 'bool')\n",
    "b"
   ]
  },
  {
   "cell_type": "markdown",
   "id": "92ecb272",
   "metadata": {},
   "source": [
    "#### Q3:-Extract all odd numbers from arr <br>\n",
    "\n",
    "#### arr = np.array([0, 1, 2, 3, 4, 5, 6, 7, 8, 9])"
   ]
  },
  {
   "cell_type": "code",
   "execution_count": 5,
   "id": "c68c77e6",
   "metadata": {},
   "outputs": [
    {
     "data": {
      "text/plain": [
       "array([ 0, -1,  2, -1,  4, -1,  6, -1,  8, -1])"
      ]
     },
     "execution_count": 5,
     "metadata": {},
     "output_type": "execute_result"
    }
   ],
   "source": [
    "arr = np.array([0, 1, 2, 3, 4, 5, 6, 7, 8, 9])\n",
    "arr[arr%2 == 1] = -1\n",
    "arr"
   ]
  },
  {
   "cell_type": "markdown",
   "id": "ab70977e",
   "metadata": {},
   "source": [
    "#### Q4:-Replace all odd numbers in arr with -1"
   ]
  },
  {
   "cell_type": "code",
   "execution_count": 6,
   "id": "8e1296e7",
   "metadata": {},
   "outputs": [
    {
     "name": "stdout",
     "output_type": "stream",
     "text": [
      "Original:- [0 1 2 3 4 5 6 7 8 9]\n",
      "New Array:- [ 0 -1  2 -1  4 -1  6 -1  8 -1]\n"
     ]
    }
   ],
   "source": [
    "arr = np.arange(0,10)\n",
    "newarr = np.copy(arr)\n",
    "\n",
    "newarr[newarr%2 == 1] = -1\n",
    "print(\"Original:-\",arr)\n",
    "print(\"New Array:-\",newarr)"
   ]
  },
  {
   "cell_type": "markdown",
   "id": "a8c01769",
   "metadata": {},
   "source": [
    "Q5:-Convert a 1D array to a 2D array with 2 rows"
   ]
  },
  {
   "cell_type": "code",
   "execution_count": 7,
   "id": "ea28db45",
   "metadata": {},
   "outputs": [
    {
     "data": {
      "text/plain": [
       "array([[0, 1, 2, 3, 4],\n",
       "       [5, 6, 7, 8, 9]])"
      ]
     },
     "execution_count": 7,
     "metadata": {},
     "output_type": "execute_result"
    }
   ],
   "source": [
    "np.arange(10).reshape(2,-1)"
   ]
  },
  {
   "cell_type": "markdown",
   "id": "5b002b6f",
   "metadata": {},
   "source": [
    "Q6:-Stack arrays a and b vertically<br>\n",
    "a = np.arange(10).reshape(2,-1)<br>\n",
    "b = np.repeat(1, 10).reshape(2,-1)\n"
   ]
  },
  {
   "cell_type": "code",
   "execution_count": 8,
   "id": "11282de5",
   "metadata": {},
   "outputs": [
    {
     "data": {
      "text/plain": [
       "array([[0, 1, 2, 3, 4],\n",
       "       [5, 6, 7, 8, 9],\n",
       "       [1, 1, 1, 1, 1],\n",
       "       [1, 1, 1, 1, 1]])"
      ]
     },
     "execution_count": 8,
     "metadata": {},
     "output_type": "execute_result"
    }
   ],
   "source": [
    "a = np.arange(10).reshape(2,-1)\n",
    "b = np.repeat(1, 10).reshape(2,-1)\n",
    "\n",
    "np.vstack((a,b))"
   ]
  },
  {
   "cell_type": "markdown",
   "id": "df947f13",
   "metadata": {},
   "source": [
    "Q7:- Stack arrays a and b horizontally"
   ]
  },
  {
   "cell_type": "code",
   "execution_count": 9,
   "id": "47f723c0",
   "metadata": {},
   "outputs": [
    {
     "data": {
      "text/plain": [
       "array([[0, 1, 2, 3, 4, 1, 1, 1, 1, 1],\n",
       "       [5, 6, 7, 8, 9, 1, 1, 1, 1, 1]])"
      ]
     },
     "execution_count": 9,
     "metadata": {},
     "output_type": "execute_result"
    }
   ],
   "source": [
    "a = np.arange(10).reshape(2,-1)\n",
    "b = np.repeat(1, 10).reshape(2,-1)\n",
    "\n",
    "np.hstack((a,b))"
   ]
  },
  {
   "cell_type": "markdown",
   "id": "fab59d53",
   "metadata": {},
   "source": [
    "Q8:-Create the following pattern without hardcoding. Use only numpy functions and the below input array a."
   ]
  },
  {
   "cell_type": "code",
   "execution_count": 10,
   "id": "eb63bc3e",
   "metadata": {},
   "outputs": [
    {
     "name": "stdout",
     "output_type": "stream",
     "text": [
      "[1 1 1 2 2 2 3 3 3]\n"
     ]
    },
    {
     "data": {
      "text/plain": [
       "array([1, 1, 1, 2, 2, 2, 3, 3, 3, 1, 2, 3, 1, 2, 3, 1, 2, 3])"
      ]
     },
     "execution_count": 10,
     "metadata": {},
     "output_type": "execute_result"
    }
   ],
   "source": [
    "a = np.array([1,2,3])\n",
    "r1 = np.repeat(a,3,axis = 0)\n",
    "print(r1)\n",
    "r2 = np.tile(a,3)\n",
    "r2\n",
    "\n",
    "np.hstack((r1,r2))"
   ]
  },
  {
   "cell_type": "markdown",
   "id": "985bb8c7",
   "metadata": {},
   "source": [
    "Q9:-Get the common items between a and b"
   ]
  },
  {
   "cell_type": "code",
   "execution_count": 11,
   "id": "716ef9a7",
   "metadata": {},
   "outputs": [
    {
     "data": {
      "text/plain": [
       "array([2, 4])"
      ]
     },
     "execution_count": 11,
     "metadata": {},
     "output_type": "execute_result"
    }
   ],
   "source": [
    "a = np.array([1,2,3,2,3,4,3,4,5,6])\n",
    "b = np.array([7,2,10,2,7,4,9,4,9,8])\n",
    "\n",
    "np.intersect1d(a,b)"
   ]
  },
  {
   "cell_type": "markdown",
   "id": "99fe4527",
   "metadata": {},
   "source": [
    "Q11:-How to remove element from one array those exist in another"
   ]
  },
  {
   "cell_type": "code",
   "execution_count": 12,
   "id": "e9ff35a8",
   "metadata": {},
   "outputs": [
    {
     "data": {
      "text/plain": [
       "array([1, 3, 5, 6])"
      ]
     },
     "execution_count": 12,
     "metadata": {},
     "output_type": "execute_result"
    }
   ],
   "source": [
    "a = np.array([1,2,3,2,3,4,3,4,5,6])\n",
    "b = np.array([7,2,10,2,7,4,9,4,9,8])\n",
    "\n",
    "np.setdiff1d(a,b)"
   ]
  },
  {
   "cell_type": "markdown",
   "id": "be579524",
   "metadata": {},
   "source": [
    "Q12:-How to get the position where elements of two arrays match"
   ]
  },
  {
   "cell_type": "code",
   "execution_count": 13,
   "id": "5c019887",
   "metadata": {},
   "outputs": [
    {
     "data": {
      "text/plain": [
       "(array([1, 3, 5, 7], dtype=int64),)"
      ]
     },
     "execution_count": 13,
     "metadata": {},
     "output_type": "execute_result"
    }
   ],
   "source": [
    "a = np.array([1,2,3,2,3,4,3,4,5,6])\n",
    "b = np.array([7,2,10,2,7,4,9,4,9,8])\n",
    "\n",
    "np.where(a == b)"
   ]
  },
  {
   "cell_type": "markdown",
   "id": "c11dae68",
   "metadata": {},
   "source": [
    "Q13:- How to extract all numbers between a given range from a numpy array ?"
   ]
  },
  {
   "cell_type": "code",
   "execution_count": 14,
   "id": "3d9dd48e",
   "metadata": {},
   "outputs": [
    {
     "data": {
      "text/plain": [
       "array([ 6,  9, 10])"
      ]
     },
     "execution_count": 14,
     "metadata": {},
     "output_type": "execute_result"
    }
   ],
   "source": [
    "a = np.array([2, 6, 1, 9, 10, 3, 27])\n",
    "a[(a>=5) & (a<=10)]"
   ]
  },
  {
   "cell_type": "markdown",
   "id": "dca930a2",
   "metadata": {},
   "source": [
    "Q14:-How to make a python function that handles scalars to work on numpy arrays ?"
   ]
  },
  {
   "cell_type": "code",
   "execution_count": 15,
   "id": "4d78c563",
   "metadata": {},
   "outputs": [
    {
     "data": {
      "text/plain": [
       "array([6, 7, 9, 8, 9, 7, 5])"
      ]
     },
     "execution_count": 15,
     "metadata": {},
     "output_type": "execute_result"
    }
   ],
   "source": [
    "def maxx(a,b):\n",
    "    return np.maximum(a,b)\n",
    "\n",
    "\n",
    "a = np.array([5, 7, 9, 8, 6, 4, 5])\n",
    "b = np.array([6, 3, 4, 8, 9, 7, 1])\n",
    "maxx(a,b)"
   ]
  },
  {
   "cell_type": "markdown",
   "id": "b426c513",
   "metadata": {},
   "source": [
    "Q15:-How to swap two columns in a 2d numpy array?"
   ]
  },
  {
   "cell_type": "code",
   "execution_count": 16,
   "id": "f981a69e",
   "metadata": {},
   "outputs": [
    {
     "data": {
      "text/plain": [
       "array([[1, 0, 2],\n",
       "       [4, 3, 5],\n",
       "       [7, 6, 8]])"
      ]
     },
     "execution_count": 16,
     "metadata": {},
     "output_type": "execute_result"
    }
   ],
   "source": [
    "arr = np.arange(9).reshape(3,3)\n",
    "arr[:,[1,0,2]]"
   ]
  },
  {
   "cell_type": "markdown",
   "id": "e9ad796c",
   "metadata": {},
   "source": [
    "Q16:-How to swap two rows in a 2d numpy array?"
   ]
  },
  {
   "cell_type": "code",
   "execution_count": 17,
   "id": "8bb20c18",
   "metadata": {},
   "outputs": [
    {
     "data": {
      "text/plain": [
       "array([[3, 4, 5],\n",
       "       [0, 1, 2],\n",
       "       [6, 7, 8]])"
      ]
     },
     "execution_count": 17,
     "metadata": {},
     "output_type": "execute_result"
    }
   ],
   "source": [
    "arr = np.arange(9).reshape(3,3)\n",
    "arr[[1,0,2],:]"
   ]
  },
  {
   "cell_type": "markdown",
   "id": "4d059f7e",
   "metadata": {},
   "source": [
    "Q17:-How to reverse the rows of a 2D array?"
   ]
  },
  {
   "cell_type": "code",
   "execution_count": 18,
   "id": "ce90d1d1",
   "metadata": {},
   "outputs": [
    {
     "data": {
      "text/plain": [
       "array([[6, 7, 8],\n",
       "       [3, 4, 5],\n",
       "       [0, 1, 2]])"
      ]
     },
     "execution_count": 18,
     "metadata": {},
     "output_type": "execute_result"
    }
   ],
   "source": [
    "arr = np.arange(9).reshape(3,3)\n",
    "arr[::-1,:]"
   ]
  },
  {
   "cell_type": "markdown",
   "id": "29afa384",
   "metadata": {},
   "source": [
    "Q18:-How to reverse the columns of a 2D array?"
   ]
  },
  {
   "cell_type": "code",
   "execution_count": 19,
   "id": "62bc1a95",
   "metadata": {},
   "outputs": [
    {
     "data": {
      "text/plain": [
       "array([[2, 1, 0],\n",
       "       [5, 4, 3],\n",
       "       [8, 7, 6]])"
      ]
     },
     "execution_count": 19,
     "metadata": {},
     "output_type": "execute_result"
    }
   ],
   "source": [
    "arr = np.arange(9).reshape(3,3)\n",
    "arr[:,::-1]"
   ]
  },
  {
   "cell_type": "markdown",
   "id": "a187e2c0",
   "metadata": {},
   "source": [
    "\n",
    "Q19:-How to create a 2D array containing random floats between 5 and 10?"
   ]
  },
  {
   "cell_type": "code",
   "execution_count": 20,
   "id": "f76bacf0",
   "metadata": {},
   "outputs": [
    {
     "data": {
      "text/plain": [
       "array([[7.09342507, 8.59534648, 9.10356671],\n",
       "       [6.59756819, 9.72944173, 8.02357483],\n",
       "       [6.59756571, 5.66405013, 6.28453162],\n",
       "       [5.30348494, 6.32806767, 6.58910405],\n",
       "       [8.15174202, 9.82875103, 5.19614909]])"
      ]
     },
     "execution_count": 20,
     "metadata": {},
     "output_type": "execute_result"
    }
   ],
   "source": [
    "arr = np.random.uniform(5,10,size=(5,3))\n",
    "arr"
   ]
  },
  {
   "cell_type": "markdown",
   "id": "98e3496f",
   "metadata": {},
   "source": [
    "Q20:-How to print only 3 decimal places in python numpy array?"
   ]
  },
  {
   "cell_type": "code",
   "execution_count": 21,
   "id": "678f9f2f",
   "metadata": {},
   "outputs": [
    {
     "data": {
      "text/plain": [
       "array([[0.3059, 0.2887, 0.9946],\n",
       "       [0.0314, 0.8799, 0.9172],\n",
       "       [0.2038, 0.1862, 0.3512],\n",
       "       [0.5449, 0.0872, 0.5325],\n",
       "       [0.9826, 0.1097, 0.1846]])"
      ]
     },
     "execution_count": 21,
     "metadata": {},
     "output_type": "execute_result"
    }
   ],
   "source": [
    "rand_arr = np.random.random((5,3))\n",
    "np.set_printoptions(precision=4)\n",
    "rand_arr"
   ]
  },
  {
   "cell_type": "markdown",
   "id": "63b46209",
   "metadata": {},
   "source": [
    "Q21:-How to pretty print a numpy array by suppressing the scientific notation (like 1e10)?"
   ]
  },
  {
   "cell_type": "code",
   "execution_count": 22,
   "id": "06153f96",
   "metadata": {},
   "outputs": [
    {
     "data": {
      "text/plain": [
       "array([[5.4340e-04, 2.7837e-04, 4.2452e-04],\n",
       "       [8.4478e-04, 4.7189e-06, 1.2157e-04],\n",
       "       [6.7075e-04, 8.2585e-04, 1.3671e-04]])"
      ]
     },
     "execution_count": 22,
     "metadata": {},
     "output_type": "execute_result"
    }
   ],
   "source": [
    "np.random.seed(100)\n",
    "randomarr = np.random.random([3,3])/1e3\n",
    "randomarr"
   ]
  },
  {
   "cell_type": "markdown",
   "id": "bbf150d5",
   "metadata": {},
   "source": [
    "Q22:-How to limit the number of items printed in output of numpy array?\n",
    "\n"
   ]
  },
  {
   "cell_type": "code",
   "execution_count": 23,
   "id": "f5fcdceb",
   "metadata": {},
   "outputs": [
    {
     "data": {
      "text/plain": [
       "array([ 0,  1,  2, ..., 12, 13, 14])"
      ]
     },
     "execution_count": 23,
     "metadata": {},
     "output_type": "execute_result"
    }
   ],
   "source": [
    "a = np.arange(15)\n",
    "np.set_printoptions(threshold=6)\n",
    "a"
   ]
  },
  {
   "cell_type": "markdown",
   "id": "1fecbb0f",
   "metadata": {},
   "source": [
    "Q23:-How to print the full numpy array without truncating"
   ]
  },
  {
   "cell_type": "code",
   "execution_count": 24,
   "id": "b06609bf",
   "metadata": {},
   "outputs": [
    {
     "data": {
      "text/plain": [
       "array([ 0,  1,  2,  3,  4,  5,  6,  7,  8,  9, 10, 11, 12, 13, 14])"
      ]
     },
     "execution_count": 24,
     "metadata": {},
     "output_type": "execute_result"
    }
   ],
   "source": [
    "np.set_printoptions(threshold=15)\n",
    "a"
   ]
  },
  {
   "cell_type": "markdown",
   "id": "4edf81fb",
   "metadata": {},
   "source": [
    "Q24:-How to import a dataset with numbers and texts keeping the text intact in python numpy?"
   ]
  },
  {
   "cell_type": "code",
   "execution_count": 25,
   "id": "b554601c",
   "metadata": {},
   "outputs": [
    {
     "data": {
      "text/plain": [
       "array([[b'Id', b'SepalLengthCm', b'SepalWidthCm', b'PetalLengthCm',\n",
       "        b'PetalWidthCm', b'Species'],\n",
       "       [b'1', b'5.1', b'3.5', b'1.4', b'0.2', b'Iris-setosa'],\n",
       "       [b'2', b'4.9', b'3.0', b'1.4', b'0.2', b'Iris-setosa'],\n",
       "       ...,\n",
       "       [b'148', b'6.5', b'3.0', b'5.2', b'2.0', b'Iris-virginica'],\n",
       "       [b'149', b'6.2', b'3.4', b'5.4', b'2.3', b'Iris-virginica'],\n",
       "       [b'150', b'5.9', b'3.0', b'5.1', b'1.8', b'Iris-virginica']],\n",
       "      dtype=object)"
      ]
     },
     "execution_count": 25,
     "metadata": {},
     "output_type": "execute_result"
    }
   ],
   "source": [
    "iris_data = np.genfromtxt('Iris.csv', delimiter=',',dtype=object)\n",
    "iris_data"
   ]
  },
  {
   "cell_type": "markdown",
   "id": "ddb791dc",
   "metadata": {},
   "source": [
    "Q25:-How to extract a particular column from 1D array of tuples?"
   ]
  },
  {
   "cell_type": "code",
   "execution_count": 26,
   "id": "bc62e22e",
   "metadata": {},
   "outputs": [
    {
     "data": {
      "text/plain": [
       "array([b'Species', b'Iris-setosa', b'Iris-setosa', ..., b'Iris-virginica',\n",
       "       b'Iris-virginica', b'Iris-virginica'], dtype=object)"
      ]
     },
     "execution_count": 26,
     "metadata": {},
     "output_type": "execute_result"
    }
   ],
   "source": [
    "iris_data[:,-1]\n"
   ]
  },
  {
   "cell_type": "markdown",
   "id": "8dd3821f",
   "metadata": {},
   "source": [
    "Q26:-How to convert a 1d array of tuples to a 2d numpy array?"
   ]
  },
  {
   "cell_type": "markdown",
   "id": "5e93a27d",
   "metadata": {},
   "source": [
    "Convert the 1D iris to 2D array iris_2d by omitting the species text field."
   ]
  },
  {
   "cell_type": "code",
   "execution_count": 27,
   "id": "89d4ce52",
   "metadata": {},
   "outputs": [
    {
     "data": {
      "text/plain": [
       "array([[  1. ,   5.1,   3.5,   1.4],\n",
       "       [  2. ,   4.9,   3. ,   1.4],\n",
       "       [  3. ,   4.7,   3.2,   1.3],\n",
       "       ...,\n",
       "       [148. ,   6.5,   3. ,   5.2],\n",
       "       [149. ,   6.2,   3.4,   5.4],\n",
       "       [150. ,   5.9,   3. ,   5.1]])"
      ]
     },
     "execution_count": 27,
     "metadata": {},
     "output_type": "execute_result"
    }
   ],
   "source": [
    "iris_data = np.genfromtxt('Iris.csv', delimiter=',',skip_header=1,dtype = 'float',usecols=[0,1,2,3])\n",
    "iris_data\n"
   ]
  },
  {
   "cell_type": "markdown",
   "id": "550e4fae",
   "metadata": {},
   "source": [
    "Q27:-How to compute the mean, median, standard deviation of a numpy array?"
   ]
  },
  {
   "cell_type": "markdown",
   "id": "900da14e",
   "metadata": {},
   "source": [
    "Find the mean, median, standard deviation of iris's sepallength (1st column)"
   ]
  },
  {
   "cell_type": "code",
   "execution_count": 28,
   "id": "174e4e7b",
   "metadata": {},
   "outputs": [
    {
     "name": "stdout",
     "output_type": "stream",
     "text": [
      "Mean 5.843333333333334\n",
      "Median 5.8\n",
      "Standard Deviation 0.8253012917851409\n"
     ]
    }
   ],
   "source": [
    "iris_data = np.genfromtxt('Iris.csv',delimiter=',',skip_header=1,usecols=[1])\n",
    "print(\"Mean\",np.mean(iris_data))\n",
    "print(\"Median\",np.median(iris_data))\n",
    "print(\"Standard Deviation\",np.std(iris_data))"
   ]
  },
  {
   "cell_type": "markdown",
   "id": "f8b9b3ff",
   "metadata": {},
   "source": [
    "Q28:-How to normalize an array so the values range exactly between 0 and 1"
   ]
  },
  {
   "cell_type": "markdown",
   "id": "20da2a96",
   "metadata": {},
   "source": [
    "Create a normalized form of iris's sepallength whose values range exactly between 0 and 1 so that the minimum has value 0 and maximum has value 1."
   ]
  },
  {
   "cell_type": "code",
   "execution_count": 29,
   "id": "be57af6b",
   "metadata": {},
   "outputs": [
    {
     "data": {
      "text/plain": [
       "array([0.2222, 0.1667, 0.1111, ..., 0.6111, 0.5278, 0.4444])"
      ]
     },
     "execution_count": 29,
     "metadata": {},
     "output_type": "execute_result"
    }
   ],
   "source": [
    "iris_sepal_length = np.genfromtxt('Iris.csv',delimiter=',',skip_header=1,usecols = [1])\n",
    "(iris_sepal_length-np.min(iris_sepal_length))/(np.max(iris_sepal_length)-np.min(iris_sepal_length))"
   ]
  },
  {
   "cell_type": "markdown",
   "id": "21adb607",
   "metadata": {},
   "source": [
    "Q29:-How to compute the softmax score?"
   ]
  },
  {
   "cell_type": "code",
   "execution_count": 30,
   "id": "c1e61870",
   "metadata": {},
   "outputs": [],
   "source": [
    "iris_data = np.genfromtxt('Iris.csv',delimiter=',',skip_header=1,usecols=[1])\n"
   ]
  },
  {
   "cell_type": "markdown",
   "id": "90cb276e",
   "metadata": {},
   "source": [
    "Q30:-How to find the percentile scores of a numpy array?"
   ]
  },
  {
   "cell_type": "markdown",
   "id": "775390d9",
   "metadata": {},
   "source": [
    "Find the 5th and 95th percentile of iris's sepallength"
   ]
  },
  {
   "cell_type": "code",
   "execution_count": 31,
   "id": "db507920",
   "metadata": {},
   "outputs": [
    {
     "data": {
      "text/plain": [
       "array([7.255, 4.6  ])"
      ]
     },
     "execution_count": 31,
     "metadata": {},
     "output_type": "execute_result"
    }
   ],
   "source": [
    "iris_data = np.genfromtxt('Iris.csv',delimiter=',',skip_header=1,usecols=[1])\n",
    "iris_data\n",
    "\n",
    "np.percentile(iris_data,q=[95,5])"
   ]
  },
  {
   "cell_type": "markdown",
   "id": "8a84f802",
   "metadata": {},
   "source": [
    "Q31:-How to insert values at random positions in an array?"
   ]
  },
  {
   "cell_type": "markdown",
   "id": "5bf0bc99",
   "metadata": {},
   "source": [
    "Insert np.nan values at 20 random positions in iris_2d dataset"
   ]
  },
  {
   "cell_type": "code",
   "execution_count": 32,
   "id": "54ab5e1e",
   "metadata": {},
   "outputs": [
    {
     "data": {
      "text/plain": [
       "array([[5.1, 3.5, 1.4, 0.2],\n",
       "       [4.9, 3. , 1.4, 0.2],\n",
       "       [4.7, 3.2, 1.3, 0.2],\n",
       "       ...,\n",
       "       [6.5, 3. , 5.2, 2. ],\n",
       "       [6.2, 3.4, 5.4, 2.3],\n",
       "       [5.9, 3. , 5.1, 1.8]])"
      ]
     },
     "execution_count": 32,
     "metadata": {},
     "output_type": "execute_result"
    }
   ],
   "source": [
    "iris_data=np.genfromtxt('Iris.csv',delimiter=',',skip_header=1,usecols=[1,2,3,4,])\n",
    "for i in np.random.randint(0,len(iris_data),20):\n",
    "    iris_data[i]=np.nan\n",
    "iris_data"
   ]
  },
  {
   "cell_type": "markdown",
   "id": "dd84d22f",
   "metadata": {},
   "source": [
    "Q32:-How to find the position of missing values in numpy array?"
   ]
  },
  {
   "cell_type": "code",
   "execution_count": 33,
   "id": "53db9e6f",
   "metadata": {},
   "outputs": [],
   "source": [
    "iris_data=np.genfromtxt(\"Iris.csv\",delimiter=\",\",dtype=\"float\",skip_header=1)\n",
    "iris_data[np.random.randint(len(iris_data),size=20),np.random.randint(4,size=20)]=np.nan"
   ]
  },
  {
   "cell_type": "code",
   "execution_count": 34,
   "id": "546dc8d7",
   "metadata": {},
   "outputs": [
    {
     "data": {
      "text/plain": [
       "170"
      ]
     },
     "execution_count": 34,
     "metadata": {},
     "output_type": "execute_result"
    }
   ],
   "source": [
    "np.isnan(iris_data[:,:]).sum()"
   ]
  },
  {
   "cell_type": "code",
   "execution_count": 35,
   "id": "141c7af8",
   "metadata": {},
   "outputs": [
    {
     "data": {
      "text/plain": [
       "(array([  0,   1,   2, ..., 147, 148, 149], dtype=int64),\n",
       " array([5, 5, 2, ..., 5, 5, 5], dtype=int64))"
      ]
     },
     "execution_count": 35,
     "metadata": {},
     "output_type": "execute_result"
    }
   ],
   "source": [
    "np.where(np.isnan(iris_data[:,:]))"
   ]
  },
  {
   "cell_type": "markdown",
   "id": "9eb07718",
   "metadata": {},
   "source": [
    "Q33:-How to filter a numpy array based on two r more conditions."
   ]
  },
  {
   "cell_type": "code",
   "execution_count": 36,
   "id": "6f1032f7",
   "metadata": {},
   "outputs": [],
   "source": [
    "iris_data = np.genfromtxt(\"Iris.csv\",delimiter=\",\",usecols=[1,2,3,4],skip_header=1)\n"
   ]
  },
  {
   "cell_type": "code",
   "execution_count": 37,
   "id": "6f72d809",
   "metadata": {},
   "outputs": [
    {
     "data": {
      "text/plain": [
       "array([[4.8, 3.4, 1.6, 0.2],\n",
       "       [4.8, 3.4, 1.9, 0.2],\n",
       "       [4.7, 3.2, 1.6, 0.2],\n",
       "       [4.8, 3.1, 1.6, 0.2],\n",
       "       [4.9, 2.4, 3.3, 1. ],\n",
       "       [4.9, 2.5, 4.5, 1.7]])"
      ]
     },
     "execution_count": 37,
     "metadata": {},
     "output_type": "execute_result"
    }
   ],
   "source": [
    "iris_data[(iris_data[:,0] < 5.0) & (iris_data[:,2]>1.5)]"
   ]
  },
  {
   "cell_type": "markdown",
   "id": "7a596190",
   "metadata": {},
   "source": [
    "Q34:-How to drop rows that contain a missing value from a numpy array?"
   ]
  },
  {
   "cell_type": "code",
   "execution_count": 38,
   "id": "ffb81017",
   "metadata": {},
   "outputs": [
    {
     "name": "stdout",
     "output_type": "stream",
     "text": [
      "[[148.     72.     35.    ...  33.6     0.627  50.   ]\n",
      " [ 85.     66.     29.    ...  26.6     0.351  31.   ]\n",
      " [183.     64.      0.    ...  23.3     0.672  32.   ]\n",
      " ...\n",
      " [121.     72.     23.    ...  26.2     0.245  30.   ]\n",
      " [126.     60.      0.    ...  30.1     0.349  47.   ]\n",
      " [ 93.     70.     31.    ...  30.4     0.315  23.   ]]\n"
     ]
    }
   ],
   "source": [
    "diabetes_data = np.genfromtxt(\"diabetes.csv\",delimiter=\",\",usecols=[1,2,3,4,5,6,7],skip_header=1)\n",
    "print(diabetes_data)\n"
   ]
  },
  {
   "cell_type": "code",
   "execution_count": 39,
   "id": "672d9215",
   "metadata": {},
   "outputs": [],
   "source": [
    "diabetes_data[np.random.randint(0,len(diabetes_data),12),np.random.randint(0,7,12)] = np.nan"
   ]
  },
  {
   "cell_type": "code",
   "execution_count": 40,
   "id": "db2b898c",
   "metadata": {},
   "outputs": [
    {
     "data": {
      "text/plain": [
       "array([[148.   ,  72.   ,  35.   , ...,  33.6  ,   0.627,  50.   ],\n",
       "       [ 85.   ,  66.   ,  29.   , ...,  26.6  ,   0.351,  31.   ],\n",
       "       [183.   ,  64.   ,   0.   , ...,  23.3  ,   0.672,  32.   ],\n",
       "       ...,\n",
       "       [121.   ,  72.   ,  23.   , ...,  26.2  ,   0.245,  30.   ],\n",
       "       [126.   ,  60.   ,   0.   , ...,  30.1  ,   0.349,  47.   ],\n",
       "       [ 93.   ,  70.   ,  31.   , ...,  30.4  ,   0.315,  23.   ]])"
      ]
     },
     "execution_count": 40,
     "metadata": {},
     "output_type": "execute_result"
    }
   ],
   "source": [
    "diabetes_data[np.sum(np.isnan(diabetes_data),axis=1) == 0]"
   ]
  },
  {
   "cell_type": "markdown",
   "id": "8368fa24",
   "metadata": {},
   "source": [
    "Q35:-How to find the correlation between two columns of a numpy array?"
   ]
  },
  {
   "cell_type": "code",
   "execution_count": 41,
   "id": "2a3da98e",
   "metadata": {},
   "outputs": [],
   "source": [
    "diabetes_data=np.genfromtxt(\"diabetes.csv\",delimiter=\",\",skip_header=1,usecols=[1,5])"
   ]
  },
  {
   "cell_type": "code",
   "execution_count": 42,
   "id": "231c06af",
   "metadata": {},
   "outputs": [
    {
     "name": "stdout",
     "output_type": "stream",
     "text": [
      "[[148.   33.6]\n",
      " [ 85.   26.6]\n",
      " [183.   23.3]\n",
      " ...\n",
      " [121.   26.2]\n",
      " [126.   30.1]\n",
      " [ 93.   30.4]]\n"
     ]
    }
   ],
   "source": [
    "print(diabetes_data)"
   ]
  },
  {
   "cell_type": "code",
   "execution_count": 43,
   "id": "bf498801",
   "metadata": {},
   "outputs": [
    {
     "data": {
      "text/plain": [
       "array([[1.    , 0.2211],\n",
       "       [0.2211, 1.    ]])"
      ]
     },
     "execution_count": 43,
     "metadata": {},
     "output_type": "execute_result"
    }
   ],
   "source": [
    "np.corrcoef(diabetes_data[:,0],diabetes_data[:,1])"
   ]
  },
  {
   "cell_type": "markdown",
   "id": "220be5dc",
   "metadata": {},
   "source": [
    "Q36:-How to find if a given array has any null values?"
   ]
  },
  {
   "cell_type": "code",
   "execution_count": 44,
   "id": "88211063",
   "metadata": {},
   "outputs": [
    {
     "data": {
      "text/plain": [
       "False"
      ]
     },
     "execution_count": 44,
     "metadata": {},
     "output_type": "execute_result"
    }
   ],
   "source": [
    "diabetes_data=np.genfromtxt('diabetes.csv',delimiter=',',skip_header=1)\n",
    "np.isnan(diabetes_data).any()"
   ]
  },
  {
   "cell_type": "markdown",
   "id": "0b822626",
   "metadata": {},
   "source": [
    "Q37:-How to replace all missing values with 0 in a numpy array ?"
   ]
  },
  {
   "cell_type": "code",
   "execution_count": 45,
   "id": "421e411d",
   "metadata": {},
   "outputs": [],
   "source": [
    "red_wine=np.genfromtxt(\"winequality-red.csv\",delimiter=\",\",dtype=float , skip_header=1,usecols=[0,1,2,3,4,5,6,7,8,9,10])"
   ]
  },
  {
   "cell_type": "code",
   "execution_count": 46,
   "id": "b77fdf1f",
   "metadata": {},
   "outputs": [],
   "source": [
    "red_wine[np.random.randint(0,len(red_wine),10000),np.random.randint(0,10,10000)]=np.nan"
   ]
  },
  {
   "cell_type": "code",
   "execution_count": 47,
   "id": "5fd60c1c",
   "metadata": {},
   "outputs": [
    {
     "name": "stdout",
     "output_type": "stream",
     "text": [
      "[[ 7.4   0.7   0.   ...   nan  0.56  9.4 ]\n",
      " [ 7.8    nan   nan ...   nan   nan  9.8 ]\n",
      " [  nan  0.76   nan ...   nan  0.65  9.8 ]\n",
      " ...\n",
      " [ 6.3    nan   nan ...  3.42  0.75 11.  ]\n",
      " [  nan   nan   nan ...  3.57   nan 10.2 ]\n",
      " [ 6.    0.31   nan ...  3.39  0.66 11.  ]]\n"
     ]
    }
   ],
   "source": [
    "print(red_wine)"
   ]
  },
  {
   "cell_type": "code",
   "execution_count": 48,
   "id": "6b120ba8",
   "metadata": {},
   "outputs": [],
   "source": [
    "red_wine[np.where(np.isnan(red_wine))]=0"
   ]
  },
  {
   "cell_type": "code",
   "execution_count": 49,
   "id": "7daf241a",
   "metadata": {},
   "outputs": [
    {
     "name": "stdout",
     "output_type": "stream",
     "text": [
      "[[ 7.4   0.7   0.   ...  0.    0.56  9.4 ]\n",
      " [ 7.8   0.    0.   ...  0.    0.    9.8 ]\n",
      " [ 0.    0.76  0.   ...  0.    0.65  9.8 ]\n",
      " ...\n",
      " [ 6.3   0.    0.   ...  3.42  0.75 11.  ]\n",
      " [ 0.    0.    0.   ...  3.57  0.   10.2 ]\n",
      " [ 6.    0.31  0.   ...  3.39  0.66 11.  ]]\n"
     ]
    }
   ],
   "source": [
    "print(red_wine)"
   ]
  },
  {
   "cell_type": "markdown",
   "id": "a21ec81f",
   "metadata": {},
   "source": [
    "Q38:-How to find the count of unique values in a numpy array ?"
   ]
  },
  {
   "cell_type": "code",
   "execution_count": 51,
   "id": "b90a3597",
   "metadata": {},
   "outputs": [
    {
     "data": {
      "text/plain": [
       "(array([b'e', b'p'], dtype=object), array([4208, 3916], dtype=int64))"
      ]
     },
     "execution_count": 51,
     "metadata": {},
     "output_type": "execute_result"
    }
   ],
   "source": [
    "mushroom = np.genfromtxt(\"mushrooms.csv\",delimiter=\",\",skip_header=1,usecols=[0],dtype = object)\n",
    "np.unique(mushroom,return_counts=True)"
   ]
  },
  {
   "cell_type": "markdown",
   "id": "7fc15929",
   "metadata": {},
   "source": [
    "Q39:-How to convert a numeric to a categorical (text) array?"
   ]
  },
  {
   "cell_type": "code",
   "execution_count": null,
   "id": "0083f67d",
   "metadata": {},
   "outputs": [],
   "source": [
    "bins=[0,3,5,7]\n",
    "inds = np.dizitize "
   ]
  }
 ],
 "metadata": {
  "kernelspec": {
   "display_name": "base",
   "language": "python",
   "name": "python3"
  },
  "language_info": {
   "codemirror_mode": {
    "name": "ipython",
    "version": 3
   },
   "file_extension": ".py",
   "mimetype": "text/x-python",
   "name": "python",
   "nbconvert_exporter": "python",
   "pygments_lexer": "ipython3",
   "version": "3.12.7"
  }
 },
 "nbformat": 4,
 "nbformat_minor": 5
}
