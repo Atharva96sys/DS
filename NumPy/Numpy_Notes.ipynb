{
 "cells": [
  {
   "cell_type": "markdown",
   "id": "9980c41a",
   "metadata": {},
   "source": [
    "# ***Numpy Tutorial***"
   ]
  },
  {
   "cell_type": "markdown",
   "id": "a4915015",
   "metadata": {},
   "source": [
    "***Note Down***<br>\n",
    "*when using attribute use it with array.atrribute*<br>\n",
    "*For Example let a is array of numbers*<br>\n",
    "*attributes are used as a.attribute*<br><br>\n",
    "*when using function use it with np.function()*<br>\n",
    "*For Example let a and b be two array of numbers*<br>\n",
    "*function are used as np.add(a,b)*"
   ]
  },
  {
   "cell_type": "markdown",
   "id": "7cb28d01",
   "metadata": {},
   "source": [
    "# **Day1 Numpy Notes**"
   ]
  },
  {
   "cell_type": "code",
   "execution_count": 84,
   "id": "ee09efa2-2949-45a8-bd1e-467721aaa7f8",
   "metadata": {},
   "outputs": [],
   "source": [
    "import numpy as np # importing numpy library to python environment"
   ]
  },
  {
   "cell_type": "markdown",
   "id": "10bd7e58",
   "metadata": {},
   "source": [
    "#### **Array Initialization**"
   ]
  },
  {
   "cell_type": "markdown",
   "id": "b41b430f",
   "metadata": {},
   "source": [
    "*Creating Array Using np.array() function*"
   ]
  },
  {
   "cell_type": "code",
   "execution_count": 43,
   "id": "0fac61b3-f999-462f-992e-5cb967083d9d",
   "metadata": {},
   "outputs": [
    {
     "name": "stdout",
     "output_type": "stream",
     "text": [
      "[ 3  6  8 53  7  3]\n"
     ]
    }
   ],
   "source": [
    "# Creates Array Of [3,6,8,53,7,3] using np.array() function\n",
    "\n",
    "a = np.array([3,6,8,53,7,3])\n",
    "print(a)"
   ]
  },
  {
   "cell_type": "markdown",
   "id": "679c04aa",
   "metadata": {},
   "source": [
    "* *np.array() function uses only one argument which can be a list or tuple*"
   ]
  },
  {
   "cell_type": "markdown",
   "id": "f116e9d3",
   "metadata": {},
   "source": [
    "*You Can Also Create two or higher Dimensional Array Using Nested List*"
   ]
  },
  {
   "cell_type": "code",
   "execution_count": 44,
   "id": "2374ec90-1fb4-4fb7-9695-ad04bb1ad35d",
   "metadata": {},
   "outputs": [
    {
     "name": "stdout",
     "output_type": "stream",
     "text": [
      "[[ 7  5  3  6]\n",
      " [35  8  4  2]]\n"
     ]
    }
   ],
   "source": [
    "# Creates Array With Two Dimension Using Nesting of List along with .array() function\n",
    "\n",
    "b = np.array([[7,5,3,6],[35,8,4,2]])\n",
    "print(b)"
   ]
  },
  {
   "cell_type": "code",
   "execution_count": 45,
   "id": "65a341b2",
   "metadata": {},
   "outputs": [
    {
     "name": "stdout",
     "output_type": "stream",
     "text": [
      "[[ 7.94  6.    3.    7.82  2.63]\n",
      " [ 9.   37.    8.    3.    8.  ]]\n"
     ]
    }
   ],
   "source": [
    "# Different Data Types Can Also Be Used To Make Array In Numpy Python Library\n",
    "\n",
    "c = np.array([[7.94,6,3,7.82,2.63],[9,37,8,3,8]])\n",
    "print(c)"
   ]
  },
  {
   "cell_type": "markdown",
   "id": "3e1062d8",
   "metadata": {},
   "source": [
    "#### **Dimension Of Array**"
   ]
  },
  {
   "cell_type": "markdown",
   "id": "539d22a1",
   "metadata": {},
   "source": [
    "*Number Of Dimension Of Arrays using ndim attribute*"
   ]
  },
  {
   "cell_type": "code",
   "execution_count": 46,
   "id": "2f544c9b",
   "metadata": {},
   "outputs": [
    {
     "data": {
      "text/plain": [
       "1"
      ]
     },
     "execution_count": 46,
     "metadata": {},
     "output_type": "execute_result"
    }
   ],
   "source": [
    "# Finding Dimension Of Given Array by using .ndim() attribute\n",
    "a.ndim"
   ]
  },
  {
   "cell_type": "code",
   "execution_count": 47,
   "id": "8583f5b6",
   "metadata": {},
   "outputs": [
    {
     "data": {
      "text/plain": [
       "2"
      ]
     },
     "execution_count": 47,
     "metadata": {},
     "output_type": "execute_result"
    }
   ],
   "source": [
    "# Array With A Matrix Is Know As 2-Dimensional Or 2D\n",
    "b.ndim"
   ]
  },
  {
   "cell_type": "markdown",
   "id": "21a44481",
   "metadata": {},
   "source": [
    "___________________________________________________________________________________________________________________________________________________"
   ]
  },
  {
   "cell_type": "markdown",
   "id": "588236a7",
   "metadata": {},
   "source": [
    "#### **Shape Of Array**"
   ]
  },
  {
   "cell_type": "markdown",
   "id": "d035d8cd",
   "metadata": {},
   "source": [
    "*.shape attribute gives no of element in each dimenstion of a given array in form of tuple of non-negative integers*\n"
   ]
  },
  {
   "cell_type": "code",
   "execution_count": 48,
   "id": "ba93db72",
   "metadata": {},
   "outputs": [
    {
     "data": {
      "text/plain": [
       "(6,)"
      ]
     },
     "execution_count": 48,
     "metadata": {},
     "output_type": "execute_result"
    }
   ],
   "source": [
    "a.shape # Shape Of 'a' Array(here 'a' is a List with one dim of size 6)"
   ]
  },
  {
   "cell_type": "code",
   "execution_count": 49,
   "id": "f6471184",
   "metadata": {},
   "outputs": [
    {
     "data": {
      "text/plain": [
       "(2, 4)"
      ]
     },
     "execution_count": 49,
     "metadata": {},
     "output_type": "execute_result"
    }
   ],
   "source": [
    "b.shape # Shape Of 'b' Array(here 'b' is Matrix of size 2x4)"
   ]
  },
  {
   "cell_type": "markdown",
   "id": "5dfc9538",
   "metadata": {},
   "source": [
    "*Here Matrix B is a 2x4 matrrix so when we try to find shape of matrix or array it gives (2,4)*"
   ]
  },
  {
   "cell_type": "markdown",
   "id": "9ab66369",
   "metadata": {},
   "source": [
    "***Whenever we check shape of array it is always stored in tuple***"
   ]
  },
  {
   "cell_type": "markdown",
   "id": "816394d4",
   "metadata": {},
   "source": [
    "____________________________________________________________________________________________________________________________"
   ]
  },
  {
   "cell_type": "markdown",
   "id": "4ef9702c",
   "metadata": {},
   "source": [
    "### **Data Type Of Array's Element**"
   ]
  },
  {
   "cell_type": "markdown",
   "id": "1439eac7",
   "metadata": {},
   "source": [
    "*We Can Use .dtype attribute to find data type of given array*"
   ]
  },
  {
   "cell_type": "markdown",
   "id": "71210efc",
   "metadata": {},
   "source": [
    "*Actually Here Data Type Means data type and memory space allocated for it.*"
   ]
  },
  {
   "cell_type": "markdown",
   "id": "32ac93a0",
   "metadata": {},
   "source": [
    "*Arrays are homogenous means that they contains element of only one single data type*"
   ]
  },
  {
   "cell_type": "code",
   "execution_count": 50,
   "id": "5247adc5",
   "metadata": {},
   "outputs": [
    {
     "data": {
      "text/plain": [
       "dtype('int32')"
      ]
     },
     "execution_count": 50,
     "metadata": {},
     "output_type": "execute_result"
    }
   ],
   "source": [
    "# Data Type and Space Allocated For Every Element Of 'a' matrix \n",
    "a.dtype"
   ]
  },
  {
   "cell_type": "markdown",
   "id": "43246ead",
   "metadata": {},
   "source": [
    "*In Above Example dtype('int32') specifies datatype which is int and memory per element is 32*"
   ]
  },
  {
   "cell_type": "code",
   "execution_count": 51,
   "id": "d1a839cf",
   "metadata": {},
   "outputs": [
    {
     "data": {
      "text/plain": [
       "dtype('int32')"
      ]
     },
     "execution_count": 51,
     "metadata": {},
     "output_type": "execute_result"
    }
   ],
   "source": [
    "# For 'b'\n",
    "b.dtype"
   ]
  },
  {
   "cell_type": "code",
   "execution_count": 52,
   "id": "73fe1f04",
   "metadata": {},
   "outputs": [
    {
     "data": {
      "text/plain": [
       "dtype('float64')"
      ]
     },
     "execution_count": 52,
     "metadata": {},
     "output_type": "execute_result"
    }
   ],
   "source": [
    "# For 'c'\n",
    "c.dtype"
   ]
  },
  {
   "cell_type": "markdown",
   "id": "54949b48",
   "metadata": {},
   "source": [
    "*In Above Example Datatype here is float which is allocated 64 bit per element*"
   ]
  },
  {
   "cell_type": "code",
   "execution_count": 53,
   "id": "428f29ba",
   "metadata": {},
   "outputs": [
    {
     "name": "stdout",
     "output_type": "stream",
     "text": [
      "[8 9 6]\n"
     ]
    },
    {
     "data": {
      "text/plain": [
       "dtype('int16')"
      ]
     },
     "execution_count": 53,
     "metadata": {},
     "output_type": "execute_result"
    }
   ],
   "source": [
    "# You Can Also Change Data Type If Possible \n",
    "# While Creating Array \n",
    "a = np.array([8,9,6] , dtype = 'int16') \n",
    "# Helps To Manage Memory Effectively\n",
    "print(a)\n",
    "a.dtype"
   ]
  },
  {
   "cell_type": "markdown",
   "id": "e6906e61",
   "metadata": {},
   "source": [
    "____________________________________________________________________________________________________________________________"
   ]
  },
  {
   "cell_type": "markdown",
   "id": "8b8ce6aa",
   "metadata": {},
   "source": [
    "### **ItemSize Of Element Of Array**"
   ]
  },
  {
   "cell_type": "markdown",
   "id": "cdc2911e",
   "metadata": {},
   "source": [
    "***Item Size Is Size/Memory Allocated For Element In Given Array In Bytes***"
   ]
  },
  {
   "cell_type": "code",
   "execution_count": 54,
   "id": "fe3a4c4c",
   "metadata": {},
   "outputs": [
    {
     "name": "stdout",
     "output_type": "stream",
     "text": [
      "int16\n",
      "2\n"
     ]
    }
   ],
   "source": [
    "# Depends On dtype of array\n",
    "print(a.dtype)\n",
    "print(a.itemsize)"
   ]
  },
  {
   "cell_type": "code",
   "execution_count": 55,
   "id": "87761a8c",
   "metadata": {},
   "outputs": [
    {
     "data": {
      "text/plain": [
       "dtype('int32')"
      ]
     },
     "execution_count": 55,
     "metadata": {},
     "output_type": "execute_result"
    }
   ],
   "source": [
    "b.dtype"
   ]
  },
  {
   "cell_type": "markdown",
   "id": "f5d8a358",
   "metadata": {},
   "source": [
    "*Here int32 means the data type is int and the memory allocated for each element is 32 bits, which is equal to 4 bytes*"
   ]
  },
  {
   "cell_type": "code",
   "execution_count": 56,
   "id": "46ed06cc",
   "metadata": {},
   "outputs": [
    {
     "data": {
      "text/plain": [
       "4"
      ]
     },
     "execution_count": 56,
     "metadata": {},
     "output_type": "execute_result"
    }
   ],
   "source": [
    "b.itemsize"
   ]
  },
  {
   "cell_type": "code",
   "execution_count": 57,
   "id": "de75c1b5",
   "metadata": {},
   "outputs": [
    {
     "data": {
      "text/plain": [
       "8"
      ]
     },
     "execution_count": 57,
     "metadata": {},
     "output_type": "execute_result"
    }
   ],
   "source": [
    "c.itemsize"
   ]
  },
  {
   "cell_type": "markdown",
   "id": "ed43e9db",
   "metadata": {},
   "source": [
    "*c array has elements of type float64 which means they have 64 bit of memory allocated for each element, which is equal to 8 bytes, thus the output shows 8 when we use .itemsize on array c*"
   ]
  },
  {
   "cell_type": "markdown",
   "id": "e0fa89af",
   "metadata": {},
   "source": [
    "____________________________________________________________________________________________________________________________"
   ]
  },
  {
   "cell_type": "markdown",
   "id": "0b910448",
   "metadata": {},
   "source": [
    "#### **Size / ItemSize**"
   ]
  },
  {
   "cell_type": "markdown",
   "id": "28d2c6b3",
   "metadata": {},
   "source": [
    "*.size attribute gives total no of element in array*"
   ]
  },
  {
   "cell_type": "code",
   "execution_count": 58,
   "id": "4b17bca4",
   "metadata": {},
   "outputs": [
    {
     "data": {
      "text/plain": [
       "3"
      ]
     },
     "execution_count": 58,
     "metadata": {},
     "output_type": "execute_result"
    }
   ],
   "source": [
    "a.size # Size Of Array 'a' using .size attribute"
   ]
  },
  {
   "cell_type": "code",
   "execution_count": 59,
   "id": "57ac8ad7",
   "metadata": {},
   "outputs": [
    {
     "data": {
      "text/plain": [
       "8"
      ]
     },
     "execution_count": 59,
     "metadata": {},
     "output_type": "execute_result"
    }
   ],
   "source": [
    "b.size # Size Of Array 'b' using .size attribute"
   ]
  },
  {
   "cell_type": "code",
   "execution_count": 60,
   "id": "45832782",
   "metadata": {},
   "outputs": [
    {
     "data": {
      "text/plain": [
       "10"
      ]
     },
     "execution_count": 60,
     "metadata": {},
     "output_type": "execute_result"
    }
   ],
   "source": [
    "c.size # Size Of Array 'c' using .size attribute"
   ]
  },
  {
   "cell_type": "markdown",
   "id": "8573e9dc",
   "metadata": {},
   "source": [
    "____________________________________________________________________________________________________________________________\n"
   ]
  },
  {
   "cell_type": "markdown",
   "id": "76917ef1",
   "metadata": {},
   "source": [
    "#### **Total Size Of Array**"
   ]
  },
  {
   "cell_type": "markdown",
   "id": "46c0097b",
   "metadata": {},
   "source": [
    "*Total Memory Size it can be calculated using .nbytes or simple maths calculation like  a.size * a.itemsize*"
   ]
  },
  {
   "cell_type": "markdown",
   "id": "a731b11b",
   "metadata": {},
   "source": [
    "*Remember .nbytes gives size of array' total memory in bytes not bits*"
   ]
  },
  {
   "cell_type": "code",
   "execution_count": 61,
   "id": "d4d6a8d5",
   "metadata": {},
   "outputs": [
    {
     "data": {
      "text/plain": [
       "6"
      ]
     },
     "execution_count": 61,
     "metadata": {},
     "output_type": "execute_result"
    }
   ],
   "source": [
    "# Total Memory Required For Whole Array 'a'\n",
    "\n",
    "a.nbytes"
   ]
  },
  {
   "cell_type": "code",
   "execution_count": 62,
   "id": "ecac8caa",
   "metadata": {},
   "outputs": [
    {
     "data": {
      "text/plain": [
       "6"
      ]
     },
     "execution_count": 62,
     "metadata": {},
     "output_type": "execute_result"
    }
   ],
   "source": [
    "# Same As Above But In Mathematical Terms\n",
    "\n",
    "a.size * a.itemsize \n",
    "\n",
    "# a.size -> no of elements in array\n",
    "# a.itemsize -> allocated memory size per element"
   ]
  },
  {
   "cell_type": "code",
   "execution_count": 63,
   "id": "e511a589",
   "metadata": {},
   "outputs": [
    {
     "data": {
      "text/plain": [
       "32"
      ]
     },
     "execution_count": 63,
     "metadata": {},
     "output_type": "execute_result"
    }
   ],
   "source": [
    "# Total Memory Required For Whole Array 'b'\n",
    "\n",
    "b.nbytes"
   ]
  },
  {
   "cell_type": "code",
   "execution_count": 64,
   "id": "913eb9c8",
   "metadata": {},
   "outputs": [
    {
     "data": {
      "text/plain": [
       "80"
      ]
     },
     "execution_count": 64,
     "metadata": {},
     "output_type": "execute_result"
    }
   ],
   "source": [
    "c.nbytes # Total Size of array 'c' to get storage in memory in bytes"
   ]
  },
  {
   "cell_type": "markdown",
   "id": "0e246e10",
   "metadata": {},
   "source": [
    "___________________________________________________________________________________________________________________________________________________"
   ]
  },
  {
   "cell_type": "markdown",
   "id": "9cd3fc3e",
   "metadata": {},
   "source": [
    "### **Accessing/Changing Specific Elements,rows,columns in Array**"
   ]
  },
  {
   "cell_type": "code",
   "execution_count": 65,
   "id": "c1695ed5",
   "metadata": {},
   "outputs": [],
   "source": [
    "a = np.array([[1,3,5,7,4,3,8],[0,7,5,3,7,4,2]])"
   ]
  },
  {
   "cell_type": "code",
   "execution_count": 66,
   "id": "d9957f86",
   "metadata": {},
   "outputs": [
    {
     "name": "stdout",
     "output_type": "stream",
     "text": [
      "2\n"
     ]
    }
   ],
   "source": [
    "# Get Specific Element \n",
    "# You Can Access Specific Element in Array By Using Indexing Same As In Python List\n",
    "print(a[1,6])"
   ]
  },
  {
   "cell_type": "code",
   "execution_count": 67,
   "id": "06db324e",
   "metadata": {},
   "outputs": [
    {
     "data": {
      "text/plain": [
       "array([0, 7, 5, 3, 7, 4, 2])"
      ]
     },
     "execution_count": 67,
     "metadata": {},
     "output_type": "execute_result"
    }
   ],
   "source": [
    "# Get Specific Row from array by slicing\n",
    "a[1,:]"
   ]
  },
  {
   "cell_type": "code",
   "execution_count": 68,
   "id": "62e1eb27",
   "metadata": {},
   "outputs": [
    {
     "data": {
      "text/plain": [
       "array([7, 3])"
      ]
     },
     "execution_count": 68,
     "metadata": {},
     "output_type": "execute_result"
    }
   ],
   "source": [
    "# Get Specific Column from array by slicing\n",
    "a[:,3]"
   ]
  },
  {
   "cell_type": "code",
   "execution_count": 69,
   "id": "d1f371f8",
   "metadata": {},
   "outputs": [],
   "source": [
    "# Get Complex Output \n",
    "# By Using List Slicing [start_index:end_index:step]"
   ]
  },
  {
   "cell_type": "code",
   "execution_count": 70,
   "id": "36e4de00",
   "metadata": {},
   "outputs": [
    {
     "data": {
      "text/plain": [
       "array([5, 3, 7, 4])"
      ]
     },
     "execution_count": 70,
     "metadata": {},
     "output_type": "execute_result"
    }
   ],
   "source": [
    "# Let We Want Element From 2 to 5 of second column\n",
    "\n",
    "a[1,2:6:1] # First 1 before ',' is used to iterate on second row and slicing after ',' is used to get element from 2 to 5 in same row"
   ]
  },
  {
   "cell_type": "markdown",
   "id": "71946ef3",
   "metadata": {},
   "source": [
    "*We have seen we can use slicing in numpy array just as list in python ,so we can use general form of slicing as <br> \n",
    "np.array[start_point : end_point : steps]*"
   ]
  },
  {
   "cell_type": "code",
   "execution_count": 71,
   "id": "7f435271",
   "metadata": {},
   "outputs": [
    {
     "data": {
      "text/plain": [
       "array([3, 7])"
      ]
     },
     "execution_count": 71,
     "metadata": {},
     "output_type": "execute_result"
    }
   ],
   "source": [
    "# Slicing Practice\n",
    "# Get Element From First Row Of Array and from second to second last element in steps of twos\n",
    "a[0,1:-2:2] "
   ]
  },
  {
   "cell_type": "code",
   "execution_count": 72,
   "id": "adea806d",
   "metadata": {},
   "outputs": [
    {
     "data": {
      "text/plain": [
       "array([5, 4])"
      ]
     },
     "execution_count": 72,
     "metadata": {},
     "output_type": "execute_result"
    }
   ],
   "source": [
    "# Get Element From First Row Of Array And From thrid to last element in steps of twos\n",
    "a[0,2:6:2]"
   ]
  },
  {
   "cell_type": "code",
   "execution_count": 73,
   "id": "d6e90096",
   "metadata": {},
   "outputs": [
    {
     "data": {
      "text/plain": [
       "array([3, 7, 3])"
      ]
     },
     "execution_count": 73,
     "metadata": {},
     "output_type": "execute_result"
    }
   ],
   "source": [
    "# Get Element From First Row Of Array And From Seconf Element To Last in steps of twos\n",
    "a[0,1:-1:2]"
   ]
  },
  {
   "cell_type": "markdown",
   "id": "89c7de7b",
   "metadata": {},
   "source": [
    "#### **Changing Array Element**"
   ]
  },
  {
   "cell_type": "code",
   "execution_count": 74,
   "id": "82985c52",
   "metadata": {},
   "outputs": [],
   "source": [
    "\n",
    "a[1,3] = 78"
   ]
  },
  {
   "cell_type": "markdown",
   "id": "31812d46",
   "metadata": {},
   "source": [
    "*Changing Whole Column/Row Element To One Common Element Or Iterate From List/Array*"
   ]
  },
  {
   "cell_type": "code",
   "execution_count": 75,
   "id": "4cc032a0",
   "metadata": {},
   "outputs": [
    {
     "name": "stdout",
     "output_type": "stream",
     "text": [
      "[[ 2  2  2  2  2  2  2]\n",
      " [ 0  7  5 78  7  4  2]]\n"
     ]
    }
   ],
   "source": [
    "a[0,:]=2\n",
    "print(a)"
   ]
  },
  {
   "cell_type": "code",
   "execution_count": 76,
   "id": "7bba105b",
   "metadata": {},
   "outputs": [
    {
     "name": "stdout",
     "output_type": "stream",
     "text": [
      "[[ 1  2  3  4  5  6  7]\n",
      " [ 0  7  5 78  7  4  2]]\n"
     ]
    }
   ],
   "source": [
    "a[0,:]=[1,2,3,4,5,6,7]\n",
    "print(a)"
   ]
  },
  {
   "cell_type": "markdown",
   "id": "6188be13",
   "metadata": {},
   "source": [
    "Accessing Element In 3D Array Is Done By Working Outside In Way"
   ]
  },
  {
   "cell_type": "code",
   "execution_count": 77,
   "id": "bb8da789",
   "metadata": {},
   "outputs": [
    {
     "name": "stdout",
     "output_type": "stream",
     "text": [
      "[[[ 1  2  3  4  5  6  7]\n",
      "  [ 8  9 10 11 12 13 14]]\n",
      "\n",
      " [[15 16 17 18 19 20 21]\n",
      "  [22 23 24 25 26 27 28]]]\n"
     ]
    }
   ],
   "source": [
    "c = np.array([[[1,2,3,4,5,6,7],[8,9,10,11,12,13,14]],[[15,16,17,18,19,20,21],[22,23,24,25,26,27,28]]])\n",
    "print(c)"
   ]
  },
  {
   "cell_type": "code",
   "execution_count": 78,
   "id": "54f8b3fe",
   "metadata": {},
   "outputs": [
    {
     "data": {
      "text/plain": [
       "9"
      ]
     },
     "execution_count": 78,
     "metadata": {},
     "output_type": "execute_result"
    }
   ],
   "source": [
    "# Let's Access 9 From 3D Array\n",
    "\n",
    "c[0,1,1]"
   ]
  },
  {
   "cell_type": "markdown",
   "id": "7687fef5",
   "metadata": {},
   "source": [
    "If You Want To Change Element You Can Use Same Array Operation To Change Elements In Array"
   ]
  },
  {
   "cell_type": "markdown",
   "id": "5e69c001",
   "metadata": {},
   "source": [
    "You Can Also Change Whole Matrix     "
   ]
  },
  {
   "cell_type": "markdown",
   "id": "1986699f",
   "metadata": {},
   "source": [
    "Just Access The Matrix You Want To Change And Add New Matrix"
   ]
  },
  {
   "cell_type": "code",
   "execution_count": 79,
   "id": "e06aa1c9",
   "metadata": {},
   "outputs": [],
   "source": [
    "# Let's Change 24 to 29\n",
    "\n",
    "c[1,1,5] = 29"
   ]
  },
  {
   "cell_type": "code",
   "execution_count": 80,
   "id": "4728a2cf",
   "metadata": {},
   "outputs": [
    {
     "name": "stdout",
     "output_type": "stream",
     "text": [
      "[[[ 1  2  3  4  5  6  7]\n",
      "  [ 8  9 10 11 12 13 14]]\n",
      "\n",
      " [[15 16 17 18 19 20 21]\n",
      "  [22 23 24 25 26 29 28]]]\n"
     ]
    }
   ],
   "source": [
    "print(c)"
   ]
  },
  {
   "cell_type": "code",
   "execution_count": 81,
   "id": "adb351d7",
   "metadata": {},
   "outputs": [
    {
     "name": "stdout",
     "output_type": "stream",
     "text": [
      "[[[ 1  2  3  4  5  6  7]\n",
      "  [ 8  9 10 11 12 13 14]]\n",
      "\n",
      " [[22 23 24 25 26 27 28]\n",
      "  [29 30 31 32 33 34 35]]]\n"
     ]
    }
   ],
   "source": [
    "# Change whole Inner Matrix To New Matrix \n",
    "c[1,:,:] = [[22,23,24,25,26,27,28],[29,30,31,32,33,34,35]]\n",
    "print(c)"
   ]
  },
  {
   "cell_type": "markdown",
   "id": "5b1f4a59",
   "metadata": {},
   "source": [
    "But Remember Changing Elements Or Array To A Different Size Or Dimensions Result In Error "
   ]
  },
  {
   "cell_type": "code",
   "execution_count": 82,
   "id": "b4bb6baf",
   "metadata": {},
   "outputs": [
    {
     "ename": "ValueError",
     "evalue": "could not broadcast input array from shape (2,3) into shape (2,7)",
     "output_type": "error",
     "traceback": [
      "\u001b[1;31m---------------------------------------------------------------------------\u001b[0m",
      "\u001b[1;31mValueError\u001b[0m                                Traceback (most recent call last)",
      "Cell \u001b[1;32mIn[82], line 1\u001b[0m\n\u001b[1;32m----> 1\u001b[0m c[\u001b[38;5;241m1\u001b[39m,:,:] \u001b[38;5;241m=\u001b[39m [[\u001b[38;5;241m4\u001b[39m,\u001b[38;5;241m5\u001b[39m,\u001b[38;5;241m6\u001b[39m],[\u001b[38;5;241m9\u001b[39m,\u001b[38;5;241m0\u001b[39m,\u001b[38;5;241m7\u001b[39m]]\n",
      "\u001b[1;31mValueError\u001b[0m: could not broadcast input array from shape (2,3) into shape (2,7)"
     ]
    }
   ],
   "source": [
    "c[1,:,:] = [[4,5,6],[9,0,7]]"
   ]
  },
  {
   "cell_type": "markdown",
   "id": "8590adf3",
   "metadata": {},
   "source": [
    "____________________________________________________________________________________________________________________________"
   ]
  },
  {
   "cell_type": "markdown",
   "id": "e6f17a87",
   "metadata": {},
   "source": [
    "## **Initializing Different Types Of Arrays**"
   ]
  },
  {
   "cell_type": "markdown",
   "id": "18b5f596",
   "metadata": {},
   "source": [
    "#### **Creating Arrays Filled Of Zeros**"
   ]
  },
  {
   "cell_type": "markdown",
   "id": "fcdcba3c",
   "metadata": {},
   "source": [
    "*You can easily create array filled with zero*"
   ]
  },
  {
   "cell_type": "markdown",
   "id": "6f163e2c",
   "metadata": {},
   "source": [
    "*.zeros() function take argument as int or tuple to specify shape and dimension of array of zeros, you can specify dtype of it*"
   ]
  },
  {
   "cell_type": "code",
   "execution_count": null,
   "id": "a73f3fe7",
   "metadata": {},
   "outputs": [
    {
     "data": {
      "text/plain": [
       "array([0., 0., 0., 0.])"
      ]
     },
     "execution_count": 83,
     "metadata": {},
     "output_type": "execute_result"
    }
   ],
   "source": [
    "np.zeros(4) # Array Of Zeros Created With 1 dimension of shape (4,)"
   ]
  },
  {
   "cell_type": "code",
   "execution_count": null,
   "id": "6c6f90d6",
   "metadata": {},
   "outputs": [
    {
     "data": {
      "text/plain": [
       "array([[0., 0., 0., 0., 0., 0.],\n",
       "       [0., 0., 0., 0., 0., 0.],\n",
       "       [0., 0., 0., 0., 0., 0.],\n",
       "       [0., 0., 0., 0., 0., 0.],\n",
       "       [0., 0., 0., 0., 0., 0.]])"
      ]
     },
     "execution_count": 84,
     "metadata": {},
     "output_type": "execute_result"
    }
   ],
   "source": [
    "np.zeros((5,6)) # Arrays Of Zeros Created with 2 dimension of shape (5,6)"
   ]
  },
  {
   "cell_type": "code",
   "execution_count": null,
   "id": "33649a26",
   "metadata": {},
   "outputs": [
    {
     "data": {
      "text/plain": [
       "array([[[0., 0., 0., 0., 0.],\n",
       "        [0., 0., 0., 0., 0.],\n",
       "        [0., 0., 0., 0., 0.],\n",
       "        [0., 0., 0., 0., 0.]],\n",
       "\n",
       "       [[0., 0., 0., 0., 0.],\n",
       "        [0., 0., 0., 0., 0.],\n",
       "        [0., 0., 0., 0., 0.],\n",
       "        [0., 0., 0., 0., 0.]]])"
      ]
     },
     "execution_count": 85,
     "metadata": {},
     "output_type": "execute_result"
    }
   ],
   "source": [
    "np.zeros((2,4,5)) # Arrays Of Zeros Created with 3 dimension of shape (2,4,5)"
   ]
  },
  {
   "cell_type": "code",
   "execution_count": null,
   "id": "dc4c7094",
   "metadata": {},
   "outputs": [
    {
     "data": {
      "text/plain": [
       "array([[[[[0., 0., 0.]],\n",
       "\n",
       "         [[0., 0., 0.]],\n",
       "\n",
       "         [[0., 0., 0.]],\n",
       "\n",
       "         [[0., 0., 0.]],\n",
       "\n",
       "         [[0., 0., 0.]]],\n",
       "\n",
       "\n",
       "        [[[0., 0., 0.]],\n",
       "\n",
       "         [[0., 0., 0.]],\n",
       "\n",
       "         [[0., 0., 0.]],\n",
       "\n",
       "         [[0., 0., 0.]],\n",
       "\n",
       "         [[0., 0., 0.]]],\n",
       "\n",
       "\n",
       "        [[[0., 0., 0.]],\n",
       "\n",
       "         [[0., 0., 0.]],\n",
       "\n",
       "         [[0., 0., 0.]],\n",
       "\n",
       "         [[0., 0., 0.]],\n",
       "\n",
       "         [[0., 0., 0.]]],\n",
       "\n",
       "\n",
       "        [[[0., 0., 0.]],\n",
       "\n",
       "         [[0., 0., 0.]],\n",
       "\n",
       "         [[0., 0., 0.]],\n",
       "\n",
       "         [[0., 0., 0.]],\n",
       "\n",
       "         [[0., 0., 0.]]],\n",
       "\n",
       "\n",
       "        [[[0., 0., 0.]],\n",
       "\n",
       "         [[0., 0., 0.]],\n",
       "\n",
       "         [[0., 0., 0.]],\n",
       "\n",
       "         [[0., 0., 0.]],\n",
       "\n",
       "         [[0., 0., 0.]]],\n",
       "\n",
       "\n",
       "        [[[0., 0., 0.]],\n",
       "\n",
       "         [[0., 0., 0.]],\n",
       "\n",
       "         [[0., 0., 0.]],\n",
       "\n",
       "         [[0., 0., 0.]],\n",
       "\n",
       "         [[0., 0., 0.]]],\n",
       "\n",
       "\n",
       "        [[[0., 0., 0.]],\n",
       "\n",
       "         [[0., 0., 0.]],\n",
       "\n",
       "         [[0., 0., 0.]],\n",
       "\n",
       "         [[0., 0., 0.]],\n",
       "\n",
       "         [[0., 0., 0.]]]],\n",
       "\n",
       "\n",
       "\n",
       "       [[[[0., 0., 0.]],\n",
       "\n",
       "         [[0., 0., 0.]],\n",
       "\n",
       "         [[0., 0., 0.]],\n",
       "\n",
       "         [[0., 0., 0.]],\n",
       "\n",
       "         [[0., 0., 0.]]],\n",
       "\n",
       "\n",
       "        [[[0., 0., 0.]],\n",
       "\n",
       "         [[0., 0., 0.]],\n",
       "\n",
       "         [[0., 0., 0.]],\n",
       "\n",
       "         [[0., 0., 0.]],\n",
       "\n",
       "         [[0., 0., 0.]]],\n",
       "\n",
       "\n",
       "        [[[0., 0., 0.]],\n",
       "\n",
       "         [[0., 0., 0.]],\n",
       "\n",
       "         [[0., 0., 0.]],\n",
       "\n",
       "         [[0., 0., 0.]],\n",
       "\n",
       "         [[0., 0., 0.]]],\n",
       "\n",
       "\n",
       "        [[[0., 0., 0.]],\n",
       "\n",
       "         [[0., 0., 0.]],\n",
       "\n",
       "         [[0., 0., 0.]],\n",
       "\n",
       "         [[0., 0., 0.]],\n",
       "\n",
       "         [[0., 0., 0.]]],\n",
       "\n",
       "\n",
       "        [[[0., 0., 0.]],\n",
       "\n",
       "         [[0., 0., 0.]],\n",
       "\n",
       "         [[0., 0., 0.]],\n",
       "\n",
       "         [[0., 0., 0.]],\n",
       "\n",
       "         [[0., 0., 0.]]],\n",
       "\n",
       "\n",
       "        [[[0., 0., 0.]],\n",
       "\n",
       "         [[0., 0., 0.]],\n",
       "\n",
       "         [[0., 0., 0.]],\n",
       "\n",
       "         [[0., 0., 0.]],\n",
       "\n",
       "         [[0., 0., 0.]]],\n",
       "\n",
       "\n",
       "        [[[0., 0., 0.]],\n",
       "\n",
       "         [[0., 0., 0.]],\n",
       "\n",
       "         [[0., 0., 0.]],\n",
       "\n",
       "         [[0., 0., 0.]],\n",
       "\n",
       "         [[0., 0., 0.]]]],\n",
       "\n",
       "\n",
       "\n",
       "       [[[[0., 0., 0.]],\n",
       "\n",
       "         [[0., 0., 0.]],\n",
       "\n",
       "         [[0., 0., 0.]],\n",
       "\n",
       "         [[0., 0., 0.]],\n",
       "\n",
       "         [[0., 0., 0.]]],\n",
       "\n",
       "\n",
       "        [[[0., 0., 0.]],\n",
       "\n",
       "         [[0., 0., 0.]],\n",
       "\n",
       "         [[0., 0., 0.]],\n",
       "\n",
       "         [[0., 0., 0.]],\n",
       "\n",
       "         [[0., 0., 0.]]],\n",
       "\n",
       "\n",
       "        [[[0., 0., 0.]],\n",
       "\n",
       "         [[0., 0., 0.]],\n",
       "\n",
       "         [[0., 0., 0.]],\n",
       "\n",
       "         [[0., 0., 0.]],\n",
       "\n",
       "         [[0., 0., 0.]]],\n",
       "\n",
       "\n",
       "        [[[0., 0., 0.]],\n",
       "\n",
       "         [[0., 0., 0.]],\n",
       "\n",
       "         [[0., 0., 0.]],\n",
       "\n",
       "         [[0., 0., 0.]],\n",
       "\n",
       "         [[0., 0., 0.]]],\n",
       "\n",
       "\n",
       "        [[[0., 0., 0.]],\n",
       "\n",
       "         [[0., 0., 0.]],\n",
       "\n",
       "         [[0., 0., 0.]],\n",
       "\n",
       "         [[0., 0., 0.]],\n",
       "\n",
       "         [[0., 0., 0.]]],\n",
       "\n",
       "\n",
       "        [[[0., 0., 0.]],\n",
       "\n",
       "         [[0., 0., 0.]],\n",
       "\n",
       "         [[0., 0., 0.]],\n",
       "\n",
       "         [[0., 0., 0.]],\n",
       "\n",
       "         [[0., 0., 0.]]],\n",
       "\n",
       "\n",
       "        [[[0., 0., 0.]],\n",
       "\n",
       "         [[0., 0., 0.]],\n",
       "\n",
       "         [[0., 0., 0.]],\n",
       "\n",
       "         [[0., 0., 0.]],\n",
       "\n",
       "         [[0., 0., 0.]]]],\n",
       "\n",
       "\n",
       "\n",
       "       [[[[0., 0., 0.]],\n",
       "\n",
       "         [[0., 0., 0.]],\n",
       "\n",
       "         [[0., 0., 0.]],\n",
       "\n",
       "         [[0., 0., 0.]],\n",
       "\n",
       "         [[0., 0., 0.]]],\n",
       "\n",
       "\n",
       "        [[[0., 0., 0.]],\n",
       "\n",
       "         [[0., 0., 0.]],\n",
       "\n",
       "         [[0., 0., 0.]],\n",
       "\n",
       "         [[0., 0., 0.]],\n",
       "\n",
       "         [[0., 0., 0.]]],\n",
       "\n",
       "\n",
       "        [[[0., 0., 0.]],\n",
       "\n",
       "         [[0., 0., 0.]],\n",
       "\n",
       "         [[0., 0., 0.]],\n",
       "\n",
       "         [[0., 0., 0.]],\n",
       "\n",
       "         [[0., 0., 0.]]],\n",
       "\n",
       "\n",
       "        [[[0., 0., 0.]],\n",
       "\n",
       "         [[0., 0., 0.]],\n",
       "\n",
       "         [[0., 0., 0.]],\n",
       "\n",
       "         [[0., 0., 0.]],\n",
       "\n",
       "         [[0., 0., 0.]]],\n",
       "\n",
       "\n",
       "        [[[0., 0., 0.]],\n",
       "\n",
       "         [[0., 0., 0.]],\n",
       "\n",
       "         [[0., 0., 0.]],\n",
       "\n",
       "         [[0., 0., 0.]],\n",
       "\n",
       "         [[0., 0., 0.]]],\n",
       "\n",
       "\n",
       "        [[[0., 0., 0.]],\n",
       "\n",
       "         [[0., 0., 0.]],\n",
       "\n",
       "         [[0., 0., 0.]],\n",
       "\n",
       "         [[0., 0., 0.]],\n",
       "\n",
       "         [[0., 0., 0.]]],\n",
       "\n",
       "\n",
       "        [[[0., 0., 0.]],\n",
       "\n",
       "         [[0., 0., 0.]],\n",
       "\n",
       "         [[0., 0., 0.]],\n",
       "\n",
       "         [[0., 0., 0.]],\n",
       "\n",
       "         [[0., 0., 0.]]]],\n",
       "\n",
       "\n",
       "\n",
       "       [[[[0., 0., 0.]],\n",
       "\n",
       "         [[0., 0., 0.]],\n",
       "\n",
       "         [[0., 0., 0.]],\n",
       "\n",
       "         [[0., 0., 0.]],\n",
       "\n",
       "         [[0., 0., 0.]]],\n",
       "\n",
       "\n",
       "        [[[0., 0., 0.]],\n",
       "\n",
       "         [[0., 0., 0.]],\n",
       "\n",
       "         [[0., 0., 0.]],\n",
       "\n",
       "         [[0., 0., 0.]],\n",
       "\n",
       "         [[0., 0., 0.]]],\n",
       "\n",
       "\n",
       "        [[[0., 0., 0.]],\n",
       "\n",
       "         [[0., 0., 0.]],\n",
       "\n",
       "         [[0., 0., 0.]],\n",
       "\n",
       "         [[0., 0., 0.]],\n",
       "\n",
       "         [[0., 0., 0.]]],\n",
       "\n",
       "\n",
       "        [[[0., 0., 0.]],\n",
       "\n",
       "         [[0., 0., 0.]],\n",
       "\n",
       "         [[0., 0., 0.]],\n",
       "\n",
       "         [[0., 0., 0.]],\n",
       "\n",
       "         [[0., 0., 0.]]],\n",
       "\n",
       "\n",
       "        [[[0., 0., 0.]],\n",
       "\n",
       "         [[0., 0., 0.]],\n",
       "\n",
       "         [[0., 0., 0.]],\n",
       "\n",
       "         [[0., 0., 0.]],\n",
       "\n",
       "         [[0., 0., 0.]]],\n",
       "\n",
       "\n",
       "        [[[0., 0., 0.]],\n",
       "\n",
       "         [[0., 0., 0.]],\n",
       "\n",
       "         [[0., 0., 0.]],\n",
       "\n",
       "         [[0., 0., 0.]],\n",
       "\n",
       "         [[0., 0., 0.]]],\n",
       "\n",
       "\n",
       "        [[[0., 0., 0.]],\n",
       "\n",
       "         [[0., 0., 0.]],\n",
       "\n",
       "         [[0., 0., 0.]],\n",
       "\n",
       "         [[0., 0., 0.]],\n",
       "\n",
       "         [[0., 0., 0.]]]],\n",
       "\n",
       "\n",
       "\n",
       "       [[[[0., 0., 0.]],\n",
       "\n",
       "         [[0., 0., 0.]],\n",
       "\n",
       "         [[0., 0., 0.]],\n",
       "\n",
       "         [[0., 0., 0.]],\n",
       "\n",
       "         [[0., 0., 0.]]],\n",
       "\n",
       "\n",
       "        [[[0., 0., 0.]],\n",
       "\n",
       "         [[0., 0., 0.]],\n",
       "\n",
       "         [[0., 0., 0.]],\n",
       "\n",
       "         [[0., 0., 0.]],\n",
       "\n",
       "         [[0., 0., 0.]]],\n",
       "\n",
       "\n",
       "        [[[0., 0., 0.]],\n",
       "\n",
       "         [[0., 0., 0.]],\n",
       "\n",
       "         [[0., 0., 0.]],\n",
       "\n",
       "         [[0., 0., 0.]],\n",
       "\n",
       "         [[0., 0., 0.]]],\n",
       "\n",
       "\n",
       "        [[[0., 0., 0.]],\n",
       "\n",
       "         [[0., 0., 0.]],\n",
       "\n",
       "         [[0., 0., 0.]],\n",
       "\n",
       "         [[0., 0., 0.]],\n",
       "\n",
       "         [[0., 0., 0.]]],\n",
       "\n",
       "\n",
       "        [[[0., 0., 0.]],\n",
       "\n",
       "         [[0., 0., 0.]],\n",
       "\n",
       "         [[0., 0., 0.]],\n",
       "\n",
       "         [[0., 0., 0.]],\n",
       "\n",
       "         [[0., 0., 0.]]],\n",
       "\n",
       "\n",
       "        [[[0., 0., 0.]],\n",
       "\n",
       "         [[0., 0., 0.]],\n",
       "\n",
       "         [[0., 0., 0.]],\n",
       "\n",
       "         [[0., 0., 0.]],\n",
       "\n",
       "         [[0., 0., 0.]]],\n",
       "\n",
       "\n",
       "        [[[0., 0., 0.]],\n",
       "\n",
       "         [[0., 0., 0.]],\n",
       "\n",
       "         [[0., 0., 0.]],\n",
       "\n",
       "         [[0., 0., 0.]],\n",
       "\n",
       "         [[0., 0., 0.]]]]])"
      ]
     },
     "execution_count": 86,
     "metadata": {},
     "output_type": "execute_result"
    }
   ],
   "source": [
    "np.zeros((6,7,5,1,3)) # Arrays Of Zeros Created with n-dimension (here 5) of shape (6,7,5,1,3)"
   ]
  },
  {
   "cell_type": "markdown",
   "id": "a7aaaeef",
   "metadata": {},
   "source": [
    "*We Can Also Create Array Of Zeros Using Shape of exgisting Array using .zeros_like() function*"
   ]
  },
  {
   "cell_type": "code",
   "execution_count": null,
   "id": "0607c54d",
   "metadata": {},
   "outputs": [
    {
     "data": {
      "text/plain": [
       "array([[[0, 0, 0, 0, 0, 0, 0],\n",
       "        [0, 0, 0, 0, 0, 0, 0]],\n",
       "\n",
       "       [[0, 0, 0, 0, 0, 0, 0],\n",
       "        [0, 0, 0, 0, 0, 0, 0]]])"
      ]
     },
     "execution_count": 87,
     "metadata": {},
     "output_type": "execute_result"
    }
   ],
   "source": [
    "np.zeros_like(c)"
   ]
  },
  {
   "cell_type": "markdown",
   "id": "7d8af312",
   "metadata": {},
   "source": [
    "___________________________________________________________________________________________________________________________________________________"
   ]
  },
  {
   "cell_type": "markdown",
   "id": "58ad9835",
   "metadata": {},
   "source": [
    "#### **Creating Arrays Filled Of Ones**"
   ]
  },
  {
   "cell_type": "markdown",
   "id": "6ac95693",
   "metadata": {},
   "source": [
    "*You can create array filled with ones* "
   ]
  },
  {
   "cell_type": "markdown",
   "id": "97d3e7a8",
   "metadata": {},
   "source": [
    "*.ones() function takes same argument as int or tuple to specify shape and dimension of array*"
   ]
  },
  {
   "cell_type": "code",
   "execution_count": null,
   "id": "3cf54c2c",
   "metadata": {},
   "outputs": [
    {
     "data": {
      "text/plain": [
       "array([[1., 1., 1., 1., 1., 1., 1., 1., 1.],\n",
       "       [1., 1., 1., 1., 1., 1., 1., 1., 1.],\n",
       "       [1., 1., 1., 1., 1., 1., 1., 1., 1.],\n",
       "       [1., 1., 1., 1., 1., 1., 1., 1., 1.],\n",
       "       [1., 1., 1., 1., 1., 1., 1., 1., 1.],\n",
       "       [1., 1., 1., 1., 1., 1., 1., 1., 1.],\n",
       "       [1., 1., 1., 1., 1., 1., 1., 1., 1.],\n",
       "       [1., 1., 1., 1., 1., 1., 1., 1., 1.]])"
      ]
     },
     "execution_count": 88,
     "metadata": {},
     "output_type": "execute_result"
    }
   ],
   "source": [
    "# All 1's Matrix\n",
    "np.ones((8,9))"
   ]
  },
  {
   "cell_type": "code",
   "execution_count": null,
   "id": "c5017768",
   "metadata": {},
   "outputs": [
    {
     "data": {
      "text/plain": [
       "array([[[[1, 1, 1, 1],\n",
       "         [1, 1, 1, 1],\n",
       "         [1, 1, 1, 1],\n",
       "         [1, 1, 1, 1],\n",
       "         [1, 1, 1, 1]],\n",
       "\n",
       "        [[1, 1, 1, 1],\n",
       "         [1, 1, 1, 1],\n",
       "         [1, 1, 1, 1],\n",
       "         [1, 1, 1, 1],\n",
       "         [1, 1, 1, 1]],\n",
       "\n",
       "        [[1, 1, 1, 1],\n",
       "         [1, 1, 1, 1],\n",
       "         [1, 1, 1, 1],\n",
       "         [1, 1, 1, 1],\n",
       "         [1, 1, 1, 1]],\n",
       "\n",
       "        ...,\n",
       "\n",
       "        [[1, 1, 1, 1],\n",
       "         [1, 1, 1, 1],\n",
       "         [1, 1, 1, 1],\n",
       "         [1, 1, 1, 1],\n",
       "         [1, 1, 1, 1]],\n",
       "\n",
       "        [[1, 1, 1, 1],\n",
       "         [1, 1, 1, 1],\n",
       "         [1, 1, 1, 1],\n",
       "         [1, 1, 1, 1],\n",
       "         [1, 1, 1, 1]],\n",
       "\n",
       "        [[1, 1, 1, 1],\n",
       "         [1, 1, 1, 1],\n",
       "         [1, 1, 1, 1],\n",
       "         [1, 1, 1, 1],\n",
       "         [1, 1, 1, 1]]],\n",
       "\n",
       "\n",
       "       [[[1, 1, 1, 1],\n",
       "         [1, 1, 1, 1],\n",
       "         [1, 1, 1, 1],\n",
       "         [1, 1, 1, 1],\n",
       "         [1, 1, 1, 1]],\n",
       "\n",
       "        [[1, 1, 1, 1],\n",
       "         [1, 1, 1, 1],\n",
       "         [1, 1, 1, 1],\n",
       "         [1, 1, 1, 1],\n",
       "         [1, 1, 1, 1]],\n",
       "\n",
       "        [[1, 1, 1, 1],\n",
       "         [1, 1, 1, 1],\n",
       "         [1, 1, 1, 1],\n",
       "         [1, 1, 1, 1],\n",
       "         [1, 1, 1, 1]],\n",
       "\n",
       "        ...,\n",
       "\n",
       "        [[1, 1, 1, 1],\n",
       "         [1, 1, 1, 1],\n",
       "         [1, 1, 1, 1],\n",
       "         [1, 1, 1, 1],\n",
       "         [1, 1, 1, 1]],\n",
       "\n",
       "        [[1, 1, 1, 1],\n",
       "         [1, 1, 1, 1],\n",
       "         [1, 1, 1, 1],\n",
       "         [1, 1, 1, 1],\n",
       "         [1, 1, 1, 1]],\n",
       "\n",
       "        [[1, 1, 1, 1],\n",
       "         [1, 1, 1, 1],\n",
       "         [1, 1, 1, 1],\n",
       "         [1, 1, 1, 1],\n",
       "         [1, 1, 1, 1]]],\n",
       "\n",
       "\n",
       "       [[[1, 1, 1, 1],\n",
       "         [1, 1, 1, 1],\n",
       "         [1, 1, 1, 1],\n",
       "         [1, 1, 1, 1],\n",
       "         [1, 1, 1, 1]],\n",
       "\n",
       "        [[1, 1, 1, 1],\n",
       "         [1, 1, 1, 1],\n",
       "         [1, 1, 1, 1],\n",
       "         [1, 1, 1, 1],\n",
       "         [1, 1, 1, 1]],\n",
       "\n",
       "        [[1, 1, 1, 1],\n",
       "         [1, 1, 1, 1],\n",
       "         [1, 1, 1, 1],\n",
       "         [1, 1, 1, 1],\n",
       "         [1, 1, 1, 1]],\n",
       "\n",
       "        ...,\n",
       "\n",
       "        [[1, 1, 1, 1],\n",
       "         [1, 1, 1, 1],\n",
       "         [1, 1, 1, 1],\n",
       "         [1, 1, 1, 1],\n",
       "         [1, 1, 1, 1]],\n",
       "\n",
       "        [[1, 1, 1, 1],\n",
       "         [1, 1, 1, 1],\n",
       "         [1, 1, 1, 1],\n",
       "         [1, 1, 1, 1],\n",
       "         [1, 1, 1, 1]],\n",
       "\n",
       "        [[1, 1, 1, 1],\n",
       "         [1, 1, 1, 1],\n",
       "         [1, 1, 1, 1],\n",
       "         [1, 1, 1, 1],\n",
       "         [1, 1, 1, 1]]],\n",
       "\n",
       "\n",
       "       ...,\n",
       "\n",
       "\n",
       "       [[[1, 1, 1, 1],\n",
       "         [1, 1, 1, 1],\n",
       "         [1, 1, 1, 1],\n",
       "         [1, 1, 1, 1],\n",
       "         [1, 1, 1, 1]],\n",
       "\n",
       "        [[1, 1, 1, 1],\n",
       "         [1, 1, 1, 1],\n",
       "         [1, 1, 1, 1],\n",
       "         [1, 1, 1, 1],\n",
       "         [1, 1, 1, 1]],\n",
       "\n",
       "        [[1, 1, 1, 1],\n",
       "         [1, 1, 1, 1],\n",
       "         [1, 1, 1, 1],\n",
       "         [1, 1, 1, 1],\n",
       "         [1, 1, 1, 1]],\n",
       "\n",
       "        ...,\n",
       "\n",
       "        [[1, 1, 1, 1],\n",
       "         [1, 1, 1, 1],\n",
       "         [1, 1, 1, 1],\n",
       "         [1, 1, 1, 1],\n",
       "         [1, 1, 1, 1]],\n",
       "\n",
       "        [[1, 1, 1, 1],\n",
       "         [1, 1, 1, 1],\n",
       "         [1, 1, 1, 1],\n",
       "         [1, 1, 1, 1],\n",
       "         [1, 1, 1, 1]],\n",
       "\n",
       "        [[1, 1, 1, 1],\n",
       "         [1, 1, 1, 1],\n",
       "         [1, 1, 1, 1],\n",
       "         [1, 1, 1, 1],\n",
       "         [1, 1, 1, 1]]],\n",
       "\n",
       "\n",
       "       [[[1, 1, 1, 1],\n",
       "         [1, 1, 1, 1],\n",
       "         [1, 1, 1, 1],\n",
       "         [1, 1, 1, 1],\n",
       "         [1, 1, 1, 1]],\n",
       "\n",
       "        [[1, 1, 1, 1],\n",
       "         [1, 1, 1, 1],\n",
       "         [1, 1, 1, 1],\n",
       "         [1, 1, 1, 1],\n",
       "         [1, 1, 1, 1]],\n",
       "\n",
       "        [[1, 1, 1, 1],\n",
       "         [1, 1, 1, 1],\n",
       "         [1, 1, 1, 1],\n",
       "         [1, 1, 1, 1],\n",
       "         [1, 1, 1, 1]],\n",
       "\n",
       "        ...,\n",
       "\n",
       "        [[1, 1, 1, 1],\n",
       "         [1, 1, 1, 1],\n",
       "         [1, 1, 1, 1],\n",
       "         [1, 1, 1, 1],\n",
       "         [1, 1, 1, 1]],\n",
       "\n",
       "        [[1, 1, 1, 1],\n",
       "         [1, 1, 1, 1],\n",
       "         [1, 1, 1, 1],\n",
       "         [1, 1, 1, 1],\n",
       "         [1, 1, 1, 1]],\n",
       "\n",
       "        [[1, 1, 1, 1],\n",
       "         [1, 1, 1, 1],\n",
       "         [1, 1, 1, 1],\n",
       "         [1, 1, 1, 1],\n",
       "         [1, 1, 1, 1]]],\n",
       "\n",
       "\n",
       "       [[[1, 1, 1, 1],\n",
       "         [1, 1, 1, 1],\n",
       "         [1, 1, 1, 1],\n",
       "         [1, 1, 1, 1],\n",
       "         [1, 1, 1, 1]],\n",
       "\n",
       "        [[1, 1, 1, 1],\n",
       "         [1, 1, 1, 1],\n",
       "         [1, 1, 1, 1],\n",
       "         [1, 1, 1, 1],\n",
       "         [1, 1, 1, 1]],\n",
       "\n",
       "        [[1, 1, 1, 1],\n",
       "         [1, 1, 1, 1],\n",
       "         [1, 1, 1, 1],\n",
       "         [1, 1, 1, 1],\n",
       "         [1, 1, 1, 1]],\n",
       "\n",
       "        ...,\n",
       "\n",
       "        [[1, 1, 1, 1],\n",
       "         [1, 1, 1, 1],\n",
       "         [1, 1, 1, 1],\n",
       "         [1, 1, 1, 1],\n",
       "         [1, 1, 1, 1]],\n",
       "\n",
       "        [[1, 1, 1, 1],\n",
       "         [1, 1, 1, 1],\n",
       "         [1, 1, 1, 1],\n",
       "         [1, 1, 1, 1],\n",
       "         [1, 1, 1, 1]],\n",
       "\n",
       "        [[1, 1, 1, 1],\n",
       "         [1, 1, 1, 1],\n",
       "         [1, 1, 1, 1],\n",
       "         [1, 1, 1, 1],\n",
       "         [1, 1, 1, 1]]]], dtype=int16)"
      ]
     },
     "execution_count": 89,
     "metadata": {},
     "output_type": "execute_result"
    }
   ],
   "source": [
    "np.ones((7,8,5,4),dtype = 'int16') # Ones Array Is Created With Shape Of (7,8,5,4) with specified datatype ('int16)"
   ]
  },
  {
   "cell_type": "markdown",
   "id": "c7d1d6c2",
   "metadata": {},
   "source": [
    "*We Can Also Create Array Of Ones Using Shape of exgisting Array using .ones_like() function*"
   ]
  },
  {
   "cell_type": "code",
   "execution_count": null,
   "id": "58fcb48f",
   "metadata": {},
   "outputs": [
    {
     "data": {
      "text/plain": [
       "array([[[1, 1, 1, 1, 1, 1, 1],\n",
       "        [1, 1, 1, 1, 1, 1, 1]],\n",
       "\n",
       "       [[1, 1, 1, 1, 1, 1, 1],\n",
       "        [1, 1, 1, 1, 1, 1, 1]]])"
      ]
     },
     "execution_count": 90,
     "metadata": {},
     "output_type": "execute_result"
    }
   ],
   "source": [
    "np.ones_like(c) # Creating Array Of Ones Using shape of existing array"
   ]
  },
  {
   "cell_type": "markdown",
   "id": "c6de78f4",
   "metadata": {},
   "source": [
    "___________________________________________________________________________________________________________________________________________________"
   ]
  },
  {
   "cell_type": "markdown",
   "id": "0bebc6e9",
   "metadata": {},
   "source": [
    "#### **Creating Arrays Filled Of Any Number**"
   ]
  },
  {
   "cell_type": "markdown",
   "id": "b2a33cf6",
   "metadata": {},
   "source": [
    "*.full() function takes two argument primarily one is shape and dimension , another is for element you want to fill in it*"
   ]
  },
  {
   "cell_type": "code",
   "execution_count": null,
   "id": "0e9d4573",
   "metadata": {},
   "outputs": [
    {
     "data": {
      "text/plain": [
       "array([[3, 3, 3, 3],\n",
       "       [3, 3, 3, 3],\n",
       "       [3, 3, 3, 3]])"
      ]
     },
     "execution_count": 91,
     "metadata": {},
     "output_type": "execute_result"
    }
   ],
   "source": [
    "# All Xs Matrix\n",
    "X = 3\n",
    "np.full((3,4),X)\n",
    "# Again Here You Can Change dtype of matrix "
   ]
  },
  {
   "cell_type": "markdown",
   "id": "f378a60f",
   "metadata": {},
   "source": [
    "*We Can Also Create Array of any number Using Shape of existing Array using .full_like() function*"
   ]
  },
  {
   "cell_type": "code",
   "execution_count": null,
   "id": "2fa111f5",
   "metadata": {},
   "outputs": [
    {
     "data": {
      "text/plain": [
       "array([[2, 2, 2, 2, 2, 2, 2],\n",
       "       [2, 2, 2, 2, 2, 2, 2]])"
      ]
     },
     "execution_count": 92,
     "metadata": {},
     "output_type": "execute_result"
    }
   ],
   "source": [
    "np.full_like(a,2) # Creating Array Of Given Number Of Size Of Some Existing Array"
   ]
  },
  {
   "cell_type": "code",
   "execution_count": null,
   "id": "b5b64682",
   "metadata": {},
   "outputs": [
    {
     "data": {
      "text/plain": [
       "array([[2, 2, 2, 2, 2, 2, 2],\n",
       "       [2, 2, 2, 2, 2, 2, 2]])"
      ]
     },
     "execution_count": 93,
     "metadata": {},
     "output_type": "execute_result"
    }
   ],
   "source": [
    "np.full(a.shape,2) # You Can Also Use a.shape as shape for defining shape of array of any number in .full() function"
   ]
  },
  {
   "cell_type": "markdown",
   "id": "7bd2b298",
   "metadata": {},
   "source": [
    "___________________________________________________________________________________________________________________________________________________"
   ]
  },
  {
   "cell_type": "markdown",
   "id": "20ec2797",
   "metadata": {},
   "source": [
    "### **Creating Array Of Random Number**"
   ]
  },
  {
   "cell_type": "markdown",
   "id": "257bf15b",
   "metadata": {},
   "source": [
    "*Random Is A Class In Numpy which has multiple function , in which rand comes*"
   ]
  },
  {
   "cell_type": "markdown",
   "id": "c197886e",
   "metadata": {},
   "source": [
    "*.random.rand() function gives array with random number with specific shape*"
   ]
  },
  {
   "cell_type": "markdown",
   "id": "ed488f7a",
   "metadata": {},
   "source": [
    ".random.rand() function takes integers as length of dimension "
   ]
  },
  {
   "cell_type": "code",
   "execution_count": null,
   "id": "a7cd8647",
   "metadata": {},
   "outputs": [
    {
     "data": {
      "text/plain": [
       "array([[0.28036439, 0.02016625],\n",
       "       [0.60362524, 0.60840867],\n",
       "       [0.02630436, 0.41398317],\n",
       "       [0.28741108, 0.26848553]])"
      ]
     },
     "execution_count": 94,
     "metadata": {},
     "output_type": "execute_result"
    }
   ],
   "source": [
    "np.random.rand(4,2) # Array of random number between (0,1) "
   ]
  },
  {
   "cell_type": "markdown",
   "id": "765c381d",
   "metadata": {},
   "source": [
    "np.random.rand() function always generate numbers between 0,1 "
   ]
  },
  {
   "cell_type": "markdown",
   "id": "fb54fe47",
   "metadata": {},
   "source": [
    "##### **Creating Array Using Shape Of Exisiting Array**"
   ]
  },
  {
   "cell_type": "markdown",
   "id": "d1ecd262",
   "metadata": {},
   "source": [
    "*.random.random_sample() function is used to make a array of random number of shape of existing array*"
   ]
  },
  {
   "cell_type": "code",
   "execution_count": null,
   "id": "73f449dc",
   "metadata": {},
   "outputs": [
    {
     "data": {
      "text/plain": [
       "array([[0.22060663, 0.61859513, 0.33787663, 0.1774333 , 0.15274366,\n",
       "        0.3227406 , 0.32575366],\n",
       "       [0.47988897, 0.89831355, 0.99477931, 0.43747586, 0.75030528,\n",
       "        0.56231408, 0.72268226]])"
      ]
     },
     "execution_count": 95,
     "metadata": {},
     "output_type": "execute_result"
    }
   ],
   "source": [
    "np.random.random_sample(a.shape) # Creating Array with random number using shape of an existing array"
   ]
  },
  {
   "cell_type": "markdown",
   "id": "45fdc1aa",
   "metadata": {},
   "source": [
    "*.random.randint() function is used to create array of random integers*"
   ]
  },
  {
   "cell_type": "markdown",
   "id": "e4a6d7ce",
   "metadata": {},
   "source": [
    "*Syntax:-*<br>\n",
    "*np.random.randint(start_point,end_point,size=(shape))*"
   ]
  },
  {
   "cell_type": "markdown",
   "id": "b5eaf463",
   "metadata": {},
   "source": [
    "*Here start_point and endpoint will guild function to generate value in between this two points and size defines shape of random array*"
   ]
  },
  {
   "cell_type": "code",
   "execution_count": null,
   "id": "f394d6e1",
   "metadata": {},
   "outputs": [
    {
     "data": {
      "text/plain": [
       "array([[8, 6, 4, 6, 5],\n",
       "       [4, 8, 6, 7, 8],\n",
       "       [7, 4, 4, 5, 5],\n",
       "       [6, 4, 4, 8, 5]])"
      ]
     },
     "execution_count": 96,
     "metadata": {},
     "output_type": "execute_result"
    }
   ],
   "source": [
    "np.random.randint(4,9, size = (4,5)) # Creating Arrays Of Random Integers "
   ]
  },
  {
   "cell_type": "markdown",
   "id": "1c177dfb",
   "metadata": {},
   "source": [
    "___________________________________________________________________________________________________________________________________________________"
   ]
  },
  {
   "cell_type": "markdown",
   "id": "94a5717b",
   "metadata": {},
   "source": [
    "##### **Initializing Identity Matrix Using .identity() and .eye()**"
   ]
  },
  {
   "cell_type": "markdown",
   "id": "ed4be1bc",
   "metadata": {},
   "source": [
    "*You can create identity matrix using .identity() function*"
   ]
  },
  {
   "cell_type": "markdown",
   "id": "dc670bcb",
   "metadata": {},
   "source": [
    "*.identity() function has only one argument which specifies length of both sides of sqaure identity matrix*"
   ]
  },
  {
   "cell_type": "code",
   "execution_count": null,
   "id": "41f91bd8",
   "metadata": {},
   "outputs": [
    {
     "data": {
      "text/plain": [
       "array([[1., 0., 0., 0., 0.],\n",
       "       [0., 1., 0., 0., 0.],\n",
       "       [0., 0., 1., 0., 0.],\n",
       "       [0., 0., 0., 1., 0.],\n",
       "       [0., 0., 0., 0., 1.]])"
      ]
     },
     "execution_count": 97,
     "metadata": {},
     "output_type": "execute_result"
    }
   ],
   "source": [
    "#Identity Matrix\n",
    "np.identity(5)"
   ]
  },
  {
   "cell_type": "markdown",
   "id": "54663dd4",
   "metadata": {},
   "source": [
    "*You Can Create Matrix Similar to identity but not a square matrix using .eye() function*"
   ]
  },
  {
   "cell_type": "code",
   "execution_count": null,
   "id": "123b97dd",
   "metadata": {},
   "outputs": [
    {
     "data": {
      "text/plain": [
       "array([[1., 0., 0., 0.],\n",
       "       [0., 1., 0., 0.],\n",
       "       [0., 0., 1., 0.]])"
      ]
     },
     "execution_count": 98,
     "metadata": {},
     "output_type": "execute_result"
    }
   ],
   "source": [
    "np.eye(3,4,k=0) # Creating Array using .eye() function "
   ]
  },
  {
   "cell_type": "markdown",
   "id": "e00ddd5a",
   "metadata": {},
   "source": [
    "##### **Syntax :-  np.eye(rows,column,k=[integers])**"
   ]
  },
  {
   "cell_type": "markdown",
   "id": "80f2e166",
   "metadata": {},
   "source": [
    "**Here k is used to set position of diagonally placed 1's in matrix , negative value of k tends to pulls element down and positive value pulls up**"
   ]
  },
  {
   "cell_type": "code",
   "execution_count": null,
   "id": "cdeb0f2e",
   "metadata": {},
   "outputs": [
    {
     "data": {
      "text/plain": [
       "array([[0., 1., 0., 0.],\n",
       "       [0., 0., 1., 0.],\n",
       "       [0., 0., 0., 1.]])"
      ]
     },
     "execution_count": 99,
     "metadata": {},
     "output_type": "execute_result"
    }
   ],
   "source": [
    "# Examples\n",
    "np.eye(3,4,k=1)"
   ]
  },
  {
   "cell_type": "code",
   "execution_count": null,
   "id": "12b5a351",
   "metadata": {},
   "outputs": [
    {
     "data": {
      "text/plain": [
       "array([[0., 0., 0., 0.],\n",
       "       [1., 0., 0., 0.],\n",
       "       [0., 1., 0., 0.]])"
      ]
     },
     "execution_count": 100,
     "metadata": {},
     "output_type": "execute_result"
    }
   ],
   "source": [
    "np.eye(3,4,k=-1)"
   ]
  },
  {
   "cell_type": "code",
   "execution_count": null,
   "id": "fe0b17ed",
   "metadata": {},
   "outputs": [
    {
     "data": {
      "text/plain": [
       "array([[1., 0., 0., 0.],\n",
       "       [0., 1., 0., 0.],\n",
       "       [0., 0., 1., 0.]])"
      ]
     },
     "execution_count": 101,
     "metadata": {},
     "output_type": "execute_result"
    }
   ],
   "source": [
    "np.eye(3,4,k=0)"
   ]
  },
  {
   "cell_type": "markdown",
   "id": "a423449a",
   "metadata": {},
   "source": [
    "___________________________________________________________________________________________________________________________________________________"
   ]
  },
  {
   "cell_type": "markdown",
   "id": "4141f880",
   "metadata": {},
   "source": [
    "#### **Repeat Function**"
   ]
  },
  {
   "cell_type": "markdown",
   "id": "03d5f5b8",
   "metadata": {},
   "source": [
    "*.repeat() function is used repeat an existing or same array to get a new array*"
   ]
  },
  {
   "cell_type": "markdown",
   "id": "f91394b9",
   "metadata": {},
   "source": [
    "***Note:-repeat() function repeats all the element of array along specified axis***"
   ]
  },
  {
   "cell_type": "code",
   "execution_count": null,
   "id": "51c64d9c",
   "metadata": {},
   "outputs": [
    {
     "name": "stdout",
     "output_type": "stream",
     "text": [
      "[[1 2 3]\n",
      " [1 2 3]\n",
      " [1 2 3]]\n"
     ]
    }
   ],
   "source": [
    "arr = np.array([[1,2,3]])\n",
    "r1 = np.repeat(arr,3,axis = 0) # This Function take three argument one for which array is used \n",
    "# second for how many times and third for on which axis should i move to print\n",
    "print(r1)"
   ]
  },
  {
   "cell_type": "code",
   "execution_count": null,
   "id": "8f81f7aa",
   "metadata": {},
   "outputs": [
    {
     "name": "stdout",
     "output_type": "stream",
     "text": [
      "[[2 2 2 2 2 3 3 3 3 3 4 4 4 4 4]]\n"
     ]
    }
   ],
   "source": [
    "arr = np.array([[2,3,4]])\n",
    "r2 = np.repeat(arr,5,axis=1) # this function duplicate every element of arr and print by repeating one element at a time then next\n",
    "print(r2)"
   ]
  },
  {
   "cell_type": "markdown",
   "id": "63af4d07",
   "metadata": {},
   "source": [
    "#### **Tile Function**"
   ]
  },
  {
   "cell_type": "markdown",
   "id": "fd94c3ff",
   "metadata": {},
   "source": [
    "Construct an Array by repeacting original array by number of times using .tile() function "
   ]
  },
  {
   "cell_type": "markdown",
   "id": "a8ed6677",
   "metadata": {},
   "source": [
    "it has two argument one is array which will get repeated and another is how many times it will repeat"
   ]
  },
  {
   "cell_type": "code",
   "execution_count": null,
   "id": "5a9bc09f",
   "metadata": {},
   "outputs": [
    {
     "data": {
      "text/plain": [
       "array([0, 1, 2, 3, 4, 5, 6, 7, 8, 9, 0, 1, 2, 3, 4, 5, 6, 7, 8, 9, 0, 1,\n",
       "       2, 3, 4, 5, 6, 7, 8, 9, 0, 1, 2, 3, 4, 5, 6, 7, 8, 9])"
      ]
     },
     "execution_count": 47,
     "metadata": {},
     "output_type": "execute_result"
    }
   ],
   "source": [
    "a = np.arange(10)\n",
    "a\n",
    "np.tile(a,4)  # Generates New Array By Using Old Array As Placed In one row\n"
   ]
  },
  {
   "cell_type": "markdown",
   "id": "8c4deb40",
   "metadata": {},
   "source": [
    "**Note:- .repeat() and .tile() are different in terms of element and whole array repeatition<br>\n",
    "         .repeat() allows to repeat elements of array where it traverse every element of array<br>\n",
    "         .tile() allows to repeat whole array where it only repeat and print original whole array with changing array elements**"
   ]
  },
  {
   "cell_type": "markdown",
   "id": "222736ca",
   "metadata": {},
   "source": [
    "____________________________________________________________________________________________________________________________"
   ]
  },
  {
   "cell_type": "markdown",
   "id": "ec123d83",
   "metadata": {},
   "source": [
    "## **Mathematics Using Numpy**"
   ]
  },
  {
   "cell_type": "code",
   "execution_count": null,
   "id": "2f86621b",
   "metadata": {},
   "outputs": [
    {
     "name": "stdout",
     "output_type": "stream",
     "text": [
      "[1 2 3 4]\n"
     ]
    }
   ],
   "source": [
    "a = np.array([1,2,3,4]) # Creating Array For Operation\n",
    "print(a)"
   ]
  },
  {
   "cell_type": "markdown",
   "id": "33f890ff",
   "metadata": {},
   "source": [
    "##### ***Addition On Numpy Array***"
   ]
  },
  {
   "cell_type": "code",
   "execution_count": null,
   "id": "9911c9ef",
   "metadata": {},
   "outputs": [
    {
     "data": {
      "text/plain": [
       "array([3, 4, 5, 6])"
      ]
     },
     "execution_count": 53,
     "metadata": {},
     "output_type": "execute_result"
    }
   ],
   "source": [
    "# Addition using + operator\n",
    "# Array + Scalar\n",
    "a + 2 # Only View no change in original array"
   ]
  },
  {
   "cell_type": "markdown",
   "id": "49f2dfbf",
   "metadata": {},
   "source": [
    "*Adding a scalar to a array result into adding that scalar to every element of array's element*"
   ]
  },
  {
   "cell_type": "code",
   "execution_count": null,
   "id": "5be04063",
   "metadata": {},
   "outputs": [
    {
     "name": "stdout",
     "output_type": "stream",
     "text": [
      "a = [1 2 3 4]\n",
      "b = [1 0 1 0]\n",
      "Concatinating Two Different Array of same shape\n",
      "a+b = [2 2 4 4]\n"
     ]
    }
   ],
   "source": [
    "# Array + Array\n",
    "print(\"a =\",a)\n",
    "b=np.array([1,0,1,0])\n",
    "print(\"b =\",b)\n",
    "print(\"Concatinating Two Different Array of same shape\")\n",
    "print(\"a+b =\",a+b) # New Array Is Created"
   ]
  },
  {
   "cell_type": "markdown",
   "id": "95ce5db6",
   "metadata": {},
   "source": [
    "*Addition two array using + result into adding element of first array to element of corresponding index in second array*"
   ]
  },
  {
   "cell_type": "code",
   "execution_count": null,
   "id": "8b8bcb50",
   "metadata": {},
   "outputs": [
    {
     "data": {
      "text/plain": [
       "array([5, 6, 7, 8])"
      ]
     },
     "execution_count": 55,
     "metadata": {},
     "output_type": "execute_result"
    }
   ],
   "source": [
    "# Addition using np.add() function\n",
    "np.add(a,4)"
   ]
  },
  {
   "cell_type": "code",
   "execution_count": null,
   "id": "9d899013",
   "metadata": {},
   "outputs": [
    {
     "data": {
      "text/plain": [
       "array([2, 4, 6, 8])"
      ]
     },
     "execution_count": 56,
     "metadata": {},
     "output_type": "execute_result"
    }
   ],
   "source": [
    "np.add(a,a) "
   ]
  },
  {
   "cell_type": "markdown",
   "id": "0f42f797",
   "metadata": {},
   "source": [
    "*np.add() function requires two argument ,they can be two array , two integers , one array one integer*"
   ]
  },
  {
   "cell_type": "markdown",
   "id": "5d7a54f3",
   "metadata": {},
   "source": [
    "##### ***Subracting On Numpy Array***"
   ]
  },
  {
   "cell_type": "code",
   "execution_count": null,
   "id": "104d6404",
   "metadata": {},
   "outputs": [
    {
     "data": {
      "text/plain": [
       "array([-1,  0,  1,  2])"
      ]
     },
     "execution_count": 108,
     "metadata": {},
     "output_type": "execute_result"
    }
   ],
   "source": [
    "# Substraction using - operator\n",
    "# Array + Scalar\n",
    "# Same As Addition\n",
    "\n",
    "a - 2"
   ]
  },
  {
   "cell_type": "code",
   "execution_count": null,
   "id": "2a332dce",
   "metadata": {},
   "outputs": [
    {
     "name": "stdout",
     "output_type": "stream",
     "text": [
      "a= [1 2 3 4]\n",
      "b= [1 0 1 0]\n",
      "[0 2 2 4]\n"
     ]
    }
   ],
   "source": [
    "# Array + Array\n",
    "print(\"a=\",a)\n",
    "print(\"b=\",b)\n",
    "print(a-b)"
   ]
  },
  {
   "cell_type": "code",
   "execution_count": null,
   "id": "949580f9",
   "metadata": {},
   "outputs": [
    {
     "data": {
      "text/plain": [
       "array([-1,  0,  1,  2])"
      ]
     },
     "execution_count": 110,
     "metadata": {},
     "output_type": "execute_result"
    }
   ],
   "source": [
    "# Substraction using np.subtract()\n",
    "np.subtract(a,2)\n",
    "# Same As Substraction"
   ]
  },
  {
   "cell_type": "markdown",
   "id": "74f98173",
   "metadata": {},
   "source": [
    "##### ***Multiplication On Numpy Array***"
   ]
  },
  {
   "cell_type": "code",
   "execution_count": null,
   "id": "a37a4105",
   "metadata": {},
   "outputs": [
    {
     "data": {
      "text/plain": [
       "array([2, 4, 6, 8])"
      ]
     },
     "execution_count": 111,
     "metadata": {},
     "output_type": "execute_result"
    }
   ],
   "source": [
    "# Multiplication using * operator\n",
    "# Also Same\n",
    "\n",
    "a*2"
   ]
  },
  {
   "cell_type": "markdown",
   "id": "41fcf739",
   "metadata": {},
   "source": [
    "##### ***Division On Numpy Array***"
   ]
  },
  {
   "cell_type": "code",
   "execution_count": null,
   "id": "5738782a",
   "metadata": {},
   "outputs": [
    {
     "data": {
      "text/plain": [
       "array([0.5, 1. , 1.5, 2. ])"
      ]
     },
     "execution_count": 112,
     "metadata": {},
     "output_type": "execute_result"
    }
   ],
   "source": [
    "# Division\n",
    "# Same As Above\n",
    "a/2"
   ]
  },
  {
   "cell_type": "markdown",
   "id": "0c772be6",
   "metadata": {},
   "source": [
    "##### ***Concatinating Two Array Using '+' operator***"
   ]
  },
  {
   "cell_type": "code",
   "execution_count": null,
   "id": "a8f58e14",
   "metadata": {},
   "outputs": [
    {
     "name": "stdout",
     "output_type": "stream",
     "text": [
      "a = [1 2 3 4]\n",
      "b = [1 0 1 0]\n",
      "Concatinating Two Different Array of same shape\n",
      "a+b = [2 2 4 4]\n"
     ]
    }
   ],
   "source": [
    "# Additing Another Array To Original\n",
    "print(\"a =\",a)\n",
    "b=np.array([1,0,1,0])\n",
    "print(\"b =\",b)\n",
    "print(\"Concatinating Two Different Array of same shape\")\n",
    "print(\"a+b =\",a+b)"
   ]
  },
  {
   "cell_type": "markdown",
   "id": "32e7c56a",
   "metadata": {},
   "source": []
  },
  {
   "cell_type": "markdown",
   "id": "df3eed96",
   "metadata": {},
   "source": [
    "***Remember:-Adding Arrays Works On Arrays with same shape otherwise it gives error***"
   ]
  },
  {
   "cell_type": "code",
   "execution_count": null,
   "id": "b8236d54",
   "metadata": {},
   "outputs": [
    {
     "ename": "ValueError",
     "evalue": "operands could not be broadcast together with shapes (4,) (3,) ",
     "output_type": "error",
     "traceback": [
      "\u001b[1;31m---------------------------------------------------------------------------\u001b[0m",
      "\u001b[1;31mValueError\u001b[0m                                Traceback (most recent call last)",
      "Cell \u001b[1;32mIn[114], line 2\u001b[0m\n\u001b[0;32m      1\u001b[0m c \u001b[38;5;241m=\u001b[39m np\u001b[38;5;241m.\u001b[39marray([\u001b[38;5;241m6\u001b[39m,\u001b[38;5;241m8\u001b[39m,\u001b[38;5;241m3\u001b[39m])\n\u001b[1;32m----> 2\u001b[0m a\u001b[38;5;241m+\u001b[39mc\n",
      "\u001b[1;31mValueError\u001b[0m: operands could not be broadcast together with shapes (4,) (3,) "
     ]
    }
   ],
   "source": [
    "c = np.array([6,8,3])\n",
    "a+c"
   ]
  },
  {
   "cell_type": "markdown",
   "id": "ba07da97",
   "metadata": {},
   "source": [
    "*Addition Happens Between Two Element Of Array Of Same Index*"
   ]
  },
  {
   "cell_type": "markdown",
   "id": "67fddaee",
   "metadata": {},
   "source": [
    "*Ex:- a = [6,7] b = [8,3]*<br>\n",
    "*a+b = [6+8,7+3]*"
   ]
  },
  {
   "cell_type": "markdown",
   "id": "18dbe306",
   "metadata": {},
   "source": [
    "##### ***Exponents Of Element Of Matrix***"
   ]
  },
  {
   "cell_type": "code",
   "execution_count": null,
   "id": "84adf3b8",
   "metadata": {},
   "outputs": [
    {
     "data": {
      "text/plain": [
       "array([ 1,  4,  9, 16])"
      ]
     },
     "execution_count": 57,
     "metadata": {},
     "output_type": "execute_result"
    }
   ],
   "source": [
    "a ** 2 # '**' operator Is Used to find power of every element in an array\n"
   ]
  },
  {
   "cell_type": "code",
   "execution_count": null,
   "id": "d30828b4",
   "metadata": {},
   "outputs": [
    {
     "data": {
      "text/plain": [
       "array([1, 1, 3, 1])"
      ]
     },
     "execution_count": 58,
     "metadata": {},
     "output_type": "execute_result"
    }
   ],
   "source": [
    "a**b"
   ]
  },
  {
   "cell_type": "markdown",
   "id": "4c271eca",
   "metadata": {},
   "source": [
    "*When calculating exponent of a over b it works by finding exponent of every element of a to power of b's element*"
   ]
  },
  {
   "cell_type": "markdown",
   "id": "da703207",
   "metadata": {},
   "source": [
    "Ex:- a = [3,4] b = [2,3]<br>\n",
    "a ** b = [3 ** 2 , 4 ** 3]<br>"
   ]
  },
  {
   "cell_type": "markdown",
   "id": "df945d7c",
   "metadata": {},
   "source": [
    "***Remember:- Taking exponent Of Two Array Always Required to have arrays of same shape otherwise error will take place***"
   ]
  },
  {
   "cell_type": "markdown",
   "id": "628e20b5",
   "metadata": {},
   "source": [
    "##### ***Trigonametry On Element Of Matrix***"
   ]
  },
  {
   "cell_type": "code",
   "execution_count": null,
   "id": "07a10cf1",
   "metadata": {},
   "outputs": [
    {
     "name": "stdout",
     "output_type": "stream",
     "text": [
      "[ 0.84147098  0.90929743  0.14112001 -0.7568025 ]\n",
      "[ 0.54030231 -0.41614684 -0.9899925  -0.65364362]\n",
      "[ 1.55740772 -2.18503986 -0.14254654  1.15782128]\n"
     ]
    }
   ],
   "source": [
    "# Trigonometrical Function\n",
    "print(np.sin(a))\n",
    "print(np.cos(a))\n",
    "print(np.tan(a))"
   ]
  },
  {
   "cell_type": "markdown",
   "id": "03c69766",
   "metadata": {},
   "source": [
    "___________________________________________________________________________________________________________________________________________________"
   ]
  },
  {
   "cell_type": "markdown",
   "id": "9dda3870",
   "metadata": {},
   "source": [
    "## **Linear Algebra**"
   ]
  },
  {
   "cell_type": "markdown",
   "id": "d4902e94",
   "metadata": {},
   "source": [
    "***Matrix Multiplication Using In-Built Python Libraries***"
   ]
  },
  {
   "cell_type": "code",
   "execution_count": null,
   "id": "198aadcc",
   "metadata": {},
   "outputs": [
    {
     "name": "stdout",
     "output_type": "stream",
     "text": [
      "[[1. 1. 1.]\n",
      " [1. 1. 1.]]\n",
      "[[2 2]\n",
      " [2 2]\n",
      " [2 2]]\n"
     ]
    },
    {
     "data": {
      "text/plain": [
       "array([[6., 6.],\n",
       "       [6., 6.]])"
      ]
     },
     "execution_count": 118,
     "metadata": {},
     "output_type": "execute_result"
    }
   ],
   "source": [
    "a = np.ones((2,3)) # Creating First Matrix\n",
    "print(a)\n",
    "\n",
    "b= np.full((3,2),2) # Creating Second Matrix\n",
    "print(b)\n",
    "\n",
    "np.matmul(a,b) # .matmul() function is used to multiply two matrices "
   ]
  },
  {
   "cell_type": "markdown",
   "id": "ec814505",
   "metadata": {},
   "source": [
    "***Remember Matrix Multiplication has rules***<br>\n",
    "* *in 2D Matrix No of rows of first matrix must equal to no fo column of second matrix if not it will throw an error*"
   ]
  },
  {
   "cell_type": "code",
   "execution_count": null,
   "id": "ba0ea7a3",
   "metadata": {},
   "outputs": [
    {
     "ename": "ValueError",
     "evalue": "matmul: Input operand 1 has a mismatch in its core dimension 0, with gufunc signature (n?,k),(k,m?)->(n?,m?) (size 8 is different from 3)",
     "output_type": "error",
     "traceback": [
      "\u001b[1;31m---------------------------------------------------------------------------\u001b[0m",
      "\u001b[1;31mValueError\u001b[0m                                Traceback (most recent call last)",
      "Cell \u001b[1;32mIn[119], line 3\u001b[0m\n\u001b[0;32m      1\u001b[0m b \u001b[38;5;241m=\u001b[39m np\u001b[38;5;241m.\u001b[39mones((\u001b[38;5;241m8\u001b[39m,\u001b[38;5;241m5\u001b[39m))\n\u001b[1;32m----> 3\u001b[0m np\u001b[38;5;241m.\u001b[39mmatmul(a,b)\n",
      "\u001b[1;31mValueError\u001b[0m: matmul: Input operand 1 has a mismatch in its core dimension 0, with gufunc signature (n?,k),(k,m?)->(n?,m?) (size 8 is different from 3)"
     ]
    }
   ],
   "source": [
    "b = np.ones((8,5))\n",
    "\n",
    "np.matmul(a,b)"
   ]
  },
  {
   "cell_type": "code",
   "execution_count": null,
   "id": "c99aaaff",
   "metadata": {},
   "outputs": [],
   "source": [
    "a = np.arange(24).reshape(2,3,4)\n",
    "print(a)\n",
    "b = np.arange(25,49).reshape(2,4,3)\n",
    "print(b)\n",
    "\n",
    "np.matmul(a,b)"
   ]
  },
  {
   "cell_type": "code",
   "execution_count": null,
   "id": "503a82bc",
   "metadata": {},
   "outputs": [
    {
     "data": {
      "text/plain": [
       "1.0"
      ]
     },
     "execution_count": 120,
     "metadata": {},
     "output_type": "execute_result"
    }
   ],
   "source": [
    "# Determinant of matrix\n",
    "\n",
    "c = np.identity(3)\n",
    "# I Have Used Identity Matrix To Check The Determinant Is 1 or not \n",
    "np.linalg.det(c)"
   ]
  },
  {
   "cell_type": "markdown",
   "id": "501f9e75",
   "metadata": {},
   "source": [
    "___________________________________________________________________________________________________________________________________________________"
   ]
  },
  {
   "cell_type": "markdown",
   "id": "0bbd7902",
   "metadata": {},
   "source": [
    "## ***Statistics***\n",
    "  "
   ]
  },
  {
   "cell_type": "code",
   "execution_count": null,
   "id": "1e12523d",
   "metadata": {},
   "outputs": [
    {
     "name": "stdout",
     "output_type": "stream",
     "text": [
      "[[1 2 3]\n",
      " [4 5 3]]\n"
     ]
    }
   ],
   "source": [
    "stats = np.array([[1,2,3],[4,5,3]])\n",
    "print(stats)"
   ]
  },
  {
   "cell_type": "markdown",
   "id": "0facc476",
   "metadata": {},
   "source": [
    "***Mean(Average)***"
   ]
  },
  {
   "cell_type": "code",
   "execution_count": null,
   "id": "bdcd3624",
   "metadata": {},
   "outputs": [
    {
     "data": {
      "text/plain": [
       "3.0"
      ]
     },
     "execution_count": 61,
     "metadata": {},
     "output_type": "execute_result"
    }
   ],
   "source": [
    "# Mean Of Data In NumPy\n",
    "np.mean(stats) "
   ]
  },
  {
   "cell_type": "markdown",
   "id": "03b2b397",
   "metadata": {},
   "source": [
    "***Element With Maximum Value in Array***<br>\n",
    "*using np.max() function*"
   ]
  },
  {
   "cell_type": "code",
   "execution_count": null,
   "id": "8a85f702",
   "metadata": {},
   "outputs": [
    {
     "data": {
      "text/plain": [
       "5"
      ]
     },
     "execution_count": 62,
     "metadata": {},
     "output_type": "execute_result"
    }
   ],
   "source": [
    "# Max In Array\n",
    "np.max(stats)"
   ]
  },
  {
   "cell_type": "markdown",
   "id": "ae38105b",
   "metadata": {},
   "source": [
    "***Element With Minimum Value in Array***<br>\n",
    "*using np.min() function*"
   ]
  },
  {
   "cell_type": "code",
   "execution_count": null,
   "id": "636e3a82",
   "metadata": {},
   "outputs": [
    {
     "data": {
      "text/plain": [
       "1"
      ]
     },
     "execution_count": 63,
     "metadata": {},
     "output_type": "execute_result"
    }
   ],
   "source": [
    "# Min In Array\n",
    "np.min(stats)"
   ]
  },
  {
   "cell_type": "markdown",
   "id": "fa71ef10",
   "metadata": {},
   "source": [
    "***Sum Of All Element In Array***"
   ]
  },
  {
   "cell_type": "code",
   "execution_count": null,
   "id": "745f65c5",
   "metadata": {},
   "outputs": [
    {
     "data": {
      "text/plain": [
       "18"
      ]
     },
     "execution_count": 64,
     "metadata": {},
     "output_type": "execute_result"
    }
   ],
   "source": [
    "# Sum Of All Element In Array\n",
    "np.sum(stats)"
   ]
  },
  {
   "cell_type": "code",
   "execution_count": null,
   "id": "ca78afbe",
   "metadata": {},
   "outputs": [
    {
     "name": "stdout",
     "output_type": "stream",
     "text": [
      "3.0\n"
     ]
    }
   ],
   "source": [
    "# We Can Use Different Function To Calculate Same Output But Numpy has its own function\n",
    "\n",
    "print((np.sum(stats)/stats.size)) # Calculating Average/Mean"
   ]
  },
  {
   "cell_type": "markdown",
   "id": "849eb10e",
   "metadata": {},
   "source": [
    "***Standard Deviation of all elements in array***"
   ]
  },
  {
   "cell_type": "code",
   "execution_count": null,
   "id": "31a2a5e1",
   "metadata": {},
   "outputs": [
    {
     "data": {
      "text/plain": [
       "1.2909944487358056"
      ]
     },
     "execution_count": 66,
     "metadata": {},
     "output_type": "execute_result"
    }
   ],
   "source": [
    "np.std(stats)"
   ]
  },
  {
   "cell_type": "markdown",
   "id": "e346f587",
   "metadata": {},
   "source": [
    "***Variance of all elements in array***"
   ]
  },
  {
   "cell_type": "code",
   "execution_count": null,
   "id": "497e9f53",
   "metadata": {},
   "outputs": [
    {
     "data": {
      "text/plain": [
       "1.6666666666666667"
      ]
     },
     "execution_count": 67,
     "metadata": {},
     "output_type": "execute_result"
    }
   ],
   "source": [
    "np.var(stats)"
   ]
  },
  {
   "cell_type": "markdown",
   "id": "9c679435",
   "metadata": {},
   "source": [
    "## ***Axis of array***"
   ]
  },
  {
   "cell_type": "markdown",
   "id": "74c7f239",
   "metadata": {},
   "source": [
    "*In NumPy, axis defines the direction along which operations like sum, mean, max are applied in multi-dimensional arrays.*"
   ]
  },
  {
   "cell_type": "markdown",
   "id": "631b4e59",
   "metadata": {},
   "source": [
    "*1D Array Only Has One Axis (Axis = 0)*<br>\n",
    "*2D Array Have 2 Axis (Axis = 0 for column-wice operation , Axis = 1 for row-wice operation)*"
   ]
  },
  {
   "cell_type": "code",
   "execution_count": null,
   "id": "da241259",
   "metadata": {},
   "outputs": [
    {
     "name": "stdout",
     "output_type": "stream",
     "text": [
      "[[1 2 3]\n",
      " [4 5 3]]\n"
     ]
    },
    {
     "data": {
      "text/plain": [
       "array([ 6, 12])"
      ]
     },
     "execution_count": 68,
     "metadata": {},
     "output_type": "execute_result"
    }
   ],
   "source": [
    "'''row-wice axis tells the function to operate in \n",
    "row format means apply operation on elements \n",
    "which are traversed row wice ex axis = 0 for 2D Array'''\n",
    "print(stats)\n",
    "np.sum(stats,axis=1)"
   ]
  },
  {
   "cell_type": "markdown",
   "id": "f56f1b3d",
   "metadata": {},
   "source": [
    "Axis Represents In Which Dimension Function Should Work "
   ]
  },
  {
   "cell_type": "markdown",
   "id": "c1976d79",
   "metadata": {},
   "source": [
    "For Example Above np.sum(stats,axis = 1) calculates sum of all element along row with additing all elements of single column <br>\n",
    "[[9,4,5,3,5],<br>\n",
    " [6,3,2,6,3],<br>\n",
    " [0,2,3,5,2]]<br>\n"
   ]
  },
  {
   "cell_type": "markdown",
   "id": "56b1364b",
   "metadata": {},
   "source": [
    "____________________________________________________________________________________________________________________________"
   ]
  },
  {
   "cell_type": "markdown",
   "id": "a424f187",
   "metadata": {},
   "source": [
    "# ***Day2 Numpy Notes***"
   ]
  },
  {
   "cell_type": "markdown",
   "id": "a3457a01",
   "metadata": {},
   "source": [
    "### ***Reorganizing Arrays***"
   ]
  },
  {
   "cell_type": "code",
   "execution_count": null,
   "id": "61b35ec2",
   "metadata": {},
   "outputs": [
    {
     "name": "stdout",
     "output_type": "stream",
     "text": [
      "[[1 2 3 4]\n",
      " [5 6 7 8]]\n"
     ]
    }
   ],
   "source": [
    "before = np.array([[1,2,3,4],[5,6,7,8]])\n",
    "print(before)"
   ]
  },
  {
   "cell_type": "code",
   "execution_count": null,
   "id": "e61ecadd",
   "metadata": {},
   "outputs": [
    {
     "name": "stdout",
     "output_type": "stream",
     "text": [
      "(2, 4)\n"
     ]
    }
   ],
   "source": [
    "print(before.shape) # Shape Of Array Before reshaping"
   ]
  },
  {
   "cell_type": "markdown",
   "id": "afb233e1",
   "metadata": {},
   "source": [
    "***Convert array of shape (2,4) to (8,1)***<br>\n",
    "***Be Careful Number Of Element Must Be Same.*** <br><br>\n",
    "***Whenever reshaping Check Product Of Dimension Of Shape of previous and new shape , if Both Number Are Equal or not <br>,if equal then We Can reshape original if not then we should try broadcasting and broadcasting is also not possible <br> so we cannot reshape array into that shape*** <br>"
   ]
  },
  {
   "cell_type": "code",
   "execution_count": null,
   "id": "dfafc94d",
   "metadata": {},
   "outputs": [
    {
     "name": "stdout",
     "output_type": "stream",
     "text": [
      "[[1]\n",
      " [2]\n",
      " [3]\n",
      " [4]\n",
      " [5]\n",
      " [6]\n",
      " [7]\n",
      " [8]]\n",
      "\n",
      "(8, 1)\n"
     ]
    }
   ],
   "source": [
    "after = before.reshape(8,1) # Reshaping Array 'before to shape of (8,1)'\n",
    "print(after)\n",
    "print()\n",
    "print(after.shape) # Shape Of New Array From array 'before' after reshaping"
   ]
  },
  {
   "cell_type": "code",
   "execution_count": null,
   "id": "85de96b2",
   "metadata": {},
   "outputs": [
    {
     "name": "stdout",
     "output_type": "stream",
     "text": [
      "[[[1 2]\n",
      "  [3 4]]\n",
      "\n",
      " [[5 6]\n",
      "  [7 8]]]\n",
      "\n",
      "(2, 3)\n"
     ]
    }
   ],
   "source": [
    "after = before.reshape(2,2,2) # reshaping array to 3-dimensional array's shape\n",
    "print(after)\n",
    "print()\n",
    "print(a.shape)"
   ]
  },
  {
   "cell_type": "markdown",
   "id": "a051c591",
   "metadata": {},
   "source": [
    "***You Can Also Change Shape Of Array Using .shape() by changing output of shape method to required shape of new array***"
   ]
  },
  {
   "cell_type": "code",
   "execution_count": null,
   "id": "74a54073",
   "metadata": {},
   "outputs": [
    {
     "name": "stdout",
     "output_type": "stream",
     "text": [
      "[0 1 2 3 4 5 6 7 8 9]\n",
      "[[0 1 2 3 4]\n",
      " [5 6 7 8 9]]\n"
     ]
    }
   ],
   "source": [
    "a = np.arange(10) \n",
    "print(a)\n",
    "a.shape = (2,5) # Changing Shape Of Array Using .shape() function\n",
    "print(a)"
   ]
  },
  {
   "cell_type": "markdown",
   "id": "19a77532",
   "metadata": {},
   "source": [
    "_____________________________________________________________________________________________________________________________"
   ]
  },
  {
   "cell_type": "markdown",
   "id": "a891b4e5",
   "metadata": {},
   "source": [
    "### ***Vertical Stacking***"
   ]
  },
  {
   "cell_type": "markdown",
   "id": "11007ec8",
   "metadata": {},
   "source": [
    "***Two Vectors/Array Are Stacked Using .vstack() with a tuple of two or more vectors as argument***"
   ]
  },
  {
   "cell_type": "code",
   "execution_count": null,
   "id": "4076773e",
   "metadata": {},
   "outputs": [
    {
     "data": {
      "text/plain": [
       "array([[1, 2],\n",
       "       [3, 4],\n",
       "       [5, 6],\n",
       "       [7, 8],\n",
       "       [4, 5],\n",
       "       [2, 7]])"
      ]
     },
     "execution_count": 135,
     "metadata": {},
     "output_type": "execute_result"
    }
   ],
   "source": [
    "# Vertically Stacking Vectors\n",
    "v1 = np.array([[1,2],[3,4]])\n",
    "v2 = np.array([[5,6],[7,8]])\n",
    "v3 = np.array([[4,5],[2,7]])\n",
    "\n",
    "np.vstack((v1,v2,v3)) # Stacking v1,v2,v3 on top of each other where first array's element are placed on top"
   ]
  },
  {
   "cell_type": "markdown",
   "id": "576b4308",
   "metadata": {},
   "source": [
    "***Vertical Stacking Result A Array Where Element Of Previous Array Are Stacked on top of each other by following rule of first traversed will be on top***"
   ]
  },
  {
   "cell_type": "markdown",
   "id": "69e0043c",
   "metadata": {},
   "source": [
    "***Arrays must have the same number of columns***<br>\n",
    "***Think of it as stacking rows one under the another***"
   ]
  },
  {
   "cell_type": "markdown",
   "id": "b1ede904",
   "metadata": {},
   "source": [
    "_____________________________________________________________________________________________________________________________"
   ]
  },
  {
   "cell_type": "markdown",
   "id": "1e9fb328",
   "metadata": {},
   "source": [
    "### ***Horizontal Stacking***"
   ]
  },
  {
   "cell_type": "markdown",
   "id": "25d269ce",
   "metadata": {},
   "source": [
    "***Same As Verical Stacking But Works In Horizontal Way***"
   ]
  },
  {
   "cell_type": "markdown",
   "id": "ff547419",
   "metadata": {},
   "source": [
    "***Here Stacking Happens Along Sideways<br>***\n",
    "***One Can Imagine Two Arrays Placed Side By Side And Element Are Merge Together And Placed Side By Side On Same Row In New Array<br> Imagine 'a' matrix and 'b' matrix which are hstack if 'a' is placed on left, then element of first row of 'a' are merge with element of first row of 'b' to form a combine row for new matrix , same follows for second, thrid and next ones***<br><br>\n",
    "***Note:-Stacking Always Works On Array With Same Number Of Rows***"
   ]
  },
  {
   "cell_type": "code",
   "execution_count": null,
   "id": "72b88cc5",
   "metadata": {},
   "outputs": [
    {
     "data": {
      "text/plain": [
       "array([[1, 2, 5, 6],\n",
       "       [3, 4, 7, 8]])"
      ]
     },
     "execution_count": 136,
     "metadata": {},
     "output_type": "execute_result"
    }
   ],
   "source": [
    "# Horizontal Stack\n",
    "h1 = np.array([[1,2],[3,4]])\n",
    "h2 = np.array([[5,6],[7,8]])\n",
    "\n",
    "np.hstack((h1,h2))"
   ]
  },
  {
   "cell_type": "code",
   "execution_count": null,
   "id": "5ef2fe26",
   "metadata": {},
   "outputs": [],
   "source": []
  },
  {
   "cell_type": "code",
   "execution_count": null,
   "id": "0946212d",
   "metadata": {},
   "outputs": [
    {
     "ename": "ValueError",
     "evalue": "all the input array dimensions except for the concatenation axis must match exactly, but along dimension 0, the array at index 0 has size 2 and the array at index 1 has size 3",
     "output_type": "error",
     "traceback": [
      "\u001b[1;31m---------------------------------------------------------------------------\u001b[0m",
      "\u001b[1;31mValueError\u001b[0m                                Traceback (most recent call last)",
      "Cell \u001b[1;32mIn[137], line 4\u001b[0m\n\u001b[0;32m      1\u001b[0m h1 \u001b[38;5;241m=\u001b[39m np\u001b[38;5;241m.\u001b[39marange(\u001b[38;5;241m6\u001b[39m)\u001b[38;5;241m.\u001b[39mreshape(\u001b[38;5;241m2\u001b[39m,\u001b[38;5;241m3\u001b[39m)\n\u001b[0;32m      2\u001b[0m h2 \u001b[38;5;241m=\u001b[39m np\u001b[38;5;241m.\u001b[39marange(\u001b[38;5;241m12\u001b[39m)\u001b[38;5;241m.\u001b[39mreshape(\u001b[38;5;241m3\u001b[39m,\u001b[38;5;241m4\u001b[39m)\n\u001b[1;32m----> 4\u001b[0m np\u001b[38;5;241m.\u001b[39mhstack((h1,h2))\n",
      "File \u001b[1;32mc:\\Users\\user\\anaconda2\\Lib\\site-packages\\numpy\\core\\shape_base.py:359\u001b[0m, in \u001b[0;36mhstack\u001b[1;34m(tup, dtype, casting)\u001b[0m\n\u001b[0;32m    357\u001b[0m     \u001b[38;5;28;01mreturn\u001b[39;00m _nx\u001b[38;5;241m.\u001b[39mconcatenate(arrs, \u001b[38;5;241m0\u001b[39m, dtype\u001b[38;5;241m=\u001b[39mdtype, casting\u001b[38;5;241m=\u001b[39mcasting)\n\u001b[0;32m    358\u001b[0m \u001b[38;5;28;01melse\u001b[39;00m:\n\u001b[1;32m--> 359\u001b[0m     \u001b[38;5;28;01mreturn\u001b[39;00m _nx\u001b[38;5;241m.\u001b[39mconcatenate(arrs, \u001b[38;5;241m1\u001b[39m, dtype\u001b[38;5;241m=\u001b[39mdtype, casting\u001b[38;5;241m=\u001b[39mcasting)\n",
      "\u001b[1;31mValueError\u001b[0m: all the input array dimensions except for the concatenation axis must match exactly, but along dimension 0, the array at index 0 has size 2 and the array at index 1 has size 3"
     ]
    }
   ],
   "source": [
    "h1 = np.arange(6).reshape(2,3)\n",
    "h2 = np.arange(12).reshape(3,4)\n",
    "\n",
    "np.hstack((h1,h2))"
   ]
  },
  {
   "cell_type": "markdown",
   "id": "78e9f407",
   "metadata": {},
   "source": []
  },
  {
   "cell_type": "markdown",
   "id": "4f6b21fd",
   "metadata": {},
   "source": [
    "#### ***Large Example For Understanding***"
   ]
  },
  {
   "cell_type": "code",
   "execution_count": null,
   "id": "96c0739a",
   "metadata": {},
   "outputs": [
    {
     "name": "stdout",
     "output_type": "stream",
     "text": [
      "[[[[0 6 4]\n",
      "   [6 9 8]\n",
      "   [9 1 3]]\n",
      "\n",
      "  [[8 9 7]\n",
      "   [5 3 2]\n",
      "   [8 0 8]]\n",
      "\n",
      "  [[3 7 6]\n",
      "   [3 9 3]\n",
      "   [2 6 0]]]\n",
      "\n",
      "\n",
      " [[[2 7 4]\n",
      "   [9 9 5]\n",
      "   [6 1 9]]\n",
      "\n",
      "  [[5 6 6]\n",
      "   [5 1 8]\n",
      "   [6 4 7]]\n",
      "\n",
      "  [[1 2 9]\n",
      "   [0 2 2]\n",
      "   [0 4 2]]]]\n",
      "\n",
      "[[[[8 8 5]\n",
      "   [1 1 8]\n",
      "   [0 4 4]]\n",
      "\n",
      "  [[9 4 8]\n",
      "   [0 0 8]\n",
      "   [4 2 9]]\n",
      "\n",
      "  [[6 3 3]\n",
      "   [7 8 9]\n",
      "   [0 8 7]]]\n",
      "\n",
      "\n",
      " [[[0 5 6]\n",
      "   [4 6 8]\n",
      "   [8 5 4]]\n",
      "\n",
      "  [[3 0 7]\n",
      "   [5 9 2]\n",
      "   [4 0 3]]\n",
      "\n",
      "  [[0 3 1]\n",
      "   [9 7 8]\n",
      "   [3 9 1]]]]\n"
     ]
    }
   ],
   "source": [
    "v1 = np.random.randint(0, 10, size=(2, 3, 3, 3))\n",
    "print(v1)\n",
    "print()\n",
    "v2 = np.random.randint(0,10,size=(2,3,3,3))\n",
    "print(v2)"
   ]
  },
  {
   "cell_type": "code",
   "execution_count": null,
   "id": "df7fafec",
   "metadata": {},
   "outputs": [
    {
     "data": {
      "text/plain": [
       "array([[[[0, 6, 4],\n",
       "         [6, 9, 8],\n",
       "         [9, 1, 3]],\n",
       "\n",
       "        [[8, 9, 7],\n",
       "         [5, 3, 2],\n",
       "         [8, 0, 8]],\n",
       "\n",
       "        [[3, 7, 6],\n",
       "         [3, 9, 3],\n",
       "         [2, 6, 0]]],\n",
       "\n",
       "\n",
       "       [[[2, 7, 4],\n",
       "         [9, 9, 5],\n",
       "         [6, 1, 9]],\n",
       "\n",
       "        [[5, 6, 6],\n",
       "         [5, 1, 8],\n",
       "         [6, 4, 7]],\n",
       "\n",
       "        [[1, 2, 9],\n",
       "         [0, 2, 2],\n",
       "         [0, 4, 2]]],\n",
       "\n",
       "\n",
       "       [[[8, 8, 5],\n",
       "         [1, 1, 8],\n",
       "         [0, 4, 4]],\n",
       "\n",
       "        [[9, 4, 8],\n",
       "         [0, 0, 8],\n",
       "         [4, 2, 9]],\n",
       "\n",
       "        [[6, 3, 3],\n",
       "         [7, 8, 9],\n",
       "         [0, 8, 7]]],\n",
       "\n",
       "\n",
       "       [[[0, 5, 6],\n",
       "         [4, 6, 8],\n",
       "         [8, 5, 4]],\n",
       "\n",
       "        [[3, 0, 7],\n",
       "         [5, 9, 2],\n",
       "         [4, 0, 3]],\n",
       "\n",
       "        [[0, 3, 1],\n",
       "         [9, 7, 8],\n",
       "         [3, 9, 1]]]])"
      ]
     },
     "execution_count": 70,
     "metadata": {},
     "output_type": "execute_result"
    }
   ],
   "source": [
    "np.vstack((v1,v2))"
   ]
  },
  {
   "cell_type": "code",
   "execution_count": null,
   "id": "6db9f6f9",
   "metadata": {},
   "outputs": [
    {
     "data": {
      "text/plain": [
       "array([[[[0, 6, 4],\n",
       "         [6, 9, 8],\n",
       "         [9, 1, 3]],\n",
       "\n",
       "        [[8, 9, 7],\n",
       "         [5, 3, 2],\n",
       "         [8, 0, 8]],\n",
       "\n",
       "        [[3, 7, 6],\n",
       "         [3, 9, 3],\n",
       "         [2, 6, 0]],\n",
       "\n",
       "        [[8, 8, 5],\n",
       "         [1, 1, 8],\n",
       "         [0, 4, 4]],\n",
       "\n",
       "        [[9, 4, 8],\n",
       "         [0, 0, 8],\n",
       "         [4, 2, 9]],\n",
       "\n",
       "        [[6, 3, 3],\n",
       "         [7, 8, 9],\n",
       "         [0, 8, 7]]],\n",
       "\n",
       "\n",
       "       [[[2, 7, 4],\n",
       "         [9, 9, 5],\n",
       "         [6, 1, 9]],\n",
       "\n",
       "        [[5, 6, 6],\n",
       "         [5, 1, 8],\n",
       "         [6, 4, 7]],\n",
       "\n",
       "        [[1, 2, 9],\n",
       "         [0, 2, 2],\n",
       "         [0, 4, 2]],\n",
       "\n",
       "        [[0, 5, 6],\n",
       "         [4, 6, 8],\n",
       "         [8, 5, 4]],\n",
       "\n",
       "        [[3, 0, 7],\n",
       "         [5, 9, 2],\n",
       "         [4, 0, 3]],\n",
       "\n",
       "        [[0, 3, 1],\n",
       "         [9, 7, 8],\n",
       "         [3, 9, 1]]]])"
      ]
     },
     "execution_count": 71,
     "metadata": {},
     "output_type": "execute_result"
    }
   ],
   "source": [
    "np.hstack((v1,v2))"
   ]
  },
  {
   "cell_type": "markdown",
   "id": "ab7398e8",
   "metadata": {},
   "source": [
    "_____________________________________________________________________________________________________________________________"
   ]
  },
  {
   "cell_type": "markdown",
   "id": "301e086c",
   "metadata": {},
   "source": [
    "#### ***Spliting***"
   ]
  },
  {
   "cell_type": "markdown",
   "id": "72675567",
   "metadata": {},
   "source": [
    "*There Are Two Major Function For Spliting Array ***'np.split(array,section/tuple)'*** .*<br>\n",
    "*.split() function takes first argument as array(given array) and second as 'Integer value' for dividing in section or 'tuple' for cutting and dividing across two points or multiple points in array*"
   ]
  },
  {
   "cell_type": "code",
   "execution_count": 87,
   "id": "c56deafa",
   "metadata": {},
   "outputs": [
    {
     "data": {
      "text/plain": [
       "[array([[ 5,  7,  4, 36]]), array([[7, 4, 2, 6]])]"
      ]
     },
     "execution_count": 87,
     "metadata": {},
     "output_type": "execute_result"
    }
   ],
   "source": [
    "array1 = np.array([[5,7,4,36],[7,4,2,6]])\n",
    "np.split(array1,2)"
   ]
  },
  {
   "cell_type": "code",
   "execution_count": 88,
   "id": "ba0b34b0",
   "metadata": {},
   "outputs": [
    {
     "data": {
      "text/plain": [
       "[array([[5],\n",
       "        [7]]),\n",
       " array([[7],\n",
       "        [4]]),\n",
       " array([[4],\n",
       "        [2]]),\n",
       " array([[36],\n",
       "        [ 6]])]"
      ]
     },
     "execution_count": 88,
     "metadata": {},
     "output_type": "execute_result"
    }
   ],
   "source": [
    "np.split(array1,4,axis = 1)"
   ]
  },
  {
   "cell_type": "code",
   "execution_count": 89,
   "id": "26b800c7",
   "metadata": {},
   "outputs": [
    {
     "data": {
      "text/plain": [
       "[array([[ 5,  7,  4, 36]], dtype=int8),\n",
       " array([[7, 4, 2, 6]], dtype=int8),\n",
       " array([], shape=(0, 4), dtype=int8)]"
      ]
     },
     "execution_count": 89,
     "metadata": {},
     "output_type": "execute_result"
    }
   ],
   "source": [
    "array1 = np.array([[5,7,4,36],[7,4,2,6]],dtype = 'int8')\n",
    "np.split(array1,(1,4))"
   ]
  },
  {
   "cell_type": "markdown",
   "id": "58a1df4d",
   "metadata": {},
   "source": [
    "***Remember :- spliting always divide in equal part otherwise gives an error***<br>\n",
    "***for error free code use np.array_split() function same as split but handles extra element when divided uneqauly and also doesn't gives error***"
   ]
  },
  {
   "cell_type": "markdown",
   "id": "67cf389d",
   "metadata": {},
   "source": [
    "##### ***array.split()***"
   ]
  },
  {
   "cell_type": "code",
   "execution_count": 94,
   "id": "f3938234",
   "metadata": {},
   "outputs": [
    {
     "data": {
      "text/plain": [
       "[array([[ 5,  7,  4, 36],\n",
       "        [ 7,  4,  2,  6]], dtype=int8),\n",
       " array([], shape=(0, 4), dtype=int8),\n",
       " array([[7, 4, 2, 6]], dtype=int8)]"
      ]
     },
     "execution_count": 94,
     "metadata": {},
     "output_type": "execute_result"
    }
   ],
   "source": [
    "np.array_split(array1,(2,1))"
   ]
  },
  {
   "cell_type": "markdown",
   "id": "ac9addb8",
   "metadata": {},
   "source": [
    "#### ***Spliting Horizontally***"
   ]
  },
  {
   "cell_type": "markdown",
   "id": "c1ce3f91",
   "metadata": {},
   "source": [
    "***using .hspilt(array,section) use can split array horizontally***"
   ]
  },
  {
   "cell_type": "markdown",
   "id": "7497cd62",
   "metadata": {},
   "source": [
    "*This function has two arguments first is array and second is section it takes input as int or tuple*<br><br>\n",
    "*Int For how much section do you want*<br><br>\n",
    "*Tuple is for spliting array in three parts where tuple is worked as start and stop split makes one cut at start point(from tuple) in array aand at end point(from tuple) in array.Then it split array into three part one from array's start to tuple's start-1 second is from tuple's start to tuple's end-1 and third is from tuple's end to array's end*<br>\n"
   ]
  },
  {
   "cell_type": "code",
   "execution_count": null,
   "id": "a31435c3",
   "metadata": {},
   "outputs": [
    {
     "name": "stdout",
     "output_type": "stream",
     "text": [
      "[[1 2 3 4]\n",
      " [6 7 8 9]]\n"
     ]
    }
   ],
   "source": [
    "array = np.array([[1,2,3,4],[6,7,8,9]])\n",
    "print(array)"
   ]
  },
  {
   "cell_type": "code",
   "execution_count": null,
   "id": "d7ad3fb2",
   "metadata": {},
   "outputs": [],
   "source": []
  },
  {
   "cell_type": "markdown",
   "id": "0723782b",
   "metadata": {},
   "source": [
    "# *Miscellaneous*"
   ]
  },
  {
   "cell_type": "markdown",
   "id": "54a53f8c",
   "metadata": {},
   "source": [
    "Load Data From File "
   ]
  },
  {
   "cell_type": "code",
   "execution_count": null,
   "id": "051479b6",
   "metadata": {},
   "outputs": [
    {
     "name": "stdout",
     "output_type": "stream",
     "text": [
      "c:\\Users\\user\\DS\\NumPy\n"
     ]
    }
   ],
   "source": [
    "import os\n",
    "print(os.getcwd()) # Get File Location using os module"
   ]
  },
  {
   "cell_type": "code",
   "execution_count": null,
   "id": "b558104b",
   "metadata": {},
   "outputs": [
    {
     "name": "stdout",
     "output_type": "stream",
     "text": [
      "['42,21,19,29,12,89,48,59,24,34,56,39,4,14,98,86,78,31,73,84,99,58,98,24\\n', '31,32,66,36,82,70,4,16,71,62,90,12,2,18,6,22,12,47,0,33,52,91,99,54\\n', '29,43,75,27,60,71,73,22,4,67,29,23,88,6,55,4,4,73,0,39,96,49,72,79\\n', '13,22,14,99,7,18,69,16,4,98,32,89,27,75,15,53,67,65,48,84,8,2,14,32\\n', '32,46,75,12,86,75,6,63,97,31,94,58,13,23,52,35,3,64,40,95,31,1,30,58\\n', '5,4,13,41,75,38,73,44,82,31,3,40,13,58,62,70,15,60,74,13,34,42,93,84\\n', '38,55,62,87,10,43,0,30,90,51,55,1,54,12,62,30,51,74,69,86,78,51,57,55\\n']\n"
     ]
    }
   ],
   "source": [
    "with open(\"datafile.txt\",\"r\")as f :\n",
    "    print(f.readlines())\n",
    "    array = f"
   ]
  },
  {
   "cell_type": "code",
   "execution_count": null,
   "id": "d052cee8",
   "metadata": {},
   "outputs": [
    {
     "name": "stdout",
     "output_type": "stream",
     "text": [
      "<_io.TextIOWrapper name='datafile.txt' mode='r' encoding='utf-8'>\n"
     ]
    }
   ],
   "source": [
    "print(array)"
   ]
  },
  {
   "cell_type": "code",
   "execution_count": null,
   "id": "80787215",
   "metadata": {},
   "outputs": [
    {
     "data": {
      "text/plain": [
       "array([[42, 21, 19, 29, 12, 89, 48, 59, 24, 34, 56, 39,  4, 14, 98, 86,\n",
       "        78, 31, 73, 84, 99, 58, 98, 24],\n",
       "       [31, 32, 66, 36, 82, 70,  4, 16, 71, 62, 90, 12,  2, 18,  6, 22,\n",
       "        12, 47,  0, 33, 52, 91, 99, 54],\n",
       "       [29, 43, 75, 27, 60, 71, 73, 22,  4, 67, 29, 23, 88,  6, 55,  4,\n",
       "         4, 73,  0, 39, 96, 49, 72, 79],\n",
       "       [13, 22, 14, 99,  7, 18, 69, 16,  4, 98, 32, 89, 27, 75, 15, 53,\n",
       "        67, 65, 48, 84,  8,  2, 14, 32],\n",
       "       [32, 46, 75, 12, 86, 75,  6, 63, 97, 31, 94, 58, 13, 23, 52, 35,\n",
       "         3, 64, 40, 95, 31,  1, 30, 58],\n",
       "       [ 5,  4, 13, 41, 75, 38, 73, 44, 82, 31,  3, 40, 13, 58, 62, 70,\n",
       "        15, 60, 74, 13, 34, 42, 93, 84],\n",
       "       [38, 55, 62, 87, 10, 43,  0, 30, 90, 51, 55,  1, 54, 12, 62, 30,\n",
       "        51, 74, 69, 86, 78, 51, 57, 55]], dtype=int16)"
      ]
     },
     "execution_count": 148,
     "metadata": {},
     "output_type": "execute_result"
    }
   ],
   "source": [
    "data = np.genfromtxt('datafile.txt',delimiter = ',',dtype = 'int16')\n",
    "data"
   ]
  },
  {
   "cell_type": "code",
   "execution_count": null,
   "id": "25a2bd2a",
   "metadata": {},
   "outputs": [
    {
     "data": {
      "text/plain": [
       "array([[False, False, False, False, False,  True, False,  True, False,\n",
       "        False,  True, False, False, False,  True,  True,  True, False,\n",
       "         True,  True,  True,  True,  True, False],\n",
       "       [False, False,  True, False,  True,  True, False, False,  True,\n",
       "         True,  True, False, False, False, False, False, False, False,\n",
       "        False, False,  True,  True,  True,  True],\n",
       "       [False, False,  True, False,  True,  True,  True, False, False,\n",
       "         True, False, False,  True, False,  True, False, False,  True,\n",
       "        False, False,  True, False,  True,  True],\n",
       "       [False, False, False,  True, False, False,  True, False, False,\n",
       "         True, False,  True, False,  True, False,  True,  True,  True,\n",
       "        False,  True, False, False, False, False],\n",
       "       [False, False,  True, False,  True,  True, False,  True,  True,\n",
       "        False,  True,  True, False, False,  True, False, False,  True,\n",
       "        False,  True, False, False, False,  True],\n",
       "       [False, False, False, False,  True, False,  True, False,  True,\n",
       "        False, False, False, False,  True,  True,  True, False,  True,\n",
       "         True, False, False, False,  True,  True],\n",
       "       [False,  True,  True,  True, False, False, False, False,  True,\n",
       "         True,  True, False,  True, False,  True, False,  True,  True,\n",
       "         True,  True,  True,  True,  True,  True]])"
      ]
     },
     "execution_count": 149,
     "metadata": {},
     "output_type": "execute_result"
    }
   ],
   "source": [
    "# Boolean Masking\n",
    "# Advanced Indexing\n",
    "data>50"
   ]
  },
  {
   "cell_type": "code",
   "execution_count": null,
   "id": "eb0246b6",
   "metadata": {},
   "outputs": [
    {
     "data": {
      "text/plain": [
       "array([[False, False, False, False, False,  True, False,  True, False,\n",
       "        False,  True, False, False, False,  True,  True,  True, False,\n",
       "         True,  True,  True,  True,  True, False],\n",
       "       [False, False,  True, False,  True,  True, False, False,  True,\n",
       "         True,  True, False, False, False, False, False, False, False,\n",
       "        False, False,  True,  True,  True,  True],\n",
       "       [False, False,  True, False,  True,  True,  True, False, False,\n",
       "         True, False, False,  True, False,  True, False, False,  True,\n",
       "        False, False,  True, False,  True,  True],\n",
       "       [False, False, False,  True, False, False,  True, False, False,\n",
       "         True, False,  True, False,  True, False,  True,  True,  True,\n",
       "        False,  True, False, False, False, False],\n",
       "       [False, False,  True, False,  True,  True, False,  True,  True,\n",
       "        False,  True,  True, False, False,  True, False, False,  True,\n",
       "        False,  True, False, False, False,  True],\n",
       "       [False, False, False, False,  True, False,  True, False,  True,\n",
       "        False, False, False, False,  True,  True,  True, False,  True,\n",
       "         True, False, False, False,  True,  True],\n",
       "       [False,  True,  True,  True, False, False, False, False,  True,\n",
       "         True,  True, False,  True, False,  True, False,  True,  True,\n",
       "         True,  True,  True,  True,  True,  True]])"
      ]
     },
     "execution_count": 150,
     "metadata": {},
     "output_type": "execute_result"
    }
   ],
   "source": [
    "data>=50"
   ]
  },
  {
   "cell_type": "code",
   "execution_count": null,
   "id": "33102ea6",
   "metadata": {},
   "outputs": [
    {
     "data": {
      "text/plain": [
       "array([89, 59, 56, 98, 86, 78, 73, 84, 99, 58, 98, 66, 82, 70, 71, 62, 90,\n",
       "       52, 91, 99, 54, 75, 60, 71, 73, 67, 88, 55, 73, 96, 72, 79, 99, 69,\n",
       "       98, 89, 75, 53, 67, 65, 84, 75, 86, 75, 63, 97, 94, 58, 52, 64, 95,\n",
       "       58, 75, 73, 82, 58, 62, 70, 60, 74, 93, 84, 55, 62, 87, 90, 51, 55,\n",
       "       54, 62, 51, 74, 69, 86, 78, 51, 57, 55], dtype=int16)"
      ]
     },
     "execution_count": 151,
     "metadata": {},
     "output_type": "execute_result"
    }
   ],
   "source": [
    "data[data>50] # This Gives Values Which Are Greater Than 50 or given value"
   ]
  },
  {
   "cell_type": "code",
   "execution_count": null,
   "id": "4b8807d9",
   "metadata": {},
   "outputs": [
    {
     "data": {
      "text/plain": [
       "array([False, False, False,  True,  True,  True, False, False,  True,\n",
       "        True,  True,  True,  True, False,  True,  True, False, False,\n",
       "       False,  True,  True,  True,  True,  True])"
      ]
     },
     "execution_count": 152,
     "metadata": {},
     "output_type": "execute_result"
    }
   ],
   "source": [
    "# identify any value in this data 's columns is greater 80\n",
    "np.any(data>80,axis=0)"
   ]
  },
  {
   "cell_type": "code",
   "execution_count": null,
   "id": "b544751f",
   "metadata": {},
   "outputs": [
    {
     "data": {
      "text/plain": [
       "array([False, False, False, False, False, False, False, False, False,\n",
       "       False, False, False, False, False, False, False, False, False,\n",
       "       False, False, False, False, False, False])"
      ]
     },
     "execution_count": 153,
     "metadata": {},
     "output_type": "execute_result"
    }
   ],
   "source": [
    "# Here axis = 0 represent row-wise iteration and which every row has any element greater than 80 is stored as true other\n",
    "# who are'nt are stored as false\n",
    "# You Can Also Check That All Element are greater than 80 or not using\n",
    "\n",
    "np.all(data>80,axis=0)"
   ]
  },
  {
   "cell_type": "code",
   "execution_count": null,
   "id": "9b51102c",
   "metadata": {},
   "outputs": [
    {
     "data": {
      "text/plain": [
       "array([[ True, False, False, False, False, False,  True,  True, False,\n",
       "        False,  True, False, False, False, False, False,  True, False,\n",
       "         True, False, False,  True, False, False],\n",
       "       [False, False,  True, False, False,  True, False, False,  True,\n",
       "         True, False, False, False, False, False, False, False,  True,\n",
       "        False, False,  True, False, False,  True],\n",
       "       [False,  True,  True, False,  True,  True,  True, False, False,\n",
       "         True, False, False, False, False,  True, False, False,  True,\n",
       "        False, False, False,  True,  True,  True],\n",
       "       [False, False, False, False, False, False,  True, False, False,\n",
       "        False, False, False, False,  True, False,  True,  True,  True,\n",
       "         True, False, False, False, False, False],\n",
       "       [False,  True,  True, False, False,  True, False,  True, False,\n",
       "        False, False,  True, False, False,  True, False, False,  True,\n",
       "        False, False, False, False, False,  True],\n",
       "       [False, False, False,  True,  True, False,  True,  True, False,\n",
       "        False, False, False, False,  True,  True,  True, False,  True,\n",
       "         True, False, False,  True, False, False],\n",
       "       [False,  True,  True, False, False,  True, False, False, False,\n",
       "         True,  True, False,  True, False,  True, False,  True,  True,\n",
       "         True, False,  True,  True,  True,  True]])"
      ]
     },
     "execution_count": 154,
     "metadata": {},
     "output_type": "execute_result"
    }
   ],
   "source": [
    "# Conditonal Indexing\n",
    "(data>40) & (data<80)"
   ]
  },
  {
   "cell_type": "code",
   "execution_count": null,
   "id": "afdfb840",
   "metadata": {},
   "outputs": [
    {
     "data": {
      "text/plain": [
       "array([42, 48, 59, 56, 78, 73, 58, 66, 70, 71, 62, 47, 52, 54, 43, 75, 60,\n",
       "       71, 73, 67, 55, 73, 49, 72, 79, 69, 75, 53, 67, 65, 48, 46, 75, 75,\n",
       "       63, 58, 52, 64, 58, 41, 75, 73, 44, 58, 62, 70, 60, 74, 42, 55, 62,\n",
       "       43, 51, 55, 54, 62, 51, 74, 69, 78, 51, 57, 55], dtype=int16)"
      ]
     },
     "execution_count": 155,
     "metadata": {},
     "output_type": "execute_result"
    }
   ],
   "source": [
    "# You Can Also Obtain Numbers which follows this condition bytearray\n",
    "data[(data>40) & (data<80)]\n",
    "# or\n",
    "data[((data>40) & (data<80))]"
   ]
  },
  {
   "cell_type": "code",
   "execution_count": null,
   "id": "56980835",
   "metadata": {},
   "outputs": [
    {
     "data": {
      "text/plain": [
       "array([[False,  True,  True,  True,  True,  True, False, False,  True,\n",
       "         True, False,  True,  True,  True,  True,  True, False,  True,\n",
       "        False,  True,  True, False,  True,  True],\n",
       "       [ True,  True, False,  True,  True, False,  True,  True, False,\n",
       "        False,  True,  True,  True,  True,  True,  True,  True, False,\n",
       "         True,  True, False,  True,  True, False],\n",
       "       [ True, False, False,  True, False, False, False,  True,  True,\n",
       "        False,  True,  True,  True,  True, False,  True,  True, False,\n",
       "         True,  True,  True, False, False, False],\n",
       "       [ True,  True,  True,  True,  True,  True, False,  True,  True,\n",
       "         True,  True,  True,  True, False,  True, False, False, False,\n",
       "        False,  True,  True,  True,  True,  True],\n",
       "       [ True, False, False,  True,  True, False,  True, False,  True,\n",
       "         True,  True, False,  True,  True, False,  True,  True, False,\n",
       "         True,  True,  True,  True,  True, False],\n",
       "       [ True,  True,  True, False, False,  True, False, False,  True,\n",
       "         True,  True,  True,  True, False, False, False,  True, False,\n",
       "        False,  True,  True, False,  True,  True],\n",
       "       [ True, False, False,  True,  True, False,  True,  True,  True,\n",
       "        False, False,  True, False,  True, False,  True, False, False,\n",
       "        False,  True, False, False, False, False]])"
      ]
     },
     "execution_count": 156,
     "metadata": {},
     "output_type": "execute_result"
    }
   ],
   "source": [
    "# Using Not Operator '~'\n",
    "(~((data>40) & (data<80)))"
   ]
  },
  {
   "cell_type": "markdown",
   "id": "c21a80a9",
   "metadata": {},
   "source": [
    "*You Can Index with a list in Numpy*"
   ]
  },
  {
   "cell_type": "code",
   "execution_count": null,
   "id": "b46f7951",
   "metadata": {},
   "outputs": [
    {
     "name": "stdout",
     "output_type": "stream",
     "text": [
      "[2 3 7]\n"
     ]
    }
   ],
   "source": [
    "a = np.array([1,2,3,4,5,6,7,8,9,10])\n",
    "print(a[[1,2,6]]) \n",
    "# Here First Square Bracket (Outer) Is for accessing a's array and second one is for generating list of element of array 'a' \n",
    "# at given index"
   ]
  },
  {
   "cell_type": "markdown",
   "id": "5889892f",
   "metadata": {},
   "source": [
    "## ***Day4 Numpy Notes***"
   ]
  },
  {
   "cell_type": "markdown",
   "id": "f2d11e42",
   "metadata": {},
   "source": [
    "### ***Advanced Indexing***"
   ]
  },
  {
   "cell_type": "markdown",
   "id": "56616074",
   "metadata": {},
   "source": [
    "**There Are Two Types Of Advanced Array Indexing**<br>\n",
    "* *Integer Array Indexing*<br>\n",
    "* *Boolean Array Indexing*"
   ]
  },
  {
   "cell_type": "markdown",
   "id": "9b008d99",
   "metadata": {},
   "source": [
    "***Integer Array Indexing***"
   ]
  },
  {
   "cell_type": "markdown",
   "id": "f6f1953a",
   "metadata": {},
   "source": [
    "*Integer array indexing refers to selecting elements from an N-dimensional array using another array of integers, where each integer or set of integers specifies a position along a particular axis.*"
   ]
  },
  {
   "cell_type": "markdown",
   "id": "01247f80",
   "metadata": {},
   "source": [
    "For Example:-"
   ]
  },
  {
   "cell_type": "code",
   "execution_count": 95,
   "id": "2688b807",
   "metadata": {},
   "outputs": [
    {
     "name": "stdout",
     "output_type": "stream",
     "text": [
      "[[ 3  4  5  6  7]\n",
      " [ 8  9 10 11 12]\n",
      " [13 14 15 16 17]\n",
      " [18 19 20 21 22]\n",
      " [23 24 25 26 27]]\n",
      "22\n"
     ]
    },
    {
     "data": {
      "text/plain": [
       "array([[18, 19, 20, 21, 22],\n",
       "       [23, 24, 25, 26, 27],\n",
       "       [ 8,  9, 10, 11, 12]])"
      ]
     },
     "execution_count": 95,
     "metadata": {},
     "output_type": "execute_result"
    }
   ],
   "source": [
    "x = np.arange(3,28).reshape(5,5)\n",
    "print(x)\n",
    "print(x[3,4])\n",
    "\n",
    "x[np.array([3,4,1])] # Here rows of array x are consider array and as per number's of column it gives us that ath row from array x"
   ]
  },
  {
   "cell_type": "code",
   "execution_count": null,
   "id": "0b8a126c",
   "metadata": {},
   "outputs": [
    {
     "data": {
      "text/plain": [
       "array([3, 5])"
      ]
     },
     "execution_count": 159,
     "metadata": {},
     "output_type": "execute_result"
    }
   ],
   "source": [
    "x=np.array([[1,2],[3,4],[5,6]])\n",
    "x[np.array([1,2]),np.array([0])]"
   ]
  },
  {
   "cell_type": "markdown",
   "id": "6f5694da",
   "metadata": {},
   "source": [
    "*Integer indexing in NumPy extends basic indexing by using arrays of integers to specify explicit positions across one or more dimensions. Each integer (or set of integers) is used in coordination with others to select specific elements.*"
   ]
  },
  {
   "cell_type": "markdown",
   "id": "1b13f09d",
   "metadata": {},
   "source": [
    "*The result is a new array , a copy of the original data, not a view—constructed by iterating over these index combinations.*"
   ]
  },
  {
   "cell_type": "markdown",
   "id": "37bc4cd2",
   "metadata": {},
   "source": [
    "*Remember If index value are out of bounds then is throws a IndexError*"
   ]
  },
  {
   "cell_type": "markdown",
   "id": "09dfa0df",
   "metadata": {},
   "source": [
    "*When performing indexing on an N-dimensional array using N separate integer arrays, NumPy treats each integer array as specifying indices along a particular axis. It then performs element-wise selection by combining the corresponding elements from each index array, extracting values from those coordinated positions.*"
   ]
  },
  {
   "cell_type": "code",
   "execution_count": null,
   "id": "e2d8f1a9",
   "metadata": {},
   "outputs": [
    {
     "name": "stdout",
     "output_type": "stream",
     "text": [
      "[[ 0  1  2  3  4  5  6  7  8  9]\n",
      " [10 11 12 13 14 15 16 17 18 19]\n",
      " [20 21 22 23 24 25 26 27 28 29]\n",
      " [30 31 32 33 34 35 36 37 38 39]\n",
      " [40 41 42 43 44 45 46 47 48 49]\n",
      " [50 51 52 53 54 55 56 57 58 59]\n",
      " [60 61 62 63 64 65 66 67 68 69]\n",
      " [70 71 72 73 74 75 76 77 78 79]\n",
      " [80 81 82 83 84 85 86 87 88 89]\n",
      " [90 91 92 93 94 95 96 97 98 99]]\n"
     ]
    },
    {
     "data": {
      "text/plain": [
       "array([13, 24, 56, 87])"
      ]
     },
     "execution_count": 160,
     "metadata": {},
     "output_type": "execute_result"
    }
   ],
   "source": [
    "x = np.arange(0,100).reshape(10,10) # 2D Array\n",
    "print(x)\n",
    "x[np.array([1,2,5,8]),np.array([3,4,6,7])] # Two-Integer array used for indexing\n",
    "\n",
    "# Array Used Here Are Interpreted as x[r,c] where r and c are integer array used for indexing\n",
    "# As There Are 4 elements in indexing integer array there are 4 output corresponding to each pair\n",
    "\n",
    "# 1<->3 --> 13 , 2<->4 --> 24 , 5<->6 --> 56 , 8<->7 --> 87"
   ]
  },
  {
   "cell_type": "markdown",
   "id": "a9de2085",
   "metadata": {},
   "source": [
    "*Lets Try To Pair Different Size Of Array With Each Other*"
   ]
  },
  {
   "cell_type": "code",
   "execution_count": null,
   "id": "76ba0278",
   "metadata": {},
   "outputs": [
    {
     "ename": "IndexError",
     "evalue": "shape mismatch: indexing arrays could not be broadcast together with shapes (3,) (4,) ",
     "output_type": "error",
     "traceback": [
      "\u001b[1;31m---------------------------------------------------------------------------\u001b[0m",
      "\u001b[1;31mIndexError\u001b[0m                                Traceback (most recent call last)",
      "Cell \u001b[1;32mIn[161], line 1\u001b[0m\n\u001b[1;32m----> 1\u001b[0m x[np\u001b[38;5;241m.\u001b[39marray([\u001b[38;5;241m2\u001b[39m,\u001b[38;5;241m3\u001b[39m,\u001b[38;5;241m4\u001b[39m]),np\u001b[38;5;241m.\u001b[39marray([\u001b[38;5;241m5\u001b[39m,\u001b[38;5;241m6\u001b[39m,\u001b[38;5;241m7\u001b[39m,\u001b[38;5;241m8\u001b[39m])]\n",
      "\u001b[1;31mIndexError\u001b[0m: shape mismatch: indexing arrays could not be broadcast together with shapes (3,) (4,) "
     ]
    }
   ],
   "source": [
    "x[np.array([2,3,4]),np.array([5,6,7,8])]"
   ]
  },
  {
   "cell_type": "markdown",
   "id": "89b5d48a",
   "metadata": {},
   "source": [
    "*This Gives A Shape Mismatched Error means broadcasting is not possible here*<br>"
   ]
  },
  {
   "cell_type": "markdown",
   "id": "a4df5563",
   "metadata": {},
   "source": [
    "*Important Point :- When There N Integer Indexing Array for N Dimensional Array, then Resultant Output Is Same Size As Size of Indexing Arrays*"
   ]
  },
  {
   "cell_type": "markdown",
   "id": "c0015e9e",
   "metadata": {},
   "source": [
    "* *When Combining Integer Indexing Array with scalar,\n",
    " broadcasting is used to *"
   ]
  },
  {
   "cell_type": "code",
   "execution_count": null,
   "id": "ec9c7dcf",
   "metadata": {},
   "outputs": [
    {
     "data": {
      "text/plain": [
       "array([20, 50])"
      ]
     },
     "execution_count": 162,
     "metadata": {},
     "output_type": "execute_result"
    }
   ],
   "source": [
    "x[np.array([2,5]),0] # Accessing Element from array with one index is fix or one index is scalar\n",
    "# Accessing element with index from 2 and 5 in first row (ex:- c = 0)"
   ]
  },
  {
   "cell_type": "markdown",
   "id": "261ec970",
   "metadata": {},
   "source": [
    "#### **Advanced Integer Indexing Examples And Their Exaplanation**"
   ]
  },
  {
   "cell_type": "markdown",
   "id": "65f35a46",
   "metadata": {},
   "source": [
    "***This Examples Are Mainly Problems Or Harder Examples***"
   ]
  },
  {
   "cell_type": "markdown",
   "id": "8230777f",
   "metadata": {},
   "source": [
    "* ***Integer Array Indexing***"
   ]
  },
  {
   "cell_type": "markdown",
   "id": "d3fcba75",
   "metadata": {},
   "source": [
    "*Ex1:-Code To Find specific element from every row of an array*"
   ]
  },
  {
   "cell_type": "code",
   "execution_count": null,
   "id": "502b9d9b",
   "metadata": {},
   "outputs": [
    {
     "name": "stdout",
     "output_type": "stream",
     "text": [
      "[[1 2]\n",
      " [3 4]\n",
      " [5 6]]\n"
     ]
    }
   ],
   "source": [
    "a = np.array([[1,2],[3,4],[5,6]])\n",
    "print(a)"
   ]
  },
  {
   "cell_type": "code",
   "execution_count": null,
   "id": "58dd1f05",
   "metadata": {},
   "outputs": [
    {
     "name": "stdout",
     "output_type": "stream",
     "text": [
      "[1 3 5]\n",
      "[1 3 5]\n"
     ]
    }
   ],
   "source": [
    "print(a[[0,1,2],[0,0,0]]) # Accessing first element from every row using [0,1,2] represents first,second,third rows\n",
    "# OR\n",
    "print(a[:,0])"
   ]
  },
  {
   "cell_type": "markdown",
   "id": "fbc7866e",
   "metadata": {},
   "source": [
    "**Above Example Represents How To Access List Out Of Larger Array Using Advanced Indexing**"
   ]
  },
  {
   "cell_type": "markdown",
   "id": "e1a7b07e",
   "metadata": {},
   "source": [
    "*Ex2:-More Complex Form of Indexing*"
   ]
  },
  {
   "cell_type": "code",
   "execution_count": null,
   "id": "a648d4de",
   "metadata": {},
   "outputs": [
    {
     "name": "stdout",
     "output_type": "stream",
     "text": [
      "[[1 2 2]\n",
      " [3 4 4]\n",
      " [5 6 6]]\n"
     ]
    }
   ],
   "source": [
    "print(a[:,[0,1,1]]) \n",
    "\n",
    "# [[1,2]   <- c1\n",
    "#  [3,4]   <- c2\n",
    "#  [5,6]]  <- c3\n",
    "# a[:,[0,1,1]] -> ':' hepls to traverse along rows , '[0,1,1]' hepls to select specific element from each traversed rows\n"
   ]
  },
  {
   "cell_type": "code",
   "execution_count": null,
   "id": "22d87222",
   "metadata": {},
   "outputs": [],
   "source": [
    "#  [0,1,1]     <- indexing array \n",
    "\n",
    "# [[1 2 2]     <- first row's [first,second,second] element using indexing array\n",
    "#  [3 4 4]\n",
    "#  [5 6 6]]"
   ]
  },
  {
   "cell_type": "markdown",
   "id": "b84aecc0",
   "metadata": {},
   "source": [
    "*Ex3:-From a 6x5 array the corner elements should be selected using advanced indexing.*"
   ]
  },
  {
   "cell_type": "code",
   "execution_count": null,
   "id": "e72f2f81",
   "metadata": {},
   "outputs": [
    {
     "name": "stdout",
     "output_type": "stream",
     "text": [
      "[[ 1  2  3  4  5]\n",
      " [ 6  7  8  9 10]\n",
      " [11 12 13 14 15]\n",
      " [16 17 18 19 20]\n",
      " [21 22 23 24 25]\n",
      " [26 27 28 29 30]]\n"
     ]
    }
   ],
   "source": [
    "a = np.arange(1,31).reshape(6,5)\n",
    "print(a)"
   ]
  },
  {
   "cell_type": "code",
   "execution_count": null,
   "id": "18f3a649",
   "metadata": {},
   "outputs": [
    {
     "data": {
      "text/plain": [
       "array([[ 1,  5],\n",
       "       [26, 30]])"
      ]
     },
     "execution_count": 168,
     "metadata": {},
     "output_type": "execute_result"
    }
   ],
   "source": [
    "# Answer:-\n",
    "a[[0,0,5,5],[0,4,0,4]].reshape(2,2)\n",
    "# Here We Use two integer array for indexing corner element in original array"
   ]
  },
  {
   "cell_type": "code",
   "execution_count": null,
   "id": "f27903d5",
   "metadata": {},
   "outputs": [
    {
     "data": {
      "text/plain": [
       "array([[ 1,  5],\n",
       "       [26, 30]])"
      ]
     },
     "execution_count": 169,
     "metadata": {},
     "output_type": "execute_result"
    }
   ],
   "source": [
    "# Another Way To Do\n",
    "a[[[0,0],[5,5]],[[0,4],[0,4]]]"
   ]
  },
  {
   "cell_type": "markdown",
   "id": "5e3d12eb",
   "metadata": {},
   "source": [
    "##### **Broadcasting(Short Introduction)**"
   ]
  },
  {
   "cell_type": "markdown",
   "id": "afd82e50",
   "metadata": {},
   "source": [
    "***Broadcasting descibes how numpy treats arrays with different shaped during arithmatic operations***"
   ]
  },
  {
   "cell_type": "markdown",
   "id": "3ae59ec4",
   "metadata": {},
   "source": [
    "*Smaller Array Are Broadcasted over larger array for there shape compatibilty*<br>\n",
    "*It Stretches smaller array over larger ones*<br>"
   ]
  },
  {
   "cell_type": "markdown",
   "id": "78a5fc11",
   "metadata": {},
   "source": [
    "*Streching is a conceptual Numpy doesn't make copies of smaller array it uses original array efficently*"
   ]
  },
  {
   "cell_type": "code",
   "execution_count": null,
   "id": "7453fe72",
   "metadata": {},
   "outputs": [
    {
     "name": "stdout",
     "output_type": "stream",
     "text": [
      "[[6 7 8 3 7 5]\n",
      " [2 4 6 4 8 3]]\n",
      "[7 8 9 2]\n"
     ]
    },
    {
     "ename": "ValueError",
     "evalue": "operands could not be broadcast together with shapes (2,6) (4,) ",
     "output_type": "error",
     "traceback": [
      "\u001b[1;31m---------------------------------------------------------------------------\u001b[0m",
      "\u001b[1;31mValueError\u001b[0m                                Traceback (most recent call last)",
      "Cell \u001b[1;32mIn[170], line 6\u001b[0m\n\u001b[0;32m      3\u001b[0m b \u001b[38;5;241m=\u001b[39m np\u001b[38;5;241m.\u001b[39marray([\u001b[38;5;241m7\u001b[39m,\u001b[38;5;241m8\u001b[39m,\u001b[38;5;241m9\u001b[39m,\u001b[38;5;241m2\u001b[39m])\n\u001b[0;32m      4\u001b[0m \u001b[38;5;28mprint\u001b[39m(b)\n\u001b[1;32m----> 6\u001b[0m a\u001b[38;5;241m*\u001b[39mb\n",
      "\u001b[1;31mValueError\u001b[0m: operands could not be broadcast together with shapes (2,6) (4,) "
     ]
    }
   ],
   "source": [
    "a = np.array([[6,7,8,3,7,5],[2,4,6,4,8,3]])\n",
    "print(a)\n",
    "b = np.array([7,8,9,2])\n",
    "print(b)\n",
    "\n",
    "a*b\n"
   ]
  },
  {
   "cell_type": "markdown",
   "id": "0ca01c89",
   "metadata": {},
   "source": [
    "*Here Multiplication is not possible due to mismatched dimenstions between two np arrays*<br><br>\n",
    "*In This Case Broadcasting Also Does Not Works Due To inefficient streching*<br><br>\n",
    "*Here b array also cannot be broadcasted due to mismatched size of broadcastor and broadcasting array*<br><br>\n",
    "*b array has 4 element but the a array's first element which is an array has 6 element so if we multiply first 4 element there will be two element still there which result error*<br><br>\n",
    "*If there will be 6 element in b array each element can be broadcasted over entire a's array , where it has two elements which are indeed array with 6 elements*"
   ]
  },
  {
   "cell_type": "code",
   "execution_count": null,
   "id": "7d80cada",
   "metadata": {},
   "outputs": [
    {
     "data": {
      "text/plain": [
       "array([[24, 49, 16, 21, 21,  0],\n",
       "       [ 8, 28, 12, 28, 24,  0]])"
      ]
     },
     "execution_count": 171,
     "metadata": {},
     "output_type": "execute_result"
    }
   ],
   "source": [
    "c = np.array([4,7,2,7,3,0])# Here We will make array of 6 element which can be broadcsted over entire a array\n",
    "a*c"
   ]
  },
  {
   "cell_type": "markdown",
   "id": "ca80bb67",
   "metadata": {},
   "source": [
    "*Broadcasting works by multiplying a's first element(array:-[6,7,8,3,7,5]) also with a's second element(array:-[2,4,6,4,8,3])*"
   ]
  },
  {
   "cell_type": "markdown",
   "id": "25d7e106",
   "metadata": {},
   "source": [
    "**np.newaxis()**"
   ]
  },
  {
   "cell_type": "markdown",
   "id": "54ee46de",
   "metadata": {},
   "source": [
    "*.newaxis() allows to add new axis or new dimension , how we want*"
   ]
  },
  {
   "cell_type": "code",
   "execution_count": null,
   "id": "08c786f9",
   "metadata": {},
   "outputs": [
    {
     "data": {
      "text/plain": [
       "(3,)"
      ]
     },
     "execution_count": 172,
     "metadata": {},
     "output_type": "execute_result"
    }
   ],
   "source": [
    "o = np.array([1,2,3])\n",
    "o.shape\n"
   ]
  },
  {
   "cell_type": "code",
   "execution_count": null,
   "id": "589c2ced",
   "metadata": {},
   "outputs": [
    {
     "name": "stdout",
     "output_type": "stream",
     "text": [
      "[[[1 2 3]]]\n"
     ]
    },
    {
     "data": {
      "text/plain": [
       "(1, 1, 3)"
      ]
     },
     "execution_count": 173,
     "metadata": {},
     "output_type": "execute_result"
    }
   ],
   "source": [
    "p=o[np.newaxis,np.newaxis,:]\n",
    "print(p)\n",
    "p.shape\n"
   ]
  },
  {
   "cell_type": "markdown",
   "id": "9d73b668",
   "metadata": {},
   "source": [
    "## **Day5 Numpy Notes**"
   ]
  },
  {
   "cell_type": "markdown",
   "id": "ae201822",
   "metadata": {},
   "source": [
    "***Boolean Array Indexing***"
   ]
  },
  {
   "cell_type": "markdown",
   "id": "07808e87",
   "metadata": {},
   "source": [
    "*In this type of advanced array indexing obj is an array of boolean type , they can be intered directly or can be obtained by comparing cases to get output a boolean value*"
   ]
  },
  {
   "cell_type": "code",
   "execution_count": null,
   "id": "ca892d82",
   "metadata": {},
   "outputs": [],
   "source": [
    "x = np.array([[1.2,2.3],[4.5,5.6],[6.7,7.8]]) "
   ]
  },
  {
   "cell_type": "code",
   "execution_count": null,
   "id": "f0368532",
   "metadata": {},
   "outputs": [
    {
     "data": {
      "text/plain": [
       "array([[False, False],\n",
       "       [False,  True],\n",
       "       [ True,  True]])"
      ]
     },
     "execution_count": 175,
     "metadata": {},
     "output_type": "execute_result"
    }
   ],
   "source": [
    "x>4.5  "
   ]
  },
  {
   "cell_type": "markdown",
   "id": "cb32f93c",
   "metadata": {},
   "source": [
    "*This Expression Compares each value of x with given condition to store in array with boolean data tyep*"
   ]
  },
  {
   "cell_type": "markdown",
   "id": "27d1c62a",
   "metadata": {},
   "source": [
    "*The stored array is of same size as x , but each value of x is compared and is stored in form of true or false*"
   ]
  },
  {
   "cell_type": "code",
   "execution_count": null,
   "id": "5b64b011",
   "metadata": {},
   "outputs": [
    {
     "data": {
      "text/plain": [
       "array([4., 6., 2., 1., 4.])"
      ]
     },
     "execution_count": 176,
     "metadata": {},
     "output_type": "execute_result"
    }
   ],
   "source": [
    "o = np.array([4,6,2,np.nan,np.nan,1,4])\n",
    "o[~np.isnan(o)] # Outputs Value Which Are Not Of nan type\n",
    "\n",
    "# np.nana is none type of data type in numpy"
   ]
  },
  {
   "cell_type": "markdown",
   "id": "e20cf409",
   "metadata": {},
   "source": [
    "***Or It Can Also Be Used To Filter Number For Particular Condition To Operate Them Afterward***"
   ]
  },
  {
   "cell_type": "code",
   "execution_count": null,
   "id": "1d7a7856",
   "metadata": {},
   "outputs": [
    {
     "name": "stdout",
     "output_type": "stream",
     "text": [
      "[[ 3  5  7  9]\n",
      " [11 13 15 17]\n",
      " [19 21 23 25]\n",
      " [27 29 31 33]\n",
      " [35 37 39 41]\n",
      " [43 45 47 49]\n",
      " [51 53 55 57]]\n"
     ]
    }
   ],
   "source": [
    "u = np.arange(3,58,2).reshape(7,4)\n",
    "print(u)"
   ]
  },
  {
   "cell_type": "code",
   "execution_count": null,
   "id": "def29b79",
   "metadata": {},
   "outputs": [
    {
     "data": {
      "text/plain": [
       "array([ 3,  9, 15, 21, 27, 33, 39, 45, 51, 57])"
      ]
     },
     "execution_count": 178,
     "metadata": {},
     "output_type": "execute_result"
    }
   ],
   "source": [
    "u[u%3 == 0]"
   ]
  },
  {
   "cell_type": "markdown",
   "id": "a5c54c48",
   "metadata": {},
   "source": [
    "*Here We Have Filtered Numbers Which Are Divisible By 3 From Larger Set Of Data*"
   ]
  },
  {
   "cell_type": "markdown",
   "id": "bb3df0e9",
   "metadata": {},
   "source": [
    "#### **Advanced Boolean Indexing Examples And Their Exaplanation**"
   ]
  },
  {
   "cell_type": "markdown",
   "id": "143b074f",
   "metadata": {},
   "source": [
    "*Ex1:- From an array , select all rows which sum up to less or equal to two*"
   ]
  },
  {
   "cell_type": "code",
   "execution_count": null,
   "id": "23f5d269",
   "metadata": {},
   "outputs": [
    {
     "data": {
      "text/plain": [
       "array([[0, 1],\n",
       "       [1, 1]])"
      ]
     },
     "execution_count": 179,
     "metadata": {},
     "output_type": "execute_result"
    }
   ],
   "source": [
    "x = np.array([[0, 1], [1, 1], [2, 2]])\n",
    "row = np.sum(x,axis=1)\n",
    "x[row<=2]"
   ]
  },
  {
   "cell_type": "markdown",
   "id": "cfb7495e",
   "metadata": {},
   "source": [
    "*Ex2:-Use Boolean indexing to select all rows adding upto an even number with column 0 ,2 should be selected with advanced integer indexing*"
   ]
  },
  {
   "cell_type": "code",
   "execution_count": null,
   "id": "15722916",
   "metadata": {},
   "outputs": [],
   "source": [
    "x = np.array([[ 0,  1,  2],\n",
    "              [ 3,  4,  5],\n",
    "              [ 6,  7,  8],\n",
    "              [ 9, 10, 11]])"
   ]
  },
  {
   "cell_type": "code",
   "execution_count": null,
   "id": "63b25cef",
   "metadata": {},
   "outputs": [
    {
     "name": "stdout",
     "output_type": "stream",
     "text": [
      "[ 3 12 21 30]\n"
     ]
    },
    {
     "data": {
      "text/plain": [
       "array([[ 3,  5],\n",
       "       [ 9, 11]])"
      ]
     },
     "execution_count": 181,
     "metadata": {},
     "output_type": "execute_result"
    }
   ],
   "source": [
    "rowssum = np.sum(x,axis=1)\n",
    "print(rowssum)\n",
    "rows = rowssum % 2 == 0\n",
    "columns = [0,2]\n",
    "x[np.ix_(rows,columns)]"
   ]
  },
  {
   "cell_type": "markdown",
   "id": "36dd4b68",
   "metadata": {},
   "source": [
    "***Combining Advanced And Basic Indexing***"
   ]
  },
  {
   "cell_type": "markdown",
   "id": "9255fe6d",
   "metadata": {},
   "source": [
    "*When We Use at least one slice ':' , ellipse '...' in the index , such type of indexing is state as complex or combinational indexing*"
   ]
  },
  {
   "cell_type": "markdown",
   "id": "f1de82e6",
   "metadata": {},
   "source": [
    "*Where Both Advanced And Basic Indexing Works Independently to get required output*"
   ]
  },
  {
   "cell_type": "code",
   "execution_count": null,
   "id": "94e1d2d4",
   "metadata": {},
   "outputs": [
    {
     "name": "stdout",
     "output_type": "stream",
     "text": [
      "[[ 1  2  3  4  5  6  7]\n",
      " [ 8  9 10 11 12 13 14]\n",
      " [15 16 17 18 19 20 21]\n",
      " [22 23 24 25 26 27 28]\n",
      " [29 30 31 32 33 34 35]]\n"
     ]
    }
   ],
   "source": [
    "y = np.arange(1,36).reshape(5,7)\n",
    "print(y)"
   ]
  },
  {
   "cell_type": "code",
   "execution_count": null,
   "id": "9fd4255d",
   "metadata": {},
   "outputs": [
    {
     "data": {
      "text/plain": [
       "array([[15, 16],\n",
       "       [29, 30],\n",
       "       [22, 23]])"
      ]
     },
     "execution_count": 183,
     "metadata": {},
     "output_type": "execute_result"
    }
   ],
   "source": [
    "y[np.array([2,4,3]),0:2] \n",
    "# Here Integer Indexing and slicing Works independently "
   ]
  },
  {
   "cell_type": "code",
   "execution_count": null,
   "id": "4f6614ce",
   "metadata": {},
   "outputs": [
    {
     "data": {
      "text/plain": [
       "array([[16, 17],\n",
       "       [30, 31],\n",
       "       [23, 24]])"
      ]
     },
     "execution_count": 184,
     "metadata": {},
     "output_type": "execute_result"
    }
   ],
   "source": [
    "# Also Can be done by\n",
    "y[np.array([2,4,3]),:][:,1:3]"
   ]
  },
  {
   "cell_type": "markdown",
   "id": "79767c34",
   "metadata": {},
   "source": [
    "Ex1:-"
   ]
  },
  {
   "cell_type": "code",
   "execution_count": null,
   "id": "771858c0",
   "metadata": {},
   "outputs": [
    {
     "data": {
      "text/plain": [
       "array([[False, False, False, False, False, False, False],\n",
       "       [False, False, False, False, False, False, False],\n",
       "       [False, False, False, False, False, False, False],\n",
       "       [ True,  True,  True,  True,  True,  True,  True],\n",
       "       [ True,  True,  True,  True,  True,  True,  True]])"
      ]
     },
     "execution_count": 185,
     "metadata": {},
     "output_type": "execute_result"
    }
   ],
   "source": [
    "x = np.arange(35).reshape(5, 7)\n",
    "b = x>20\n",
    "b"
   ]
  },
  {
   "cell_type": "code",
   "execution_count": null,
   "id": "efa1eef5",
   "metadata": {},
   "outputs": [
    {
     "data": {
      "text/plain": [
       "array([[22, 23],\n",
       "       [29, 30]])"
      ]
     },
     "execution_count": 186,
     "metadata": {},
     "output_type": "execute_result"
    }
   ],
   "source": [
    "x[b[:,5],1:3]"
   ]
  },
  {
   "cell_type": "markdown",
   "id": "38cdffa0",
   "metadata": {},
   "source": [
    "*Boolean Array Indexing Is Used With Slicing ndarrays for complex outputs*"
   ]
  },
  {
   "cell_type": "markdown",
   "id": "7a1a5bf3",
   "metadata": {},
   "source": [
    "*So Combination Indexing Refers to complex indexing which invauls multiple types of indexing*"
   ]
  },
  {
   "cell_type": "markdown",
   "id": "bb68cf31",
   "metadata": {},
   "source": [
    "### *Field Access*"
   ]
  },
  {
   "cell_type": "markdown",
   "id": "e8725e47",
   "metadata": {},
   "source": [
    "*If the ndarray object is a structured array the fields of the array can be accessed by indexing the array with strings, dictionary-like.*"
   ]
  },
  {
   "cell_type": "code",
   "execution_count": null,
   "id": "db5d96c6",
   "metadata": {},
   "outputs": [
    {
     "name": "stdout",
     "output_type": "stream",
     "text": [
      "[[(0, [[0., 0., 0.], [0., 0., 0.], [0., 0., 0.]])\n",
      "  (0, [[0., 0., 0.], [0., 0., 0.], [0., 0., 0.]])]\n",
      " [(0, [[0., 0., 0.], [0., 0., 0.], [0., 0., 0.]])\n",
      "  (0, [[0., 0., 0.], [0., 0., 0.], [0., 0., 0.]])]]\n"
     ]
    },
    {
     "data": {
      "text/plain": [
       "(2, 2)"
      ]
     },
     "execution_count": 187,
     "metadata": {},
     "output_type": "execute_result"
    }
   ],
   "source": [
    "x = np.zeros((2, 2), dtype=[('a', np.int32), ('b', np.float64, (3, 3))])\n",
    "print(x)\n",
    "x['a'].shape"
   ]
  },
  {
   "cell_type": "code",
   "execution_count": null,
   "id": "e882af93",
   "metadata": {},
   "outputs": [
    {
     "data": {
      "text/plain": [
       "dtype('int32')"
      ]
     },
     "execution_count": 188,
     "metadata": {},
     "output_type": "execute_result"
    }
   ],
   "source": [
    "x['a'].dtype"
   ]
  },
  {
   "cell_type": "code",
   "execution_count": null,
   "id": "6153fe06",
   "metadata": {},
   "outputs": [
    {
     "data": {
      "text/plain": [
       "(2, 2, 3, 3)"
      ]
     },
     "execution_count": 189,
     "metadata": {},
     "output_type": "execute_result"
    }
   ],
   "source": [
    "x['b'].shape"
   ]
  },
  {
   "cell_type": "code",
   "execution_count": null,
   "id": "b6b269af",
   "metadata": {},
   "outputs": [
    {
     "data": {
      "text/plain": [
       "dtype('float64')"
      ]
     },
     "execution_count": 190,
     "metadata": {},
     "output_type": "execute_result"
    }
   ],
   "source": [
    "x['b'].dtype"
   ]
  },
  {
   "cell_type": "markdown",
   "id": "dde6d85a",
   "metadata": {},
   "source": [
    "## *I/O In Numpy*"
   ]
  },
  {
   "cell_type": "markdown",
   "id": "0ad0e711",
   "metadata": {},
   "source": [
    "*Note: NumPy supports I/O with .npy and .txt files (np.load, np.save, np.loadtxt), but this is rarely used directly when working with Pandas or full datasets.*"
   ]
  },
  {
   "cell_type": "markdown",
   "id": "f65430a5",
   "metadata": {},
   "source": [
    "### ***np.save()***"
   ]
  },
  {
   "cell_type": "markdown",
   "id": "03b15e4e",
   "metadata": {},
   "source": [
    "*Save an array to a binary file in NumPy .npy format.*"
   ]
  },
  {
   "cell_type": "code",
   "execution_count": null,
   "id": "a91b196d",
   "metadata": {},
   "outputs": [
    {
     "data": {
      "text/plain": [
       "array([[9, 6, 4],\n",
       "       [3, 6, 3]])"
      ]
     },
     "execution_count": 218,
     "metadata": {},
     "output_type": "execute_result"
    }
   ],
   "source": [
    "np.save('file2',np.array([[9,6,4],[3,6,3]]))\n",
    "np.load('file2.npy')"
   ]
  },
  {
   "cell_type": "code",
   "execution_count": null,
   "id": "f908aca9",
   "metadata": {},
   "outputs": [
    {
     "data": {
      "text/plain": [
       "array([ 0,  1,  2,  3,  4,  5,  6,  7,  8,  9, 10, 11, 12, 13, 14, 15, 16,\n",
       "       17, 18, 19, 20, 21, 22, 23, 24, 25, 26, 27, 28, 29])"
      ]
     },
     "execution_count": 223,
     "metadata": {},
     "output_type": "execute_result"
    }
   ],
   "source": [
    "from tempfile import TemporaryFile\n",
    "outfile = TemporaryFile()\n",
    "x = np.arange(30)\n",
    "np.save(outfile,x)\n",
    "_ = outfile.seek(0)  # Need to stimulate closing and reopening of file\n",
    "np.load(outfile)"
   ]
  },
  {
   "cell_type": "markdown",
   "id": "06018806",
   "metadata": {},
   "source": [
    "### ***np.load()***"
   ]
  },
  {
   "cell_type": "markdown",
   "metadata": {},
   "source": [
    "*Load arrays or pickled objects from .npy, .npz or pickled files.*"
   ]
  },
  {
   "cell_type": "code",
   "execution_count": null,
   "id": "05817d9f",
   "metadata": {},
   "outputs": [
    {
     "data": {
      "text/plain": [
       "array([[5.9, 1.8, 6.3, 8. , 9.2, 5.3, 4.5, 2.9, 4.3],\n",
       "       [3.9, 2.8, 1.4, 2.8, 6.8, 3.3, 7.6, 4.3, 5.3],\n",
       "       [6.2, 2.9, 7.9, 3.4, 4.5, 6.7, 7.9, 0.5, 2.4],\n",
       "       [0.6, 7.1, 6.5, 9.3, 3.7, 5.5, 8.1, 1.8, 0.9],\n",
       "       [5.1, 6.8, 3.3, 2.8, 1.9, 6.2, 0.6, 1.7, 0.4],\n",
       "       [2.3, 8.4, 7.1, 2.2, 7. , 1.8, 8.6, 5.1, 1.3],\n",
       "       [5.8, 7.1, 2.2, 2.6, 3.7, 3.4, 1.2, 9.3, 6.1],\n",
       "       [7.9, 6.5, 6.9, 8.3, 3.8, 2. , 0.2, 1.5, 0.5]])"
      ]
     },
     "execution_count": 226,
     "metadata": {},
     "output_type": "execute_result"
    }
   ],
   "source": [
    "np.save('file3',np.random.randint(2,100,size=(8,9))/10)\n",
    "np.load('file3.npy')"
   ]
  },
  {
   "cell_type": "markdown",
   "id": "46368739",
   "metadata": {},
   "source": [
    "### ***np.loadtxt()***"
   ]
  },
  {
   "cell_type": "markdown",
   "id": "1fda03e6",
   "metadata": {},
   "source": [
    "*Load Data From Text File*<br><br>\n",
    "*Syntax:- np.loadtxt('filename','dtype','delimeter')*<br>\n",
    "* *filename:- Name of file , path of file(with name) , or list* <br>\n",
    "* *dtype:-Data-type of resulting array (deafult:-float)*<br>\n",
    "* *delimeter:-The character used to separate the values.*"
   ]
  },
  {
   "cell_type": "markdown",
   "id": "3d506c04",
   "metadata": {},
   "source": [
    "*There are multiple argument but this three are most used*"
   ]
  },
  {
   "cell_type": "code",
   "execution_count": 96,
   "id": "e1c49ecc",
   "metadata": {},
   "outputs": [
    {
     "name": "stdout",
     "output_type": "stream",
     "text": [
      "[1.  1.3 8.9]\n"
     ]
    }
   ],
   "source": [
    "from io import StringIO\n",
    "c = StringIO(\"1,1.3,8.9\")\n",
    "data = np.loadtxt(c,delimiter=\",\")\n",
    "print(data)"
   ]
  },
  {
   "cell_type": "code",
   "execution_count": 98,
   "id": "10b9c697",
   "metadata": {},
   "outputs": [
    {
     "name": "stdout",
     "output_type": "stream",
     "text": [
      "[11. 38.  9.]\n"
     ]
    }
   ],
   "source": [
    "c = StringIO(\"11.38.9\")\n",
    "data2 = np.loadtxt(c,delimiter='.')\n",
    "print(data2)\n"
   ]
  },
  {
   "cell_type": "markdown",
   "id": "9e23a38d",
   "metadata": {},
   "source": [
    "### ***np.getfromtxt()***"
   ]
  },
  {
   "cell_type": "markdown",
   "id": "512fe6bb",
   "metadata": {},
   "source": [
    "*Load Data From a Text File, with missing values handled as specified*<br>\n",
    "*Syntax:-np.genfromtxt('filename','dtype','delimeter=,')*<br>\n",
    "* *filename:-File, filename, list, or generator to read.*<br>\n",
    "* *dtype:-Data type of the resulting array.* "
   ]
  },
  {
   "cell_type": "code",
   "execution_count": null,
   "id": "96e28116",
   "metadata": {},
   "outputs": [
    {
     "data": {
      "text/plain": [
       "array((1, 1.3, b'abcde'),\n",
       "      dtype=[('myint', '<i8'), ('myfloat', '<f8'), ('mystring', 'S5')])"
      ]
     },
     "execution_count": 231,
     "metadata": {},
     "output_type": "execute_result"
    }
   ],
   "source": [
    "s = StringIO(\"1,1.3,abcde\")\n",
    "data = np.genfromtxt(s, dtype=[('myint','i8'),('myfloat','f8'),\n",
    "('mystring','S5')], delimiter=\",\")\n",
    "data"
   ]
  },
  {
   "cell_type": "markdown",
   "id": "0353dbd6",
   "metadata": {},
   "source": [
    "### ***Argument Table For getfromtxt()***\n",
    "\n",
    "| **Arguments** | **What They Do** | **How To Use** |\n",
    "|---|---|---|\n",
    "| fname | Path to the file | np.getfromtxt(fname = 'filename.ext')|\n",
    "| delimiter | String Used To Seperate values | np.getfromtxt(delimiter = ' \"character\" ')|\n",
    "| dtype | Data-Type of resulting array | np.getfromtxt(dtype = 'float')|\n",
    "| skipheader | The number of lines to skip at the beginning of the file. | np.getfromtxt(skipheader = '1')|\n",
    "| usecols | Load selected columns only | np.getfromtxt(usecols = [0,1])|"
   ]
  },
  {
   "cell_type": "markdown",
   "id": "2877f335",
   "metadata": {},
   "source": [
    "## ***Sorting ,Searching And Counting Functions***"
   ]
  },
  {
   "cell_type": "markdown",
   "id": "69ce7485",
   "metadata": {},
   "source": [
    "### ***numpy.sort()***"
   ]
  },
  {
   "cell_type": "markdown",
   "id": "7b3f5fa3",
   "metadata": {},
   "source": [
    "*It Returns Sorted Copy Of Given Array*<br>\n",
    "*Has two major arguments .sort(array,axis=-1)*"
   ]
  },
  {
   "cell_type": "code",
   "execution_count": null,
   "id": "24e8e4ab",
   "metadata": {},
   "outputs": [
    {
     "name": "stdout",
     "output_type": "stream",
     "text": [
      "[6 5 7 7 2 8 8 6 6]\n",
      "[2 5 6 6 6 7 7 8 8]\n"
     ]
    }
   ],
   "source": [
    "a = np.random.randint(0,10,size = (9))\n",
    "print(a)\n",
    "print(np.sort(a))"
   ]
  },
  {
   "cell_type": "code",
   "execution_count": null,
   "id": "be8888f7",
   "metadata": {},
   "outputs": [
    {
     "name": "stdout",
     "output_type": "stream",
     "text": [
      "[[ 4  3  3  0  1  7  2]\n",
      " [ 7  8  2 10 11  7 10]]\n",
      "[[ 0  1  2  3  3  4  7]\n",
      " [ 2  7  7  8 10 10 11]]\n"
     ]
    }
   ],
   "source": [
    "b = np.random.randint(0,14,size=(2,7))\n",
    "print(b)\n",
    "print(np.sort(b))"
   ]
  },
  {
   "cell_type": "markdown",
   "id": "580f0b99",
   "metadata": {},
   "source": [
    "### ***numpy.argsort()***"
   ]
  },
  {
   "cell_type": "markdown",
   "id": "2f530fea",
   "metadata": {},
   "source": [
    "*Returns indices of element of sorted array in original array*"
   ]
  },
  {
   "cell_type": "code",
   "execution_count": null,
   "id": "21e40755",
   "metadata": {},
   "outputs": [
    {
     "name": "stdout",
     "output_type": "stream",
     "text": [
      "[2 5 6 6 6 7 7 8 8]\n",
      "[4 1 0 7 8 2 3 5 6]\n"
     ]
    }
   ],
   "source": [
    "print(np.sort(a))\n",
    "print(np.argsort(a))"
   ]
  },
  {
   "cell_type": "markdown",
   "id": "34b0d927",
   "metadata": {},
   "source": [
    "### ***numpy.ndarray.sort()***"
   ]
  },
  {
   "cell_type": "markdown",
   "id": "f10068f8",
   "metadata": {},
   "source": [
    "*Sorts An N Dimenstional array*"
   ]
  },
  {
   "cell_type": "markdown",
   "id": "447c4eec",
   "metadata": {},
   "source": [
    "*Same as numpy.sort but it act as array attribute not as numpy function*"
   ]
  },
  {
   "cell_type": "code",
   "execution_count": null,
   "id": "41c2c69b",
   "metadata": {},
   "outputs": [
    {
     "data": {
      "text/plain": [
       "array([6, 5, 7, 7, 2, 8, 8, 6, 6])"
      ]
     },
     "execution_count": 194,
     "metadata": {},
     "output_type": "execute_result"
    }
   ],
   "source": [
    "a.sort\n",
    "a"
   ]
  },
  {
   "cell_type": "markdown",
   "id": "48ed23dd",
   "metadata": {},
   "source": [
    "Has axis as parameter to perform action along that row"
   ]
  },
  {
   "cell_type": "markdown",
   "id": "89524ee0",
   "metadata": {},
   "source": [
    "### ***numpy.partition()***"
   ]
  },
  {
   "cell_type": "markdown",
   "id": "24ce69d7",
   "metadata": {},
   "source": [
    "*Divides The Array At Given Index where element left to that index are < array[index] and element right to that index are > or equal to array[index]*"
   ]
  },
  {
   "cell_type": "markdown",
   "id": "6f837915",
   "metadata": {},
   "source": [
    "*It Has Two Arguments array , position of partition and axis*"
   ]
  },
  {
   "cell_type": "code",
   "execution_count": null,
   "id": "6810d3c7",
   "metadata": {},
   "outputs": [
    {
     "data": {
      "text/plain": [
       "array([50, 41, 94, 97, 64, 18, 75, 12, 56, 61, 92, 94, 11, 34, 55, 29, 29,\n",
       "       49, 47, 36, 86, 43, 91, 30, 63, 93, 30, 26, 66, 23, 28, 21, 24, 89,\n",
       "       64, 65, 37, 83, 60, 22, 77, 18, 12, 54, 47, 95, 16, 68, 66, 92, 32,\n",
       "       19, 16, 40, 36, 73, 52, 61, 74, 93, 98, 17, 30, 93, 84, 75, 33, 70,\n",
       "       45, 89, 75, 55, 38, 71, 24, 81, 39, 53, 38, 62, 44, 47, 47, 34, 39,\n",
       "       75, 97, 28, 85, 21])"
      ]
     },
     "execution_count": 195,
     "metadata": {},
     "output_type": "execute_result"
    }
   ],
   "source": [
    "k = np.random.randint(10,99,size = (90))\n",
    "k"
   ]
  },
  {
   "cell_type": "code",
   "execution_count": null,
   "id": "9ed7bafc",
   "metadata": {},
   "outputs": [
    {
     "data": {
      "text/plain": [
       "array([18, 21, 28, 39, 34, 18, 47, 12, 47, 44, 38, 39, 11, 34, 24, 29, 29,\n",
       "       38, 45, 36, 33, 43, 30, 30, 17, 36, 30, 26, 40, 23, 28, 21, 24, 16,\n",
       "       19, 32, 37, 16, 41, 22, 12, 47, 47, 49, 55, 53, 54, 52, 50, 55, 56,\n",
       "       64, 61, 60, 61, 63, 62, 64, 65, 66, 66, 68, 70, 71, 73, 74, 75, 75,\n",
       "       75, 75, 89, 86, 84, 93, 91, 81, 94, 98, 92, 93, 93, 89, 92, 83, 97,\n",
       "       95, 97, 94, 85, 77])"
      ]
     },
     "execution_count": 196,
     "metadata": {},
     "output_type": "execute_result"
    }
   ],
   "source": [
    "np.partition(k,61)"
   ]
  },
  {
   "cell_type": "markdown",
   "id": "f50ae743",
   "metadata": {},
   "source": [
    "*Creates a copy of the array and partially sorts it in such a way that the value of the element in k-th position is in the position it would be in a sorted array. In the output array, all elements smaller than the k-th element are located to the left of this element and all equal or greater are located to its right.*"
   ]
  },
  {
   "cell_type": "markdown",
   "id": "b0c7770d",
   "metadata": {},
   "source": [
    "### ***numpy.argpartition()***"
   ]
  },
  {
   "cell_type": "markdown",
   "id": "364aca25",
   "metadata": {},
   "source": [
    "*Returns an array of indices of the same shape as a that index data along the given axis in partitioned order.*"
   ]
  },
  {
   "cell_type": "markdown",
   "id": "1ef76e21",
   "metadata": {},
   "source": [
    "*Same As Partition but returns indices of *"
   ]
  },
  {
   "cell_type": "code",
   "execution_count": null,
   "id": "46fc3845",
   "metadata": {},
   "outputs": [
    {
     "data": {
      "text/plain": [
       "array([ 2,  1,  2,  3,  9,  5,  4,  7, 38])"
      ]
     },
     "execution_count": 208,
     "metadata": {},
     "output_type": "execute_result"
    }
   ],
   "source": [
    "x = np.array([3,9,7,5,38,2, 4, 2, 1])\n",
    "np.argpartition(x,3)\n",
    "x[np.argpartition(x,3)]"
   ]
  },
  {
   "cell_type": "markdown",
   "id": "1dfa429a",
   "metadata": {},
   "source": [
    "*Which Can Be Further Used In Indexing*"
   ]
  },
  {
   "cell_type": "markdown",
   "id": "c74d4955",
   "metadata": {},
   "source": [
    "### ***numpy.maximum()***"
   ]
  },
  {
   "cell_type": "markdown",
   "id": "55ba8c73",
   "metadata": {},
   "source": [
    "*This Function Returns element-wise maximum value between two array*"
   ]
  },
  {
   "cell_type": "code",
   "execution_count": null,
   "id": "52aac261",
   "metadata": {},
   "outputs": [
    {
     "name": "stdout",
     "output_type": "stream",
     "text": [
      "[ 3  9  7  5 38  2  4  2  1]\n",
      "[15  4  3  7  4  2  8  9  4]\n"
     ]
    },
    {
     "data": {
      "text/plain": [
       "array([15,  9,  7,  7, 38,  2,  8,  9,  4])"
      ]
     },
     "execution_count": 210,
     "metadata": {},
     "output_type": "execute_result"
    }
   ],
   "source": [
    "print(x)\n",
    "y = np.random.randint(2,17,size=(9))\n",
    "print(y)\n",
    "\n",
    "np.maximum(x,y) # Returns element wise largest value from both the arrays"
   ]
  },
  {
   "cell_type": "markdown",
   "id": "b21a9a82",
   "metadata": {},
   "source": [
    "### ***numpy.argmax() & numpy.argmin()***"
   ]
  },
  {
   "cell_type": "markdown",
   "id": "100c387d",
   "metadata": {},
   "source": [
    "* *numpy.argmax( array , axis ):-Returns Indices of maximum value in array*"
   ]
  },
  {
   "cell_type": "markdown",
   "id": "dad7ad6b",
   "metadata": {},
   "source": [
    "* *numpy.argmin( array , axis) :- Returns Indices of minimum value in array*"
   ]
  },
  {
   "cell_type": "code",
   "execution_count": null,
   "id": "ed876ad6",
   "metadata": {},
   "outputs": [
    {
     "name": "stdout",
     "output_type": "stream",
     "text": [
      "4\n",
      "8\n"
     ]
    }
   ],
   "source": [
    "print(np.argmax(x))\n",
    "print(np.argmin(x))"
   ]
  },
  {
   "cell_type": "markdown",
   "id": "eb891ad3",
   "metadata": {},
   "source": [
    "### ***numpy.argwhere()***"
   ]
  },
  {
   "cell_type": "markdown",
   "id": "fd343f8b",
   "metadata": {},
   "source": [
    "*Find the indices of array elements that are non-zero, grouped by element.*"
   ]
  },
  {
   "cell_type": "code",
   "execution_count": null,
   "id": "ebed119a",
   "metadata": {},
   "outputs": [
    {
     "data": {
      "text/plain": [
       "array([[0, 2],\n",
       "       [1, 0],\n",
       "       [1, 1],\n",
       "       [1, 2]], dtype=int64)"
      ]
     },
     "execution_count": 199,
     "metadata": {},
     "output_type": "execute_result"
    }
   ],
   "source": [
    "x = np.arange(6).reshape(2,3)\n",
    "np.argwhere(x>1)"
   ]
  },
  {
   "cell_type": "markdown",
   "id": "10f2066e",
   "metadata": {},
   "source": [
    "*Indices of elements that are non-zero. Indices are grouped by element. This array will have shape (N, a.ndim) where N is the number of non-zero items.*"
   ]
  },
  {
   "cell_type": "markdown",
   "id": "746c95b8",
   "metadata": {},
   "source": [
    "### ***numpy.where() :- very important***"
   ]
  },
  {
   "cell_type": "code",
   "execution_count": null,
   "id": "98aeae96",
   "metadata": {},
   "outputs": [
    {
     "data": {
      "text/plain": [
       "array([93,  6,  9,  3,  0,  4, -1,  0,  5, 34,  9])"
      ]
     },
     "execution_count": 200,
     "metadata": {},
     "output_type": "execute_result"
    }
   ],
   "source": [
    "a = np.array([93,6,9,3,0,4,256,0,5,34,9])\n",
    "x = 3\n",
    "np.where(a<200,a,-1)"
   ]
  },
  {
   "cell_type": "markdown",
   "id": "57c95b3e",
   "metadata": {},
   "source": [
    "* *When Used x,y  x is return if condition is true otherwise y is returned*"
   ]
  },
  {
   "cell_type": "markdown",
   "id": "6b1f48ca",
   "metadata": {},
   "source": [
    "* *Returns An Array Where Elements from x condition is true and element from y elsewhere*"
   ]
  },
  {
   "cell_type": "code",
   "execution_count": null,
   "id": "4e47c8d8",
   "metadata": {},
   "outputs": [
    {
     "data": {
      "text/plain": [
       "array([[72, 97,  5, 42, 40,  7, 68, 61,  1],\n",
       "       [95, 30,  9, 98, 36, 25,  1, 62, 98],\n",
       "       [39, 95, 24, 66,  2, 78, 66, 46, 40],\n",
       "       [25, 27, 23, 23, 79, 13, 65, 57, 29],\n",
       "       [33, 70, 77, 96, 59, 12, 28, 56, 34],\n",
       "       [48, 81, 91, 35, 50, 36, 12, 93, 17]])"
      ]
     },
     "execution_count": 201,
     "metadata": {},
     "output_type": "execute_result"
    }
   ],
   "source": [
    "l = np.random.randint(0,100,size=(6,9))\n",
    "l"
   ]
  },
  {
   "cell_type": "code",
   "execution_count": null,
   "id": "a8212bbd",
   "metadata": {},
   "outputs": [
    {
     "data": {
      "text/plain": [
       "array([[ True, False, False,  True,  True, False,  True, False, False],\n",
       "       [False,  True, False,  True,  True, False, False,  True,  True],\n",
       "       [False, False,  True,  True,  True,  True,  True,  True,  True],\n",
       "       [False, False, False, False, False, False, False, False, False],\n",
       "       [False,  True, False,  True, False,  True,  True,  True,  True],\n",
       "       [ True, False, False, False,  True,  True,  True, False, False]])"
      ]
     },
     "execution_count": 202,
     "metadata": {},
     "output_type": "execute_result"
    }
   ],
   "source": [
    "np.where(l%2 == 0,True,False)"
   ]
  },
  {
   "cell_type": "code",
   "execution_count": null,
   "id": "53fb6a61",
   "metadata": {},
   "outputs": [
    {
     "data": {
      "text/plain": [
       "array([['0.5--21.100', '0.5--21.100', '0.5--21.100', '0.5--21.100',\n",
       "        '0.5--21.100', '6.20', '0.5--21.100', '0.5--21.100',\n",
       "        '0.5--21.100'],\n",
       "       ['0.5--21.100', '0.5--21.100', '6.20', '0.5--21.100',\n",
       "        '0.5--21.100', '0.5--21.100', '0.5--21.100', '0.5--21.100',\n",
       "        '0.5--21.100'],\n",
       "       ['0.5--21.100', '0.5--21.100', '0.5--21.100', '0.5--21.100',\n",
       "        '0.5--21.100', '0.5--21.100', '0.5--21.100', '0.5--21.100',\n",
       "        '0.5--21.100'],\n",
       "       ['0.5--21.100', '0.5--21.100', '0.5--21.100', '0.5--21.100',\n",
       "        '0.5--21.100', '6.20', '0.5--21.100', '0.5--21.100',\n",
       "        '0.5--21.100'],\n",
       "       ['0.5--21.100', '0.5--21.100', '0.5--21.100', '0.5--21.100',\n",
       "        '0.5--21.100', '6.20', '0.5--21.100', '0.5--21.100',\n",
       "        '0.5--21.100'],\n",
       "       ['0.5--21.100', '0.5--21.100', '0.5--21.100', '0.5--21.100',\n",
       "        '0.5--21.100', '0.5--21.100', '6.20', '0.5--21.100', '6.20']],\n",
       "      dtype='<U11')"
      ]
     },
     "execution_count": 203,
     "metadata": {},
     "output_type": "execute_result"
    }
   ],
   "source": [
    "np.where((l<20) & (l>6), \"6.20\",\"0.5--21.100\" )"
   ]
  }
 ],
 "metadata": {
  "kernelspec": {
   "display_name": "base",
   "language": "python",
   "name": "python3"
  },
  "language_info": {
   "codemirror_mode": {
    "name": "ipython",
    "version": 3
   },
   "file_extension": ".py",
   "mimetype": "text/x-python",
   "name": "python",
   "nbconvert_exporter": "python",
   "pygments_lexer": "ipython3",
   "version": "3.12.7"
  }
 },
 "nbformat": 4,
 "nbformat_minor": 5
}
