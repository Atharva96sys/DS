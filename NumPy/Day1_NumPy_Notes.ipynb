{
 "cells": [
  {
   "cell_type": "code",
   "execution_count": 43,
   "id": "ee09efa2-2949-45a8-bd1e-467721aaa7f8",
   "metadata": {},
   "outputs": [],
   "source": [
    "import numpy as np"
   ]
  },
  {
   "cell_type": "markdown",
   "id": "8031bab5-6806-444c-897e-10b35c29dc51",
   "metadata": {},
   "source": [
    "The Basics\n"
   ]
  },
  {
   "cell_type": "markdown",
   "id": "10bd7e58",
   "metadata": {},
   "source": [
    "Creating Array From List"
   ]
  },
  {
   "cell_type": "code",
   "execution_count": 44,
   "id": "0fac61b3-f999-462f-992e-5cb967083d9d",
   "metadata": {},
   "outputs": [
    {
     "name": "stdout",
     "output_type": "stream",
     "text": [
      "[ 3  6  8 53  7  3]\n"
     ]
    }
   ],
   "source": [
    "# Create Array Of [3,6,8,53,7,3] using np.array() function\n",
    "a = np.array([3,6,8,53,7,3])\n",
    "print(a)"
   ]
  },
  {
   "cell_type": "code",
   "execution_count": 45,
   "id": "2374ec90-1fb4-4fb7-9695-ad04bb1ad35d",
   "metadata": {},
   "outputs": [
    {
     "name": "stdout",
     "output_type": "stream",
     "text": [
      "[[ 7  5  3  6]\n",
      " [35  8  4  2]]\n"
     ]
    }
   ],
   "source": [
    "b = np.array([[7,5,3,6],[35,8,4,2]])\n",
    "print(b)"
   ]
  },
  {
   "cell_type": "code",
   "execution_count": 46,
   "id": "65a341b2",
   "metadata": {},
   "outputs": [
    {
     "name": "stdout",
     "output_type": "stream",
     "text": [
      "[[ 7.94  6.    3.    7.82  2.63]\n",
      " [ 9.   37.    8.    3.    8.  ]]\n"
     ]
    }
   ],
   "source": [
    "c = np.array([[7.94,6,3,7.82,2.63],[9,37,8,3,8]])\n",
    "print(c)"
   ]
  },
  {
   "cell_type": "markdown",
   "id": "3e1062d8",
   "metadata": {},
   "source": [
    "Dimension Of Array"
   ]
  },
  {
   "cell_type": "code",
   "execution_count": 47,
   "id": "2f544c9b",
   "metadata": {},
   "outputs": [
    {
     "data": {
      "text/plain": [
       "1"
      ]
     },
     "execution_count": 47,
     "metadata": {},
     "output_type": "execute_result"
    }
   ],
   "source": [
    "a.ndim"
   ]
  },
  {
   "cell_type": "code",
   "execution_count": 48,
   "id": "8583f5b6",
   "metadata": {},
   "outputs": [
    {
     "data": {
      "text/plain": [
       "2"
      ]
     },
     "execution_count": 48,
     "metadata": {},
     "output_type": "execute_result"
    }
   ],
   "source": [
    "b.ndim"
   ]
  },
  {
   "cell_type": "markdown",
   "id": "21a44481",
   "metadata": {},
   "source": [
    "____________________________________________________________________________________________________________________________"
   ]
  },
  {
   "cell_type": "markdown",
   "id": "588236a7",
   "metadata": {},
   "source": [
    "Find Shape "
   ]
  },
  {
   "cell_type": "code",
   "execution_count": 49,
   "id": "6552c3d9",
   "metadata": {},
   "outputs": [],
   "source": [
    "# No Of Element In Rows and Column Array\n",
    "# Gives No Of Element In 1st Row/Column Of 1D Array \n",
    "# Gives No Of Elements In Rows And Columns Of 2D Array\n",
    "# Gives No Of Element Of Rows , Columns And Height Of 3D Array\n"
   ]
  },
  {
   "cell_type": "code",
   "execution_count": 50,
   "id": "ba93db72",
   "metadata": {},
   "outputs": [
    {
     "data": {
      "text/plain": [
       "(6,)"
      ]
     },
     "execution_count": 50,
     "metadata": {},
     "output_type": "execute_result"
    }
   ],
   "source": [
    "# Using .shape to find shape/no of element in particular dimension\n",
    "a.shape\n"
   ]
  },
  {
   "cell_type": "code",
   "execution_count": 51,
   "id": "f6471184",
   "metadata": {},
   "outputs": [
    {
     "data": {
      "text/plain": [
       "(2, 4)"
      ]
     },
     "execution_count": 51,
     "metadata": {},
     "output_type": "execute_result"
    }
   ],
   "source": [
    "b.shape"
   ]
  },
  {
   "cell_type": "markdown",
   "id": "816394d4",
   "metadata": {},
   "source": [
    "____________________________________________________________________________________________________________________________"
   ]
  },
  {
   "cell_type": "markdown",
   "id": "4ef9702c",
   "metadata": {},
   "source": [
    "Data Type Of Array's Element(Actually Here Data Type Means data type and memory space allocated for it)"
   ]
  },
  {
   "cell_type": "code",
   "execution_count": 52,
   "id": "5247adc5",
   "metadata": {},
   "outputs": [
    {
     "data": {
      "text/plain": [
       "dtype('int32')"
      ]
     },
     "execution_count": 52,
     "metadata": {},
     "output_type": "execute_result"
    }
   ],
   "source": [
    "# Data Type and Space Allocated For 'a' matrix \n",
    "a.dtype"
   ]
  },
  {
   "cell_type": "code",
   "execution_count": 53,
   "id": "d1a839cf",
   "metadata": {},
   "outputs": [
    {
     "data": {
      "text/plain": [
       "dtype('int32')"
      ]
     },
     "execution_count": 53,
     "metadata": {},
     "output_type": "execute_result"
    }
   ],
   "source": [
    "# For 'b'\n",
    "b.dtype"
   ]
  },
  {
   "cell_type": "code",
   "execution_count": 54,
   "id": "73fe1f04",
   "metadata": {},
   "outputs": [
    {
     "data": {
      "text/plain": [
       "dtype('float64')"
      ]
     },
     "execution_count": 54,
     "metadata": {},
     "output_type": "execute_result"
    }
   ],
   "source": [
    "# For 'c'\n",
    "c.dtype"
   ]
  },
  {
   "cell_type": "code",
   "execution_count": 55,
   "id": "428f29ba",
   "metadata": {},
   "outputs": [],
   "source": [
    "# You Can Also Change Data Type If Possible \n",
    "# While Creating Array \n",
    "# a = np.array([8,9,6] , dtype = 'int16') \n",
    "# Helps To Manage Memory Effectively\n"
   ]
  },
  {
   "cell_type": "markdown",
   "id": "e6906e61",
   "metadata": {},
   "source": [
    "____________________________________________________________________________________________________________________________"
   ]
  },
  {
   "cell_type": "markdown",
   "id": "8b8ce6aa",
   "metadata": {},
   "source": [
    "ItemSize Of Element Of Array"
   ]
  },
  {
   "cell_type": "code",
   "execution_count": 56,
   "id": "fe3a4c4c",
   "metadata": {},
   "outputs": [
    {
     "data": {
      "text/plain": [
       "4"
      ]
     },
     "execution_count": 56,
     "metadata": {},
     "output_type": "execute_result"
    }
   ],
   "source": [
    "# Item Size Is Size/Memory Allocated For Element In Given Array In Bytes\n",
    "# Depends On dtype of array\n",
    "a.itemsize"
   ]
  },
  {
   "cell_type": "code",
   "execution_count": 57,
   "id": "46ed06cc",
   "metadata": {},
   "outputs": [
    {
     "data": {
      "text/plain": [
       "4"
      ]
     },
     "execution_count": 57,
     "metadata": {},
     "output_type": "execute_result"
    }
   ],
   "source": [
    "b.itemsize"
   ]
  },
  {
   "cell_type": "code",
   "execution_count": 58,
   "id": "de75c1b5",
   "metadata": {},
   "outputs": [
    {
     "data": {
      "text/plain": [
       "8"
      ]
     },
     "execution_count": 58,
     "metadata": {},
     "output_type": "execute_result"
    }
   ],
   "source": [
    "c.itemsize"
   ]
  },
  {
   "cell_type": "markdown",
   "id": "8d6c7684",
   "metadata": {},
   "source": [
    "As Float Takes double The memory than int so it prints 8 instead of 4"
   ]
  },
  {
   "cell_type": "markdown",
   "id": "e0fa89af",
   "metadata": {},
   "source": [
    "____________________________________________________________________________________________________________________________"
   ]
  },
  {
   "cell_type": "markdown",
   "id": "0b910448",
   "metadata": {},
   "source": [
    "Size / ItemSize "
   ]
  },
  {
   "cell_type": "markdown",
   "id": "28d2c6b3",
   "metadata": {},
   "source": [
    ".size gives total no of element in array"
   ]
  },
  {
   "cell_type": "code",
   "execution_count": 59,
   "id": "4b17bca4",
   "metadata": {},
   "outputs": [
    {
     "data": {
      "text/plain": [
       "6"
      ]
     },
     "execution_count": 59,
     "metadata": {},
     "output_type": "execute_result"
    }
   ],
   "source": [
    "a.size"
   ]
  },
  {
   "cell_type": "code",
   "execution_count": 60,
   "id": "57ac8ad7",
   "metadata": {},
   "outputs": [
    {
     "data": {
      "text/plain": [
       "8"
      ]
     },
     "execution_count": 60,
     "metadata": {},
     "output_type": "execute_result"
    }
   ],
   "source": [
    "b.size"
   ]
  },
  {
   "cell_type": "code",
   "execution_count": 61,
   "id": "45832782",
   "metadata": {},
   "outputs": [
    {
     "data": {
      "text/plain": [
       "10"
      ]
     },
     "execution_count": 61,
     "metadata": {},
     "output_type": "execute_result"
    }
   ],
   "source": [
    "c.size"
   ]
  },
  {
   "cell_type": "markdown",
   "id": "8573e9dc",
   "metadata": {},
   "source": [
    "____________________________________________________________________________________________________________________________\n"
   ]
  },
  {
   "cell_type": "markdown",
   "id": "76917ef1",
   "metadata": {},
   "source": [
    "Total Size Of Array "
   ]
  },
  {
   "cell_type": "markdown",
   "id": "46c0097b",
   "metadata": {},
   "source": [
    "it can be calculated using .nbytes or simple maths calculation like  a.size*a.itemsize"
   ]
  },
  {
   "cell_type": "code",
   "execution_count": 62,
   "id": "d4d6a8d5",
   "metadata": {},
   "outputs": [
    {
     "data": {
      "text/plain": [
       "24"
      ]
     },
     "execution_count": 62,
     "metadata": {},
     "output_type": "execute_result"
    }
   ],
   "source": [
    "# Total Memory Required For Whole Array 'a'\n",
    "a.nbytes"
   ]
  },
  {
   "cell_type": "code",
   "execution_count": 63,
   "id": "ecac8caa",
   "metadata": {},
   "outputs": [
    {
     "data": {
      "text/plain": [
       "24"
      ]
     },
     "execution_count": 63,
     "metadata": {},
     "output_type": "execute_result"
    }
   ],
   "source": [
    "# Same As Above But In Mathematical Terms\n",
    "a.size * a.itemsize"
   ]
  },
  {
   "cell_type": "code",
   "execution_count": 64,
   "id": "e511a589",
   "metadata": {},
   "outputs": [
    {
     "data": {
      "text/plain": [
       "32"
      ]
     },
     "execution_count": 64,
     "metadata": {},
     "output_type": "execute_result"
    }
   ],
   "source": [
    "# Total Memory Required For Whole Array 'b'\n",
    "b.nbytes"
   ]
  },
  {
   "cell_type": "code",
   "execution_count": 65,
   "id": "913eb9c8",
   "metadata": {},
   "outputs": [
    {
     "data": {
      "text/plain": [
       "80"
      ]
     },
     "execution_count": 65,
     "metadata": {},
     "output_type": "execute_result"
    }
   ],
   "source": [
    "c.nbytes # This Will Give Output As 80"
   ]
  },
  {
   "cell_type": "markdown",
   "id": "9cd3fc3e",
   "metadata": {},
   "source": [
    "# Accessing/Changing Specific Elements,rows,columns in Array"
   ]
  },
  {
   "cell_type": "code",
   "execution_count": 66,
   "id": "c1695ed5",
   "metadata": {},
   "outputs": [],
   "source": [
    "a = np.array([[1,3,5,7,4,3,8],[0,7,5,3,7,4,2]])"
   ]
  },
  {
   "cell_type": "code",
   "execution_count": 67,
   "id": "d9957f86",
   "metadata": {},
   "outputs": [
    {
     "name": "stdout",
     "output_type": "stream",
     "text": [
      "2\n"
     ]
    }
   ],
   "source": [
    "# Get Specific Element \n",
    "# You Can Access Specific Element in Array By Using Indexing Same As In Python List\n",
    "\n",
    "print(a[1,6])"
   ]
  },
  {
   "cell_type": "code",
   "execution_count": 68,
   "id": "06db324e",
   "metadata": {},
   "outputs": [
    {
     "data": {
      "text/plain": [
       "array([0, 7, 5, 3, 7, 4, 2])"
      ]
     },
     "execution_count": 68,
     "metadata": {},
     "output_type": "execute_result"
    }
   ],
   "source": [
    "# Get Specific Row \n",
    "a[1,:]"
   ]
  },
  {
   "cell_type": "code",
   "execution_count": 69,
   "id": "62e1eb27",
   "metadata": {},
   "outputs": [
    {
     "data": {
      "text/plain": [
       "array([7, 3])"
      ]
     },
     "execution_count": 69,
     "metadata": {},
     "output_type": "execute_result"
    }
   ],
   "source": [
    "# Get Specific Column\n",
    "a[:,3]"
   ]
  },
  {
   "cell_type": "code",
   "execution_count": 70,
   "id": "d1f371f8",
   "metadata": {},
   "outputs": [],
   "source": [
    "# Get Complex Output \n",
    "# By Using List Slicing [start_index:end_index:step]"
   ]
  },
  {
   "cell_type": "code",
   "execution_count": 71,
   "id": "36e4de00",
   "metadata": {},
   "outputs": [
    {
     "data": {
      "text/plain": [
       "array([5, 3, 7, 4])"
      ]
     },
     "execution_count": 71,
     "metadata": {},
     "output_type": "execute_result"
    }
   ],
   "source": [
    "# Let We Want Element From 2 to 5 of second column\n",
    "\n",
    "a[1,2:6:1]"
   ]
  },
  {
   "cell_type": "markdown",
   "id": "71946ef3",
   "metadata": {},
   "source": [
    "Also We Have Seen Slicing Can Also Be Used Here So We Can Do Same Type Of Operation We Were Performing on List "
   ]
  },
  {
   "cell_type": "code",
   "execution_count": 72,
   "id": "7f435271",
   "metadata": {},
   "outputs": [
    {
     "data": {
      "text/plain": [
       "array([3, 7])"
      ]
     },
     "execution_count": 72,
     "metadata": {},
     "output_type": "execute_result"
    }
   ],
   "source": [
    "# Some Of Slicing Practice\n",
    "\n",
    "a[0,1:-2:2]"
   ]
  },
  {
   "cell_type": "code",
   "execution_count": 73,
   "id": "adea806d",
   "metadata": {},
   "outputs": [
    {
     "data": {
      "text/plain": [
       "array([5, 4])"
      ]
     },
     "execution_count": 73,
     "metadata": {},
     "output_type": "execute_result"
    }
   ],
   "source": [
    "a[0,2:6:2]"
   ]
  },
  {
   "cell_type": "code",
   "execution_count": 74,
   "id": "d6e90096",
   "metadata": {},
   "outputs": [
    {
     "data": {
      "text/plain": [
       "array([3, 7, 3])"
      ]
     },
     "execution_count": 74,
     "metadata": {},
     "output_type": "execute_result"
    }
   ],
   "source": [
    "a[0,1:-1:2]"
   ]
  },
  {
   "cell_type": "code",
   "execution_count": 75,
   "id": "82985c52",
   "metadata": {},
   "outputs": [],
   "source": [
    "# Changing Array Element\n",
    "a[1,3] = 78"
   ]
  },
  {
   "cell_type": "markdown",
   "id": "31812d46",
   "metadata": {},
   "source": [
    "Changing Whole Column/Row Element To One Common Element Or Iterate From List/Array"
   ]
  },
  {
   "cell_type": "code",
   "execution_count": 76,
   "id": "4cc032a0",
   "metadata": {},
   "outputs": [
    {
     "name": "stdout",
     "output_type": "stream",
     "text": [
      "[[ 2  2  2  2  2  2  2]\n",
      " [ 0  7  5 78  7  4  2]]\n"
     ]
    }
   ],
   "source": [
    "a[0,:]=2\n",
    "print(a)"
   ]
  },
  {
   "cell_type": "code",
   "execution_count": 77,
   "id": "7bba105b",
   "metadata": {},
   "outputs": [
    {
     "name": "stdout",
     "output_type": "stream",
     "text": [
      "[[ 1  2  3  4  5  6  7]\n",
      " [ 0  7  5 78  7  4  2]]\n"
     ]
    }
   ],
   "source": [
    "a[0,:]=[1,2,3,4,5,6,7]\n",
    "print(a)"
   ]
  },
  {
   "cell_type": "markdown",
   "id": "6188be13",
   "metadata": {},
   "source": [
    "Accessing Element In 3D Array Is Done By Working Outside In Way"
   ]
  },
  {
   "cell_type": "code",
   "execution_count": 78,
   "id": "bb8da789",
   "metadata": {},
   "outputs": [
    {
     "name": "stdout",
     "output_type": "stream",
     "text": [
      "[[[ 1  2  3  4  5  6  7]\n",
      "  [ 8  9 10 11 12 13 14]]\n",
      "\n",
      " [[15 16 17 18 19 20 21]\n",
      "  [22 23 24 25 26 27 28]]]\n"
     ]
    }
   ],
   "source": [
    "c = np.array([[[1,2,3,4,5,6,7],[8,9,10,11,12,13,14]],[[15,16,17,18,19,20,21],[22,23,24,25,26,27,28]]])\n",
    "print(c)"
   ]
  },
  {
   "cell_type": "code",
   "execution_count": 79,
   "id": "54f8b3fe",
   "metadata": {},
   "outputs": [
    {
     "data": {
      "text/plain": [
       "9"
      ]
     },
     "execution_count": 79,
     "metadata": {},
     "output_type": "execute_result"
    }
   ],
   "source": [
    "# Let's Access 9 From 3D Array\n",
    "\n",
    "c[0,1,1]"
   ]
  },
  {
   "cell_type": "markdown",
   "id": "7687fef5",
   "metadata": {},
   "source": [
    "If You Want To Change Element You Can Use Same Array Operation To Change Elements In Array"
   ]
  },
  {
   "cell_type": "markdown",
   "id": "5e69c001",
   "metadata": {},
   "source": [
    "You Can Also Change Whole Matrix     "
   ]
  },
  {
   "cell_type": "markdown",
   "id": "1986699f",
   "metadata": {},
   "source": [
    "Just Access The Matrix You Want To Change And Add New Matrix"
   ]
  },
  {
   "cell_type": "code",
   "execution_count": 80,
   "id": "e06aa1c9",
   "metadata": {},
   "outputs": [],
   "source": [
    "# Let's Change 24 to 29\n",
    "\n",
    "c[1,1,5] = 29"
   ]
  },
  {
   "cell_type": "code",
   "execution_count": 81,
   "id": "4728a2cf",
   "metadata": {},
   "outputs": [
    {
     "name": "stdout",
     "output_type": "stream",
     "text": [
      "[[[ 1  2  3  4  5  6  7]\n",
      "  [ 8  9 10 11 12 13 14]]\n",
      "\n",
      " [[15 16 17 18 19 20 21]\n",
      "  [22 23 24 25 26 29 28]]]\n"
     ]
    }
   ],
   "source": [
    "print(c)"
   ]
  },
  {
   "cell_type": "code",
   "execution_count": 82,
   "id": "adb351d7",
   "metadata": {},
   "outputs": [
    {
     "name": "stdout",
     "output_type": "stream",
     "text": [
      "[[[ 1  2  3  4  5  6  7]\n",
      "  [ 8  9 10 11 12 13 14]]\n",
      "\n",
      " [[22 23 24 25 26 27 28]\n",
      "  [29 30 31 32 33 34 35]]]\n"
     ]
    }
   ],
   "source": [
    "# Change whole Inner Matrix To New Matrix \n",
    "c[1,:,:] = [[22,23,24,25,26,27,28],[29,30,31,32,33,34,35]]\n",
    "print(c)"
   ]
  },
  {
   "cell_type": "markdown",
   "id": "5b1f4a59",
   "metadata": {},
   "source": [
    "But Remember Changing Elements Or Array To A Different Size Or Dimensions Result In Error "
   ]
  },
  {
   "cell_type": "code",
   "execution_count": 83,
   "id": "b4bb6baf",
   "metadata": {},
   "outputs": [
    {
     "ename": "ValueError",
     "evalue": "could not broadcast input array from shape (2,3) into shape (2,7)",
     "output_type": "error",
     "traceback": [
      "\u001b[1;31m---------------------------------------------------------------------------\u001b[0m",
      "\u001b[1;31mValueError\u001b[0m                                Traceback (most recent call last)",
      "Cell \u001b[1;32mIn[83], line 1\u001b[0m\n\u001b[1;32m----> 1\u001b[0m c[\u001b[38;5;241m1\u001b[39m,:,:] \u001b[38;5;241m=\u001b[39m [[\u001b[38;5;241m4\u001b[39m,\u001b[38;5;241m5\u001b[39m,\u001b[38;5;241m6\u001b[39m],[\u001b[38;5;241m9\u001b[39m,\u001b[38;5;241m0\u001b[39m,\u001b[38;5;241m7\u001b[39m]]\n",
      "\u001b[1;31mValueError\u001b[0m: could not broadcast input array from shape (2,3) into shape (2,7)"
     ]
    }
   ],
   "source": [
    "c[1,:,:] = [[4,5,6],[9,0,7]]"
   ]
  },
  {
   "cell_type": "markdown",
   "id": "8590adf3",
   "metadata": {},
   "source": [
    "____________________________________________________________________________________________________________________________"
   ]
  },
  {
   "cell_type": "markdown",
   "id": "e6f17a87",
   "metadata": {},
   "source": [
    "# Initializing Different Types Of Arrays"
   ]
  },
  {
   "cell_type": "code",
   "execution_count": null,
   "id": "a73f3fe7",
   "metadata": {},
   "outputs": [
    {
     "data": {
      "text/plain": [
       "array([0., 0., 0., 0.])"
      ]
     },
     "execution_count": 105,
     "metadata": {},
     "output_type": "execute_result"
    }
   ],
   "source": [
    "# All Zero's Matrix\n",
    "np.zeros(4)"
   ]
  },
  {
   "cell_type": "markdown",
   "id": "19cad983",
   "metadata": {},
   "source": [
    ".zeros take argument an int or tuple to specify shape and dimension of array of zeros also you can specify dtype of it"
   ]
  },
  {
   "cell_type": "code",
   "execution_count": null,
   "id": "6c6f90d6",
   "metadata": {},
   "outputs": [
    {
     "data": {
      "text/plain": [
       "array([[0., 0., 0., 0., 0., 0.],\n",
       "       [0., 0., 0., 0., 0., 0.],\n",
       "       [0., 0., 0., 0., 0., 0.],\n",
       "       [0., 0., 0., 0., 0., 0.],\n",
       "       [0., 0., 0., 0., 0., 0.]])"
      ]
     },
     "execution_count": 106,
     "metadata": {},
     "output_type": "execute_result"
    }
   ],
   "source": [
    "np.zeros((5,6))"
   ]
  },
  {
   "cell_type": "code",
   "execution_count": null,
   "id": "33649a26",
   "metadata": {},
   "outputs": [
    {
     "data": {
      "text/plain": [
       "array([[[0., 0., 0., 0., 0.],\n",
       "        [0., 0., 0., 0., 0.],\n",
       "        [0., 0., 0., 0., 0.],\n",
       "        [0., 0., 0., 0., 0.]],\n",
       "\n",
       "       [[0., 0., 0., 0., 0.],\n",
       "        [0., 0., 0., 0., 0.],\n",
       "        [0., 0., 0., 0., 0.],\n",
       "        [0., 0., 0., 0., 0.]]])"
      ]
     },
     "execution_count": 107,
     "metadata": {},
     "output_type": "execute_result"
    }
   ],
   "source": [
    "np.zeros((2,4,5))"
   ]
  },
  {
   "cell_type": "code",
   "execution_count": null,
   "id": "dc4c7094",
   "metadata": {},
   "outputs": [
    {
     "data": {
      "text/plain": [
       "array([[[[[0., 0., 0.]],\n",
       "\n",
       "         [[0., 0., 0.]],\n",
       "\n",
       "         [[0., 0., 0.]],\n",
       "\n",
       "         [[0., 0., 0.]],\n",
       "\n",
       "         [[0., 0., 0.]]],\n",
       "\n",
       "\n",
       "        [[[0., 0., 0.]],\n",
       "\n",
       "         [[0., 0., 0.]],\n",
       "\n",
       "         [[0., 0., 0.]],\n",
       "\n",
       "         [[0., 0., 0.]],\n",
       "\n",
       "         [[0., 0., 0.]]],\n",
       "\n",
       "\n",
       "        [[[0., 0., 0.]],\n",
       "\n",
       "         [[0., 0., 0.]],\n",
       "\n",
       "         [[0., 0., 0.]],\n",
       "\n",
       "         [[0., 0., 0.]],\n",
       "\n",
       "         [[0., 0., 0.]]],\n",
       "\n",
       "\n",
       "        [[[0., 0., 0.]],\n",
       "\n",
       "         [[0., 0., 0.]],\n",
       "\n",
       "         [[0., 0., 0.]],\n",
       "\n",
       "         [[0., 0., 0.]],\n",
       "\n",
       "         [[0., 0., 0.]]],\n",
       "\n",
       "\n",
       "        [[[0., 0., 0.]],\n",
       "\n",
       "         [[0., 0., 0.]],\n",
       "\n",
       "         [[0., 0., 0.]],\n",
       "\n",
       "         [[0., 0., 0.]],\n",
       "\n",
       "         [[0., 0., 0.]]],\n",
       "\n",
       "\n",
       "        [[[0., 0., 0.]],\n",
       "\n",
       "         [[0., 0., 0.]],\n",
       "\n",
       "         [[0., 0., 0.]],\n",
       "\n",
       "         [[0., 0., 0.]],\n",
       "\n",
       "         [[0., 0., 0.]]],\n",
       "\n",
       "\n",
       "        [[[0., 0., 0.]],\n",
       "\n",
       "         [[0., 0., 0.]],\n",
       "\n",
       "         [[0., 0., 0.]],\n",
       "\n",
       "         [[0., 0., 0.]],\n",
       "\n",
       "         [[0., 0., 0.]]]],\n",
       "\n",
       "\n",
       "\n",
       "       [[[[0., 0., 0.]],\n",
       "\n",
       "         [[0., 0., 0.]],\n",
       "\n",
       "         [[0., 0., 0.]],\n",
       "\n",
       "         [[0., 0., 0.]],\n",
       "\n",
       "         [[0., 0., 0.]]],\n",
       "\n",
       "\n",
       "        [[[0., 0., 0.]],\n",
       "\n",
       "         [[0., 0., 0.]],\n",
       "\n",
       "         [[0., 0., 0.]],\n",
       "\n",
       "         [[0., 0., 0.]],\n",
       "\n",
       "         [[0., 0., 0.]]],\n",
       "\n",
       "\n",
       "        [[[0., 0., 0.]],\n",
       "\n",
       "         [[0., 0., 0.]],\n",
       "\n",
       "         [[0., 0., 0.]],\n",
       "\n",
       "         [[0., 0., 0.]],\n",
       "\n",
       "         [[0., 0., 0.]]],\n",
       "\n",
       "\n",
       "        [[[0., 0., 0.]],\n",
       "\n",
       "         [[0., 0., 0.]],\n",
       "\n",
       "         [[0., 0., 0.]],\n",
       "\n",
       "         [[0., 0., 0.]],\n",
       "\n",
       "         [[0., 0., 0.]]],\n",
       "\n",
       "\n",
       "        [[[0., 0., 0.]],\n",
       "\n",
       "         [[0., 0., 0.]],\n",
       "\n",
       "         [[0., 0., 0.]],\n",
       "\n",
       "         [[0., 0., 0.]],\n",
       "\n",
       "         [[0., 0., 0.]]],\n",
       "\n",
       "\n",
       "        [[[0., 0., 0.]],\n",
       "\n",
       "         [[0., 0., 0.]],\n",
       "\n",
       "         [[0., 0., 0.]],\n",
       "\n",
       "         [[0., 0., 0.]],\n",
       "\n",
       "         [[0., 0., 0.]]],\n",
       "\n",
       "\n",
       "        [[[0., 0., 0.]],\n",
       "\n",
       "         [[0., 0., 0.]],\n",
       "\n",
       "         [[0., 0., 0.]],\n",
       "\n",
       "         [[0., 0., 0.]],\n",
       "\n",
       "         [[0., 0., 0.]]]],\n",
       "\n",
       "\n",
       "\n",
       "       [[[[0., 0., 0.]],\n",
       "\n",
       "         [[0., 0., 0.]],\n",
       "\n",
       "         [[0., 0., 0.]],\n",
       "\n",
       "         [[0., 0., 0.]],\n",
       "\n",
       "         [[0., 0., 0.]]],\n",
       "\n",
       "\n",
       "        [[[0., 0., 0.]],\n",
       "\n",
       "         [[0., 0., 0.]],\n",
       "\n",
       "         [[0., 0., 0.]],\n",
       "\n",
       "         [[0., 0., 0.]],\n",
       "\n",
       "         [[0., 0., 0.]]],\n",
       "\n",
       "\n",
       "        [[[0., 0., 0.]],\n",
       "\n",
       "         [[0., 0., 0.]],\n",
       "\n",
       "         [[0., 0., 0.]],\n",
       "\n",
       "         [[0., 0., 0.]],\n",
       "\n",
       "         [[0., 0., 0.]]],\n",
       "\n",
       "\n",
       "        [[[0., 0., 0.]],\n",
       "\n",
       "         [[0., 0., 0.]],\n",
       "\n",
       "         [[0., 0., 0.]],\n",
       "\n",
       "         [[0., 0., 0.]],\n",
       "\n",
       "         [[0., 0., 0.]]],\n",
       "\n",
       "\n",
       "        [[[0., 0., 0.]],\n",
       "\n",
       "         [[0., 0., 0.]],\n",
       "\n",
       "         [[0., 0., 0.]],\n",
       "\n",
       "         [[0., 0., 0.]],\n",
       "\n",
       "         [[0., 0., 0.]]],\n",
       "\n",
       "\n",
       "        [[[0., 0., 0.]],\n",
       "\n",
       "         [[0., 0., 0.]],\n",
       "\n",
       "         [[0., 0., 0.]],\n",
       "\n",
       "         [[0., 0., 0.]],\n",
       "\n",
       "         [[0., 0., 0.]]],\n",
       "\n",
       "\n",
       "        [[[0., 0., 0.]],\n",
       "\n",
       "         [[0., 0., 0.]],\n",
       "\n",
       "         [[0., 0., 0.]],\n",
       "\n",
       "         [[0., 0., 0.]],\n",
       "\n",
       "         [[0., 0., 0.]]]],\n",
       "\n",
       "\n",
       "\n",
       "       [[[[0., 0., 0.]],\n",
       "\n",
       "         [[0., 0., 0.]],\n",
       "\n",
       "         [[0., 0., 0.]],\n",
       "\n",
       "         [[0., 0., 0.]],\n",
       "\n",
       "         [[0., 0., 0.]]],\n",
       "\n",
       "\n",
       "        [[[0., 0., 0.]],\n",
       "\n",
       "         [[0., 0., 0.]],\n",
       "\n",
       "         [[0., 0., 0.]],\n",
       "\n",
       "         [[0., 0., 0.]],\n",
       "\n",
       "         [[0., 0., 0.]]],\n",
       "\n",
       "\n",
       "        [[[0., 0., 0.]],\n",
       "\n",
       "         [[0., 0., 0.]],\n",
       "\n",
       "         [[0., 0., 0.]],\n",
       "\n",
       "         [[0., 0., 0.]],\n",
       "\n",
       "         [[0., 0., 0.]]],\n",
       "\n",
       "\n",
       "        [[[0., 0., 0.]],\n",
       "\n",
       "         [[0., 0., 0.]],\n",
       "\n",
       "         [[0., 0., 0.]],\n",
       "\n",
       "         [[0., 0., 0.]],\n",
       "\n",
       "         [[0., 0., 0.]]],\n",
       "\n",
       "\n",
       "        [[[0., 0., 0.]],\n",
       "\n",
       "         [[0., 0., 0.]],\n",
       "\n",
       "         [[0., 0., 0.]],\n",
       "\n",
       "         [[0., 0., 0.]],\n",
       "\n",
       "         [[0., 0., 0.]]],\n",
       "\n",
       "\n",
       "        [[[0., 0., 0.]],\n",
       "\n",
       "         [[0., 0., 0.]],\n",
       "\n",
       "         [[0., 0., 0.]],\n",
       "\n",
       "         [[0., 0., 0.]],\n",
       "\n",
       "         [[0., 0., 0.]]],\n",
       "\n",
       "\n",
       "        [[[0., 0., 0.]],\n",
       "\n",
       "         [[0., 0., 0.]],\n",
       "\n",
       "         [[0., 0., 0.]],\n",
       "\n",
       "         [[0., 0., 0.]],\n",
       "\n",
       "         [[0., 0., 0.]]]],\n",
       "\n",
       "\n",
       "\n",
       "       [[[[0., 0., 0.]],\n",
       "\n",
       "         [[0., 0., 0.]],\n",
       "\n",
       "         [[0., 0., 0.]],\n",
       "\n",
       "         [[0., 0., 0.]],\n",
       "\n",
       "         [[0., 0., 0.]]],\n",
       "\n",
       "\n",
       "        [[[0., 0., 0.]],\n",
       "\n",
       "         [[0., 0., 0.]],\n",
       "\n",
       "         [[0., 0., 0.]],\n",
       "\n",
       "         [[0., 0., 0.]],\n",
       "\n",
       "         [[0., 0., 0.]]],\n",
       "\n",
       "\n",
       "        [[[0., 0., 0.]],\n",
       "\n",
       "         [[0., 0., 0.]],\n",
       "\n",
       "         [[0., 0., 0.]],\n",
       "\n",
       "         [[0., 0., 0.]],\n",
       "\n",
       "         [[0., 0., 0.]]],\n",
       "\n",
       "\n",
       "        [[[0., 0., 0.]],\n",
       "\n",
       "         [[0., 0., 0.]],\n",
       "\n",
       "         [[0., 0., 0.]],\n",
       "\n",
       "         [[0., 0., 0.]],\n",
       "\n",
       "         [[0., 0., 0.]]],\n",
       "\n",
       "\n",
       "        [[[0., 0., 0.]],\n",
       "\n",
       "         [[0., 0., 0.]],\n",
       "\n",
       "         [[0., 0., 0.]],\n",
       "\n",
       "         [[0., 0., 0.]],\n",
       "\n",
       "         [[0., 0., 0.]]],\n",
       "\n",
       "\n",
       "        [[[0., 0., 0.]],\n",
       "\n",
       "         [[0., 0., 0.]],\n",
       "\n",
       "         [[0., 0., 0.]],\n",
       "\n",
       "         [[0., 0., 0.]],\n",
       "\n",
       "         [[0., 0., 0.]]],\n",
       "\n",
       "\n",
       "        [[[0., 0., 0.]],\n",
       "\n",
       "         [[0., 0., 0.]],\n",
       "\n",
       "         [[0., 0., 0.]],\n",
       "\n",
       "         [[0., 0., 0.]],\n",
       "\n",
       "         [[0., 0., 0.]]]],\n",
       "\n",
       "\n",
       "\n",
       "       [[[[0., 0., 0.]],\n",
       "\n",
       "         [[0., 0., 0.]],\n",
       "\n",
       "         [[0., 0., 0.]],\n",
       "\n",
       "         [[0., 0., 0.]],\n",
       "\n",
       "         [[0., 0., 0.]]],\n",
       "\n",
       "\n",
       "        [[[0., 0., 0.]],\n",
       "\n",
       "         [[0., 0., 0.]],\n",
       "\n",
       "         [[0., 0., 0.]],\n",
       "\n",
       "         [[0., 0., 0.]],\n",
       "\n",
       "         [[0., 0., 0.]]],\n",
       "\n",
       "\n",
       "        [[[0., 0., 0.]],\n",
       "\n",
       "         [[0., 0., 0.]],\n",
       "\n",
       "         [[0., 0., 0.]],\n",
       "\n",
       "         [[0., 0., 0.]],\n",
       "\n",
       "         [[0., 0., 0.]]],\n",
       "\n",
       "\n",
       "        [[[0., 0., 0.]],\n",
       "\n",
       "         [[0., 0., 0.]],\n",
       "\n",
       "         [[0., 0., 0.]],\n",
       "\n",
       "         [[0., 0., 0.]],\n",
       "\n",
       "         [[0., 0., 0.]]],\n",
       "\n",
       "\n",
       "        [[[0., 0., 0.]],\n",
       "\n",
       "         [[0., 0., 0.]],\n",
       "\n",
       "         [[0., 0., 0.]],\n",
       "\n",
       "         [[0., 0., 0.]],\n",
       "\n",
       "         [[0., 0., 0.]]],\n",
       "\n",
       "\n",
       "        [[[0., 0., 0.]],\n",
       "\n",
       "         [[0., 0., 0.]],\n",
       "\n",
       "         [[0., 0., 0.]],\n",
       "\n",
       "         [[0., 0., 0.]],\n",
       "\n",
       "         [[0., 0., 0.]]],\n",
       "\n",
       "\n",
       "        [[[0., 0., 0.]],\n",
       "\n",
       "         [[0., 0., 0.]],\n",
       "\n",
       "         [[0., 0., 0.]],\n",
       "\n",
       "         [[0., 0., 0.]],\n",
       "\n",
       "         [[0., 0., 0.]]]]])"
      ]
     },
     "execution_count": 109,
     "metadata": {},
     "output_type": "execute_result"
    }
   ],
   "source": [
    "np.zeros((6,7,5,1,3))"
   ]
  },
  {
   "cell_type": "markdown",
   "id": "1ae80411",
   "metadata": {},
   "source": [
    "You Can Create Multiple Type Of Arrays of zeros using its function .zeros()"
   ]
  },
  {
   "cell_type": "markdown",
   "id": "2b6e3906",
   "metadata": {},
   "source": [
    "____________________________________________________________________________________________________________________________"
   ]
  },
  {
   "cell_type": "code",
   "execution_count": null,
   "id": "3cf54c2c",
   "metadata": {},
   "outputs": [
    {
     "data": {
      "text/plain": [
       "array([[1., 1., 1., 1., 1., 1., 1., 1., 1.],\n",
       "       [1., 1., 1., 1., 1., 1., 1., 1., 1.],\n",
       "       [1., 1., 1., 1., 1., 1., 1., 1., 1.],\n",
       "       [1., 1., 1., 1., 1., 1., 1., 1., 1.],\n",
       "       [1., 1., 1., 1., 1., 1., 1., 1., 1.],\n",
       "       [1., 1., 1., 1., 1., 1., 1., 1., 1.],\n",
       "       [1., 1., 1., 1., 1., 1., 1., 1., 1.],\n",
       "       [1., 1., 1., 1., 1., 1., 1., 1., 1.]])"
      ]
     },
     "execution_count": 111,
     "metadata": {},
     "output_type": "execute_result"
    }
   ],
   "source": [
    "# All 1s Matrix\n",
    "# This Also Takes One \n",
    "np.ones((8,9))"
   ]
  },
  {
   "cell_type": "code",
   "execution_count": null,
   "id": "c5017768",
   "metadata": {},
   "outputs": [
    {
     "data": {
      "text/plain": [
       "array([[[[1, 1, 1, 1],\n",
       "         [1, 1, 1, 1],\n",
       "         [1, 1, 1, 1],\n",
       "         [1, 1, 1, 1],\n",
       "         [1, 1, 1, 1]],\n",
       "\n",
       "        [[1, 1, 1, 1],\n",
       "         [1, 1, 1, 1],\n",
       "         [1, 1, 1, 1],\n",
       "         [1, 1, 1, 1],\n",
       "         [1, 1, 1, 1]],\n",
       "\n",
       "        [[1, 1, 1, 1],\n",
       "         [1, 1, 1, 1],\n",
       "         [1, 1, 1, 1],\n",
       "         [1, 1, 1, 1],\n",
       "         [1, 1, 1, 1]],\n",
       "\n",
       "        ...,\n",
       "\n",
       "        [[1, 1, 1, 1],\n",
       "         [1, 1, 1, 1],\n",
       "         [1, 1, 1, 1],\n",
       "         [1, 1, 1, 1],\n",
       "         [1, 1, 1, 1]],\n",
       "\n",
       "        [[1, 1, 1, 1],\n",
       "         [1, 1, 1, 1],\n",
       "         [1, 1, 1, 1],\n",
       "         [1, 1, 1, 1],\n",
       "         [1, 1, 1, 1]],\n",
       "\n",
       "        [[1, 1, 1, 1],\n",
       "         [1, 1, 1, 1],\n",
       "         [1, 1, 1, 1],\n",
       "         [1, 1, 1, 1],\n",
       "         [1, 1, 1, 1]]],\n",
       "\n",
       "\n",
       "       [[[1, 1, 1, 1],\n",
       "         [1, 1, 1, 1],\n",
       "         [1, 1, 1, 1],\n",
       "         [1, 1, 1, 1],\n",
       "         [1, 1, 1, 1]],\n",
       "\n",
       "        [[1, 1, 1, 1],\n",
       "         [1, 1, 1, 1],\n",
       "         [1, 1, 1, 1],\n",
       "         [1, 1, 1, 1],\n",
       "         [1, 1, 1, 1]],\n",
       "\n",
       "        [[1, 1, 1, 1],\n",
       "         [1, 1, 1, 1],\n",
       "         [1, 1, 1, 1],\n",
       "         [1, 1, 1, 1],\n",
       "         [1, 1, 1, 1]],\n",
       "\n",
       "        ...,\n",
       "\n",
       "        [[1, 1, 1, 1],\n",
       "         [1, 1, 1, 1],\n",
       "         [1, 1, 1, 1],\n",
       "         [1, 1, 1, 1],\n",
       "         [1, 1, 1, 1]],\n",
       "\n",
       "        [[1, 1, 1, 1],\n",
       "         [1, 1, 1, 1],\n",
       "         [1, 1, 1, 1],\n",
       "         [1, 1, 1, 1],\n",
       "         [1, 1, 1, 1]],\n",
       "\n",
       "        [[1, 1, 1, 1],\n",
       "         [1, 1, 1, 1],\n",
       "         [1, 1, 1, 1],\n",
       "         [1, 1, 1, 1],\n",
       "         [1, 1, 1, 1]]],\n",
       "\n",
       "\n",
       "       [[[1, 1, 1, 1],\n",
       "         [1, 1, 1, 1],\n",
       "         [1, 1, 1, 1],\n",
       "         [1, 1, 1, 1],\n",
       "         [1, 1, 1, 1]],\n",
       "\n",
       "        [[1, 1, 1, 1],\n",
       "         [1, 1, 1, 1],\n",
       "         [1, 1, 1, 1],\n",
       "         [1, 1, 1, 1],\n",
       "         [1, 1, 1, 1]],\n",
       "\n",
       "        [[1, 1, 1, 1],\n",
       "         [1, 1, 1, 1],\n",
       "         [1, 1, 1, 1],\n",
       "         [1, 1, 1, 1],\n",
       "         [1, 1, 1, 1]],\n",
       "\n",
       "        ...,\n",
       "\n",
       "        [[1, 1, 1, 1],\n",
       "         [1, 1, 1, 1],\n",
       "         [1, 1, 1, 1],\n",
       "         [1, 1, 1, 1],\n",
       "         [1, 1, 1, 1]],\n",
       "\n",
       "        [[1, 1, 1, 1],\n",
       "         [1, 1, 1, 1],\n",
       "         [1, 1, 1, 1],\n",
       "         [1, 1, 1, 1],\n",
       "         [1, 1, 1, 1]],\n",
       "\n",
       "        [[1, 1, 1, 1],\n",
       "         [1, 1, 1, 1],\n",
       "         [1, 1, 1, 1],\n",
       "         [1, 1, 1, 1],\n",
       "         [1, 1, 1, 1]]],\n",
       "\n",
       "\n",
       "       ...,\n",
       "\n",
       "\n",
       "       [[[1, 1, 1, 1],\n",
       "         [1, 1, 1, 1],\n",
       "         [1, 1, 1, 1],\n",
       "         [1, 1, 1, 1],\n",
       "         [1, 1, 1, 1]],\n",
       "\n",
       "        [[1, 1, 1, 1],\n",
       "         [1, 1, 1, 1],\n",
       "         [1, 1, 1, 1],\n",
       "         [1, 1, 1, 1],\n",
       "         [1, 1, 1, 1]],\n",
       "\n",
       "        [[1, 1, 1, 1],\n",
       "         [1, 1, 1, 1],\n",
       "         [1, 1, 1, 1],\n",
       "         [1, 1, 1, 1],\n",
       "         [1, 1, 1, 1]],\n",
       "\n",
       "        ...,\n",
       "\n",
       "        [[1, 1, 1, 1],\n",
       "         [1, 1, 1, 1],\n",
       "         [1, 1, 1, 1],\n",
       "         [1, 1, 1, 1],\n",
       "         [1, 1, 1, 1]],\n",
       "\n",
       "        [[1, 1, 1, 1],\n",
       "         [1, 1, 1, 1],\n",
       "         [1, 1, 1, 1],\n",
       "         [1, 1, 1, 1],\n",
       "         [1, 1, 1, 1]],\n",
       "\n",
       "        [[1, 1, 1, 1],\n",
       "         [1, 1, 1, 1],\n",
       "         [1, 1, 1, 1],\n",
       "         [1, 1, 1, 1],\n",
       "         [1, 1, 1, 1]]],\n",
       "\n",
       "\n",
       "       [[[1, 1, 1, 1],\n",
       "         [1, 1, 1, 1],\n",
       "         [1, 1, 1, 1],\n",
       "         [1, 1, 1, 1],\n",
       "         [1, 1, 1, 1]],\n",
       "\n",
       "        [[1, 1, 1, 1],\n",
       "         [1, 1, 1, 1],\n",
       "         [1, 1, 1, 1],\n",
       "         [1, 1, 1, 1],\n",
       "         [1, 1, 1, 1]],\n",
       "\n",
       "        [[1, 1, 1, 1],\n",
       "         [1, 1, 1, 1],\n",
       "         [1, 1, 1, 1],\n",
       "         [1, 1, 1, 1],\n",
       "         [1, 1, 1, 1]],\n",
       "\n",
       "        ...,\n",
       "\n",
       "        [[1, 1, 1, 1],\n",
       "         [1, 1, 1, 1],\n",
       "         [1, 1, 1, 1],\n",
       "         [1, 1, 1, 1],\n",
       "         [1, 1, 1, 1]],\n",
       "\n",
       "        [[1, 1, 1, 1],\n",
       "         [1, 1, 1, 1],\n",
       "         [1, 1, 1, 1],\n",
       "         [1, 1, 1, 1],\n",
       "         [1, 1, 1, 1]],\n",
       "\n",
       "        [[1, 1, 1, 1],\n",
       "         [1, 1, 1, 1],\n",
       "         [1, 1, 1, 1],\n",
       "         [1, 1, 1, 1],\n",
       "         [1, 1, 1, 1]]],\n",
       "\n",
       "\n",
       "       [[[1, 1, 1, 1],\n",
       "         [1, 1, 1, 1],\n",
       "         [1, 1, 1, 1],\n",
       "         [1, 1, 1, 1],\n",
       "         [1, 1, 1, 1]],\n",
       "\n",
       "        [[1, 1, 1, 1],\n",
       "         [1, 1, 1, 1],\n",
       "         [1, 1, 1, 1],\n",
       "         [1, 1, 1, 1],\n",
       "         [1, 1, 1, 1]],\n",
       "\n",
       "        [[1, 1, 1, 1],\n",
       "         [1, 1, 1, 1],\n",
       "         [1, 1, 1, 1],\n",
       "         [1, 1, 1, 1],\n",
       "         [1, 1, 1, 1]],\n",
       "\n",
       "        ...,\n",
       "\n",
       "        [[1, 1, 1, 1],\n",
       "         [1, 1, 1, 1],\n",
       "         [1, 1, 1, 1],\n",
       "         [1, 1, 1, 1],\n",
       "         [1, 1, 1, 1]],\n",
       "\n",
       "        [[1, 1, 1, 1],\n",
       "         [1, 1, 1, 1],\n",
       "         [1, 1, 1, 1],\n",
       "         [1, 1, 1, 1],\n",
       "         [1, 1, 1, 1]],\n",
       "\n",
       "        [[1, 1, 1, 1],\n",
       "         [1, 1, 1, 1],\n",
       "         [1, 1, 1, 1],\n",
       "         [1, 1, 1, 1],\n",
       "         [1, 1, 1, 1]]]], dtype=int16)"
      ]
     },
     "execution_count": 112,
     "metadata": {},
     "output_type": "execute_result"
    }
   ],
   "source": [
    "np.ones((7,8,5,4),dtype = 'int16')"
   ]
  },
  {
   "cell_type": "markdown",
   "id": "0bebc6e9",
   "metadata": {},
   "source": [
    "To Generate A Matrix Of Same Data Type You Can Use .full() function "
   ]
  },
  {
   "cell_type": "markdown",
   "id": "b2a33cf6",
   "metadata": {},
   "source": [
    "it takes two argument primarily one is shape and dimension another is for element you want to fill in it"
   ]
  },
  {
   "cell_type": "code",
   "execution_count": null,
   "id": "0e9d4573",
   "metadata": {},
   "outputs": [
    {
     "data": {
      "text/plain": [
       "array([[3, 3, 3, 3],\n",
       "       [3, 3, 3, 3],\n",
       "       [3, 3, 3, 3]])"
      ]
     },
     "execution_count": 113,
     "metadata": {},
     "output_type": "execute_result"
    }
   ],
   "source": [
    "# All Xs Matrix\n",
    "np.full((3,4),3)\n",
    "# Again Here You Can Change dtype of matrix "
   ]
  },
  {
   "cell_type": "code",
   "execution_count": null,
   "id": "2fa111f5",
   "metadata": {},
   "outputs": [
    {
     "data": {
      "text/plain": [
       "array([[2, 2, 2, 2, 2, 2, 2],\n",
       "       [2, 2, 2, 2, 2, 2, 2]])"
      ]
     },
     "execution_count": 169,
     "metadata": {},
     "output_type": "execute_result"
    }
   ],
   "source": [
    "# We Use full_like() function to Generate a matrix of same size as another matrix but with a common element at all places\n",
    "\n",
    "np.full_like(a,2)"
   ]
  },
  {
   "cell_type": "code",
   "execution_count": null,
   "id": "b5b64682",
   "metadata": {},
   "outputs": [
    {
     "data": {
      "text/plain": [
       "array([[2, 2, 2, 2, 2, 2, 2],\n",
       "       [2, 2, 2, 2, 2, 2, 2]])"
      ]
     },
     "execution_count": 170,
     "metadata": {},
     "output_type": "execute_result"
    }
   ],
   "source": [
    "np.full(a.shape,2)"
   ]
  },
  {
   "cell_type": "code",
   "execution_count": null,
   "id": "a7cd8647",
   "metadata": {},
   "outputs": [
    {
     "data": {
      "text/plain": [
       "array([[71.00063721,  2.28668633],\n",
       "       [17.39816689, 38.67701648],\n",
       "       [62.76799463, 61.41123726],\n",
       "       [70.6631028 , 47.68388368]])"
      ]
     },
     "execution_count": 175,
     "metadata": {},
     "output_type": "execute_result"
    }
   ],
   "source": [
    "# Random Decimal Number\n",
    "np.random.rand(4,2)*100"
   ]
  },
  {
   "cell_type": "code",
   "execution_count": null,
   "id": "73f449dc",
   "metadata": {},
   "outputs": [
    {
     "data": {
      "text/plain": [
       "array([[0.41475016, 0.008925  , 0.86958923, 0.36020162, 0.31592417,\n",
       "        0.82074094, 0.84024807],\n",
       "       [0.05837808, 0.86959851, 0.58101656, 0.86179352, 0.08215401,\n",
       "        0.13369552, 0.97922323]])"
      ]
     },
     "execution_count": 176,
     "metadata": {},
     "output_type": "execute_result"
    }
   ],
   "source": [
    "# Random Number On A Older Matrix's Shape\n",
    "np.random.random_sample(a.shape)"
   ]
  },
  {
   "cell_type": "code",
   "execution_count": null,
   "id": "f394d6e1",
   "metadata": {},
   "outputs": [
    {
     "data": {
      "text/plain": [
       "array([6, 5, 8])"
      ]
     },
     "execution_count": 184,
     "metadata": {},
     "output_type": "execute_result"
    }
   ],
   "source": [
    "# Random Integers Values\n",
    "np.random.randint(4,9,size=(3))"
   ]
  },
  {
   "cell_type": "code",
   "execution_count": null,
   "id": "41f91bd8",
   "metadata": {},
   "outputs": [
    {
     "data": {
      "text/plain": [
       "array([[1., 0., 0., 0., 0.],\n",
       "       [0., 1., 0., 0., 0.],\n",
       "       [0., 0., 1., 0., 0.],\n",
       "       [0., 0., 0., 1., 0.],\n",
       "       [0., 0., 0., 0., 1.]])"
      ]
     },
     "execution_count": 185,
     "metadata": {},
     "output_type": "execute_result"
    }
   ],
   "source": [
    "#Identity Matrix\n",
    "np.identity(5)"
   ]
  },
  {
   "cell_type": "code",
   "execution_count": null,
   "id": "51c64d9c",
   "metadata": {},
   "outputs": [
    {
     "name": "stdout",
     "output_type": "stream",
     "text": [
      "[[1 2 3]\n",
      " [1 2 3]\n",
      " [1 2 3]]\n"
     ]
    }
   ],
   "source": [
    "# Repeat an Array\n",
    "arr = np.array([[1,2,3]])\n",
    "r1 = np.repeat(arr,3,axis = 0)\n",
    "print(r1)"
   ]
  },
  {
   "cell_type": "code",
   "execution_count": null,
   "id": "437df5f2",
   "metadata": {},
   "outputs": [
    {
     "name": "stdout",
     "output_type": "stream",
     "text": [
      "[[1. 1. 1. 1. 1.]\n",
      " [1. 0. 0. 0. 1.]\n",
      " [1. 0. 9. 0. 1.]\n",
      " [1. 0. 0. 0. 1.]\n",
      " [1. 1. 1. 1. 1.]]\n"
     ]
    }
   ],
   "source": [
    "# Practice Set Q1\n",
    "arr1 = np.ones((5,5))\n",
    "z = np.zeros((3,3))\n",
    "z[1,1] = 9\n",
    "arr1[1:4,1:4] = z\n",
    "print(arr1)"
   ]
  },
  {
   "cell_type": "markdown",
   "id": "cb804b59",
   "metadata": {},
   "source": [
    "# Python's Rule 1 :- Every Thing Is Reference of Main Object"
   ]
  },
  {
   "cell_type": "code",
   "execution_count": null,
   "id": "9dfdae2c",
   "metadata": {},
   "outputs": [
    {
     "name": "stdout",
     "output_type": "stream",
     "text": [
      "[1 2 3]\n",
      "[100   2   3]\n",
      "[1 2 3]\n"
     ]
    }
   ],
   "source": [
    "a = np.array([1,2,3])\n",
    "b = a.copy()\n",
    "print(b)\n",
    "b[0] = 100\n",
    "print(b)\n",
    "print(a)"
   ]
  },
  {
   "cell_type": "markdown",
   "id": "222736ca",
   "metadata": {},
   "source": [
    "____________________________________________________________________________________________________________________________"
   ]
  },
  {
   "cell_type": "markdown",
   "id": "ec123d83",
   "metadata": {},
   "source": [
    "# Mathematics"
   ]
  },
  {
   "cell_type": "code",
   "execution_count": null,
   "id": "2f86621b",
   "metadata": {},
   "outputs": [
    {
     "name": "stdout",
     "output_type": "stream",
     "text": [
      "[1 2 3 4]\n"
     ]
    }
   ],
   "source": [
    "a = np.array([1,2,3,4])\n",
    "print(a)"
   ]
  },
  {
   "cell_type": "code",
   "execution_count": null,
   "id": "9911c9ef",
   "metadata": {},
   "outputs": [
    {
     "data": {
      "text/plain": [
       "array([3, 4, 5, 6])"
      ]
     },
     "execution_count": 212,
     "metadata": {},
     "output_type": "execute_result"
    }
   ],
   "source": [
    "# Addition \n",
    "# Adding Scaler To Array Leads To Add Scaler To Every Element Of Array\n",
    "\n",
    "a + 2"
   ]
  },
  {
   "cell_type": "code",
   "execution_count": null,
   "id": "104d6404",
   "metadata": {},
   "outputs": [
    {
     "data": {
      "text/plain": [
       "array([-1,  0,  1,  2])"
      ]
     },
     "execution_count": 213,
     "metadata": {},
     "output_type": "execute_result"
    }
   ],
   "source": [
    "# Substraction \n",
    "# Same As Addition\n",
    "a - 2"
   ]
  },
  {
   "cell_type": "code",
   "execution_count": null,
   "id": "a37a4105",
   "metadata": {},
   "outputs": [
    {
     "data": {
      "text/plain": [
       "array([2, 4, 6, 8])"
      ]
     },
     "execution_count": 214,
     "metadata": {},
     "output_type": "execute_result"
    }
   ],
   "source": [
    "# Multiplication \n",
    "# Also Same\n",
    "\n",
    "a*2"
   ]
  },
  {
   "cell_type": "code",
   "execution_count": null,
   "id": "5738782a",
   "metadata": {},
   "outputs": [
    {
     "data": {
      "text/plain": [
       "array([0.5, 1. , 1.5, 2. ])"
      ]
     },
     "execution_count": 215,
     "metadata": {},
     "output_type": "execute_result"
    }
   ],
   "source": [
    "# Division\n",
    "# Same As Above\n",
    "a/2"
   ]
  },
  {
   "cell_type": "code",
   "execution_count": null,
   "id": "a8f58e14",
   "metadata": {},
   "outputs": [
    {
     "data": {
      "text/plain": [
       "array([2, 2, 4, 4])"
      ]
     },
     "execution_count": 216,
     "metadata": {},
     "output_type": "execute_result"
    }
   ],
   "source": [
    "# Additing Another Array To Original\n",
    "b=np.array([1,0,1,0])\n",
    "a+b"
   ]
  },
  {
   "cell_type": "code",
   "execution_count": null,
   "id": "84adf3b8",
   "metadata": {},
   "outputs": [
    {
     "data": {
      "text/plain": [
       "array([ 1,  4,  9, 16])"
      ]
     },
     "execution_count": 217,
     "metadata": {},
     "output_type": "execute_result"
    }
   ],
   "source": [
    "# Exponents Of Element Of Matrix\n",
    "a ** 2"
   ]
  },
  {
   "cell_type": "code",
   "execution_count": null,
   "id": "07a10cf1",
   "metadata": {},
   "outputs": [
    {
     "name": "stdout",
     "output_type": "stream",
     "text": [
      "[ 0.84147098  0.90929743  0.14112001 -0.7568025 ]\n",
      "[ 0.54030231 -0.41614684 -0.9899925  -0.65364362]\n",
      "[ 1.55740772 -2.18503986 -0.14254654  1.15782128]\n"
     ]
    }
   ],
   "source": [
    "# Trigonometrical Function\n",
    "print(np.sin(a))\n",
    "print(np.cos(a))\n",
    "print(np.tan(a))"
   ]
  },
  {
   "cell_type": "markdown",
   "id": "9dda3870",
   "metadata": {},
   "source": [
    "# Linear Algebra"
   ]
  },
  {
   "cell_type": "code",
   "execution_count": null,
   "id": "198aadcc",
   "metadata": {},
   "outputs": [
    {
     "name": "stdout",
     "output_type": "stream",
     "text": [
      "[[1. 1. 1.]\n",
      " [1. 1. 1.]]\n",
      "[[2 2]\n",
      " [2 2]\n",
      " [2 2]]\n"
     ]
    },
    {
     "data": {
      "text/plain": [
       "array([[6., 6.],\n",
       "       [6., 6.]])"
      ]
     },
     "execution_count": 237,
     "metadata": {},
     "output_type": "execute_result"
    }
   ],
   "source": [
    "# We Are Going To Try Matrix Multiplication\n",
    "\n",
    "a = np.ones((2,3))\n",
    "print(a)\n",
    "\n",
    "b= np.full((3,2),2)\n",
    "print(b)\n",
    "\n",
    "np.matmul(a,b)"
   ]
  },
  {
   "cell_type": "code",
   "execution_count": null,
   "id": "503a82bc",
   "metadata": {},
   "outputs": [
    {
     "data": {
      "text/plain": [
       "1.0"
      ]
     },
     "execution_count": 238,
     "metadata": {},
     "output_type": "execute_result"
    }
   ],
   "source": [
    "# Determinant of matrix\n",
    "\n",
    "c = np.identity(3)\n",
    "# I Have Used Identity Matrix To Check The Determinant Is 1 or not \n",
    "np.linalg.det(c)"
   ]
  },
  {
   "cell_type": "markdown",
   "id": "0bbd7902",
   "metadata": {},
   "source": [
    "# Statistics\n",
    "  "
   ]
  },
  {
   "cell_type": "code",
   "execution_count": null,
   "id": "1e12523d",
   "metadata": {},
   "outputs": [
    {
     "name": "stdout",
     "output_type": "stream",
     "text": [
      "[[1 2 3]\n",
      " [4 5 3]]\n"
     ]
    }
   ],
   "source": [
    "stats = np.array([[1,2,3],[4,5,3]])\n",
    "print(stats)"
   ]
  },
  {
   "cell_type": "code",
   "execution_count": null,
   "id": "bdcd3624",
   "metadata": {},
   "outputs": [
    {
     "data": {
      "text/plain": [
       "3.0"
      ]
     },
     "execution_count": 259,
     "metadata": {},
     "output_type": "execute_result"
    }
   ],
   "source": [
    "# Mean Of Data In NumPy\n",
    "np.mean(stats)"
   ]
  },
  {
   "cell_type": "code",
   "execution_count": null,
   "id": "8a85f702",
   "metadata": {},
   "outputs": [
    {
     "data": {
      "text/plain": [
       "5"
      ]
     },
     "execution_count": 254,
     "metadata": {},
     "output_type": "execute_result"
    }
   ],
   "source": [
    "# Max In Array\n",
    "np.max(stats)"
   ]
  },
  {
   "cell_type": "code",
   "execution_count": null,
   "id": "636e3a82",
   "metadata": {},
   "outputs": [
    {
     "data": {
      "text/plain": [
       "1"
      ]
     },
     "execution_count": 261,
     "metadata": {},
     "output_type": "execute_result"
    }
   ],
   "source": [
    "# Min In Array\n",
    "np.min(stats)"
   ]
  },
  {
   "cell_type": "code",
   "execution_count": null,
   "id": "745f65c5",
   "metadata": {},
   "outputs": [
    {
     "data": {
      "text/plain": [
       "18"
      ]
     },
     "execution_count": 260,
     "metadata": {},
     "output_type": "execute_result"
    }
   ],
   "source": [
    "# Sum Of All Element In Array\n",
    "np.sum(stats)"
   ]
  },
  {
   "cell_type": "code",
   "execution_count": null,
   "id": "ca78afbe",
   "metadata": {},
   "outputs": [
    {
     "name": "stdout",
     "output_type": "stream",
     "text": [
      "3.0\n"
     ]
    }
   ],
   "source": [
    "# We Can Use Different Function To Calculate Same Output But Numpy has its own function\n",
    "print((np.sum(stats)/stats.size))"
   ]
  },
  {
   "cell_type": "code",
   "execution_count": null,
   "id": "da241259",
   "metadata": {},
   "outputs": [
    {
     "data": {
      "text/plain": [
       "array([ 6, 12])"
      ]
     },
     "execution_count": 264,
     "metadata": {},
     "output_type": "execute_result"
    }
   ],
   "source": [
    "# Introduction Of Axis In Picture\n",
    "# In NumPy, `axis` defines **the direction in which an operation is applied**.\n",
    "# 1D Array Only Has One Axis (Axis = 0)\n",
    "# 2D Array Have 2 Axis (Axis = 0 for column-vice operation , Axis = 1 for row-vice operation)\n",
    "'''row-vice axis tells the function to operate in row format means apply operation on elements which are traversed \n",
    "row vice ex axis = 0 for 2D Array'''\n",
    "np.sum(stats,axis=1)"
   ]
  },
  {
   "cell_type": "markdown",
   "id": "f56f1b3d",
   "metadata": {},
   "source": [
    "Axis Represents In Which Dimension Function Should Work "
   ]
  },
  {
   "cell_type": "markdown",
   "id": "c1976d79",
   "metadata": {},
   "source": [
    "For Example Above np.sum(stats,axis = 1) gives addition of element in columns-form"
   ]
  },
  {
   "cell_type": "markdown",
   "id": "a3457a01",
   "metadata": {},
   "source": [
    "# Reorganizing Arrays"
   ]
  },
  {
   "cell_type": "code",
   "execution_count": null,
   "id": "61b35ec2",
   "metadata": {},
   "outputs": [
    {
     "name": "stdout",
     "output_type": "stream",
     "text": [
      "[[1 2 3 4]\n",
      " [5 6 7 8]]\n"
     ]
    }
   ],
   "source": [
    "before = np.array([[1,2,3,4],[5,6,7,8]])\n",
    "print(before)"
   ]
  },
  {
   "cell_type": "code",
   "execution_count": null,
   "id": "e61ecadd",
   "metadata": {},
   "outputs": [
    {
     "name": "stdout",
     "output_type": "stream",
     "text": [
      "(2, 4)\n"
     ]
    }
   ],
   "source": [
    "print(before.shape)"
   ]
  },
  {
   "cell_type": "code",
   "execution_count": null,
   "id": "afb233e1",
   "metadata": {},
   "outputs": [],
   "source": [
    "# Convert array of shape (2,4) to (8,1)\n",
    "# Be Careful Number Of Element Must Be Same \n",
    "# When Converting To Another Shape\n",
    "# Or When Every reshaping Check Product Of Dimension Of Shape if Both Number Are Equal Then We Can reshape original "
   ]
  },
  {
   "cell_type": "code",
   "execution_count": null,
   "id": "dfafc94d",
   "metadata": {},
   "outputs": [
    {
     "name": "stdout",
     "output_type": "stream",
     "text": [
      "[[1]\n",
      " [2]\n",
      " [3]\n",
      " [4]\n",
      " [5]\n",
      " [6]\n",
      " [7]\n",
      " [8]]\n"
     ]
    }
   ],
   "source": [
    "after = before.reshape(8,1)\n",
    "print(after)"
   ]
  },
  {
   "cell_type": "code",
   "execution_count": null,
   "id": "85de96b2",
   "metadata": {},
   "outputs": [
    {
     "ename": "TypeError",
     "evalue": "reshape() got an unexpected keyword argument 'shape'",
     "output_type": "error",
     "traceback": [
      "\u001b[1;31m---------------------------------------------------------------------------\u001b[0m",
      "\u001b[1;31mTypeError\u001b[0m                                 Traceback (most recent call last)",
      "Cell \u001b[1;32mIn[270], line 1\u001b[0m\n\u001b[1;32m----> 1\u001b[0m after \u001b[38;5;241m=\u001b[39m np\u001b[38;5;241m.\u001b[39mreshape(before,shape \u001b[38;5;241m=\u001b[39m (\u001b[38;5;241m2\u001b[39m,\u001b[38;5;241m2\u001b[39m,\u001b[38;5;241m2\u001b[39m))\n\u001b[0;32m      2\u001b[0m \u001b[38;5;28mprint\u001b[39m(after)\n",
      "\u001b[1;31mTypeError\u001b[0m: reshape() got an unexpected keyword argument 'shape'"
     ]
    }
   ],
   "source": [
    "after = np.reshape(before,shape = (2,2,2))\n",
    "print(after)"
   ]
  },
  {
   "cell_type": "code",
   "execution_count": null,
   "id": "9d001abe",
   "metadata": {},
   "outputs": [
    {
     "data": {
      "text/plain": [
       "array([17, 15])"
      ]
     },
     "execution_count": 273,
     "metadata": {},
     "output_type": "execute_result"
    }
   ],
   "source": [
    "a = np.array([[3,4,6,4],[6,3,1,5]])\n",
    "b = np.array([[5,6,3,2],[5,6,3,2]])\n",
    "\n",
    "a.sum(axis=1)"
   ]
  },
  {
   "cell_type": "code",
   "execution_count": null,
   "id": "4076773e",
   "metadata": {},
   "outputs": [
    {
     "data": {
      "text/plain": [
       "array([[1, 2],\n",
       "       [3, 4],\n",
       "       [5, 6],\n",
       "       [7, 8]])"
      ]
     },
     "execution_count": 281,
     "metadata": {},
     "output_type": "execute_result"
    }
   ],
   "source": [
    "# Vertically Stacking Vectors\n",
    "v1 = np.array([[1,2],[3,4]])\n",
    "v2 = np.array([[5,6],[7,8]])\n",
    "\n",
    "np.vstack((v1,v2))"
   ]
  },
  {
   "cell_type": "code",
   "execution_count": null,
   "id": "72b88cc5",
   "metadata": {},
   "outputs": [
    {
     "data": {
      "text/plain": [
       "array([[1, 2, 5, 6],\n",
       "       [3, 4, 7, 8]])"
      ]
     },
     "execution_count": 282,
     "metadata": {},
     "output_type": "execute_result"
    }
   ],
   "source": [
    "# Horizontal Stack\n",
    "h1 = np.array([[1,2],[3,4]])\n",
    "h2 = np.array([[5,6],[7,8]])\n",
    "\n",
    "np.hstack((h1,h2))"
   ]
  },
  {
   "cell_type": "code",
   "execution_count": null,
   "id": "191adec3",
   "metadata": {},
   "outputs": [],
   "source": [
    "# Vertical Stacking Result A Array Where Element Of Previous Array Are Stacked on top of each other by following rule of\n",
    "# first traversed will be on top\n",
    "# Arrays must have the **same number of columns**.\n",
    "# Think of it as stacking rows **one under the other**"
   ]
  },
  {
   "cell_type": "markdown",
   "id": "0723782b",
   "metadata": {},
   "source": [
    "# Miscellaneous"
   ]
  },
  {
   "cell_type": "markdown",
   "id": "54a53f8c",
   "metadata": {},
   "source": [
    "Load Data From File "
   ]
  },
  {
   "cell_type": "code",
   "execution_count": null,
   "id": "7e1401ed",
   "metadata": {},
   "outputs": [
    {
     "ename": "FileNotFoundError",
     "evalue": "C:/Users/user/DS/datafile.csv not found.",
     "output_type": "error",
     "traceback": [
      "\u001b[1;31m---------------------------------------------------------------------------\u001b[0m",
      "\u001b[1;31mFileNotFoundError\u001b[0m                         Traceback (most recent call last)",
      "Cell \u001b[1;32mIn[299], line 1\u001b[0m\n\u001b[1;32m----> 1\u001b[0m filedata \u001b[38;5;241m=\u001b[39m np\u001b[38;5;241m.\u001b[39mloadtxt(\u001b[38;5;124m'\u001b[39m\u001b[38;5;124mC:/Users/user/DS/datafile.csv\u001b[39m\u001b[38;5;124m'\u001b[39m ,delimiter\u001b[38;5;241m=\u001b[39m\u001b[38;5;124m'\u001b[39m\u001b[38;5;124m \u001b[39m\u001b[38;5;124m'\u001b[39m)\n\u001b[0;32m      2\u001b[0m \u001b[38;5;28mprint\u001b[39m(filedata)\n",
      "File \u001b[1;32mc:\\Users\\user\\anaconda2\\Lib\\site-packages\\numpy\\lib\\npyio.py:1373\u001b[0m, in \u001b[0;36mloadtxt\u001b[1;34m(fname, dtype, comments, delimiter, converters, skiprows, usecols, unpack, ndmin, encoding, max_rows, quotechar, like)\u001b[0m\n\u001b[0;32m   1370\u001b[0m \u001b[38;5;28;01mif\u001b[39;00m \u001b[38;5;28misinstance\u001b[39m(delimiter, \u001b[38;5;28mbytes\u001b[39m):\n\u001b[0;32m   1371\u001b[0m     delimiter \u001b[38;5;241m=\u001b[39m delimiter\u001b[38;5;241m.\u001b[39mdecode(\u001b[38;5;124m'\u001b[39m\u001b[38;5;124mlatin1\u001b[39m\u001b[38;5;124m'\u001b[39m)\n\u001b[1;32m-> 1373\u001b[0m arr \u001b[38;5;241m=\u001b[39m _read(fname, dtype\u001b[38;5;241m=\u001b[39mdtype, comment\u001b[38;5;241m=\u001b[39mcomment, delimiter\u001b[38;5;241m=\u001b[39mdelimiter,\n\u001b[0;32m   1374\u001b[0m             converters\u001b[38;5;241m=\u001b[39mconverters, skiplines\u001b[38;5;241m=\u001b[39mskiprows, usecols\u001b[38;5;241m=\u001b[39musecols,\n\u001b[0;32m   1375\u001b[0m             unpack\u001b[38;5;241m=\u001b[39munpack, ndmin\u001b[38;5;241m=\u001b[39mndmin, encoding\u001b[38;5;241m=\u001b[39mencoding,\n\u001b[0;32m   1376\u001b[0m             max_rows\u001b[38;5;241m=\u001b[39mmax_rows, quote\u001b[38;5;241m=\u001b[39mquotechar)\n\u001b[0;32m   1378\u001b[0m \u001b[38;5;28;01mreturn\u001b[39;00m arr\n",
      "File \u001b[1;32mc:\\Users\\user\\anaconda2\\Lib\\site-packages\\numpy\\lib\\npyio.py:992\u001b[0m, in \u001b[0;36m_read\u001b[1;34m(fname, delimiter, comment, quote, imaginary_unit, usecols, skiplines, max_rows, converters, ndmin, unpack, dtype, encoding)\u001b[0m\n\u001b[0;32m    990\u001b[0m     fname \u001b[38;5;241m=\u001b[39m os\u001b[38;5;241m.\u001b[39mfspath(fname)\n\u001b[0;32m    991\u001b[0m \u001b[38;5;28;01mif\u001b[39;00m \u001b[38;5;28misinstance\u001b[39m(fname, \u001b[38;5;28mstr\u001b[39m):\n\u001b[1;32m--> 992\u001b[0m     fh \u001b[38;5;241m=\u001b[39m np\u001b[38;5;241m.\u001b[39mlib\u001b[38;5;241m.\u001b[39m_datasource\u001b[38;5;241m.\u001b[39mopen(fname, \u001b[38;5;124m'\u001b[39m\u001b[38;5;124mrt\u001b[39m\u001b[38;5;124m'\u001b[39m, encoding\u001b[38;5;241m=\u001b[39mencoding)\n\u001b[0;32m    993\u001b[0m     \u001b[38;5;28;01mif\u001b[39;00m encoding \u001b[38;5;129;01mis\u001b[39;00m \u001b[38;5;28;01mNone\u001b[39;00m:\n\u001b[0;32m    994\u001b[0m         encoding \u001b[38;5;241m=\u001b[39m \u001b[38;5;28mgetattr\u001b[39m(fh, \u001b[38;5;124m'\u001b[39m\u001b[38;5;124mencoding\u001b[39m\u001b[38;5;124m'\u001b[39m, \u001b[38;5;124m'\u001b[39m\u001b[38;5;124mlatin1\u001b[39m\u001b[38;5;124m'\u001b[39m)\n",
      "File \u001b[1;32mc:\\Users\\user\\anaconda2\\Lib\\site-packages\\numpy\\lib\\_datasource.py:193\u001b[0m, in \u001b[0;36mopen\u001b[1;34m(path, mode, destpath, encoding, newline)\u001b[0m\n\u001b[0;32m    156\u001b[0m \u001b[38;5;250m\u001b[39m\u001b[38;5;124;03m\"\"\"\u001b[39;00m\n\u001b[0;32m    157\u001b[0m \u001b[38;5;124;03mOpen `path` with `mode` and return the file object.\u001b[39;00m\n\u001b[0;32m    158\u001b[0m \n\u001b[1;32m   (...)\u001b[0m\n\u001b[0;32m    189\u001b[0m \n\u001b[0;32m    190\u001b[0m \u001b[38;5;124;03m\"\"\"\u001b[39;00m\n\u001b[0;32m    192\u001b[0m ds \u001b[38;5;241m=\u001b[39m DataSource(destpath)\n\u001b[1;32m--> 193\u001b[0m \u001b[38;5;28;01mreturn\u001b[39;00m ds\u001b[38;5;241m.\u001b[39mopen(path, mode, encoding\u001b[38;5;241m=\u001b[39mencoding, newline\u001b[38;5;241m=\u001b[39mnewline)\n",
      "File \u001b[1;32mc:\\Users\\user\\anaconda2\\Lib\\site-packages\\numpy\\lib\\_datasource.py:533\u001b[0m, in \u001b[0;36mDataSource.open\u001b[1;34m(self, path, mode, encoding, newline)\u001b[0m\n\u001b[0;32m    530\u001b[0m     \u001b[38;5;28;01mreturn\u001b[39;00m _file_openers[ext](found, mode\u001b[38;5;241m=\u001b[39mmode,\n\u001b[0;32m    531\u001b[0m                               encoding\u001b[38;5;241m=\u001b[39mencoding, newline\u001b[38;5;241m=\u001b[39mnewline)\n\u001b[0;32m    532\u001b[0m \u001b[38;5;28;01melse\u001b[39;00m:\n\u001b[1;32m--> 533\u001b[0m     \u001b[38;5;28;01mraise\u001b[39;00m \u001b[38;5;167;01mFileNotFoundError\u001b[39;00m(\u001b[38;5;124mf\u001b[39m\u001b[38;5;124m\"\u001b[39m\u001b[38;5;132;01m{\u001b[39;00mpath\u001b[38;5;132;01m}\u001b[39;00m\u001b[38;5;124m not found.\u001b[39m\u001b[38;5;124m\"\u001b[39m)\n",
      "\u001b[1;31mFileNotFoundError\u001b[0m: C:/Users/user/DS/datafile.csv not found."
     ]
    }
   ],
   "source": [
    "filedata = np.loadtxt('C:/Users/user/DS/datafile.csv' ,delimiter=' ')\n",
    "print(filedata)"
   ]
  },
  {
   "cell_type": "code",
   "execution_count": null,
   "id": "051479b6",
   "metadata": {},
   "outputs": [
    {
     "name": "stdout",
     "output_type": "stream",
     "text": [
      "c:\\Users\\user\\DS\\NumPy\n"
     ]
    }
   ],
   "source": [
    "import os\n",
    "print(os.getcwd())"
   ]
  },
  {
   "cell_type": "code",
   "execution_count": null,
   "id": "b558104b",
   "metadata": {},
   "outputs": [
    {
     "name": "stdout",
     "output_type": "stream",
     "text": [
      "['[42 21 19 29 12 89 48 59 24 34 56 39  4 14 98 86 78 31 73 84 99 58 98 24\\n', ' 31 32 66 36 82 70  4 16 71 62 90 12  2 18  6 22 12 47  0 33 52 91 99 54\\n', ' 29 43 75 27 60 71 73 22  4 67 29 23 88  6 55  4  4 73  0 39 96 49 72 79\\n', ' 13 22 14 99  7 18 69 16  4 98 32 89 27 75 15 53 67 65 48 84  8  2 14 32\\n', ' 32 46 75 12 86 75  6 63 97 31 94 58 13 23 52 35  3 64 40 95 31  1 30 58\\n', '  5  4 13 41 75 38 73 44 82 31  3 40 13 58 62 70 15 60 74 13 34 42 93 84\\n', ' 38 55 62 87 10 43  0 30 90 51 55  1 54 12 62 30 51 74 69 86 78 51 57 55\\n', ' 21 21 30 63 83 96 13 15 74 29 98  8 58 16 33 88 67 80 85 30 36 19 61 75\\n', '  5 88 68 68 78 27 19 36 36  3  0 17 31 62 90 68 42 84 76 34 69 14  4 62\\n', ' 22 52 65 44 92 67  0 59 26  2 46 83 35 33 77 58 55  8 34 36 91 75 21 10\\n', ' 88  2 53 83  1 34 44 15 22  4 80 59 15 61 31 84  5 29 86  9 77 92 47 45\\n', ' 92 25 62 79 23 59 11 34 69 30 66 20 70 10 42 93 89 39 30 22 98 29 65 73\\n', ' 31 97 23 65 48 88 19 19 73 93 19  2 45 70 57  3 25 18 88 22 70 80 38 52\\n', ' 33 84  0 46 76 52 23 82 96 48  2 42 71 74 19 17 34  9  0 68 95 74 67 49\\n', ' 80 70 95 50 96  8 90 37 45 46 91 48 46  0 35 73 53 52 67  0 29 85 48 18\\n', ' 76 50 55 99 83 59 45  2 88 51 95 95 66 28 14 52 82 39  9  6 70 57  1 84\\n', ' 18 56 43 67 35 71 24 18 77 81 19 94 96 92  3 78 27 84 23 40 62 58 14 75\\n', ' 35 48 91 83 27 90 37 90 76 55 54  1 67 51 22 20 17 34 31 10  6 14 24 50\\n', ' 16 69 28  5 59 97 31 95 72 38 93 18 98 67 19 90 96 39 53 97 96 81 95 17\\n', ' 76 59 39  8 22 33  0 62  9 13 95 78  7 22  2  0 50 91 84 45 37 79 73 90\\n', ' 17 28 32 46 83 53 87 22 54 23 10 34 26 53 66 42 76 56 96  8]']\n"
     ]
    }
   ],
   "source": [
    "with open(\"datafile.txt\",\"r\")as f :\n",
    "    print(f.readlines())\n",
    "    array = f"
   ]
  },
  {
   "cell_type": "code",
   "execution_count": null,
   "id": "d052cee8",
   "metadata": {},
   "outputs": [
    {
     "name": "stdout",
     "output_type": "stream",
     "text": [
      "[42 21 19 29 12 89 48 59 24 34 56 39  4 14 98 86 78 31 73 84 99 58 98 24\n",
      " 31 32 66 36 82 70  4 16 71 62 90 12  2 18  6 22 12 47  0 33 52 91 99 54\n",
      " 29 43 75 27 60 71 73 22  4 67 29 23 88  6 55  4  4 73  0 39 96 49 72 79\n",
      " 13 22 14 99  7 18 69 16  4 98 32 89 27 75 15 53 67 65 48 84  8  2 14 32\n",
      " 32 46 75 12 86 75  6 63 97 31 94 58 13 23 52 35  3 64 40 95 31  1 30 58\n",
      "  5  4 13 41 75 38 73 44 82 31  3 40 13 58 62 70 15 60 74 13 34 42 93 84\n",
      " 38 55 62 87 10 43  0 30 90 51 55  1 54 12 62 30 51 74 69 86 78 51 57 55\n",
      " 21 21 30 63 83 96 13 15 74 29 98  8 58 16 33 88 67 80 85 30 36 19 61 75\n",
      "  5 88 68 68 78 27 19 36 36  3  0 17 31 62 90 68 42 84 76 34 69 14  4 62\n",
      " 22 52 65 44 92 67  0 59 26  2 46 83 35 33 77 58 55  8 34 36 91 75 21 10\n",
      " 88  2 53 83  1 34 44 15 22  4 80 59 15 61 31 84  5 29 86  9 77 92 47 45\n",
      " 92 25 62 79 23 59 11 34 69 30 66 20 70 10 42 93 89 39 30 22 98 29 65 73\n",
      " 31 97 23 65 48 88 19 19 73 93 19  2 45 70 57  3 25 18 88 22 70 80 38 52\n",
      " 33 84  0 46 76 52 23 82 96 48  2 42 71 74 19 17 34  9  0 68 95 74 67 49\n",
      " 80 70 95 50 96  8 90 37 45 46 91 48 46  0 35 73 53 52 67  0 29 85 48 18\n",
      " 76 50 55 99 83 59 45  2 88 51 95 95 66 28 14 52 82 39  9  6 70 57  1 84\n",
      " 18 56 43 67 35 71 24 18 77 81 19 94 96 92  3 78 27 84 23 40 62 58 14 75\n",
      " 35 48 91 83 27 90 37 90 76 55 54  1 67 51 22 20 17 34 31 10  6 14 24 50\n",
      " 16 69 28  5 59 97 31 95 72 38 93 18 98 67 19 90 96 39 53 97 96 81 95 17\n",
      " 76 59 39  8 22 33  0 62  9 13 95 78  7 22  2  0 50 91 84 45 37 79 73 90\n",
      " 17 28 32 46 83 53 87 22 54 23 10 34 26 53 66 42 76 56 96  8]\n"
     ]
    }
   ],
   "source": [
    "print(array)"
   ]
  },
  {
   "cell_type": "code",
   "execution_count": 98,
   "id": "80787215",
   "metadata": {},
   "outputs": [
    {
     "data": {
      "text/plain": [
       "array([[42, 21, 19, 29, 12, 89, 48, 59, 24, 34, 56, 39,  4, 14, 98, 86,\n",
       "        78, 31, 73, 84, 99, 58, 98, 24, -1],\n",
       "       [31, 32, 66, 36, 82, 70,  4, 16, 71, 62, 90, 12,  2, 18,  6, 22,\n",
       "        12, 47,  0, 33, 52, 91, 99, 54, -1],\n",
       "       [29, 43, 75, 27, 60, 71, 73, 22,  4, 67, 29, 23, 88,  6, 55,  4,\n",
       "         4, 73,  0, 39, 96, 49, 72, 79, -1],\n",
       "       [13, 22, 14, 99,  7, 18, 69, 16,  4, 98, 32, 89, 27, 75, 15, 53,\n",
       "        67, 65, 48, 84,  8,  2, 14, 32, -1],\n",
       "       [32, 46, 75, 12, 86, 75,  6, 63, 97, 31, 94, 58, 13, 23, 52, 35,\n",
       "         3, 64, 40, 95, 31,  1, 30, 58, -1],\n",
       "       [ 5,  4, 13, 41, 75, 38, 73, 44, 82, 31,  3, 40, 13, 58, 62, 70,\n",
       "        15, 60, 74, 13, 34, 42, 93, 84, -1],\n",
       "       [38, 55, 62, 87, 10, 43,  0, 30, 90, 51, 55,  1, 54, 12, 62, 30,\n",
       "        51, 74, 69, 86, 78, 51, 57, 55, -1],\n",
       "       [21, 21, 30, 63, 83, 96, 13, 15, 74, 29, 98,  8, 58, 16, 33, 88,\n",
       "        67, 80, 85, 30, 36, 19, 61, 75, -1],\n",
       "       [ 5, 88, 68, 68, 78, 27, 19, 36, 36,  3,  0, 17, 31, 62, 90, 68,\n",
       "        42, 84, 76, 34, 69, 14,  4, 62, -1],\n",
       "       [22, 52, 65, 44, 92, 67,  0, 59, 26,  2, 46, 83, 35, 33, 77, 58,\n",
       "        55,  8, 34, 36, 91, 75, 21, 10, -1],\n",
       "       [88,  2, 53, 83,  1, 34, 44, 15, 22,  4, 80, 59, 15, 61, 31, 84,\n",
       "         5, 29, 86,  9, 77, 92, 47, 45, -1],\n",
       "       [92, 25, 62, 79, 23, 59, 11, 34, 69, 30, 66, 20, 70, 10, 42, 93,\n",
       "        89, 39, 30, 22, 98, 29, 65, 73, -1],\n",
       "       [31, 97, 23, 65, 48, 88, 19, 19, 73, 93, 19,  2, 45, 70, 57,  3,\n",
       "        25, 18, 88, 22, 70, 80, 38, 52, -1],\n",
       "       [33, 84,  0, 46, 76, 52, 23, 82, 96, 48,  2, 42, 71, 74, 19, 17,\n",
       "        34,  9,  0, 68, 95, 74, 67, 49, -1],\n",
       "       [80, 70, 95, 50, 96,  8, 90, 37, 45, 46, 91, 48, 46,  0, 35, 73,\n",
       "        53, 52, 67,  0, 29, 85, 48, 18, -1],\n",
       "       [76, 50, 55, 99, 83, 59, 45,  2, 88, 51, 95, 95, 66, 28, 14, 52,\n",
       "        82, 39,  9,  6, 70, 57,  1, 84, -1],\n",
       "       [18, 56, 43, 67, 35, 71, 24, 18, 77, 81, 19, 94, 96, 92,  3, 78,\n",
       "        27, 84, 23, 40, 62, 58, 14, 75, -1],\n",
       "       [35, 48, 91, 83, 27, 90, 37, 90, 76, 55, 54,  1, 67, 51, 22, 20,\n",
       "        17, 34, 31, 10,  6, 14, 24, 50, -1],\n",
       "       [16, 69, 28,  5, 59, 97, 31, 95, 72, 38, 93, 18, 98, 67, 19, 90,\n",
       "        96, 39, 53, 97, 96, 81, 95, 17, -1],\n",
       "       [76, 59, 39,  8, 22, 33,  0, 62,  9, 13, 95, 78,  7, 22,  2,  0,\n",
       "        50, 91, 84, 45, 37, 79, 73, 90, -1],\n",
       "       [17, 28, 32, 46, 83, 53, 87, 22, 54, 23, 10, 34, 26, 53, 66, 42,\n",
       "        76, 56, 96,  8, 76, 23,  4,  2, -1]], dtype=int16)"
      ]
     },
     "execution_count": 98,
     "metadata": {},
     "output_type": "execute_result"
    }
   ],
   "source": [
    "data = np.genfromtxt('datafile.txt',delimiter = ',',dtype = 'int16')\n",
    "data"
   ]
  },
  {
   "cell_type": "code",
   "execution_count": null,
   "id": "dd60781a",
   "metadata": {},
   "outputs": [],
   "source": []
  },
  {
   "cell_type": "code",
   "execution_count": null,
   "id": "25a2bd2a",
   "metadata": {},
   "outputs": [],
   "source": []
  }
 ],
 "metadata": {
  "kernelspec": {
   "display_name": "base",
   "language": "python",
   "name": "python3"
  },
  "language_info": {
   "codemirror_mode": {
    "name": "ipython",
    "version": 3
   },
   "file_extension": ".py",
   "mimetype": "text/x-python",
   "name": "python",
   "nbconvert_exporter": "python",
   "pygments_lexer": "ipython3",
   "version": "undefined.undefined.undefined"
  }
 },
 "nbformat": 4,
 "nbformat_minor": 5
}
