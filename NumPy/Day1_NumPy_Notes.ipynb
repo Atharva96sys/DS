{
 "cells": [
  {
   "cell_type": "code",
   "execution_count": 55,
   "id": "ee09efa2-2949-45a8-bd1e-467721aaa7f8",
   "metadata": {},
   "outputs": [],
   "source": [
    "import numpy as np"
   ]
  },
  {
   "cell_type": "markdown",
   "id": "8031bab5-6806-444c-897e-10b35c29dc51",
   "metadata": {},
   "source": [
    "The Basics\n"
   ]
  },
  {
   "cell_type": "markdown",
   "id": "10bd7e58",
   "metadata": {},
   "source": [
    "Creating Array From List"
   ]
  },
  {
   "cell_type": "code",
   "execution_count": 56,
   "id": "0fac61b3-f999-462f-992e-5cb967083d9d",
   "metadata": {},
   "outputs": [
    {
     "name": "stdout",
     "output_type": "stream",
     "text": [
      "[ 3  6  8 53  7  3]\n"
     ]
    }
   ],
   "source": [
    "a = np.array([3,6,8,53,7,3])\n",
    "print(a)"
   ]
  },
  {
   "cell_type": "code",
   "execution_count": 57,
   "id": "2374ec90-1fb4-4fb7-9695-ad04bb1ad35d",
   "metadata": {},
   "outputs": [
    {
     "name": "stdout",
     "output_type": "stream",
     "text": [
      "[[ 7  5  3  6]\n",
      " [35  8  4  2]]\n"
     ]
    }
   ],
   "source": [
    "b = np.array([[7,5,3,6],[35,8,4,2]])\n",
    "print(b)"
   ]
  },
  {
   "cell_type": "code",
   "execution_count": 58,
   "id": "65a341b2",
   "metadata": {},
   "outputs": [
    {
     "name": "stdout",
     "output_type": "stream",
     "text": [
      "[[ 7.94  6.    3.    7.82  2.63]\n",
      " [ 9.   37.    8.    3.    8.  ]]\n"
     ]
    }
   ],
   "source": [
    "c = np.array([[7.94,6,3,7.82,2.63],[9,37,8,3,8]])\n",
    "print(c)"
   ]
  },
  {
   "cell_type": "markdown",
   "id": "3e1062d8",
   "metadata": {},
   "source": [
    "Dimenstion Of Array"
   ]
  },
  {
   "cell_type": "code",
   "execution_count": 59,
   "id": "2f544c9b",
   "metadata": {},
   "outputs": [
    {
     "data": {
      "text/plain": [
       "1"
      ]
     },
     "execution_count": 59,
     "metadata": {},
     "output_type": "execute_result"
    }
   ],
   "source": [
    "a.ndim"
   ]
  },
  {
   "cell_type": "code",
   "execution_count": 60,
   "id": "8583f5b6",
   "metadata": {},
   "outputs": [
    {
     "data": {
      "text/plain": [
       "2"
      ]
     },
     "execution_count": 60,
     "metadata": {},
     "output_type": "execute_result"
    }
   ],
   "source": [
    "b.ndim"
   ]
  },
  {
   "cell_type": "markdown",
   "id": "21a44481",
   "metadata": {},
   "source": [
    "____________________________________________________________________________________________________________________________"
   ]
  },
  {
   "cell_type": "markdown",
   "id": "588236a7",
   "metadata": {},
   "source": [
    "Find Shape "
   ]
  },
  {
   "cell_type": "markdown",
   "id": "6552c3d9",
   "metadata": {},
   "source": [
    "No Of Element In Rows and Column Array "
   ]
  },
  {
   "cell_type": "markdown",
   "id": "b46fde26",
   "metadata": {},
   "source": [
    "Gives No Of Element In 1st Row/Column Of 1D Array"
   ]
  },
  {
   "cell_type": "markdown",
   "id": "6e282bc9",
   "metadata": {},
   "source": [
    "Gives No Of Elements In Rows And Column Of 2D Array"
   ]
  },
  {
   "cell_type": "markdown",
   "id": "a2ea9402",
   "metadata": {},
   "source": [
    "Gives No Of Element Of Rows , Columns And Height Of 3D Array"
   ]
  },
  {
   "cell_type": "code",
   "execution_count": 61,
   "id": "ba93db72",
   "metadata": {},
   "outputs": [
    {
     "data": {
      "text/plain": [
       "(6,)"
      ]
     },
     "execution_count": 61,
     "metadata": {},
     "output_type": "execute_result"
    }
   ],
   "source": [
    "a.shape\n"
   ]
  },
  {
   "cell_type": "code",
   "execution_count": 62,
   "id": "f6471184",
   "metadata": {},
   "outputs": [
    {
     "data": {
      "text/plain": [
       "(2, 4)"
      ]
     },
     "execution_count": 62,
     "metadata": {},
     "output_type": "execute_result"
    }
   ],
   "source": [
    "b.shape"
   ]
  },
  {
   "cell_type": "markdown",
   "id": "816394d4",
   "metadata": {},
   "source": [
    "____________________________________________________________________________________________________________________________"
   ]
  },
  {
   "cell_type": "markdown",
   "id": "4ef9702c",
   "metadata": {},
   "source": [
    "Find Type Of Array's Element"
   ]
  },
  {
   "cell_type": "code",
   "execution_count": 63,
   "id": "5247adc5",
   "metadata": {},
   "outputs": [
    {
     "data": {
      "text/plain": [
       "dtype('int32')"
      ]
     },
     "execution_count": 63,
     "metadata": {},
     "output_type": "execute_result"
    }
   ],
   "source": [
    "a.dtype"
   ]
  },
  {
   "cell_type": "code",
   "execution_count": 64,
   "id": "d1a839cf",
   "metadata": {},
   "outputs": [
    {
     "data": {
      "text/plain": [
       "dtype('int32')"
      ]
     },
     "execution_count": 64,
     "metadata": {},
     "output_type": "execute_result"
    }
   ],
   "source": [
    "b.dtype"
   ]
  },
  {
   "cell_type": "code",
   "execution_count": 65,
   "id": "73fe1f04",
   "metadata": {},
   "outputs": [
    {
     "data": {
      "text/plain": [
       "dtype('float64')"
      ]
     },
     "execution_count": 65,
     "metadata": {},
     "output_type": "execute_result"
    }
   ],
   "source": [
    "c.dtype"
   ]
  },
  {
   "cell_type": "markdown",
   "id": "428f29ba",
   "metadata": {},
   "source": [
    "You Can Also Change Data Type If Possible "
   ]
  },
  {
   "cell_type": "markdown",
   "id": "160d214e",
   "metadata": {},
   "source": [
    "While Creating Array \n"
   ]
  },
  {
   "cell_type": "markdown",
   "id": "22d3fae0",
   "metadata": {},
   "source": [
    "a = np.array([8,9,6] , dtype = 'int16') "
   ]
  },
  {
   "cell_type": "markdown",
   "id": "40371c07",
   "metadata": {},
   "source": [
    "Helps To Manage Memory Effectively"
   ]
  },
  {
   "cell_type": "markdown",
   "id": "e6906e61",
   "metadata": {},
   "source": [
    "____________________________________________________________________________________________________________________________"
   ]
  },
  {
   "cell_type": "markdown",
   "id": "8b8ce6aa",
   "metadata": {},
   "source": [
    "ItemSize Of Element Of Array"
   ]
  },
  {
   "cell_type": "code",
   "execution_count": 66,
   "id": "fe3a4c4c",
   "metadata": {},
   "outputs": [
    {
     "data": {
      "text/plain": [
       "4"
      ]
     },
     "execution_count": 66,
     "metadata": {},
     "output_type": "execute_result"
    }
   ],
   "source": [
    "a.itemsize"
   ]
  },
  {
   "cell_type": "code",
   "execution_count": 67,
   "id": "46ed06cc",
   "metadata": {},
   "outputs": [
    {
     "data": {
      "text/plain": [
       "4"
      ]
     },
     "execution_count": 67,
     "metadata": {},
     "output_type": "execute_result"
    }
   ],
   "source": [
    "b.itemsize"
   ]
  },
  {
   "cell_type": "code",
   "execution_count": 68,
   "id": "de75c1b5",
   "metadata": {},
   "outputs": [
    {
     "data": {
      "text/plain": [
       "8"
      ]
     },
     "execution_count": 68,
     "metadata": {},
     "output_type": "execute_result"
    }
   ],
   "source": [
    "c.itemsize"
   ]
  },
  {
   "cell_type": "markdown",
   "id": "8d6c7684",
   "metadata": {},
   "source": [
    "As Float Takes double The memory than int so it prints 8 instead of 4"
   ]
  },
  {
   "cell_type": "markdown",
   "id": "e0fa89af",
   "metadata": {},
   "source": [
    "____________________________________________________________________________________________________________________________"
   ]
  },
  {
   "cell_type": "markdown",
   "id": "0b910448",
   "metadata": {},
   "source": [
    "Size / ItemSize "
   ]
  },
  {
   "cell_type": "markdown",
   "id": "28d2c6b3",
   "metadata": {},
   "source": [
    ".size gives total no of element in array"
   ]
  },
  {
   "cell_type": "code",
   "execution_count": 69,
   "id": "4b17bca4",
   "metadata": {},
   "outputs": [
    {
     "data": {
      "text/plain": [
       "6"
      ]
     },
     "execution_count": 69,
     "metadata": {},
     "output_type": "execute_result"
    }
   ],
   "source": [
    "a.size"
   ]
  },
  {
   "cell_type": "code",
   "execution_count": 70,
   "id": "57ac8ad7",
   "metadata": {},
   "outputs": [
    {
     "data": {
      "text/plain": [
       "8"
      ]
     },
     "execution_count": 70,
     "metadata": {},
     "output_type": "execute_result"
    }
   ],
   "source": [
    "b.size"
   ]
  },
  {
   "cell_type": "code",
   "execution_count": 71,
   "id": "45832782",
   "metadata": {},
   "outputs": [
    {
     "data": {
      "text/plain": [
       "10"
      ]
     },
     "execution_count": 71,
     "metadata": {},
     "output_type": "execute_result"
    }
   ],
   "source": [
    "c.size"
   ]
  },
  {
   "cell_type": "markdown",
   "id": "8573e9dc",
   "metadata": {},
   "source": [
    "____________________________________________________________________________________________________________________________\n"
   ]
  },
  {
   "cell_type": "markdown",
   "id": "76917ef1",
   "metadata": {},
   "source": [
    "Total Size Of Array "
   ]
  },
  {
   "cell_type": "markdown",
   "id": "46c0097b",
   "metadata": {},
   "source": [
    "it can be calculated using .nbytes or simple maths calculation like  a.size*a.itemsize"
   ]
  },
  {
   "cell_type": "code",
   "execution_count": 72,
   "id": "d4d6a8d5",
   "metadata": {},
   "outputs": [
    {
     "data": {
      "text/plain": [
       "24"
      ]
     },
     "execution_count": 72,
     "metadata": {},
     "output_type": "execute_result"
    }
   ],
   "source": [
    "a.nbytes"
   ]
  },
  {
   "cell_type": "code",
   "execution_count": 73,
   "id": "ecac8caa",
   "metadata": {},
   "outputs": [
    {
     "data": {
      "text/plain": [
       "24"
      ]
     },
     "execution_count": 73,
     "metadata": {},
     "output_type": "execute_result"
    }
   ],
   "source": [
    "a.size * a.itemsize"
   ]
  },
  {
   "cell_type": "code",
   "execution_count": 74,
   "id": "e511a589",
   "metadata": {},
   "outputs": [
    {
     "data": {
      "text/plain": [
       "32"
      ]
     },
     "execution_count": 74,
     "metadata": {},
     "output_type": "execute_result"
    }
   ],
   "source": [
    "b.nbytes"
   ]
  },
  {
   "cell_type": "code",
   "execution_count": 75,
   "id": "913eb9c8",
   "metadata": {},
   "outputs": [
    {
     "data": {
      "text/plain": [
       "80"
      ]
     },
     "execution_count": 75,
     "metadata": {},
     "output_type": "execute_result"
    }
   ],
   "source": [
    "c.nbytes # This Will Give Output As 80"
   ]
  },
  {
   "cell_type": "markdown",
   "id": "9cd3fc3e",
   "metadata": {},
   "source": [
    "Accessing/Changing Specific Elements,rows,columns"
   ]
  },
  {
   "cell_type": "code",
   "execution_count": 76,
   "id": "c1695ed5",
   "metadata": {},
   "outputs": [],
   "source": [
    "a = np.array([[1,3,5,7,4,3,8],[0,7,5,3,7,4,2]])"
   ]
  },
  {
   "cell_type": "code",
   "execution_count": 77,
   "id": "d9957f86",
   "metadata": {},
   "outputs": [
    {
     "name": "stdout",
     "output_type": "stream",
     "text": [
      "2\n"
     ]
    }
   ],
   "source": [
    "# Get Specific Element \n",
    "# Format array[r,c]\n",
    "print(a[1,6])"
   ]
  },
  {
   "cell_type": "code",
   "execution_count": 78,
   "id": "06db324e",
   "metadata": {},
   "outputs": [
    {
     "data": {
      "text/plain": [
       "array([0, 7, 5, 3, 7, 4, 2])"
      ]
     },
     "execution_count": 78,
     "metadata": {},
     "output_type": "execute_result"
    }
   ],
   "source": [
    "# Get Specific Row \n",
    "a[1,:]"
   ]
  },
  {
   "cell_type": "code",
   "execution_count": 79,
   "id": "62e1eb27",
   "metadata": {},
   "outputs": [
    {
     "data": {
      "text/plain": [
       "array([7, 3])"
      ]
     },
     "execution_count": 79,
     "metadata": {},
     "output_type": "execute_result"
    }
   ],
   "source": [
    "# Get Specific Column\n",
    "a[:,3]"
   ]
  },
  {
   "cell_type": "code",
   "execution_count": 80,
   "id": "d1f371f8",
   "metadata": {},
   "outputs": [],
   "source": [
    "# Get Complex Output \n",
    "# By Using List Slicing [start_index:end_index:step]"
   ]
  },
  {
   "cell_type": "code",
   "execution_count": 81,
   "id": "36e4de00",
   "metadata": {},
   "outputs": [
    {
     "data": {
      "text/plain": [
       "array([5, 3, 7, 4])"
      ]
     },
     "execution_count": 81,
     "metadata": {},
     "output_type": "execute_result"
    }
   ],
   "source": [
    "# Let We Want Element From 2 to 5 of second column\n",
    "\n",
    "a[1,2:6:1]"
   ]
  },
  {
   "cell_type": "markdown",
   "id": "71946ef3",
   "metadata": {},
   "source": [
    "Also We Have Seen Slicing Can Also Be Used Here So We Can Do Same Type Of Operation We Were Performing on List "
   ]
  },
  {
   "cell_type": "code",
   "execution_count": 82,
   "id": "7f435271",
   "metadata": {},
   "outputs": [
    {
     "data": {
      "text/plain": [
       "array([3, 7])"
      ]
     },
     "execution_count": 82,
     "metadata": {},
     "output_type": "execute_result"
    }
   ],
   "source": [
    "# Some Of Slicing Practice\n",
    "\n",
    "a[0,1:-2:2]"
   ]
  },
  {
   "cell_type": "code",
   "execution_count": 84,
   "id": "adea806d",
   "metadata": {},
   "outputs": [
    {
     "data": {
      "text/plain": [
       "array([5, 4])"
      ]
     },
     "execution_count": 84,
     "metadata": {},
     "output_type": "execute_result"
    }
   ],
   "source": [
    "a[0,2:6:2]"
   ]
  },
  {
   "cell_type": "code",
   "execution_count": 85,
   "id": "d6e90096",
   "metadata": {},
   "outputs": [
    {
     "data": {
      "text/plain": [
       "array([3, 7, 3])"
      ]
     },
     "execution_count": 85,
     "metadata": {},
     "output_type": "execute_result"
    }
   ],
   "source": [
    "a[0,1:-1:2]"
   ]
  },
  {
   "cell_type": "code",
   "execution_count": 86,
   "id": "82985c52",
   "metadata": {},
   "outputs": [],
   "source": [
    "# Changing Array Element\n",
    "a[1,3] = 78"
   ]
  },
  {
   "cell_type": "markdown",
   "id": "31812d46",
   "metadata": {},
   "source": [
    "Changing Whole Column/Row Element To One Common Element Or Iterate From List/Array"
   ]
  },
  {
   "cell_type": "code",
   "execution_count": 91,
   "id": "4cc032a0",
   "metadata": {},
   "outputs": [
    {
     "name": "stdout",
     "output_type": "stream",
     "text": [
      "[[ 2  2  2  2  2  2  2]\n",
      " [ 0  7  5 78  7  4  2]]\n"
     ]
    }
   ],
   "source": [
    "a[0,:]=2\n",
    "print(a)"
   ]
  },
  {
   "cell_type": "code",
   "execution_count": 96,
   "id": "7bba105b",
   "metadata": {},
   "outputs": [
    {
     "name": "stdout",
     "output_type": "stream",
     "text": [
      "[[ 1  2  3  4  5  6  7]\n",
      " [ 0  7  5 78  7  4  2]]\n"
     ]
    }
   ],
   "source": [
    "a[0,:]=[1,2,3,4,5,6,7]\n",
    "print(a)"
   ]
  },
  {
   "cell_type": "markdown",
   "id": "c6720fb3",
   "metadata": {},
   "source": []
  },
  {
   "cell_type": "markdown",
   "id": "6188be13",
   "metadata": {},
   "source": [
    "Accessing Element In 3D Array Is Done By Working Outside In"
   ]
  },
  {
   "cell_type": "code",
   "execution_count": 97,
   "id": "bb8da789",
   "metadata": {},
   "outputs": [
    {
     "name": "stdout",
     "output_type": "stream",
     "text": [
      "[[[ 1  2  3  4  5  6  7]\n",
      "  [ 8  9 10 11 12 13 14]]\n",
      "\n",
      " [[15 16 17 18 19 20 21]\n",
      "  [22 23 24 25 26 27 28]]]\n"
     ]
    }
   ],
   "source": [
    "c = np.array([[[1,2,3,4,5,6,7],[8,9,10,11,12,13,14]],[[15,16,17,18,19,20,21],[22,23,24,25,26,27,28]]])\n",
    "print(c)"
   ]
  },
  {
   "cell_type": "code",
   "execution_count": 98,
   "id": "54f8b3fe",
   "metadata": {},
   "outputs": [
    {
     "data": {
      "text/plain": [
       "9"
      ]
     },
     "execution_count": 98,
     "metadata": {},
     "output_type": "execute_result"
    }
   ],
   "source": [
    "# Let's Access 9 From 3D Array\n",
    "\n",
    "c[0,1,1]"
   ]
  },
  {
   "cell_type": "markdown",
   "id": "7687fef5",
   "metadata": {},
   "source": [
    "If You Want To Change Element You Can Use Same Array Operation To Change Elements In List "
   ]
  },
  {
   "cell_type": "markdown",
   "id": "5e69c001",
   "metadata": {},
   "source": [
    "You Can Also Change Whole Matrix Just Access The Matrix You Want To Change And Add New Matrix"
   ]
  },
  {
   "cell_type": "code",
   "execution_count": 99,
   "id": "e06aa1c9",
   "metadata": {},
   "outputs": [],
   "source": [
    "# Let's Change 24 to 29\n",
    "\n",
    "c[1,1,5] = 29"
   ]
  },
  {
   "cell_type": "code",
   "execution_count": 100,
   "id": "4728a2cf",
   "metadata": {},
   "outputs": [
    {
     "name": "stdout",
     "output_type": "stream",
     "text": [
      "[[[ 1  2  3  4  5  6  7]\n",
      "  [ 8  9 10 11 12 13 14]]\n",
      "\n",
      " [[15 16 17 18 19 20 21]\n",
      "  [22 23 24 25 26 29 28]]]\n"
     ]
    }
   ],
   "source": [
    "print(c)"
   ]
  },
  {
   "cell_type": "code",
   "execution_count": null,
   "id": "adb351d7",
   "metadata": {},
   "outputs": [
    {
     "name": "stdout",
     "output_type": "stream",
     "text": [
      "[[[ 1  2  3  4  5  6  7]\n",
      "  [ 8  9 10 11 12 13 14]]\n",
      "\n",
      " [[22 23 24 25 26 27 28]\n",
      "  [29 30 31 32 33 34 35]]]\n"
     ]
    }
   ],
   "source": [
    "# Change whole Inner Matrix To New Matrix \n",
    "c[1,:,:] = [[22,23,24,25,26,27,28],[29,30,31,32,33,34,35]]\n",
    "print(c)"
   ]
  },
  {
   "cell_type": "markdown",
   "id": "5b1f4a59",
   "metadata": {},
   "source": [
    "But Remember Changing Elements Or Array To A Different Size Or Dimensions Result In Error "
   ]
  },
  {
   "cell_type": "code",
   "execution_count": 103,
   "id": "b4bb6baf",
   "metadata": {},
   "outputs": [
    {
     "ename": "ValueError",
     "evalue": "could not broadcast input array from shape (2,3) into shape (2,7)",
     "output_type": "error",
     "traceback": [
      "\u001b[1;31m---------------------------------------------------------------------------\u001b[0m",
      "\u001b[1;31mValueError\u001b[0m                                Traceback (most recent call last)",
      "Cell \u001b[1;32mIn[103], line 1\u001b[0m\n\u001b[1;32m----> 1\u001b[0m c[\u001b[38;5;241m1\u001b[39m,:,:] \u001b[38;5;241m=\u001b[39m [[\u001b[38;5;241m4\u001b[39m,\u001b[38;5;241m5\u001b[39m,\u001b[38;5;241m6\u001b[39m],[\u001b[38;5;241m9\u001b[39m,\u001b[38;5;241m0\u001b[39m,\u001b[38;5;241m7\u001b[39m]]\n",
      "\u001b[1;31mValueError\u001b[0m: could not broadcast input array from shape (2,3) into shape (2,7)"
     ]
    }
   ],
   "source": [
    "c[1,:,:] = [[4,5,6],[9,0,7]]"
   ]
  },
  {
   "cell_type": "markdown",
   "id": "8590adf3",
   "metadata": {},
   "source": [
    "____________________________________________________________________________________________________________________________"
   ]
  },
  {
   "cell_type": "markdown",
   "id": "e6f17a87",
   "metadata": {},
   "source": []
  }
 ],
 "metadata": {
  "kernelspec": {
   "display_name": "Python [conda env:base] *",
   "language": "python",
   "name": "conda-base-py"
  },
  "language_info": {
   "codemirror_mode": {
    "name": "ipython",
    "version": 3
   },
   "file_extension": ".py",
   "mimetype": "text/x-python",
   "name": "python",
   "nbconvert_exporter": "python",
   "pygments_lexer": "ipython3",
   "version": "3.12.7"
  }
 },
 "nbformat": 4,
 "nbformat_minor": 5
}
