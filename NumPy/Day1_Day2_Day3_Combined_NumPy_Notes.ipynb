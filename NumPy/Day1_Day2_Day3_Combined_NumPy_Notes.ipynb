{
 "cells": [
  {
   "cell_type": "markdown",
   "id": "9980c41a",
   "metadata": {},
   "source": [
    "# ***Numpy Tutorial***"
   ]
  },
  {
   "cell_type": "markdown",
   "id": "7cb28d01",
   "metadata": {},
   "source": [
    "# **Day1 Numpy Notes**"
   ]
  },
  {
   "cell_type": "code",
   "execution_count": 2,
   "id": "ee09efa2-2949-45a8-bd1e-467721aaa7f8",
   "metadata": {},
   "outputs": [],
   "source": [
    "import numpy as np"
   ]
  },
  {
   "cell_type": "markdown",
   "id": "10bd7e58",
   "metadata": {},
   "source": [
    "#### **Array Initialization**"
   ]
  },
  {
   "cell_type": "code",
   "execution_count": 3,
   "id": "0fac61b3-f999-462f-992e-5cb967083d9d",
   "metadata": {},
   "outputs": [
    {
     "name": "stdout",
     "output_type": "stream",
     "text": [
      "[ 3  6  8 53  7  3]\n"
     ]
    }
   ],
   "source": [
    "# Creates Array Of [3,6,8,53,7,3] using np.array() function\n",
    "\n",
    "a = np.array([3,6,8,53,7,3])\n",
    "print(a)"
   ]
  },
  {
   "cell_type": "markdown",
   "id": "f116e9d3",
   "metadata": {},
   "source": [
    "*You Can Also Create two or higher Dimensional Array Using Nested List*"
   ]
  },
  {
   "cell_type": "code",
   "execution_count": 4,
   "id": "2374ec90-1fb4-4fb7-9695-ad04bb1ad35d",
   "metadata": {},
   "outputs": [
    {
     "name": "stdout",
     "output_type": "stream",
     "text": [
      "[[ 7  5  3  6]\n",
      " [35  8  4  2]]\n"
     ]
    }
   ],
   "source": [
    "# Creates Array With Two Dimension Using Nesting of List along with .array() function\n",
    "\n",
    "b = np.array([[7,5,3,6],[35,8,4,2]])\n",
    "print(b)"
   ]
  },
  {
   "cell_type": "code",
   "execution_count": 5,
   "id": "65a341b2",
   "metadata": {},
   "outputs": [
    {
     "name": "stdout",
     "output_type": "stream",
     "text": [
      "[[ 7.94  6.    3.    7.82  2.63]\n",
      " [ 9.   37.    8.    3.    8.  ]]\n"
     ]
    }
   ],
   "source": [
    "# Different Data Types Can Also Be Used To Make Array In Numpy Python Library\n",
    "\n",
    "c = np.array([[7.94,6,3,7.82,2.63],[9,37,8,3,8]])\n",
    "print(c)"
   ]
  },
  {
   "cell_type": "markdown",
   "id": "3e1062d8",
   "metadata": {},
   "source": [
    "#### **Dimension Of Array**"
   ]
  },
  {
   "cell_type": "markdown",
   "id": "539d22a1",
   "metadata": {},
   "source": [
    "*Number Of Dimension Of Arrays using ndim attribute*"
   ]
  },
  {
   "cell_type": "code",
   "execution_count": 6,
   "id": "2f544c9b",
   "metadata": {},
   "outputs": [
    {
     "data": {
      "text/plain": [
       "1"
      ]
     },
     "execution_count": 6,
     "metadata": {},
     "output_type": "execute_result"
    }
   ],
   "source": [
    "# Finding Dimension Of Given Array by using .ndim() attribute\n",
    "a.ndim"
   ]
  },
  {
   "cell_type": "code",
   "execution_count": 7,
   "id": "8583f5b6",
   "metadata": {},
   "outputs": [
    {
     "data": {
      "text/plain": [
       "2"
      ]
     },
     "execution_count": 7,
     "metadata": {},
     "output_type": "execute_result"
    }
   ],
   "source": [
    "# Array With A Matrix Is Know As 2-Dimensional Or 2D\n",
    "b.ndim"
   ]
  },
  {
   "cell_type": "markdown",
   "id": "21a44481",
   "metadata": {},
   "source": [
    "____________________________________________________________________________________________________________________________"
   ]
  },
  {
   "cell_type": "markdown",
   "id": "588236a7",
   "metadata": {},
   "source": [
    "#### **Shape Of Array**"
   ]
  },
  {
   "cell_type": "markdown",
   "id": "d035d8cd",
   "metadata": {},
   "source": [
    "*.shape attribute gives shape/no of element in each dimenstion of a given array in form of tuple of non-negative integers*\n"
   ]
  },
  {
   "cell_type": "code",
   "execution_count": 8,
   "id": "ba93db72",
   "metadata": {},
   "outputs": [
    {
     "data": {
      "text/plain": [
       "(6,)"
      ]
     },
     "execution_count": 8,
     "metadata": {},
     "output_type": "execute_result"
    }
   ],
   "source": [
    "a.shape # Shape Of 'a' Array(here 'a' is a List with one dim of size 6)"
   ]
  },
  {
   "cell_type": "code",
   "execution_count": 9,
   "id": "f6471184",
   "metadata": {},
   "outputs": [
    {
     "data": {
      "text/plain": [
       "(2, 4)"
      ]
     },
     "execution_count": 9,
     "metadata": {},
     "output_type": "execute_result"
    }
   ],
   "source": [
    "b.shape # Shape Of 'b' Array(here 'b' is Matrix of size 2x4)"
   ]
  },
  {
   "cell_type": "markdown",
   "id": "5dfc9538",
   "metadata": {},
   "source": [
    "*Here Matrix B is a 2x4 matrrix so when we try to find shape of matrix or array it gives (2,4)*"
   ]
  },
  {
   "cell_type": "markdown",
   "id": "9ab66369",
   "metadata": {},
   "source": [
    "***Whenever we check shape of array it is always stored in tuple***"
   ]
  },
  {
   "cell_type": "markdown",
   "id": "816394d4",
   "metadata": {},
   "source": [
    "____________________________________________________________________________________________________________________________"
   ]
  },
  {
   "cell_type": "markdown",
   "id": "4ef9702c",
   "metadata": {},
   "source": [
    "### **Data Type Of Array's Element**"
   ]
  },
  {
   "cell_type": "markdown",
   "id": "1439eac7",
   "metadata": {},
   "source": [
    "*We Can Use .dtype attribute to find data type of given array*"
   ]
  },
  {
   "cell_type": "markdown",
   "id": "71210efc",
   "metadata": {},
   "source": [
    "*Actually Here Data Type Means data type and memory space allocated for it.*"
   ]
  },
  {
   "cell_type": "markdown",
   "id": "32ac93a0",
   "metadata": {},
   "source": [
    "*Arrays are homogenous means that they contains element of only one single data type*"
   ]
  },
  {
   "cell_type": "code",
   "execution_count": 10,
   "id": "5247adc5",
   "metadata": {},
   "outputs": [
    {
     "data": {
      "text/plain": [
       "dtype('int32')"
      ]
     },
     "execution_count": 10,
     "metadata": {},
     "output_type": "execute_result"
    }
   ],
   "source": [
    "# Data Type and Space Allocated For Every Element Of 'a' matrix \n",
    "a.dtype"
   ]
  },
  {
   "cell_type": "markdown",
   "id": "43246ead",
   "metadata": {},
   "source": [
    "*In Above Example dtype('int32') specifies datatype which is int and memory per element is 32*"
   ]
  },
  {
   "cell_type": "code",
   "execution_count": 11,
   "id": "d1a839cf",
   "metadata": {},
   "outputs": [
    {
     "data": {
      "text/plain": [
       "dtype('int32')"
      ]
     },
     "execution_count": 11,
     "metadata": {},
     "output_type": "execute_result"
    }
   ],
   "source": [
    "# For 'b'\n",
    "b.dtype"
   ]
  },
  {
   "cell_type": "code",
   "execution_count": 12,
   "id": "73fe1f04",
   "metadata": {},
   "outputs": [
    {
     "data": {
      "text/plain": [
       "dtype('float64')"
      ]
     },
     "execution_count": 12,
     "metadata": {},
     "output_type": "execute_result"
    }
   ],
   "source": [
    "# For 'c'\n",
    "c.dtype"
   ]
  },
  {
   "cell_type": "markdown",
   "id": "54949b48",
   "metadata": {},
   "source": [
    "*In Above Example Datatype here is float which is allocated 64 bit per element*"
   ]
  },
  {
   "cell_type": "code",
   "execution_count": 57,
   "id": "428f29ba",
   "metadata": {},
   "outputs": [
    {
     "name": "stdout",
     "output_type": "stream",
     "text": [
      "[8 9 6]\n"
     ]
    },
    {
     "data": {
      "text/plain": [
       "dtype('int16')"
      ]
     },
     "execution_count": 57,
     "metadata": {},
     "output_type": "execute_result"
    }
   ],
   "source": [
    "# You Can Also Change Data Type If Possible \n",
    "# While Creating Array \n",
    "a = np.array([8,9,6] , dtype = 'int16') \n",
    "# Helps To Manage Memory Effectively\n",
    "print(a)\n",
    "a.dtype"
   ]
  },
  {
   "cell_type": "markdown",
   "id": "e6906e61",
   "metadata": {},
   "source": [
    "____________________________________________________________________________________________________________________________"
   ]
  },
  {
   "cell_type": "markdown",
   "id": "8b8ce6aa",
   "metadata": {},
   "source": [
    "### **ItemSize Of Element Of Array**"
   ]
  },
  {
   "cell_type": "markdown",
   "id": "cdc2911e",
   "metadata": {},
   "source": [
    "***Item Size Is Size/Memory Allocated For Element In Given Array In Bytes***"
   ]
  },
  {
   "cell_type": "code",
   "execution_count": null,
   "id": "fe3a4c4c",
   "metadata": {},
   "outputs": [
    {
     "name": "stdout",
     "output_type": "stream",
     "text": [
      "int32\n"
     ]
    },
    {
     "data": {
      "text/plain": [
       "4"
      ]
     },
     "execution_count": 14,
     "metadata": {},
     "output_type": "execute_result"
    }
   ],
   "source": [
    "# Depends On dtype of array\n",
    "print(a.dtype)\n",
    "a.itemsize"
   ]
  },
  {
   "cell_type": "markdown",
   "id": "f5d8a358",
   "metadata": {},
   "source": [
    "*Here int32 means the data type is int and the memory allocated for each element is 32 bits, which is equal to 4 bytes*"
   ]
  },
  {
   "cell_type": "code",
   "execution_count": 15,
   "id": "46ed06cc",
   "metadata": {},
   "outputs": [
    {
     "data": {
      "text/plain": [
       "4"
      ]
     },
     "execution_count": 15,
     "metadata": {},
     "output_type": "execute_result"
    }
   ],
   "source": [
    "b.itemsize"
   ]
  },
  {
   "cell_type": "code",
   "execution_count": 16,
   "id": "de75c1b5",
   "metadata": {},
   "outputs": [
    {
     "data": {
      "text/plain": [
       "8"
      ]
     },
     "execution_count": 16,
     "metadata": {},
     "output_type": "execute_result"
    }
   ],
   "source": [
    "c.itemsize"
   ]
  },
  {
   "cell_type": "markdown",
   "id": "ed43e9db",
   "metadata": {},
   "source": [
    "*c array has elements of type float64 which means they have 64 bit of memory allocated for each element, which is equal to 8 bytes, thus the output shows 8 when we use .itemsize on array c*"
   ]
  },
  {
   "cell_type": "markdown",
   "id": "8d6c7684",
   "metadata": {},
   "source": [
    "*As Float Takes double The memory than int so ,it prints 8 (double the memory of int)*"
   ]
  },
  {
   "cell_type": "markdown",
   "id": "e0fa89af",
   "metadata": {},
   "source": [
    "____________________________________________________________________________________________________________________________"
   ]
  },
  {
   "cell_type": "markdown",
   "id": "0b910448",
   "metadata": {},
   "source": [
    "#### **Size / ItemSize**"
   ]
  },
  {
   "cell_type": "markdown",
   "id": "28d2c6b3",
   "metadata": {},
   "source": [
    "*.size attribute gives total no of element in array*"
   ]
  },
  {
   "cell_type": "code",
   "execution_count": 17,
   "id": "4b17bca4",
   "metadata": {},
   "outputs": [
    {
     "data": {
      "text/plain": [
       "6"
      ]
     },
     "execution_count": 17,
     "metadata": {},
     "output_type": "execute_result"
    }
   ],
   "source": [
    "a.size # Size Of Array 'a' using .size attribute"
   ]
  },
  {
   "cell_type": "code",
   "execution_count": 18,
   "id": "57ac8ad7",
   "metadata": {},
   "outputs": [
    {
     "data": {
      "text/plain": [
       "8"
      ]
     },
     "execution_count": 18,
     "metadata": {},
     "output_type": "execute_result"
    }
   ],
   "source": [
    "b.size # Size Of Array 'b' using .size attribute"
   ]
  },
  {
   "cell_type": "code",
   "execution_count": 19,
   "id": "45832782",
   "metadata": {},
   "outputs": [
    {
     "data": {
      "text/plain": [
       "10"
      ]
     },
     "execution_count": 19,
     "metadata": {},
     "output_type": "execute_result"
    }
   ],
   "source": [
    "c.size # Size Of Array 'c' using .size attribute"
   ]
  },
  {
   "cell_type": "markdown",
   "id": "8573e9dc",
   "metadata": {},
   "source": [
    "____________________________________________________________________________________________________________________________\n"
   ]
  },
  {
   "cell_type": "markdown",
   "id": "76917ef1",
   "metadata": {},
   "source": [
    "#### **Total Size Of Array**"
   ]
  },
  {
   "cell_type": "markdown",
   "id": "46c0097b",
   "metadata": {},
   "source": [
    "*Total Memory Size it can be calculated using .nbytes or simple maths calculation like  a.size * a.itemsize*"
   ]
  },
  {
   "cell_type": "markdown",
   "id": "a731b11b",
   "metadata": {},
   "source": [
    "*Remember .nbytes gives size of array' total memory in bytes not bits*"
   ]
  },
  {
   "cell_type": "code",
   "execution_count": 20,
   "id": "d4d6a8d5",
   "metadata": {},
   "outputs": [
    {
     "data": {
      "text/plain": [
       "24"
      ]
     },
     "execution_count": 20,
     "metadata": {},
     "output_type": "execute_result"
    }
   ],
   "source": [
    "# Total Memory Required For Whole Array 'a'\n",
    "\n",
    "a.nbytes"
   ]
  },
  {
   "cell_type": "code",
   "execution_count": 21,
   "id": "ecac8caa",
   "metadata": {},
   "outputs": [
    {
     "data": {
      "text/plain": [
       "24"
      ]
     },
     "execution_count": 21,
     "metadata": {},
     "output_type": "execute_result"
    }
   ],
   "source": [
    "# Same As Above But In Mathematical Terms\n",
    "\n",
    "a.size * a.itemsize \n",
    "\n",
    "# a.size -> no of elements in array\n",
    "# a.itemsize -> allocated memory size per element"
   ]
  },
  {
   "cell_type": "code",
   "execution_count": 22,
   "id": "e511a589",
   "metadata": {},
   "outputs": [
    {
     "data": {
      "text/plain": [
       "32"
      ]
     },
     "execution_count": 22,
     "metadata": {},
     "output_type": "execute_result"
    }
   ],
   "source": [
    "# Total Memory Required For Whole Array 'b'\n",
    "\n",
    "b.nbytes"
   ]
  },
  {
   "cell_type": "code",
   "execution_count": 23,
   "id": "913eb9c8",
   "metadata": {},
   "outputs": [
    {
     "data": {
      "text/plain": [
       "80"
      ]
     },
     "execution_count": 23,
     "metadata": {},
     "output_type": "execute_result"
    }
   ],
   "source": [
    "c.nbytes # Total Size of array 'c' to get storage in memory in bytes"
   ]
  },
  {
   "cell_type": "markdown",
   "id": "9cd3fc3e",
   "metadata": {},
   "source": [
    "### **Accessing/Changing Specific Elements,rows,columns in Array**"
   ]
  },
  {
   "cell_type": "code",
   "execution_count": 24,
   "id": "c1695ed5",
   "metadata": {},
   "outputs": [],
   "source": [
    "a = np.array([[1,3,5,7,4,3,8],[0,7,5,3,7,4,2]])"
   ]
  },
  {
   "cell_type": "code",
   "execution_count": 25,
   "id": "d9957f86",
   "metadata": {},
   "outputs": [
    {
     "name": "stdout",
     "output_type": "stream",
     "text": [
      "2\n"
     ]
    }
   ],
   "source": [
    "# Get Specific Element \n",
    "# You Can Access Specific Element in Array By Using Indexing Same As In Python List\n",
    "\n",
    "print(a[1,6])"
   ]
  },
  {
   "cell_type": "code",
   "execution_count": 26,
   "id": "06db324e",
   "metadata": {},
   "outputs": [
    {
     "data": {
      "text/plain": [
       "array([0, 7, 5, 3, 7, 4, 2])"
      ]
     },
     "execution_count": 26,
     "metadata": {},
     "output_type": "execute_result"
    }
   ],
   "source": [
    "# Get Specific Row \n",
    "a[1,:]"
   ]
  },
  {
   "cell_type": "code",
   "execution_count": 27,
   "id": "62e1eb27",
   "metadata": {},
   "outputs": [
    {
     "data": {
      "text/plain": [
       "array([7, 3])"
      ]
     },
     "execution_count": 27,
     "metadata": {},
     "output_type": "execute_result"
    }
   ],
   "source": [
    "# Get Specific Column\n",
    "a[:,3]"
   ]
  },
  {
   "cell_type": "code",
   "execution_count": 28,
   "id": "d1f371f8",
   "metadata": {},
   "outputs": [],
   "source": [
    "# Get Complex Output \n",
    "# By Using List Slicing [start_index:end_index:step]"
   ]
  },
  {
   "cell_type": "code",
   "execution_count": 29,
   "id": "36e4de00",
   "metadata": {},
   "outputs": [
    {
     "data": {
      "text/plain": [
       "array([5, 3, 7, 4])"
      ]
     },
     "execution_count": 29,
     "metadata": {},
     "output_type": "execute_result"
    }
   ],
   "source": [
    "# Let We Want Element From 2 to 5 of second column\n",
    "\n",
    "a[1,2:6:1]"
   ]
  },
  {
   "cell_type": "markdown",
   "id": "71946ef3",
   "metadata": {},
   "source": [
    "*We have seen we can use slicing in numpy array just as list in python ,so we can use general form of slicing as np.array[start_point:end_point:steps]*"
   ]
  },
  {
   "cell_type": "code",
   "execution_count": 30,
   "id": "7f435271",
   "metadata": {},
   "outputs": [
    {
     "data": {
      "text/plain": [
       "array([3, 7])"
      ]
     },
     "execution_count": 30,
     "metadata": {},
     "output_type": "execute_result"
    }
   ],
   "source": [
    "# Some Of Slicing Practice\n",
    "\n",
    "a[0,1:-2:2]"
   ]
  },
  {
   "cell_type": "code",
   "execution_count": 31,
   "id": "adea806d",
   "metadata": {},
   "outputs": [
    {
     "data": {
      "text/plain": [
       "array([5, 4])"
      ]
     },
     "execution_count": 31,
     "metadata": {},
     "output_type": "execute_result"
    }
   ],
   "source": [
    "a[0,2:6:2]"
   ]
  },
  {
   "cell_type": "code",
   "execution_count": 32,
   "id": "d6e90096",
   "metadata": {},
   "outputs": [
    {
     "data": {
      "text/plain": [
       "array([3, 7, 3])"
      ]
     },
     "execution_count": 32,
     "metadata": {},
     "output_type": "execute_result"
    }
   ],
   "source": [
    "a[0,1:-1:2]"
   ]
  },
  {
   "cell_type": "code",
   "execution_count": 33,
   "id": "82985c52",
   "metadata": {},
   "outputs": [],
   "source": [
    "# Changing Array Element\n",
    "a[1,3] = 78"
   ]
  },
  {
   "cell_type": "markdown",
   "id": "31812d46",
   "metadata": {},
   "source": [
    "*Changing Whole Column/Row Element To One Common Element Or Iterate From List/Array*"
   ]
  },
  {
   "cell_type": "code",
   "execution_count": 34,
   "id": "4cc032a0",
   "metadata": {},
   "outputs": [
    {
     "name": "stdout",
     "output_type": "stream",
     "text": [
      "[[ 2  2  2  2  2  2  2]\n",
      " [ 0  7  5 78  7  4  2]]\n"
     ]
    }
   ],
   "source": [
    "a[0,:]=2\n",
    "print(a)"
   ]
  },
  {
   "cell_type": "code",
   "execution_count": 35,
   "id": "7bba105b",
   "metadata": {},
   "outputs": [
    {
     "name": "stdout",
     "output_type": "stream",
     "text": [
      "[[ 1  2  3  4  5  6  7]\n",
      " [ 0  7  5 78  7  4  2]]\n"
     ]
    }
   ],
   "source": [
    "a[0,:]=[1,2,3,4,5,6,7]\n",
    "print(a)"
   ]
  },
  {
   "cell_type": "markdown",
   "id": "6188be13",
   "metadata": {},
   "source": [
    "Accessing Element In 3D Array Is Done By Working Outside In Way"
   ]
  },
  {
   "cell_type": "code",
   "execution_count": 36,
   "id": "bb8da789",
   "metadata": {},
   "outputs": [
    {
     "name": "stdout",
     "output_type": "stream",
     "text": [
      "[[[ 1  2  3  4  5  6  7]\n",
      "  [ 8  9 10 11 12 13 14]]\n",
      "\n",
      " [[15 16 17 18 19 20 21]\n",
      "  [22 23 24 25 26 27 28]]]\n"
     ]
    }
   ],
   "source": [
    "c = np.array([[[1,2,3,4,5,6,7],[8,9,10,11,12,13,14]],[[15,16,17,18,19,20,21],[22,23,24,25,26,27,28]]])\n",
    "print(c)"
   ]
  },
  {
   "cell_type": "code",
   "execution_count": 37,
   "id": "54f8b3fe",
   "metadata": {},
   "outputs": [
    {
     "data": {
      "text/plain": [
       "9"
      ]
     },
     "execution_count": 37,
     "metadata": {},
     "output_type": "execute_result"
    }
   ],
   "source": [
    "# Let's Access 9 From 3D Array\n",
    "\n",
    "c[0,1,1]"
   ]
  },
  {
   "cell_type": "markdown",
   "id": "7687fef5",
   "metadata": {},
   "source": [
    "If You Want To Change Element You Can Use Same Array Operation To Change Elements In Array"
   ]
  },
  {
   "cell_type": "markdown",
   "id": "5e69c001",
   "metadata": {},
   "source": [
    "You Can Also Change Whole Matrix     "
   ]
  },
  {
   "cell_type": "markdown",
   "id": "1986699f",
   "metadata": {},
   "source": [
    "Just Access The Matrix You Want To Change And Add New Matrix"
   ]
  },
  {
   "cell_type": "code",
   "execution_count": 38,
   "id": "e06aa1c9",
   "metadata": {},
   "outputs": [],
   "source": [
    "# Let's Change 24 to 29\n",
    "\n",
    "c[1,1,5] = 29"
   ]
  },
  {
   "cell_type": "code",
   "execution_count": 39,
   "id": "4728a2cf",
   "metadata": {},
   "outputs": [
    {
     "name": "stdout",
     "output_type": "stream",
     "text": [
      "[[[ 1  2  3  4  5  6  7]\n",
      "  [ 8  9 10 11 12 13 14]]\n",
      "\n",
      " [[15 16 17 18 19 20 21]\n",
      "  [22 23 24 25 26 29 28]]]\n"
     ]
    }
   ],
   "source": [
    "print(c)"
   ]
  },
  {
   "cell_type": "code",
   "execution_count": 40,
   "id": "adb351d7",
   "metadata": {},
   "outputs": [
    {
     "name": "stdout",
     "output_type": "stream",
     "text": [
      "[[[ 1  2  3  4  5  6  7]\n",
      "  [ 8  9 10 11 12 13 14]]\n",
      "\n",
      " [[22 23 24 25 26 27 28]\n",
      "  [29 30 31 32 33 34 35]]]\n"
     ]
    }
   ],
   "source": [
    "# Change whole Inner Matrix To New Matrix \n",
    "c[1,:,:] = [[22,23,24,25,26,27,28],[29,30,31,32,33,34,35]]\n",
    "print(c)"
   ]
  },
  {
   "cell_type": "markdown",
   "id": "5b1f4a59",
   "metadata": {},
   "source": [
    "But Remember Changing Elements Or Array To A Different Size Or Dimensions Result In Error "
   ]
  },
  {
   "cell_type": "code",
   "execution_count": 41,
   "id": "b4bb6baf",
   "metadata": {},
   "outputs": [
    {
     "ename": "ValueError",
     "evalue": "could not broadcast input array from shape (2,3) into shape (2,7)",
     "output_type": "error",
     "traceback": [
      "\u001b[1;31m---------------------------------------------------------------------------\u001b[0m",
      "\u001b[1;31mValueError\u001b[0m                                Traceback (most recent call last)",
      "Cell \u001b[1;32mIn[41], line 1\u001b[0m\n\u001b[1;32m----> 1\u001b[0m c[\u001b[38;5;241m1\u001b[39m,:,:] \u001b[38;5;241m=\u001b[39m [[\u001b[38;5;241m4\u001b[39m,\u001b[38;5;241m5\u001b[39m,\u001b[38;5;241m6\u001b[39m],[\u001b[38;5;241m9\u001b[39m,\u001b[38;5;241m0\u001b[39m,\u001b[38;5;241m7\u001b[39m]]\n",
      "\u001b[1;31mValueError\u001b[0m: could not broadcast input array from shape (2,3) into shape (2,7)"
     ]
    }
   ],
   "source": [
    "c[1,:,:] = [[4,5,6],[9,0,7]]"
   ]
  },
  {
   "cell_type": "markdown",
   "id": "8590adf3",
   "metadata": {},
   "source": [
    "____________________________________________________________________________________________________________________________"
   ]
  },
  {
   "cell_type": "markdown",
   "id": "e6f17a87",
   "metadata": {},
   "source": [
    "## **Initializing Different Types Of Arrays**"
   ]
  },
  {
   "cell_type": "markdown",
   "id": "18b5f596",
   "metadata": {},
   "source": [
    "#### **Creating Arrays Filled Of Zeros**"
   ]
  },
  {
   "cell_type": "markdown",
   "id": "fcdcba3c",
   "metadata": {},
   "source": [
    "*You can easily create array filled with zero*"
   ]
  },
  {
   "cell_type": "markdown",
   "id": "6f163e2c",
   "metadata": {},
   "source": [
    "*.zeros() function take argument as int or tuple to specify shape and dimension of array of zeros, you can specify dtype of it*"
   ]
  },
  {
   "cell_type": "code",
   "execution_count": null,
   "id": "a73f3fe7",
   "metadata": {},
   "outputs": [
    {
     "data": {
      "text/plain": [
       "array([0., 0., 0., 0.])"
      ]
     },
     "execution_count": 86,
     "metadata": {},
     "output_type": "execute_result"
    }
   ],
   "source": [
    "np.zeros(4) # Array Of Zeros Created With 1 dimension of shape (4,)"
   ]
  },
  {
   "cell_type": "code",
   "execution_count": null,
   "id": "6c6f90d6",
   "metadata": {},
   "outputs": [
    {
     "data": {
      "text/plain": [
       "array([[0., 0., 0., 0., 0., 0.],\n",
       "       [0., 0., 0., 0., 0., 0.],\n",
       "       [0., 0., 0., 0., 0., 0.],\n",
       "       [0., 0., 0., 0., 0., 0.],\n",
       "       [0., 0., 0., 0., 0., 0.]])"
      ]
     },
     "execution_count": 87,
     "metadata": {},
     "output_type": "execute_result"
    }
   ],
   "source": [
    "np.zeros((5,6)) # Arrays Of Zeros Created with 2 dimension of shape (5,6)"
   ]
  },
  {
   "cell_type": "code",
   "execution_count": null,
   "id": "33649a26",
   "metadata": {},
   "outputs": [
    {
     "data": {
      "text/plain": [
       "array([[[0., 0., 0., 0., 0.],\n",
       "        [0., 0., 0., 0., 0.],\n",
       "        [0., 0., 0., 0., 0.],\n",
       "        [0., 0., 0., 0., 0.]],\n",
       "\n",
       "       [[0., 0., 0., 0., 0.],\n",
       "        [0., 0., 0., 0., 0.],\n",
       "        [0., 0., 0., 0., 0.],\n",
       "        [0., 0., 0., 0., 0.]]])"
      ]
     },
     "execution_count": 88,
     "metadata": {},
     "output_type": "execute_result"
    }
   ],
   "source": [
    "np.zeros((2,4,5)) # Arrays Of Zeros Created with 3 dimension of shape (2,4,5)"
   ]
  },
  {
   "cell_type": "code",
   "execution_count": null,
   "id": "dc4c7094",
   "metadata": {},
   "outputs": [
    {
     "data": {
      "text/plain": [
       "array([[[[[0., 0., 0.]],\n",
       "\n",
       "         [[0., 0., 0.]],\n",
       "\n",
       "         [[0., 0., 0.]],\n",
       "\n",
       "         [[0., 0., 0.]],\n",
       "\n",
       "         [[0., 0., 0.]]],\n",
       "\n",
       "\n",
       "        [[[0., 0., 0.]],\n",
       "\n",
       "         [[0., 0., 0.]],\n",
       "\n",
       "         [[0., 0., 0.]],\n",
       "\n",
       "         [[0., 0., 0.]],\n",
       "\n",
       "         [[0., 0., 0.]]],\n",
       "\n",
       "\n",
       "        [[[0., 0., 0.]],\n",
       "\n",
       "         [[0., 0., 0.]],\n",
       "\n",
       "         [[0., 0., 0.]],\n",
       "\n",
       "         [[0., 0., 0.]],\n",
       "\n",
       "         [[0., 0., 0.]]],\n",
       "\n",
       "\n",
       "        [[[0., 0., 0.]],\n",
       "\n",
       "         [[0., 0., 0.]],\n",
       "\n",
       "         [[0., 0., 0.]],\n",
       "\n",
       "         [[0., 0., 0.]],\n",
       "\n",
       "         [[0., 0., 0.]]],\n",
       "\n",
       "\n",
       "        [[[0., 0., 0.]],\n",
       "\n",
       "         [[0., 0., 0.]],\n",
       "\n",
       "         [[0., 0., 0.]],\n",
       "\n",
       "         [[0., 0., 0.]],\n",
       "\n",
       "         [[0., 0., 0.]]],\n",
       "\n",
       "\n",
       "        [[[0., 0., 0.]],\n",
       "\n",
       "         [[0., 0., 0.]],\n",
       "\n",
       "         [[0., 0., 0.]],\n",
       "\n",
       "         [[0., 0., 0.]],\n",
       "\n",
       "         [[0., 0., 0.]]],\n",
       "\n",
       "\n",
       "        [[[0., 0., 0.]],\n",
       "\n",
       "         [[0., 0., 0.]],\n",
       "\n",
       "         [[0., 0., 0.]],\n",
       "\n",
       "         [[0., 0., 0.]],\n",
       "\n",
       "         [[0., 0., 0.]]]],\n",
       "\n",
       "\n",
       "\n",
       "       [[[[0., 0., 0.]],\n",
       "\n",
       "         [[0., 0., 0.]],\n",
       "\n",
       "         [[0., 0., 0.]],\n",
       "\n",
       "         [[0., 0., 0.]],\n",
       "\n",
       "         [[0., 0., 0.]]],\n",
       "\n",
       "\n",
       "        [[[0., 0., 0.]],\n",
       "\n",
       "         [[0., 0., 0.]],\n",
       "\n",
       "         [[0., 0., 0.]],\n",
       "\n",
       "         [[0., 0., 0.]],\n",
       "\n",
       "         [[0., 0., 0.]]],\n",
       "\n",
       "\n",
       "        [[[0., 0., 0.]],\n",
       "\n",
       "         [[0., 0., 0.]],\n",
       "\n",
       "         [[0., 0., 0.]],\n",
       "\n",
       "         [[0., 0., 0.]],\n",
       "\n",
       "         [[0., 0., 0.]]],\n",
       "\n",
       "\n",
       "        [[[0., 0., 0.]],\n",
       "\n",
       "         [[0., 0., 0.]],\n",
       "\n",
       "         [[0., 0., 0.]],\n",
       "\n",
       "         [[0., 0., 0.]],\n",
       "\n",
       "         [[0., 0., 0.]]],\n",
       "\n",
       "\n",
       "        [[[0., 0., 0.]],\n",
       "\n",
       "         [[0., 0., 0.]],\n",
       "\n",
       "         [[0., 0., 0.]],\n",
       "\n",
       "         [[0., 0., 0.]],\n",
       "\n",
       "         [[0., 0., 0.]]],\n",
       "\n",
       "\n",
       "        [[[0., 0., 0.]],\n",
       "\n",
       "         [[0., 0., 0.]],\n",
       "\n",
       "         [[0., 0., 0.]],\n",
       "\n",
       "         [[0., 0., 0.]],\n",
       "\n",
       "         [[0., 0., 0.]]],\n",
       "\n",
       "\n",
       "        [[[0., 0., 0.]],\n",
       "\n",
       "         [[0., 0., 0.]],\n",
       "\n",
       "         [[0., 0., 0.]],\n",
       "\n",
       "         [[0., 0., 0.]],\n",
       "\n",
       "         [[0., 0., 0.]]]],\n",
       "\n",
       "\n",
       "\n",
       "       [[[[0., 0., 0.]],\n",
       "\n",
       "         [[0., 0., 0.]],\n",
       "\n",
       "         [[0., 0., 0.]],\n",
       "\n",
       "         [[0., 0., 0.]],\n",
       "\n",
       "         [[0., 0., 0.]]],\n",
       "\n",
       "\n",
       "        [[[0., 0., 0.]],\n",
       "\n",
       "         [[0., 0., 0.]],\n",
       "\n",
       "         [[0., 0., 0.]],\n",
       "\n",
       "         [[0., 0., 0.]],\n",
       "\n",
       "         [[0., 0., 0.]]],\n",
       "\n",
       "\n",
       "        [[[0., 0., 0.]],\n",
       "\n",
       "         [[0., 0., 0.]],\n",
       "\n",
       "         [[0., 0., 0.]],\n",
       "\n",
       "         [[0., 0., 0.]],\n",
       "\n",
       "         [[0., 0., 0.]]],\n",
       "\n",
       "\n",
       "        [[[0., 0., 0.]],\n",
       "\n",
       "         [[0., 0., 0.]],\n",
       "\n",
       "         [[0., 0., 0.]],\n",
       "\n",
       "         [[0., 0., 0.]],\n",
       "\n",
       "         [[0., 0., 0.]]],\n",
       "\n",
       "\n",
       "        [[[0., 0., 0.]],\n",
       "\n",
       "         [[0., 0., 0.]],\n",
       "\n",
       "         [[0., 0., 0.]],\n",
       "\n",
       "         [[0., 0., 0.]],\n",
       "\n",
       "         [[0., 0., 0.]]],\n",
       "\n",
       "\n",
       "        [[[0., 0., 0.]],\n",
       "\n",
       "         [[0., 0., 0.]],\n",
       "\n",
       "         [[0., 0., 0.]],\n",
       "\n",
       "         [[0., 0., 0.]],\n",
       "\n",
       "         [[0., 0., 0.]]],\n",
       "\n",
       "\n",
       "        [[[0., 0., 0.]],\n",
       "\n",
       "         [[0., 0., 0.]],\n",
       "\n",
       "         [[0., 0., 0.]],\n",
       "\n",
       "         [[0., 0., 0.]],\n",
       "\n",
       "         [[0., 0., 0.]]]],\n",
       "\n",
       "\n",
       "\n",
       "       [[[[0., 0., 0.]],\n",
       "\n",
       "         [[0., 0., 0.]],\n",
       "\n",
       "         [[0., 0., 0.]],\n",
       "\n",
       "         [[0., 0., 0.]],\n",
       "\n",
       "         [[0., 0., 0.]]],\n",
       "\n",
       "\n",
       "        [[[0., 0., 0.]],\n",
       "\n",
       "         [[0., 0., 0.]],\n",
       "\n",
       "         [[0., 0., 0.]],\n",
       "\n",
       "         [[0., 0., 0.]],\n",
       "\n",
       "         [[0., 0., 0.]]],\n",
       "\n",
       "\n",
       "        [[[0., 0., 0.]],\n",
       "\n",
       "         [[0., 0., 0.]],\n",
       "\n",
       "         [[0., 0., 0.]],\n",
       "\n",
       "         [[0., 0., 0.]],\n",
       "\n",
       "         [[0., 0., 0.]]],\n",
       "\n",
       "\n",
       "        [[[0., 0., 0.]],\n",
       "\n",
       "         [[0., 0., 0.]],\n",
       "\n",
       "         [[0., 0., 0.]],\n",
       "\n",
       "         [[0., 0., 0.]],\n",
       "\n",
       "         [[0., 0., 0.]]],\n",
       "\n",
       "\n",
       "        [[[0., 0., 0.]],\n",
       "\n",
       "         [[0., 0., 0.]],\n",
       "\n",
       "         [[0., 0., 0.]],\n",
       "\n",
       "         [[0., 0., 0.]],\n",
       "\n",
       "         [[0., 0., 0.]]],\n",
       "\n",
       "\n",
       "        [[[0., 0., 0.]],\n",
       "\n",
       "         [[0., 0., 0.]],\n",
       "\n",
       "         [[0., 0., 0.]],\n",
       "\n",
       "         [[0., 0., 0.]],\n",
       "\n",
       "         [[0., 0., 0.]]],\n",
       "\n",
       "\n",
       "        [[[0., 0., 0.]],\n",
       "\n",
       "         [[0., 0., 0.]],\n",
       "\n",
       "         [[0., 0., 0.]],\n",
       "\n",
       "         [[0., 0., 0.]],\n",
       "\n",
       "         [[0., 0., 0.]]]],\n",
       "\n",
       "\n",
       "\n",
       "       [[[[0., 0., 0.]],\n",
       "\n",
       "         [[0., 0., 0.]],\n",
       "\n",
       "         [[0., 0., 0.]],\n",
       "\n",
       "         [[0., 0., 0.]],\n",
       "\n",
       "         [[0., 0., 0.]]],\n",
       "\n",
       "\n",
       "        [[[0., 0., 0.]],\n",
       "\n",
       "         [[0., 0., 0.]],\n",
       "\n",
       "         [[0., 0., 0.]],\n",
       "\n",
       "         [[0., 0., 0.]],\n",
       "\n",
       "         [[0., 0., 0.]]],\n",
       "\n",
       "\n",
       "        [[[0., 0., 0.]],\n",
       "\n",
       "         [[0., 0., 0.]],\n",
       "\n",
       "         [[0., 0., 0.]],\n",
       "\n",
       "         [[0., 0., 0.]],\n",
       "\n",
       "         [[0., 0., 0.]]],\n",
       "\n",
       "\n",
       "        [[[0., 0., 0.]],\n",
       "\n",
       "         [[0., 0., 0.]],\n",
       "\n",
       "         [[0., 0., 0.]],\n",
       "\n",
       "         [[0., 0., 0.]],\n",
       "\n",
       "         [[0., 0., 0.]]],\n",
       "\n",
       "\n",
       "        [[[0., 0., 0.]],\n",
       "\n",
       "         [[0., 0., 0.]],\n",
       "\n",
       "         [[0., 0., 0.]],\n",
       "\n",
       "         [[0., 0., 0.]],\n",
       "\n",
       "         [[0., 0., 0.]]],\n",
       "\n",
       "\n",
       "        [[[0., 0., 0.]],\n",
       "\n",
       "         [[0., 0., 0.]],\n",
       "\n",
       "         [[0., 0., 0.]],\n",
       "\n",
       "         [[0., 0., 0.]],\n",
       "\n",
       "         [[0., 0., 0.]]],\n",
       "\n",
       "\n",
       "        [[[0., 0., 0.]],\n",
       "\n",
       "         [[0., 0., 0.]],\n",
       "\n",
       "         [[0., 0., 0.]],\n",
       "\n",
       "         [[0., 0., 0.]],\n",
       "\n",
       "         [[0., 0., 0.]]]],\n",
       "\n",
       "\n",
       "\n",
       "       [[[[0., 0., 0.]],\n",
       "\n",
       "         [[0., 0., 0.]],\n",
       "\n",
       "         [[0., 0., 0.]],\n",
       "\n",
       "         [[0., 0., 0.]],\n",
       "\n",
       "         [[0., 0., 0.]]],\n",
       "\n",
       "\n",
       "        [[[0., 0., 0.]],\n",
       "\n",
       "         [[0., 0., 0.]],\n",
       "\n",
       "         [[0., 0., 0.]],\n",
       "\n",
       "         [[0., 0., 0.]],\n",
       "\n",
       "         [[0., 0., 0.]]],\n",
       "\n",
       "\n",
       "        [[[0., 0., 0.]],\n",
       "\n",
       "         [[0., 0., 0.]],\n",
       "\n",
       "         [[0., 0., 0.]],\n",
       "\n",
       "         [[0., 0., 0.]],\n",
       "\n",
       "         [[0., 0., 0.]]],\n",
       "\n",
       "\n",
       "        [[[0., 0., 0.]],\n",
       "\n",
       "         [[0., 0., 0.]],\n",
       "\n",
       "         [[0., 0., 0.]],\n",
       "\n",
       "         [[0., 0., 0.]],\n",
       "\n",
       "         [[0., 0., 0.]]],\n",
       "\n",
       "\n",
       "        [[[0., 0., 0.]],\n",
       "\n",
       "         [[0., 0., 0.]],\n",
       "\n",
       "         [[0., 0., 0.]],\n",
       "\n",
       "         [[0., 0., 0.]],\n",
       "\n",
       "         [[0., 0., 0.]]],\n",
       "\n",
       "\n",
       "        [[[0., 0., 0.]],\n",
       "\n",
       "         [[0., 0., 0.]],\n",
       "\n",
       "         [[0., 0., 0.]],\n",
       "\n",
       "         [[0., 0., 0.]],\n",
       "\n",
       "         [[0., 0., 0.]]],\n",
       "\n",
       "\n",
       "        [[[0., 0., 0.]],\n",
       "\n",
       "         [[0., 0., 0.]],\n",
       "\n",
       "         [[0., 0., 0.]],\n",
       "\n",
       "         [[0., 0., 0.]],\n",
       "\n",
       "         [[0., 0., 0.]]]]])"
      ]
     },
     "execution_count": 89,
     "metadata": {},
     "output_type": "execute_result"
    }
   ],
   "source": [
    "np.zeros((6,7,5,1,3)) # Arrays Of Zeros Created with n-dimension (here 5) of shape (6,7,5,1,3)"
   ]
  },
  {
   "cell_type": "markdown",
   "id": "a7aaaeef",
   "metadata": {},
   "source": [
    "*We Can Also Create Array Of Zeros Using Shape of exgisting Array using .zeros_like() function*"
   ]
  },
  {
   "cell_type": "code",
   "execution_count": null,
   "id": "0607c54d",
   "metadata": {},
   "outputs": [
    {
     "data": {
      "text/plain": [
       "array([[[0, 0, 0, 0, 0, 0, 0],\n",
       "        [0, 0, 0, 0, 0, 0, 0]],\n",
       "\n",
       "       [[0, 0, 0, 0, 0, 0, 0],\n",
       "        [0, 0, 0, 0, 0, 0, 0]]])"
      ]
     },
     "execution_count": 94,
     "metadata": {},
     "output_type": "execute_result"
    }
   ],
   "source": [
    "np.zeros_like(c)"
   ]
  },
  {
   "cell_type": "markdown",
   "id": "58ad9835",
   "metadata": {},
   "source": [
    "#### **Creating Arrays Filled Of Ones**"
   ]
  },
  {
   "cell_type": "markdown",
   "id": "6ac95693",
   "metadata": {},
   "source": [
    "*You can create array filled with ones* "
   ]
  },
  {
   "cell_type": "markdown",
   "id": "97d3e7a8",
   "metadata": {},
   "source": [
    "*.ones() function takes same argument as int or tuple to specify shape and dimension of array*"
   ]
  },
  {
   "cell_type": "code",
   "execution_count": null,
   "id": "3cf54c2c",
   "metadata": {},
   "outputs": [
    {
     "data": {
      "text/plain": [
       "array([[1., 1., 1., 1., 1., 1., 1., 1., 1.],\n",
       "       [1., 1., 1., 1., 1., 1., 1., 1., 1.],\n",
       "       [1., 1., 1., 1., 1., 1., 1., 1., 1.],\n",
       "       [1., 1., 1., 1., 1., 1., 1., 1., 1.],\n",
       "       [1., 1., 1., 1., 1., 1., 1., 1., 1.],\n",
       "       [1., 1., 1., 1., 1., 1., 1., 1., 1.],\n",
       "       [1., 1., 1., 1., 1., 1., 1., 1., 1.],\n",
       "       [1., 1., 1., 1., 1., 1., 1., 1., 1.]])"
      ]
     },
     "execution_count": 90,
     "metadata": {},
     "output_type": "execute_result"
    }
   ],
   "source": [
    "# All 1's Matrix\n",
    "np.ones((8,9))"
   ]
  },
  {
   "cell_type": "code",
   "execution_count": null,
   "id": "c5017768",
   "metadata": {},
   "outputs": [
    {
     "data": {
      "text/plain": [
       "array([[[[1, 1, 1, 1],\n",
       "         [1, 1, 1, 1],\n",
       "         [1, 1, 1, 1],\n",
       "         [1, 1, 1, 1],\n",
       "         [1, 1, 1, 1]],\n",
       "\n",
       "        [[1, 1, 1, 1],\n",
       "         [1, 1, 1, 1],\n",
       "         [1, 1, 1, 1],\n",
       "         [1, 1, 1, 1],\n",
       "         [1, 1, 1, 1]],\n",
       "\n",
       "        [[1, 1, 1, 1],\n",
       "         [1, 1, 1, 1],\n",
       "         [1, 1, 1, 1],\n",
       "         [1, 1, 1, 1],\n",
       "         [1, 1, 1, 1]],\n",
       "\n",
       "        ...,\n",
       "\n",
       "        [[1, 1, 1, 1],\n",
       "         [1, 1, 1, 1],\n",
       "         [1, 1, 1, 1],\n",
       "         [1, 1, 1, 1],\n",
       "         [1, 1, 1, 1]],\n",
       "\n",
       "        [[1, 1, 1, 1],\n",
       "         [1, 1, 1, 1],\n",
       "         [1, 1, 1, 1],\n",
       "         [1, 1, 1, 1],\n",
       "         [1, 1, 1, 1]],\n",
       "\n",
       "        [[1, 1, 1, 1],\n",
       "         [1, 1, 1, 1],\n",
       "         [1, 1, 1, 1],\n",
       "         [1, 1, 1, 1],\n",
       "         [1, 1, 1, 1]]],\n",
       "\n",
       "\n",
       "       [[[1, 1, 1, 1],\n",
       "         [1, 1, 1, 1],\n",
       "         [1, 1, 1, 1],\n",
       "         [1, 1, 1, 1],\n",
       "         [1, 1, 1, 1]],\n",
       "\n",
       "        [[1, 1, 1, 1],\n",
       "         [1, 1, 1, 1],\n",
       "         [1, 1, 1, 1],\n",
       "         [1, 1, 1, 1],\n",
       "         [1, 1, 1, 1]],\n",
       "\n",
       "        [[1, 1, 1, 1],\n",
       "         [1, 1, 1, 1],\n",
       "         [1, 1, 1, 1],\n",
       "         [1, 1, 1, 1],\n",
       "         [1, 1, 1, 1]],\n",
       "\n",
       "        ...,\n",
       "\n",
       "        [[1, 1, 1, 1],\n",
       "         [1, 1, 1, 1],\n",
       "         [1, 1, 1, 1],\n",
       "         [1, 1, 1, 1],\n",
       "         [1, 1, 1, 1]],\n",
       "\n",
       "        [[1, 1, 1, 1],\n",
       "         [1, 1, 1, 1],\n",
       "         [1, 1, 1, 1],\n",
       "         [1, 1, 1, 1],\n",
       "         [1, 1, 1, 1]],\n",
       "\n",
       "        [[1, 1, 1, 1],\n",
       "         [1, 1, 1, 1],\n",
       "         [1, 1, 1, 1],\n",
       "         [1, 1, 1, 1],\n",
       "         [1, 1, 1, 1]]],\n",
       "\n",
       "\n",
       "       [[[1, 1, 1, 1],\n",
       "         [1, 1, 1, 1],\n",
       "         [1, 1, 1, 1],\n",
       "         [1, 1, 1, 1],\n",
       "         [1, 1, 1, 1]],\n",
       "\n",
       "        [[1, 1, 1, 1],\n",
       "         [1, 1, 1, 1],\n",
       "         [1, 1, 1, 1],\n",
       "         [1, 1, 1, 1],\n",
       "         [1, 1, 1, 1]],\n",
       "\n",
       "        [[1, 1, 1, 1],\n",
       "         [1, 1, 1, 1],\n",
       "         [1, 1, 1, 1],\n",
       "         [1, 1, 1, 1],\n",
       "         [1, 1, 1, 1]],\n",
       "\n",
       "        ...,\n",
       "\n",
       "        [[1, 1, 1, 1],\n",
       "         [1, 1, 1, 1],\n",
       "         [1, 1, 1, 1],\n",
       "         [1, 1, 1, 1],\n",
       "         [1, 1, 1, 1]],\n",
       "\n",
       "        [[1, 1, 1, 1],\n",
       "         [1, 1, 1, 1],\n",
       "         [1, 1, 1, 1],\n",
       "         [1, 1, 1, 1],\n",
       "         [1, 1, 1, 1]],\n",
       "\n",
       "        [[1, 1, 1, 1],\n",
       "         [1, 1, 1, 1],\n",
       "         [1, 1, 1, 1],\n",
       "         [1, 1, 1, 1],\n",
       "         [1, 1, 1, 1]]],\n",
       "\n",
       "\n",
       "       ...,\n",
       "\n",
       "\n",
       "       [[[1, 1, 1, 1],\n",
       "         [1, 1, 1, 1],\n",
       "         [1, 1, 1, 1],\n",
       "         [1, 1, 1, 1],\n",
       "         [1, 1, 1, 1]],\n",
       "\n",
       "        [[1, 1, 1, 1],\n",
       "         [1, 1, 1, 1],\n",
       "         [1, 1, 1, 1],\n",
       "         [1, 1, 1, 1],\n",
       "         [1, 1, 1, 1]],\n",
       "\n",
       "        [[1, 1, 1, 1],\n",
       "         [1, 1, 1, 1],\n",
       "         [1, 1, 1, 1],\n",
       "         [1, 1, 1, 1],\n",
       "         [1, 1, 1, 1]],\n",
       "\n",
       "        ...,\n",
       "\n",
       "        [[1, 1, 1, 1],\n",
       "         [1, 1, 1, 1],\n",
       "         [1, 1, 1, 1],\n",
       "         [1, 1, 1, 1],\n",
       "         [1, 1, 1, 1]],\n",
       "\n",
       "        [[1, 1, 1, 1],\n",
       "         [1, 1, 1, 1],\n",
       "         [1, 1, 1, 1],\n",
       "         [1, 1, 1, 1],\n",
       "         [1, 1, 1, 1]],\n",
       "\n",
       "        [[1, 1, 1, 1],\n",
       "         [1, 1, 1, 1],\n",
       "         [1, 1, 1, 1],\n",
       "         [1, 1, 1, 1],\n",
       "         [1, 1, 1, 1]]],\n",
       "\n",
       "\n",
       "       [[[1, 1, 1, 1],\n",
       "         [1, 1, 1, 1],\n",
       "         [1, 1, 1, 1],\n",
       "         [1, 1, 1, 1],\n",
       "         [1, 1, 1, 1]],\n",
       "\n",
       "        [[1, 1, 1, 1],\n",
       "         [1, 1, 1, 1],\n",
       "         [1, 1, 1, 1],\n",
       "         [1, 1, 1, 1],\n",
       "         [1, 1, 1, 1]],\n",
       "\n",
       "        [[1, 1, 1, 1],\n",
       "         [1, 1, 1, 1],\n",
       "         [1, 1, 1, 1],\n",
       "         [1, 1, 1, 1],\n",
       "         [1, 1, 1, 1]],\n",
       "\n",
       "        ...,\n",
       "\n",
       "        [[1, 1, 1, 1],\n",
       "         [1, 1, 1, 1],\n",
       "         [1, 1, 1, 1],\n",
       "         [1, 1, 1, 1],\n",
       "         [1, 1, 1, 1]],\n",
       "\n",
       "        [[1, 1, 1, 1],\n",
       "         [1, 1, 1, 1],\n",
       "         [1, 1, 1, 1],\n",
       "         [1, 1, 1, 1],\n",
       "         [1, 1, 1, 1]],\n",
       "\n",
       "        [[1, 1, 1, 1],\n",
       "         [1, 1, 1, 1],\n",
       "         [1, 1, 1, 1],\n",
       "         [1, 1, 1, 1],\n",
       "         [1, 1, 1, 1]]],\n",
       "\n",
       "\n",
       "       [[[1, 1, 1, 1],\n",
       "         [1, 1, 1, 1],\n",
       "         [1, 1, 1, 1],\n",
       "         [1, 1, 1, 1],\n",
       "         [1, 1, 1, 1]],\n",
       "\n",
       "        [[1, 1, 1, 1],\n",
       "         [1, 1, 1, 1],\n",
       "         [1, 1, 1, 1],\n",
       "         [1, 1, 1, 1],\n",
       "         [1, 1, 1, 1]],\n",
       "\n",
       "        [[1, 1, 1, 1],\n",
       "         [1, 1, 1, 1],\n",
       "         [1, 1, 1, 1],\n",
       "         [1, 1, 1, 1],\n",
       "         [1, 1, 1, 1]],\n",
       "\n",
       "        ...,\n",
       "\n",
       "        [[1, 1, 1, 1],\n",
       "         [1, 1, 1, 1],\n",
       "         [1, 1, 1, 1],\n",
       "         [1, 1, 1, 1],\n",
       "         [1, 1, 1, 1]],\n",
       "\n",
       "        [[1, 1, 1, 1],\n",
       "         [1, 1, 1, 1],\n",
       "         [1, 1, 1, 1],\n",
       "         [1, 1, 1, 1],\n",
       "         [1, 1, 1, 1]],\n",
       "\n",
       "        [[1, 1, 1, 1],\n",
       "         [1, 1, 1, 1],\n",
       "         [1, 1, 1, 1],\n",
       "         [1, 1, 1, 1],\n",
       "         [1, 1, 1, 1]]]], dtype=int16)"
      ]
     },
     "execution_count": 91,
     "metadata": {},
     "output_type": "execute_result"
    }
   ],
   "source": [
    "np.ones((7,8,5,4),dtype = 'int16') # Ones Array Is Created With Shape Of (7,8,5,4) with specified datatype ('int16)"
   ]
  },
  {
   "cell_type": "markdown",
   "id": "c7d1d6c2",
   "metadata": {},
   "source": [
    "*We Can Also Create Array Of Ones Using Shape of exgisting Array using .ones_like() function*"
   ]
  },
  {
   "cell_type": "code",
   "execution_count": null,
   "id": "58fcb48f",
   "metadata": {},
   "outputs": [
    {
     "data": {
      "text/plain": [
       "array([[[1, 1, 1, 1, 1, 1, 1],\n",
       "        [1, 1, 1, 1, 1, 1, 1]],\n",
       "\n",
       "       [[1, 1, 1, 1, 1, 1, 1],\n",
       "        [1, 1, 1, 1, 1, 1, 1]]])"
      ]
     },
     "execution_count": 95,
     "metadata": {},
     "output_type": "execute_result"
    }
   ],
   "source": [
    "np.ones_like(c) # Creating Array Of Ones Using existing array shape"
   ]
  },
  {
   "cell_type": "markdown",
   "id": "0bebc6e9",
   "metadata": {},
   "source": [
    "#### **Creating Arrays Filled Of Any Number**"
   ]
  },
  {
   "cell_type": "markdown",
   "id": "b2a33cf6",
   "metadata": {},
   "source": [
    "*.full()i function takes two argument primarily one is shape and dimension , another is for element you want to fill in it*"
   ]
  },
  {
   "cell_type": "code",
   "execution_count": null,
   "id": "0e9d4573",
   "metadata": {},
   "outputs": [
    {
     "data": {
      "text/plain": [
       "array([[3, 3, 3, 3],\n",
       "       [3, 3, 3, 3],\n",
       "       [3, 3, 3, 3]])"
      ]
     },
     "execution_count": 92,
     "metadata": {},
     "output_type": "execute_result"
    }
   ],
   "source": [
    "# All Xs Matrix\n",
    "X = 3\n",
    "np.full((3,4),X)\n",
    "# Again Here You Can Change dtype of matrix "
   ]
  },
  {
   "cell_type": "markdown",
   "id": "f378a60f",
   "metadata": {},
   "source": [
    "*We Can Also Create Array of any number Using Shape of existing Array using .full_like() function*"
   ]
  },
  {
   "cell_type": "code",
   "execution_count": null,
   "id": "2fa111f5",
   "metadata": {},
   "outputs": [
    {
     "data": {
      "text/plain": [
       "array([[2, 2, 2, 2, 2, 2, 2],\n",
       "       [2, 2, 2, 2, 2, 2, 2]])"
      ]
     },
     "execution_count": 96,
     "metadata": {},
     "output_type": "execute_result"
    }
   ],
   "source": [
    "np.full_like(a,2) # Creating Array Of Given Number Of Size Of Some Existing Array"
   ]
  },
  {
   "cell_type": "code",
   "execution_count": null,
   "id": "b5b64682",
   "metadata": {},
   "outputs": [
    {
     "data": {
      "text/plain": [
       "array([[2, 2, 2, 2, 2, 2, 2],\n",
       "       [2, 2, 2, 2, 2, 2, 2]])"
      ]
     },
     "execution_count": 97,
     "metadata": {},
     "output_type": "execute_result"
    }
   ],
   "source": [
    "np.full(a.shape,2) # You Can Also Use a.shape as shape for defining shape of array of any number in .full() function"
   ]
  },
  {
   "cell_type": "markdown",
   "id": "20ec2797",
   "metadata": {},
   "source": [
    "### **Creating Array Of Random Number**"
   ]
  },
  {
   "cell_type": "markdown",
   "id": "257bf15b",
   "metadata": {},
   "source": [
    "*Random Is A Class In Numpy which has multiple function , in which rand comes*"
   ]
  },
  {
   "cell_type": "markdown",
   "id": "451be2d0",
   "metadata": {},
   "source": [
    "##### **Creating Array Of Random Number**"
   ]
  },
  {
   "cell_type": "markdown",
   "id": "c197886e",
   "metadata": {},
   "source": [
    "*.random.rand() function gives array with random number with specific shape*"
   ]
  },
  {
   "cell_type": "markdown",
   "id": "ed488f7a",
   "metadata": {},
   "source": [
    ".random.rand() function takes integers as length of dimension "
   ]
  },
  {
   "cell_type": "code",
   "execution_count": null,
   "id": "a7cd8647",
   "metadata": {},
   "outputs": [
    {
     "data": {
      "text/plain": [
       "array([[0.80940216, 0.522087  ],\n",
       "       [0.38223928, 0.62348563],\n",
       "       [0.87704943, 0.18013628],\n",
       "       [0.58886688, 0.87979868]])"
      ]
     },
     "execution_count": 104,
     "metadata": {},
     "output_type": "execute_result"
    }
   ],
   "source": [
    "np.random.rand(4,2) # Array of random number between (0,1) "
   ]
  },
  {
   "cell_type": "markdown",
   "id": "fb54fe47",
   "metadata": {},
   "source": [
    "##### **Creating Array Using Shape Of Exisiting Array**"
   ]
  },
  {
   "cell_type": "markdown",
   "id": "d1ecd262",
   "metadata": {},
   "source": [
    "*.random.random_sample() function is used to make a array of random number of shape of existing array*"
   ]
  },
  {
   "cell_type": "code",
   "execution_count": null,
   "id": "73f449dc",
   "metadata": {},
   "outputs": [
    {
     "data": {
      "text/plain": [
       "array([[0.69653117, 0.17520167, 0.29345178, 0.37856744, 0.83358136,\n",
       "        0.44287918, 0.15176212],\n",
       "       [0.04875083, 0.54859444, 0.60383255, 0.31724915, 0.18713658,\n",
       "        0.06077441, 0.2223813 ]])"
      ]
     },
     "execution_count": 101,
     "metadata": {},
     "output_type": "execute_result"
    }
   ],
   "source": [
    "np.random.random_sample(a.shape) # Creating Array with random number using shape of an existing array"
   ]
  },
  {
   "cell_type": "markdown",
   "id": "45fdc1aa",
   "metadata": {},
   "source": [
    "*.random.randint() function is used to create array of random integers*"
   ]
  },
  {
   "cell_type": "code",
   "execution_count": null,
   "id": "f394d6e1",
   "metadata": {},
   "outputs": [
    {
     "data": {
      "text/plain": [
       "array([6, 5, 8])"
      ]
     },
     "execution_count": 184,
     "metadata": {},
     "output_type": "execute_result"
    }
   ],
   "source": [
    "np.random.randint(4,9,size=(3)) # Creating Arrays Of Random Integers "
   ]
  },
  {
   "cell_type": "markdown",
   "id": "94a5717b",
   "metadata": {},
   "source": [
    "##### **Initializing Identity Matrix Using .identiy() and .eye()**"
   ]
  },
  {
   "cell_type": "markdown",
   "id": "ed4be1bc",
   "metadata": {},
   "source": [
    "*You can create identity matrix using .identity() function*"
   ]
  },
  {
   "cell_type": "markdown",
   "id": "dc670bcb",
   "metadata": {},
   "source": [
    "*.identity() function has only one argument which specifies length of both sides of sqaure identity matrix*"
   ]
  },
  {
   "cell_type": "code",
   "execution_count": null,
   "id": "41f91bd8",
   "metadata": {},
   "outputs": [
    {
     "data": {
      "text/plain": [
       "array([[1., 0., 0., 0., 0.],\n",
       "       [0., 1., 0., 0., 0.],\n",
       "       [0., 0., 1., 0., 0.],\n",
       "       [0., 0., 0., 1., 0.],\n",
       "       [0., 0., 0., 0., 1.]])"
      ]
     },
     "execution_count": 185,
     "metadata": {},
     "output_type": "execute_result"
    }
   ],
   "source": [
    "#Identity Matrix\n",
    "np.identity(5)"
   ]
  },
  {
   "cell_type": "markdown",
   "id": "54663dd4",
   "metadata": {},
   "source": [
    "*You Can Create Matrix Similar to identity but not a square matrix using .eye() function*"
   ]
  },
  {
   "cell_type": "code",
   "execution_count": null,
   "id": "123b97dd",
   "metadata": {},
   "outputs": [
    {
     "data": {
      "text/plain": [
       "array([[1., 0., 0., 0.],\n",
       "       [0., 1., 0., 0.],\n",
       "       [0., 0., 1., 0.]])"
      ]
     },
     "execution_count": 114,
     "metadata": {},
     "output_type": "execute_result"
    }
   ],
   "source": [
    "np.eye(3,4,k=0) # Creating Array using .eye() function "
   ]
  },
  {
   "cell_type": "markdown",
   "id": "e00ddd5a",
   "metadata": {},
   "source": [
    "##### **Syntax :-  np.eye(rows,column,k=[integers])**"
   ]
  },
  {
   "cell_type": "markdown",
   "id": "80f2e166",
   "metadata": {},
   "source": [
    "**Here k is used to set position of diagonally placed 1's in matrix  negative number pulls element down and positive number pulls up**"
   ]
  },
  {
   "cell_type": "code",
   "execution_count": null,
   "id": "cdeb0f2e",
   "metadata": {},
   "outputs": [
    {
     "data": {
      "text/plain": [
       "array([[0., 1., 0., 0.],\n",
       "       [0., 0., 1., 0.],\n",
       "       [0., 0., 0., 1.]])"
      ]
     },
     "execution_count": 115,
     "metadata": {},
     "output_type": "execute_result"
    }
   ],
   "source": [
    "# Examples\n",
    "np.eye(3,4,k=1)"
   ]
  },
  {
   "cell_type": "code",
   "execution_count": null,
   "id": "12b5a351",
   "metadata": {},
   "outputs": [
    {
     "data": {
      "text/plain": [
       "array([[0., 0., 0., 0.],\n",
       "       [1., 0., 0., 0.],\n",
       "       [0., 1., 0., 0.]])"
      ]
     },
     "execution_count": 116,
     "metadata": {},
     "output_type": "execute_result"
    }
   ],
   "source": [
    "np.eye(3,4,k=-1)"
   ]
  },
  {
   "cell_type": "code",
   "execution_count": null,
   "id": "fe0b17ed",
   "metadata": {},
   "outputs": [
    {
     "data": {
      "text/plain": [
       "array([[1., 0., 0., 0.],\n",
       "       [0., 1., 0., 0.],\n",
       "       [0., 0., 1., 0.]])"
      ]
     },
     "execution_count": 117,
     "metadata": {},
     "output_type": "execute_result"
    }
   ],
   "source": [
    "np.eye(3,4,k=0)"
   ]
  },
  {
   "cell_type": "markdown",
   "id": "4141f880",
   "metadata": {},
   "source": [
    "#### **Repeat Function**"
   ]
  },
  {
   "cell_type": "markdown",
   "id": "03d5f5b8",
   "metadata": {},
   "source": [
    "*.repeat() function is used repeat and exisiting or same arr to get a new array*"
   ]
  },
  {
   "cell_type": "code",
   "execution_count": null,
   "id": "51c64d9c",
   "metadata": {},
   "outputs": [
    {
     "name": "stdout",
     "output_type": "stream",
     "text": [
      "[[1 2 3]\n",
      " [1 2 3]\n",
      " [1 2 3]]\n"
     ]
    }
   ],
   "source": [
    "arr = np.array([[1,2,3]])\n",
    "r1 = np.repeat(arr,3,axis = 0) # This Functio take three argument one for which array is used \n",
    "# second for how many times and third for on which axis should i move to print\n",
    "print(r1)"
   ]
  },
  {
   "cell_type": "code",
   "execution_count": null,
   "id": "437df5f2",
   "metadata": {},
   "outputs": [
    {
     "name": "stdout",
     "output_type": "stream",
     "text": [
      "[[1. 1. 1. 1. 1.]\n",
      " [1. 0. 0. 0. 1.]\n",
      " [1. 0. 9. 0. 1.]\n",
      " [1. 0. 0. 0. 1.]\n",
      " [1. 1. 1. 1. 1.]]\n"
     ]
    }
   ],
   "source": [
    "# Practice Set Q1\n",
    "arr1 = np.ones((5,5))\n",
    "z = np.zeros((3,3))\n",
    "z[1,1] = 9\n",
    "arr1[1:4,1:4] = z\n",
    "print(arr1)"
   ]
  },
  {
   "cell_type": "markdown",
   "id": "cb804b59",
   "metadata": {},
   "source": [
    "### **Python's Main Rule :- Every Thing Is Reference of Main Object**"
   ]
  },
  {
   "cell_type": "code",
   "execution_count": null,
   "id": "9dfdae2c",
   "metadata": {},
   "outputs": [
    {
     "name": "stdout",
     "output_type": "stream",
     "text": [
      "[1 2 3]\n",
      "[100   2   3]\n",
      "[1 2 3]\n"
     ]
    }
   ],
   "source": [
    "a = np.array([1,2,3])\n",
    "b = a.copy()\n",
    "print(b)\n",
    "b[0] = 100\n",
    "print(b)\n",
    "print(a)"
   ]
  },
  {
   "cell_type": "markdown",
   "id": "222736ca",
   "metadata": {},
   "source": [
    "____________________________________________________________________________________________________________________________"
   ]
  },
  {
   "cell_type": "markdown",
   "id": "ec123d83",
   "metadata": {},
   "source": [
    "## **Mathematics Using Numpy**"
   ]
  },
  {
   "cell_type": "code",
   "execution_count": null,
   "id": "2f86621b",
   "metadata": {},
   "outputs": [
    {
     "name": "stdout",
     "output_type": "stream",
     "text": [
      "[1 2 3 4]\n"
     ]
    }
   ],
   "source": [
    "a = np.array([1,2,3,4]) # Creating Array For Operation\n",
    "print(a)"
   ]
  },
  {
   "cell_type": "markdown",
   "id": "33f890ff",
   "metadata": {},
   "source": [
    "##### ***Addition On Numpy Array***"
   ]
  },
  {
   "cell_type": "code",
   "execution_count": null,
   "id": "9911c9ef",
   "metadata": {},
   "outputs": [
    {
     "data": {
      "text/plain": [
       "array([3, 4, 5, 6])"
      ]
     },
     "execution_count": 212,
     "metadata": {},
     "output_type": "execute_result"
    }
   ],
   "source": [
    "# Addition \n",
    "\n",
    "a + 2"
   ]
  },
  {
   "cell_type": "markdown",
   "id": "49f2dfbf",
   "metadata": {},
   "source": [
    "*Adding a scalar to a array result into adding that scalar to every element of array's element*"
   ]
  },
  {
   "cell_type": "markdown",
   "id": "5d7a54f3",
   "metadata": {},
   "source": [
    "##### ***Subracting On Numpy Array***"
   ]
  },
  {
   "cell_type": "code",
   "execution_count": null,
   "id": "104d6404",
   "metadata": {},
   "outputs": [
    {
     "data": {
      "text/plain": [
       "array([-1,  0,  1,  2])"
      ]
     },
     "execution_count": 50,
     "metadata": {},
     "output_type": "execute_result"
    }
   ],
   "source": [
    "# Substraction \n",
    "# Same As Addition\n",
    "a - 2"
   ]
  },
  {
   "cell_type": "markdown",
   "id": "74f98173",
   "metadata": {},
   "source": [
    "##### ***Multiplication On Numpy Array***"
   ]
  },
  {
   "cell_type": "code",
   "execution_count": null,
   "id": "a37a4105",
   "metadata": {},
   "outputs": [
    {
     "data": {
      "text/plain": [
       "array([2, 4, 6, 8])"
      ]
     },
     "execution_count": 214,
     "metadata": {},
     "output_type": "execute_result"
    }
   ],
   "source": [
    "# Multiplication \n",
    "# Also Same\n",
    "\n",
    "a*2"
   ]
  },
  {
   "cell_type": "markdown",
   "id": "41fcf739",
   "metadata": {},
   "source": [
    "##### ***Division On Numpy Array***"
   ]
  },
  {
   "cell_type": "code",
   "execution_count": null,
   "id": "5738782a",
   "metadata": {},
   "outputs": [
    {
     "data": {
      "text/plain": [
       "array([0.5, 1. , 1.5, 2. ])"
      ]
     },
     "execution_count": 215,
     "metadata": {},
     "output_type": "execute_result"
    }
   ],
   "source": [
    "# Division\n",
    "# Same As Above\n",
    "a/2"
   ]
  },
  {
   "cell_type": "markdown",
   "id": "0c772be6",
   "metadata": {},
   "source": [
    "##### ***Concatinating Two Array Using '+' operator***"
   ]
  },
  {
   "cell_type": "code",
   "execution_count": null,
   "id": "a8f58e14",
   "metadata": {},
   "outputs": [
    {
     "name": "stdout",
     "output_type": "stream",
     "text": [
      "a = [1 2 3 4]\n",
      "b = [1 0 1 0]\n",
      "Concatinating Two Different Array of same shape\n",
      "a+b = [2 2 4 4]\n"
     ]
    }
   ],
   "source": [
    "# Additing Another Array To Original\n",
    "print(\"a =\",a)\n",
    "b=np.array([1,0,1,0])\n",
    "print(\"b =\",b)\n",
    "print(\"Concatinating Two Different Array of same shape\")\n",
    "print(\"a+b =\",a+b)"
   ]
  },
  {
   "cell_type": "markdown",
   "id": "df3eed96",
   "metadata": {},
   "source": [
    "***Remember:-Adding Arrays Works On Arrays with same shape otherwise it gives error***"
   ]
  },
  {
   "cell_type": "code",
   "execution_count": null,
   "id": "b8236d54",
   "metadata": {},
   "outputs": [
    {
     "ename": "ValueError",
     "evalue": "operands could not be broadcast together with shapes (4,) (3,) ",
     "output_type": "error",
     "traceback": [
      "\u001b[1;31m---------------------------------------------------------------------------\u001b[0m",
      "\u001b[1;31mValueError\u001b[0m                                Traceback (most recent call last)",
      "Cell \u001b[1;32mIn[48], line 2\u001b[0m\n\u001b[0;32m      1\u001b[0m c \u001b[38;5;241m=\u001b[39m np\u001b[38;5;241m.\u001b[39marray([\u001b[38;5;241m6\u001b[39m,\u001b[38;5;241m8\u001b[39m,\u001b[38;5;241m3\u001b[39m])\n\u001b[1;32m----> 2\u001b[0m a\u001b[38;5;241m+\u001b[39mc\n",
      "\u001b[1;31mValueError\u001b[0m: operands could not be broadcast together with shapes (4,) (3,) "
     ]
    }
   ],
   "source": [
    "c = np.array([6,8,3])\n",
    "a+c"
   ]
  },
  {
   "cell_type": "markdown",
   "id": "ba07da97",
   "metadata": {},
   "source": [
    "*Addition Happens Between Two Element Of Array Of Same Index*"
   ]
  },
  {
   "cell_type": "markdown",
   "id": "67fddaee",
   "metadata": {},
   "source": [
    "*Ex:- a = [6,7] b = [8,3]*<br>\n",
    "*a+b = [6+8,7+3]*"
   ]
  },
  {
   "cell_type": "markdown",
   "id": "18dbe306",
   "metadata": {},
   "source": [
    "##### ***Exponents Of Element Of Matrix***"
   ]
  },
  {
   "cell_type": "code",
   "execution_count": null,
   "id": "84adf3b8",
   "metadata": {},
   "outputs": [
    {
     "data": {
      "text/plain": [
       "array([ 1,  4,  9, 16])"
      ]
     },
     "execution_count": 51,
     "metadata": {},
     "output_type": "execute_result"
    }
   ],
   "source": [
    "a ** 2 # '**' operator Is Used to find power of every element in an array\n",
    "\n",
    "# 2 is power of array element which you required"
   ]
  },
  {
   "cell_type": "markdown",
   "id": "628e20b5",
   "metadata": {},
   "source": [
    "##### ***Trigonametry On Element Of Matrix***"
   ]
  },
  {
   "cell_type": "code",
   "execution_count": null,
   "id": "07a10cf1",
   "metadata": {},
   "outputs": [
    {
     "name": "stdout",
     "output_type": "stream",
     "text": [
      "[ 0.84147098  0.90929743  0.14112001 -0.7568025 ]\n",
      "[ 0.54030231 -0.41614684 -0.9899925  -0.65364362]\n",
      "[ 1.55740772 -2.18503986 -0.14254654  1.15782128]\n"
     ]
    }
   ],
   "source": [
    "# Trigonometrical Function\n",
    "print(np.sin(a))\n",
    "print(np.cos(a))\n",
    "print(np.tan(a))"
   ]
  },
  {
   "cell_type": "markdown",
   "id": "9dda3870",
   "metadata": {},
   "source": [
    "## **Linear Algebra**"
   ]
  },
  {
   "cell_type": "markdown",
   "id": "d4902e94",
   "metadata": {},
   "source": [
    "***Matrix Multiplication Using In-Built Python Libraries***"
   ]
  },
  {
   "cell_type": "code",
   "execution_count": null,
   "id": "198aadcc",
   "metadata": {},
   "outputs": [
    {
     "name": "stdout",
     "output_type": "stream",
     "text": [
      "[[1. 1. 1.]\n",
      " [1. 1. 1.]]\n",
      "[[2 2]\n",
      " [2 2]\n",
      " [2 2]]\n"
     ]
    },
    {
     "data": {
      "text/plain": [
       "array([[6., 6.],\n",
       "       [6., 6.]])"
      ]
     },
     "execution_count": 42,
     "metadata": {},
     "output_type": "execute_result"
    }
   ],
   "source": [
    "a = np.ones((2,3)) # Creating First Matrix\n",
    "print(a)\n",
    "\n",
    "b= np.full((3,2),2) # Creating Second Matrix\n",
    "print(b)\n",
    "\n",
    "np.matmul(a,b) # .matmul() function is used to multiply two matrices "
   ]
  },
  {
   "cell_type": "markdown",
   "id": "ec814505",
   "metadata": {},
   "source": [
    "***Remember Matrix Multiplication has rules***<br>\n",
    "* *in 2D Matrix No of rows of first matrix must equal to no fo column of second matrix if not it will throw an error*"
   ]
  },
  {
   "cell_type": "code",
   "execution_count": null,
   "id": "ba0ea7a3",
   "metadata": {},
   "outputs": [
    {
     "ename": "ValueError",
     "evalue": "matmul: Input operand 1 has a mismatch in its core dimension 0, with gufunc signature (n?,k),(k,m?)->(n?,m?) (size 8 is different from 3)",
     "output_type": "error",
     "traceback": [
      "\u001b[1;31m---------------------------------------------------------------------------\u001b[0m",
      "\u001b[1;31mValueError\u001b[0m                                Traceback (most recent call last)",
      "Cell \u001b[1;32mIn[44], line 3\u001b[0m\n\u001b[0;32m      1\u001b[0m b \u001b[38;5;241m=\u001b[39m np\u001b[38;5;241m.\u001b[39mones((\u001b[38;5;241m8\u001b[39m,\u001b[38;5;241m5\u001b[39m))\n\u001b[1;32m----> 3\u001b[0m np\u001b[38;5;241m.\u001b[39mmatmul(a,b)\n",
      "\u001b[1;31mValueError\u001b[0m: matmul: Input operand 1 has a mismatch in its core dimension 0, with gufunc signature (n?,k),(k,m?)->(n?,m?) (size 8 is different from 3)"
     ]
    }
   ],
   "source": [
    "b = np.ones((8,5))\n",
    "\n",
    "np.matmul(a,b)"
   ]
  },
  {
   "cell_type": "code",
   "execution_count": null,
   "id": "c99aaaff",
   "metadata": {},
   "outputs": [
    {
     "name": "stdout",
     "output_type": "stream",
     "text": [
      "[[[ 0  1  2  3]\n",
      "  [ 4  5  6  7]\n",
      "  [ 8  9 10 11]]\n",
      "\n",
      " [[12 13 14 15]\n",
      "  [16 17 18 19]\n",
      "  [20 21 22 23]]]\n",
      "[[[25 26 27]\n",
      "  [28 29 30]\n",
      "  [31 32 33]\n",
      "  [34 35 36]]\n",
      "\n",
      " [[37 38 39]\n",
      "  [40 41 42]\n",
      "  [43 44 45]\n",
      "  [46 47 48]]]\n"
     ]
    },
    {
     "data": {
      "text/plain": [
       "array([[[ 192,  198,  204],\n",
       "        [ 664,  686,  708],\n",
       "        [1136, 1174, 1212]],\n",
       "\n",
       "       [[2256, 2310, 2364],\n",
       "        [2920, 2990, 3060],\n",
       "        [3584, 3670, 3756]]])"
      ]
     },
     "execution_count": 50,
     "metadata": {},
     "output_type": "execute_result"
    }
   ],
   "source": [
    "a = np.arange(24).reshape(2,3,4)\n",
    "print(a)\n",
    "b = np.arange(25,49).reshape(2,4,3)\n",
    "print(b)\n",
    "\n",
    "np.matmul(a,b)"
   ]
  },
  {
   "cell_type": "code",
   "execution_count": null,
   "id": "503a82bc",
   "metadata": {},
   "outputs": [
    {
     "data": {
      "text/plain": [
       "1.0"
      ]
     },
     "execution_count": 238,
     "metadata": {},
     "output_type": "execute_result"
    }
   ],
   "source": [
    "# Determinant of matrix\n",
    "\n",
    "c = np.identity(3)\n",
    "# I Have Used Identity Matrix To Check The Determinant Is 1 or not \n",
    "np.linalg.det(c)"
   ]
  },
  {
   "cell_type": "markdown",
   "id": "0bbd7902",
   "metadata": {},
   "source": [
    "## ***Statistics***\n",
    "  "
   ]
  },
  {
   "cell_type": "code",
   "execution_count": null,
   "id": "1e12523d",
   "metadata": {},
   "outputs": [
    {
     "name": "stdout",
     "output_type": "stream",
     "text": [
      "[[1 2 3]\n",
      " [4 5 3]]\n"
     ]
    }
   ],
   "source": [
    "stats = np.array([[1,2,3],[4,5,3]])\n",
    "print(stats)"
   ]
  },
  {
   "cell_type": "markdown",
   "id": "0facc476",
   "metadata": {},
   "source": [
    "***Mean(Average)***"
   ]
  },
  {
   "cell_type": "code",
   "execution_count": null,
   "id": "bdcd3624",
   "metadata": {},
   "outputs": [
    {
     "data": {
      "text/plain": [
       "3.0"
      ]
     },
     "execution_count": 259,
     "metadata": {},
     "output_type": "execute_result"
    }
   ],
   "source": [
    "# Mean Of Data In NumPy\n",
    "np.mean(stats) "
   ]
  },
  {
   "cell_type": "code",
   "execution_count": null,
   "id": "8a85f702",
   "metadata": {},
   "outputs": [
    {
     "data": {
      "text/plain": [
       "5"
      ]
     },
     "execution_count": 254,
     "metadata": {},
     "output_type": "execute_result"
    }
   ],
   "source": [
    "# Max In Array\n",
    "np.max(stats)"
   ]
  },
  {
   "cell_type": "code",
   "execution_count": null,
   "id": "636e3a82",
   "metadata": {},
   "outputs": [
    {
     "data": {
      "text/plain": [
       "1"
      ]
     },
     "execution_count": 261,
     "metadata": {},
     "output_type": "execute_result"
    }
   ],
   "source": [
    "# Min In Array\n",
    "np.min(stats)"
   ]
  },
  {
   "cell_type": "code",
   "execution_count": null,
   "id": "745f65c5",
   "metadata": {},
   "outputs": [
    {
     "data": {
      "text/plain": [
       "18"
      ]
     },
     "execution_count": 260,
     "metadata": {},
     "output_type": "execute_result"
    }
   ],
   "source": [
    "# Sum Of All Element In Array\n",
    "np.sum(stats)"
   ]
  },
  {
   "cell_type": "code",
   "execution_count": null,
   "id": "ca78afbe",
   "metadata": {},
   "outputs": [
    {
     "name": "stdout",
     "output_type": "stream",
     "text": [
      "3.0\n"
     ]
    }
   ],
   "source": [
    "# We Can Use Different Function To Calculate Same Output But Numpy has its own function\n",
    "print((np.sum(stats)/stats.size))"
   ]
  },
  {
   "cell_type": "code",
   "execution_count": null,
   "id": "da241259",
   "metadata": {},
   "outputs": [
    {
     "data": {
      "text/plain": [
       "array([ 6, 12])"
      ]
     },
     "execution_count": 264,
     "metadata": {},
     "output_type": "execute_result"
    }
   ],
   "source": [
    "# Introduction Of Axis In Picture\n",
    "# In NumPy, `axis` defines **the direction in which an operation is applied**.\n",
    "# 1D Array Only Has One Axis (Axis = 0)\n",
    "# 2D Array Have 2 Axis (Axis = 0 for column-vice operation , Axis = 1 for row-vice operation)\n",
    "'''row-vice axis tells the function to operate in row format means apply operation on elements which are traversed \n",
    "row vice ex axis = 0 for 2D Array'''\n",
    "np.sum(stats,axis=1)"
   ]
  },
  {
   "cell_type": "markdown",
   "id": "f56f1b3d",
   "metadata": {},
   "source": [
    "Axis Represents In Which Dimension Function Should Work "
   ]
  },
  {
   "cell_type": "markdown",
   "id": "c1976d79",
   "metadata": {},
   "source": [
    "For Example Above np.sum(stats,axis = 1) gives addition of element in columns-form"
   ]
  },
  {
   "cell_type": "markdown",
   "id": "56b1364b",
   "metadata": {},
   "source": [
    "____________________________________________________________________________________________________________________________"
   ]
  },
  {
   "cell_type": "markdown",
   "id": "a424f187",
   "metadata": {},
   "source": [
    "# ***Day2 Numpy Notes***"
   ]
  },
  {
   "cell_type": "markdown",
   "id": "a3457a01",
   "metadata": {},
   "source": [
    "### ***Reorganizing Arrays***"
   ]
  },
  {
   "cell_type": "code",
   "execution_count": null,
   "id": "61b35ec2",
   "metadata": {},
   "outputs": [
    {
     "name": "stdout",
     "output_type": "stream",
     "text": [
      "[[1 2 3 4]\n",
      " [5 6 7 8]]\n"
     ]
    }
   ],
   "source": [
    "before = np.array([[1,2,3,4],[5,6,7,8]])\n",
    "print(before)"
   ]
  },
  {
   "cell_type": "code",
   "execution_count": null,
   "id": "e61ecadd",
   "metadata": {},
   "outputs": [
    {
     "name": "stdout",
     "output_type": "stream",
     "text": [
      "(2, 4)\n"
     ]
    }
   ],
   "source": [
    "print(before.shape) # Shape Of Array Before reshaping"
   ]
  },
  {
   "cell_type": "markdown",
   "id": "afb233e1",
   "metadata": {},
   "source": [
    "***Convert array of shape (2,4) to (8,1)***<br>\n",
    "***Be Careful Number Of Element Must Be Same*** <br>\n",
    "***When Converting To Another Shape***<br>\n",
    "***Or WhenEvery reshaping Check Product Of Dimension Of Shape if Both Number Are Equal or not ,if equal Then We Can reshape original*** <br>"
   ]
  },
  {
   "cell_type": "code",
   "execution_count": null,
   "id": "dfafc94d",
   "metadata": {},
   "outputs": [
    {
     "name": "stdout",
     "output_type": "stream",
     "text": [
      "[[1]\n",
      " [2]\n",
      " [3]\n",
      " [4]\n",
      " [5]\n",
      " [6]\n",
      " [7]\n",
      " [8]]\n",
      "\n",
      "(8, 1)\n"
     ]
    }
   ],
   "source": [
    "after = before.reshape(8,1) # Reshaping Array 'before to shape of (8,1)'\n",
    "print(after)\n",
    "print()\n",
    "print(after.shape) # Shape Of New Array From array 'before' after reshaping"
   ]
  },
  {
   "cell_type": "code",
   "execution_count": null,
   "id": "85de96b2",
   "metadata": {},
   "outputs": [
    {
     "name": "stdout",
     "output_type": "stream",
     "text": [
      "[[[1 2]\n",
      "  [3 4]]\n",
      "\n",
      " [[5 6]\n",
      "  [7 8]]]\n",
      "\n",
      "(2, 5)\n"
     ]
    }
   ],
   "source": [
    "after = before.reshape(2,2,2) # reshaping array to 3-dimensional array's shape\n",
    "print(after)\n",
    "print()\n",
    "print(a.shape)"
   ]
  },
  {
   "cell_type": "markdown",
   "id": "a051c591",
   "metadata": {},
   "source": [
    "***You Can Also Change Shape Of Array Using .shape() by changing output of shape method to required shape of new array***"
   ]
  },
  {
   "cell_type": "code",
   "execution_count": null,
   "id": "74a54073",
   "metadata": {},
   "outputs": [
    {
     "name": "stdout",
     "output_type": "stream",
     "text": [
      "[0 1 2 3 4 5 6 7 8 9]\n",
      "[[0 1 2 3 4]\n",
      " [5 6 7 8 9]]\n"
     ]
    }
   ],
   "source": [
    "a = np.arange(10) \n",
    "print(a)\n",
    "a.shape = (2,5) # Changing Shape Of Array Using .shape() function\n",
    "print(a)"
   ]
  },
  {
   "cell_type": "markdown",
   "id": "89444db5",
   "metadata": {},
   "source": [
    "##### ***Axis Explaination***"
   ]
  },
  {
   "cell_type": "code",
   "execution_count": null,
   "id": "9d001abe",
   "metadata": {},
   "outputs": [
    {
     "data": {
      "text/plain": [
       "array([17, 15])"
      ]
     },
     "execution_count": 128,
     "metadata": {},
     "output_type": "execute_result"
    }
   ],
   "source": [
    "a = np.array([[3,4,6,4],[6,3,1,5]])\n",
    "b = np.array([[5,6,3,2],[5,6,3,2]])\n",
    "\n",
    "a.sum(axis=1)"
   ]
  },
  {
   "cell_type": "markdown",
   "id": "a891b4e5",
   "metadata": {},
   "source": [
    "##### ***Vertical Stacking***"
   ]
  },
  {
   "cell_type": "markdown",
   "id": "11007ec8",
   "metadata": {},
   "source": [
    "***Two Vectors/Array Are Stacked Using .vstack() with a tuple of two or more vectors as argument***"
   ]
  },
  {
   "cell_type": "code",
   "execution_count": null,
   "id": "4076773e",
   "metadata": {},
   "outputs": [
    {
     "data": {
      "text/plain": [
       "array([[1, 2],\n",
       "       [3, 4],\n",
       "       [5, 6],\n",
       "       [7, 8],\n",
       "       [4, 5],\n",
       "       [2, 7]])"
      ]
     },
     "execution_count": 67,
     "metadata": {},
     "output_type": "execute_result"
    }
   ],
   "source": [
    "# Vertically Stacking Vectors\n",
    "v1 = np.array([[1,2],[3,4]])\n",
    "v2 = np.array([[5,6],[7,8]])\n",
    "v3 = np.array([[4,5],[2,7]])\n",
    "\n",
    "np.vstack((v1,v2,v3)) # Stacking v1,v2,v3 on top of each other where first array's element are placed on top"
   ]
  },
  {
   "cell_type": "markdown",
   "id": "576b4308",
   "metadata": {},
   "source": [
    "***Vertical Stacking Result A Array Where Element Of Previous Array Are Stacked on top of each other by following rule of first traversed will be on top***"
   ]
  },
  {
   "cell_type": "markdown",
   "id": "69e0043c",
   "metadata": {},
   "source": [
    "***Arrays must have the same number of columns***<br>\n",
    "***Think of it as stacking rows one under the another***"
   ]
  },
  {
   "cell_type": "markdown",
   "id": "1e9fb328",
   "metadata": {},
   "source": [
    "##### ***Horizontal Stacking***"
   ]
  },
  {
   "cell_type": "markdown",
   "id": "25d269ce",
   "metadata": {},
   "source": [
    "***Same As Verical Stacking But Works In Horizontal Way***"
   ]
  },
  {
   "cell_type": "markdown",
   "id": "ff547419",
   "metadata": {},
   "source": [
    "***Here Stacking Happens Along Sideways<br>***\n",
    "***One Can Imagine Two Arrays Placed Side By Side And Element On Same Index Are Merge Together And Placed On Same Position In New Array***"
   ]
  },
  {
   "cell_type": "code",
   "execution_count": null,
   "id": "72b88cc5",
   "metadata": {},
   "outputs": [
    {
     "data": {
      "text/plain": [
       "array([[1, 2, 5, 6],\n",
       "       [3, 4, 7, 8]])"
      ]
     },
     "execution_count": 282,
     "metadata": {},
     "output_type": "execute_result"
    }
   ],
   "source": [
    "# Horizontal Stack\n",
    "h1 = np.array([[1,2],[3,4]])\n",
    "h2 = np.array([[5,6],[7,8]])\n",
    "\n",
    "np.hstack((h1,h2))"
   ]
  },
  {
   "cell_type": "markdown",
   "id": "4f6b21fd",
   "metadata": {},
   "source": [
    "***Large Example For Understanding***"
   ]
  },
  {
   "cell_type": "code",
   "execution_count": null,
   "id": "96c0739a",
   "metadata": {},
   "outputs": [
    {
     "name": "stdout",
     "output_type": "stream",
     "text": [
      "[[[[9 4 6]\n",
      "   [3 3 2]\n",
      "   [0 9 3]]\n",
      "\n",
      "  [[3 5 7]\n",
      "   [5 3 5]\n",
      "   [6 1 6]]\n",
      "\n",
      "  [[8 8 4]\n",
      "   [8 9 0]\n",
      "   [5 4 5]]]\n",
      "\n",
      "\n",
      " [[[3 3 0]\n",
      "   [6 5 2]\n",
      "   [5 6 3]]\n",
      "\n",
      "  [[3 3 2]\n",
      "   [8 3 8]\n",
      "   [9 0 8]]\n",
      "\n",
      "  [[5 3 4]\n",
      "   [1 3 1]\n",
      "   [9 5 9]]]]\n",
      "\n",
      "[[[[3 0 2]\n",
      "   [7 4 3]\n",
      "   [4 8 1]]\n",
      "\n",
      "  [[7 5 9]\n",
      "   [4 8 0]\n",
      "   [5 7 8]]\n",
      "\n",
      "  [[3 7 9]\n",
      "   [6 0 5]\n",
      "   [1 4 1]]]\n",
      "\n",
      "\n",
      " [[[8 0 5]\n",
      "   [2 9 7]\n",
      "   [7 4 7]]\n",
      "\n",
      "  [[2 3 4]\n",
      "   [1 3 7]\n",
      "   [5 6 0]]\n",
      "\n",
      "  [[7 7 7]\n",
      "   [9 4 7]\n",
      "   [9 0 1]]]]\n"
     ]
    }
   ],
   "source": [
    "v1 = np.random.randint(0, 10, size=(2, 3, 3, 3))\n",
    "print(v1)\n",
    "print()\n",
    "v2 = np.random.randint(0,10,size=(2,3,3,3))\n",
    "print(v2)"
   ]
  },
  {
   "cell_type": "code",
   "execution_count": null,
   "id": "df7fafec",
   "metadata": {},
   "outputs": [
    {
     "data": {
      "text/plain": [
       "array([[[[9, 4, 6],\n",
       "         [3, 3, 2],\n",
       "         [0, 9, 3]],\n",
       "\n",
       "        [[3, 5, 7],\n",
       "         [5, 3, 5],\n",
       "         [6, 1, 6]],\n",
       "\n",
       "        [[8, 8, 4],\n",
       "         [8, 9, 0],\n",
       "         [5, 4, 5]]],\n",
       "\n",
       "\n",
       "       [[[3, 3, 0],\n",
       "         [6, 5, 2],\n",
       "         [5, 6, 3]],\n",
       "\n",
       "        [[3, 3, 2],\n",
       "         [8, 3, 8],\n",
       "         [9, 0, 8]],\n",
       "\n",
       "        [[5, 3, 4],\n",
       "         [1, 3, 1],\n",
       "         [9, 5, 9]]],\n",
       "\n",
       "\n",
       "       [[[3, 0, 2],\n",
       "         [7, 4, 3],\n",
       "         [4, 8, 1]],\n",
       "\n",
       "        [[7, 5, 9],\n",
       "         [4, 8, 0],\n",
       "         [5, 7, 8]],\n",
       "\n",
       "        [[3, 7, 9],\n",
       "         [6, 0, 5],\n",
       "         [1, 4, 1]]],\n",
       "\n",
       "\n",
       "       [[[8, 0, 5],\n",
       "         [2, 9, 7],\n",
       "         [7, 4, 7]],\n",
       "\n",
       "        [[2, 3, 4],\n",
       "         [1, 3, 7],\n",
       "         [5, 6, 0]],\n",
       "\n",
       "        [[7, 7, 7],\n",
       "         [9, 4, 7],\n",
       "         [9, 0, 1]]]])"
      ]
     },
     "execution_count": 71,
     "metadata": {},
     "output_type": "execute_result"
    }
   ],
   "source": [
    "np.vstack((v1,v2))"
   ]
  },
  {
   "cell_type": "code",
   "execution_count": null,
   "id": "6db9f6f9",
   "metadata": {},
   "outputs": [
    {
     "data": {
      "text/plain": [
       "array([[[[9, 4, 6],\n",
       "         [3, 3, 2],\n",
       "         [0, 9, 3]],\n",
       "\n",
       "        [[3, 5, 7],\n",
       "         [5, 3, 5],\n",
       "         [6, 1, 6]],\n",
       "\n",
       "        [[8, 8, 4],\n",
       "         [8, 9, 0],\n",
       "         [5, 4, 5]],\n",
       "\n",
       "        [[3, 0, 2],\n",
       "         [7, 4, 3],\n",
       "         [4, 8, 1]],\n",
       "\n",
       "        [[7, 5, 9],\n",
       "         [4, 8, 0],\n",
       "         [5, 7, 8]],\n",
       "\n",
       "        [[3, 7, 9],\n",
       "         [6, 0, 5],\n",
       "         [1, 4, 1]]],\n",
       "\n",
       "\n",
       "       [[[3, 3, 0],\n",
       "         [6, 5, 2],\n",
       "         [5, 6, 3]],\n",
       "\n",
       "        [[3, 3, 2],\n",
       "         [8, 3, 8],\n",
       "         [9, 0, 8]],\n",
       "\n",
       "        [[5, 3, 4],\n",
       "         [1, 3, 1],\n",
       "         [9, 5, 9]],\n",
       "\n",
       "        [[8, 0, 5],\n",
       "         [2, 9, 7],\n",
       "         [7, 4, 7]],\n",
       "\n",
       "        [[2, 3, 4],\n",
       "         [1, 3, 7],\n",
       "         [5, 6, 0]],\n",
       "\n",
       "        [[7, 7, 7],\n",
       "         [9, 4, 7],\n",
       "         [9, 0, 1]]]])"
      ]
     },
     "execution_count": 72,
     "metadata": {},
     "output_type": "execute_result"
    }
   ],
   "source": [
    "np.hstack((v1,v2))"
   ]
  },
  {
   "cell_type": "markdown",
   "id": "301e086c",
   "metadata": {},
   "source": [
    "#### ***Spliting***"
   ]
  },
  {
   "cell_type": "markdown",
   "id": "72675567",
   "metadata": {},
   "source": [
    "*There Are Two Major Function For Spliting Array np.split(array,section/tuple)*<br>\n",
    "*.split() function takes first argument as array(given array) and second as 'Int' for dividing in section or 'tuple' for cutting and dividing across two points in tuple on array*"
   ]
  },
  {
   "cell_type": "code",
   "execution_count": null,
   "id": "c56deafa",
   "metadata": {},
   "outputs": [
    {
     "data": {
      "text/plain": [
       "[array([[ 5,  7,  4, 36]]), array([[7, 4, 2, 6]])]"
      ]
     },
     "execution_count": 76,
     "metadata": {},
     "output_type": "execute_result"
    }
   ],
   "source": [
    "array1 = np.array([[5,7,4,36],[7,4,2,6]])\n",
    "np.split(array1,2)"
   ]
  },
  {
   "cell_type": "code",
   "execution_count": null,
   "id": "26b800c7",
   "metadata": {},
   "outputs": [
    {
     "data": {
      "text/plain": [
       "[array([[ 5,  7,  4, 36]], dtype=int8),\n",
       " array([[7, 4, 2, 6]], dtype=int8),\n",
       " array([], shape=(0, 4), dtype=int8)]"
      ]
     },
     "execution_count": 78,
     "metadata": {},
     "output_type": "execute_result"
    }
   ],
   "source": [
    "array1 = np.array([[5,7,4,36],[7,4,2,6]],dtype = 'int8')\n",
    "np.split(array1,(1,4))"
   ]
  },
  {
   "cell_type": "markdown",
   "id": "58a1df4d",
   "metadata": {},
   "source": [
    "***Remember :- when spliting always divide in equal part or it will give an error***<br>\n",
    "***for error free code use np.array_split() function same as split but handles extra element when divided uneqauly and also doesn't gives error***"
   ]
  },
  {
   "cell_type": "markdown",
   "id": "ac9addb8",
   "metadata": {},
   "source": [
    "#### ***Spliting Horizontally***"
   ]
  },
  {
   "cell_type": "markdown",
   "id": "c1ce3f91",
   "metadata": {},
   "source": [
    "***using .hspilt(array,section) use can split array horizontally***"
   ]
  },
  {
   "cell_type": "markdown",
   "id": "7497cd62",
   "metadata": {},
   "source": [
    "*This function has two arguments first is array and second is section it takes input as int or tuple*<br><br>\n",
    "*Int For how much section do you want*<br><br>\n",
    "*Tuple is for spliting array in three parts where tuple is worked as start and stop split makes one cut at start point(from tuple) in array aand at end point(from tuple) in array.Then it split array into three part one from array's start to tuple's start-1 second is from tuple's start to tuple's end-1 and third is from tuple's end to array's end*<br>\n"
   ]
  },
  {
   "cell_type": "code",
   "execution_count": null,
   "id": "a31435c3",
   "metadata": {},
   "outputs": [
    {
     "name": "stdout",
     "output_type": "stream",
     "text": [
      "[[1 2 3 4]\n",
      " [6 7 8 9]]\n"
     ]
    }
   ],
   "source": [
    "array = np.array([[1,2,3,4],[6,7,8,9]])\n",
    "print(array)"
   ]
  },
  {
   "cell_type": "code",
   "execution_count": null,
   "id": "d7ad3fb2",
   "metadata": {},
   "outputs": [],
   "source": []
  },
  {
   "cell_type": "markdown",
   "id": "0723782b",
   "metadata": {},
   "source": [
    "# Miscellaneous"
   ]
  },
  {
   "cell_type": "markdown",
   "id": "54a53f8c",
   "metadata": {},
   "source": [
    "Load Data From File "
   ]
  },
  {
   "cell_type": "code",
   "execution_count": null,
   "id": "051479b6",
   "metadata": {},
   "outputs": [
    {
     "name": "stdout",
     "output_type": "stream",
     "text": [
      "c:\\Users\\user\\DS\\NumPy\n"
     ]
    }
   ],
   "source": [
    "import os\n",
    "print(os.getcwd())"
   ]
  },
  {
   "cell_type": "code",
   "execution_count": null,
   "id": "b558104b",
   "metadata": {},
   "outputs": [
    {
     "name": "stdout",
     "output_type": "stream",
     "text": [
      "['42,21,19,29,12,89,48,59,24,34,56,39,4,14,98,86,78,31,73,84,99,58,98,24,\\n', '31,32,66,36,82,70,4,16,71,62,90,12,2,18,6,22,12,47,0,33,52,91,99,54,\\n', '29,43,75,27,60,71,73,22,4,67,29,23,88,6,55,4,4,73,0,39,96,49,72,79,\\n', '13,22,14,99,7,18,69,16,4,98,32,89,27,75,15,53,67,65,48,84,8,2,14,32,\\n', '32,46,75,12,86,75,6,63,97,31,94,58,13,23,52,35,3,64,40,95,31,1,30,58,\\n', '5,4,13,41,75,38,73,44,82,31,3,40,13,58,62,70,15,60,74,13,34,42,93,84,\\n', '38,55,62,87,10,43,0,30,90,51,55,1,54,12,62,30,51,74,69,86,78,51,57,55,\\n']\n"
     ]
    }
   ],
   "source": [
    "with open(\"datafile.txt\",\"r\")as f :\n",
    "    print(f.readlines())\n",
    "    array = f"
   ]
  },
  {
   "cell_type": "code",
   "execution_count": null,
   "id": "d052cee8",
   "metadata": {},
   "outputs": [
    {
     "name": "stdout",
     "output_type": "stream",
     "text": [
      "<_io.TextIOWrapper name='datafile.txt' mode='r' encoding='utf-8'>\n"
     ]
    }
   ],
   "source": [
    "print(array)"
   ]
  },
  {
   "cell_type": "code",
   "execution_count": null,
   "id": "80787215",
   "metadata": {},
   "outputs": [
    {
     "data": {
      "text/plain": [
       "array([[42, 21, 19, 29, 12, 89, 48, 59, 24, 34, 56, 39,  4, 14, 98, 86,\n",
       "        78, 31, 73, 84, 99, 58, 98, 24],\n",
       "       [31, 32, 66, 36, 82, 70,  4, 16, 71, 62, 90, 12,  2, 18,  6, 22,\n",
       "        12, 47,  0, 33, 52, 91, 99, 54],\n",
       "       [29, 43, 75, 27, 60, 71, 73, 22,  4, 67, 29, 23, 88,  6, 55,  4,\n",
       "         4, 73,  0, 39, 96, 49, 72, 79],\n",
       "       [13, 22, 14, 99,  7, 18, 69, 16,  4, 98, 32, 89, 27, 75, 15, 53,\n",
       "        67, 65, 48, 84,  8,  2, 14, 32],\n",
       "       [32, 46, 75, 12, 86, 75,  6, 63, 97, 31, 94, 58, 13, 23, 52, 35,\n",
       "         3, 64, 40, 95, 31,  1, 30, 58],\n",
       "       [ 5,  4, 13, 41, 75, 38, 73, 44, 82, 31,  3, 40, 13, 58, 62, 70,\n",
       "        15, 60, 74, 13, 34, 42, 93, 84],\n",
       "       [38, 55, 62, 87, 10, 43,  0, 30, 90, 51, 55,  1, 54, 12, 62, 30,\n",
       "        51, 74, 69, 86, 78, 51, 57, 55]], dtype=int16)"
      ]
     },
     "execution_count": 162,
     "metadata": {},
     "output_type": "execute_result"
    }
   ],
   "source": [
    "data = np.genfromtxt('datafile.txt',delimiter = ',',dtype = 'int16')\n",
    "data"
   ]
  },
  {
   "cell_type": "code",
   "execution_count": null,
   "id": "25a2bd2a",
   "metadata": {},
   "outputs": [
    {
     "data": {
      "text/plain": [
       "array([[False, False, False, False, False,  True, False,  True, False,\n",
       "        False,  True, False, False, False,  True,  True,  True, False,\n",
       "         True,  True,  True,  True,  True, False],\n",
       "       [False, False,  True, False,  True,  True, False, False,  True,\n",
       "         True,  True, False, False, False, False, False, False, False,\n",
       "        False, False,  True,  True,  True,  True],\n",
       "       [False, False,  True, False,  True,  True,  True, False, False,\n",
       "         True, False, False,  True, False,  True, False, False,  True,\n",
       "        False, False,  True, False,  True,  True],\n",
       "       [False, False, False,  True, False, False,  True, False, False,\n",
       "         True, False,  True, False,  True, False,  True,  True,  True,\n",
       "        False,  True, False, False, False, False],\n",
       "       [False, False,  True, False,  True,  True, False,  True,  True,\n",
       "        False,  True,  True, False, False,  True, False, False,  True,\n",
       "        False,  True, False, False, False,  True],\n",
       "       [False, False, False, False,  True, False,  True, False,  True,\n",
       "        False, False, False, False,  True,  True,  True, False,  True,\n",
       "         True, False, False, False,  True,  True],\n",
       "       [False,  True,  True,  True, False, False, False, False,  True,\n",
       "         True,  True, False,  True, False,  True, False,  True,  True,\n",
       "         True,  True,  True,  True,  True,  True]])"
      ]
     },
     "execution_count": 163,
     "metadata": {},
     "output_type": "execute_result"
    }
   ],
   "source": [
    "# Boolean Masking\n",
    "# Advanced Indexing\n",
    "data>50"
   ]
  },
  {
   "cell_type": "code",
   "execution_count": null,
   "id": "eb0246b6",
   "metadata": {},
   "outputs": [
    {
     "data": {
      "text/plain": [
       "array([[False, False, False, False, False,  True, False,  True, False,\n",
       "        False,  True, False, False, False,  True,  True,  True, False,\n",
       "         True,  True,  True,  True,  True, False],\n",
       "       [False, False,  True, False,  True,  True, False, False,  True,\n",
       "         True,  True, False, False, False, False, False, False, False,\n",
       "        False, False,  True,  True,  True,  True],\n",
       "       [False, False,  True, False,  True,  True,  True, False, False,\n",
       "         True, False, False,  True, False,  True, False, False,  True,\n",
       "        False, False,  True, False,  True,  True],\n",
       "       [False, False, False,  True, False, False,  True, False, False,\n",
       "         True, False,  True, False,  True, False,  True,  True,  True,\n",
       "        False,  True, False, False, False, False],\n",
       "       [False, False,  True, False,  True,  True, False,  True,  True,\n",
       "        False,  True,  True, False, False,  True, False, False,  True,\n",
       "        False,  True, False, False, False,  True],\n",
       "       [False, False, False, False,  True, False,  True, False,  True,\n",
       "        False, False, False, False,  True,  True,  True, False,  True,\n",
       "         True, False, False, False,  True,  True],\n",
       "       [False,  True,  True,  True, False, False, False, False,  True,\n",
       "         True,  True, False,  True, False,  True, False,  True,  True,\n",
       "         True,  True,  True,  True,  True,  True]])"
      ]
     },
     "execution_count": 164,
     "metadata": {},
     "output_type": "execute_result"
    }
   ],
   "source": [
    "data>=50"
   ]
  },
  {
   "cell_type": "code",
   "execution_count": null,
   "id": "33102ea6",
   "metadata": {},
   "outputs": [
    {
     "data": {
      "text/plain": [
       "array([89, 59, 56, 98, 86, 78, 73, 84, 99, 58, 98, 66, 82, 70, 71, 62, 90,\n",
       "       52, 91, 99, 54, 75, 60, 71, 73, 67, 88, 55, 73, 96, 72, 79, 99, 69,\n",
       "       98, 89, 75, 53, 67, 65, 84, 75, 86, 75, 63, 97, 94, 58, 52, 64, 95,\n",
       "       58, 75, 73, 82, 58, 62, 70, 60, 74, 93, 84, 55, 62, 87, 90, 51, 55,\n",
       "       54, 62, 51, 74, 69, 86, 78, 51, 57, 55], dtype=int16)"
      ]
     },
     "execution_count": 165,
     "metadata": {},
     "output_type": "execute_result"
    }
   ],
   "source": [
    "data[data>50] # This Gives Values Which Are Greater Than 50 or given value"
   ]
  },
  {
   "cell_type": "code",
   "execution_count": null,
   "id": "4b8807d9",
   "metadata": {},
   "outputs": [
    {
     "data": {
      "text/plain": [
       "array([False, False, False,  True,  True,  True, False, False,  True,\n",
       "        True,  True,  True,  True, False,  True,  True, False, False,\n",
       "       False,  True,  True,  True,  True,  True])"
      ]
     },
     "execution_count": 170,
     "metadata": {},
     "output_type": "execute_result"
    }
   ],
   "source": [
    "# identify any value in this data 's columns is greater 80\n",
    "np.any(data>80,axis=0)"
   ]
  },
  {
   "cell_type": "code",
   "execution_count": null,
   "id": "b544751f",
   "metadata": {},
   "outputs": [
    {
     "data": {
      "text/plain": [
       "array([False, False, False, False, False, False, False, False, False,\n",
       "       False, False, False, False, False, False, False, False, False,\n",
       "       False, False, False, False, False, False])"
      ]
     },
     "execution_count": 171,
     "metadata": {},
     "output_type": "execute_result"
    }
   ],
   "source": [
    "# Here axis = 0 represent row-wise iteration and which every row has any element greater than 80 is stored as true other\n",
    "# who are'nt are stored as false\n",
    "# You Can Also Check That All Element are greater than 80 or not using\n",
    "\n",
    "np.all(data>80,axis=0)"
   ]
  },
  {
   "cell_type": "code",
   "execution_count": null,
   "id": "9b51102c",
   "metadata": {},
   "outputs": [
    {
     "data": {
      "text/plain": [
       "array([[ True, False, False, False, False, False,  True,  True, False,\n",
       "        False,  True, False, False, False, False, False,  True, False,\n",
       "         True, False, False,  True, False, False],\n",
       "       [False, False,  True, False, False,  True, False, False,  True,\n",
       "         True, False, False, False, False, False, False, False,  True,\n",
       "        False, False,  True, False, False,  True],\n",
       "       [False,  True,  True, False,  True,  True,  True, False, False,\n",
       "         True, False, False, False, False,  True, False, False,  True,\n",
       "        False, False, False,  True,  True,  True],\n",
       "       [False, False, False, False, False, False,  True, False, False,\n",
       "        False, False, False, False,  True, False,  True,  True,  True,\n",
       "         True, False, False, False, False, False],\n",
       "       [False,  True,  True, False, False,  True, False,  True, False,\n",
       "        False, False,  True, False, False,  True, False, False,  True,\n",
       "        False, False, False, False, False,  True],\n",
       "       [False, False, False,  True,  True, False,  True,  True, False,\n",
       "        False, False, False, False,  True,  True,  True, False,  True,\n",
       "         True, False, False,  True, False, False],\n",
       "       [False,  True,  True, False, False,  True, False, False, False,\n",
       "         True,  True, False,  True, False,  True, False,  True,  True,\n",
       "         True, False,  True,  True,  True,  True]])"
      ]
     },
     "execution_count": 178,
     "metadata": {},
     "output_type": "execute_result"
    }
   ],
   "source": [
    "# Conditonal Indexing\n",
    "(data>40) & (data<80)"
   ]
  },
  {
   "cell_type": "code",
   "execution_count": null,
   "id": "afdfb840",
   "metadata": {},
   "outputs": [
    {
     "data": {
      "text/plain": [
       "array([42, 48, 59, 56, 78, 73, 58, 66, 70, 71, 62, 47, 52, 54, 43, 75, 60,\n",
       "       71, 73, 67, 55, 73, 49, 72, 79, 69, 75, 53, 67, 65, 48, 46, 75, 75,\n",
       "       63, 58, 52, 64, 58, 41, 75, 73, 44, 58, 62, 70, 60, 74, 42, 55, 62,\n",
       "       43, 51, 55, 54, 62, 51, 74, 69, 78, 51, 57, 55], dtype=int16)"
      ]
     },
     "execution_count": 180,
     "metadata": {},
     "output_type": "execute_result"
    }
   ],
   "source": [
    "# You Can Also Obtain Numbers which follows this condition bytearray\n",
    "data[(data>40) & (data<80)]\n",
    "# or\n",
    "data[((data>40) & (data<80))]"
   ]
  },
  {
   "cell_type": "code",
   "execution_count": null,
   "id": "56980835",
   "metadata": {},
   "outputs": [
    {
     "data": {
      "text/plain": [
       "array([[False,  True,  True,  True,  True,  True, False, False,  True,\n",
       "         True, False,  True,  True,  True,  True,  True, False,  True,\n",
       "        False,  True,  True, False,  True,  True],\n",
       "       [ True,  True, False,  True,  True, False,  True,  True, False,\n",
       "        False,  True,  True,  True,  True,  True,  True,  True, False,\n",
       "         True,  True, False,  True,  True, False],\n",
       "       [ True, False, False,  True, False, False, False,  True,  True,\n",
       "        False,  True,  True,  True,  True, False,  True,  True, False,\n",
       "         True,  True,  True, False, False, False],\n",
       "       [ True,  True,  True,  True,  True,  True, False,  True,  True,\n",
       "         True,  True,  True,  True, False,  True, False, False, False,\n",
       "        False,  True,  True,  True,  True,  True],\n",
       "       [ True, False, False,  True,  True, False,  True, False,  True,\n",
       "         True,  True, False,  True,  True, False,  True,  True, False,\n",
       "         True,  True,  True,  True,  True, False],\n",
       "       [ True,  True,  True, False, False,  True, False, False,  True,\n",
       "         True,  True,  True,  True, False, False, False,  True, False,\n",
       "        False,  True,  True, False,  True,  True],\n",
       "       [ True, False, False,  True,  True, False,  True,  True,  True,\n",
       "        False, False,  True, False,  True, False,  True, False, False,\n",
       "        False,  True, False, False, False, False]])"
      ]
     },
     "execution_count": 184,
     "metadata": {},
     "output_type": "execute_result"
    }
   ],
   "source": [
    "# Using Not Operator '~'\n",
    "(~((data>40) & (data<80)))"
   ]
  },
  {
   "cell_type": "markdown",
   "id": "c21a80a9",
   "metadata": {},
   "source": [
    "*You Can Index with a list in Numpy*"
   ]
  },
  {
   "cell_type": "code",
   "execution_count": null,
   "id": "b46f7951",
   "metadata": {},
   "outputs": [
    {
     "name": "stdout",
     "output_type": "stream",
     "text": [
      "[2 3 7]\n"
     ]
    }
   ],
   "source": [
    "a = np.array([1,2,3,4,5,6,7,8,9,10])\n",
    "print(a[[1,2,6]]) \n",
    "# Here First Square Bracket (Outer) Is for accessing a's array and second one is for generating list of element of array 'a' \n",
    "# at given index"
   ]
  },
  {
   "cell_type": "markdown",
   "id": "5889892f",
   "metadata": {},
   "source": [
    "## ***Day4 Numpy Notes***"
   ]
  },
  {
   "cell_type": "markdown",
   "id": "f2d11e42",
   "metadata": {},
   "source": [
    "### ***Advanced Indexing***"
   ]
  },
  {
   "cell_type": "markdown",
   "id": "56616074",
   "metadata": {},
   "source": [
    "**There Are Two Types Of Advanced Array Indexing**<br>\n",
    "* *Integer Array Indexing*<br>\n",
    "* *Boolean Array Indexing*"
   ]
  },
  {
   "cell_type": "markdown",
   "id": "9b008d99",
   "metadata": {},
   "source": [
    "***Integer Array Indexing***"
   ]
  },
  {
   "cell_type": "markdown",
   "id": "f6f1953a",
   "metadata": {},
   "source": [
    "*Integer array indexing refers to selecting elements from an N-dimensional array using another array of integers, where each integer or set of integers specifies a position along a particular axis.*"
   ]
  },
  {
   "cell_type": "markdown",
   "id": "01247f80",
   "metadata": {},
   "source": [
    "For Example:-"
   ]
  },
  {
   "cell_type": "code",
   "execution_count": 43,
   "id": "2688b807",
   "metadata": {},
   "outputs": [
    {
     "name": "stdout",
     "output_type": "stream",
     "text": [
      "[[ 3  4  5  6  7]\n",
      " [ 8  9 10 11 12]\n",
      " [13 14 15 16 17]\n",
      " [18 19 20 21 22]\n",
      " [23 24 25 26 27]]\n",
      "22\n"
     ]
    },
    {
     "data": {
      "text/plain": [
       "array([[18, 19, 20, 21, 22],\n",
       "       [23, 24, 25, 26, 27],\n",
       "       [ 8,  9, 10, 11, 12]])"
      ]
     },
     "execution_count": 43,
     "metadata": {},
     "output_type": "execute_result"
    }
   ],
   "source": [
    "x = np.arange(3,28).reshape(5,5)\n",
    "print(x)\n",
    "print(x[3,4])\n",
    "x[np.array([3,4,1])]"
   ]
  },
  {
   "cell_type": "code",
   "execution_count": 44,
   "id": "0b8a126c",
   "metadata": {},
   "outputs": [
    {
     "data": {
      "text/plain": [
       "array([3, 5])"
      ]
     },
     "execution_count": 44,
     "metadata": {},
     "output_type": "execute_result"
    }
   ],
   "source": [
    "x=np.array([[1,2],[3,4],[5,6]])\n",
    "x[np.array([1,2]),np.array([0])]"
   ]
  },
  {
   "cell_type": "markdown",
   "id": "6f5694da",
   "metadata": {},
   "source": [
    "*Integer indexing in NumPy extends basic indexing by using arrays of integers to specify explicit positions across one or more dimensions. Each integer (or set of integers) is used in coordination with others to select specific elements. The result is a new array—a copy of the original data, not a view—constructed by iterating over these index combinations.*"
   ]
  },
  {
   "cell_type": "markdown",
   "id": "37bc4cd2",
   "metadata": {},
   "source": [
    "*Remember If index value are out of bounds then is throws a IndexError*"
   ]
  },
  {
   "cell_type": "markdown",
   "id": "09dfa0df",
   "metadata": {},
   "source": [
    "*When performing indexing on an N-dimensional array using N separate integer arrays, NumPy treats each integer array as specifying indices along a particular axis. It then performs element-wise selection by combining the corresponding elements from each index array, extracting values from those coordinated positions.*"
   ]
  },
  {
   "cell_type": "code",
   "execution_count": 45,
   "id": "e2d8f1a9",
   "metadata": {},
   "outputs": [
    {
     "name": "stdout",
     "output_type": "stream",
     "text": [
      "[[ 0  1  2  3  4  5  6  7  8  9]\n",
      " [10 11 12 13 14 15 16 17 18 19]\n",
      " [20 21 22 23 24 25 26 27 28 29]\n",
      " [30 31 32 33 34 35 36 37 38 39]\n",
      " [40 41 42 43 44 45 46 47 48 49]\n",
      " [50 51 52 53 54 55 56 57 58 59]\n",
      " [60 61 62 63 64 65 66 67 68 69]\n",
      " [70 71 72 73 74 75 76 77 78 79]\n",
      " [80 81 82 83 84 85 86 87 88 89]\n",
      " [90 91 92 93 94 95 96 97 98 99]]\n"
     ]
    },
    {
     "data": {
      "text/plain": [
       "array([13, 24, 56, 87])"
      ]
     },
     "execution_count": 45,
     "metadata": {},
     "output_type": "execute_result"
    }
   ],
   "source": [
    "x = np.arange(0,100).reshape(10,10) # 2D Array\n",
    "print(x)\n",
    "x[np.array([1,2,5,8]),np.array([3,4,6,7])] # 2 Integer array used for indexing\n",
    "\n",
    "# Array Used Here Are Interpreted as [r,c] where r and c which are looped across 2-2 values each\n",
    "# Thats Why there are 4 output corresponding to each pair\n",
    "\n",
    "# 1<->3 --> 13 , 2<->4 --> 24 , 5<->6 --> 56 , 8<->7 --> 87"
   ]
  },
  {
   "cell_type": "markdown",
   "id": "a9de2085",
   "metadata": {},
   "source": [
    "*Lets Try To Pair Different Size Of Array With Each Other*"
   ]
  },
  {
   "cell_type": "code",
   "execution_count": 46,
   "id": "76ba0278",
   "metadata": {},
   "outputs": [
    {
     "ename": "IndexError",
     "evalue": "shape mismatch: indexing arrays could not be broadcast together with shapes (3,) (4,) ",
     "output_type": "error",
     "traceback": [
      "\u001b[1;31m---------------------------------------------------------------------------\u001b[0m",
      "\u001b[1;31mIndexError\u001b[0m                                Traceback (most recent call last)",
      "Cell \u001b[1;32mIn[46], line 1\u001b[0m\n\u001b[1;32m----> 1\u001b[0m x[np\u001b[38;5;241m.\u001b[39marray([\u001b[38;5;241m2\u001b[39m,\u001b[38;5;241m3\u001b[39m,\u001b[38;5;241m4\u001b[39m]),np\u001b[38;5;241m.\u001b[39marray([\u001b[38;5;241m5\u001b[39m,\u001b[38;5;241m6\u001b[39m,\u001b[38;5;241m7\u001b[39m,\u001b[38;5;241m8\u001b[39m])]\n",
      "\u001b[1;31mIndexError\u001b[0m: shape mismatch: indexing arrays could not be broadcast together with shapes (3,) (4,) "
     ]
    }
   ],
   "source": [
    "x[np.array([2,3,4]),np.array([5,6,7,8])]"
   ]
  },
  {
   "cell_type": "markdown",
   "id": "89b5d48a",
   "metadata": {},
   "source": [
    "*This Gives A Shape Mismatched Error means broadcasting is not possible here*<br>"
   ]
  },
  {
   "cell_type": "markdown",
   "id": "a4df5563",
   "metadata": {},
   "source": [
    "*Important Point :- When There N Integer Indexing Array for N Dimensional Array, then Resultant Output Is Same Size As Size of Indexing Array*"
   ]
  },
  {
   "cell_type": "markdown",
   "id": "c0015e9e",
   "metadata": {},
   "source": [
    "* *When Combining Integer Indexing Array with scalar broadcasting is used*"
   ]
  },
  {
   "cell_type": "code",
   "execution_count": 47,
   "id": "ec9c7dcf",
   "metadata": {},
   "outputs": [
    {
     "data": {
      "text/plain": [
       "array([20, 30])"
      ]
     },
     "execution_count": 47,
     "metadata": {},
     "output_type": "execute_result"
    }
   ],
   "source": [
    "x[np.array([2,3]),0] # Accessing Element from array with one index is fix or one index is scalar"
   ]
  },
  {
   "cell_type": "markdown",
   "id": "5e3d12eb",
   "metadata": {},
   "source": [
    "##### **Broadcasting(Short Introduction)**"
   ]
  },
  {
   "cell_type": "markdown",
   "id": "afd82e50",
   "metadata": {},
   "source": [
    "***Broadcasting descibes how numpy treats arrays with different shaped during arithmatic operations***"
   ]
  },
  {
   "cell_type": "markdown",
   "id": "3ae59ec4",
   "metadata": {},
   "source": [
    "*Smaller Array Are Broadcasted over larger array for there shape compatibilty*<br>\n",
    "*Or It Stretches smaller array over larger ones*<br>\n",
    "*Streching is a conceptual Numpy doesn't make copies of smaller array it uses original array efficently*"
   ]
  },
  {
   "cell_type": "code",
   "execution_count": 48,
   "id": "7453fe72",
   "metadata": {},
   "outputs": [
    {
     "ename": "ValueError",
     "evalue": "setting an array element with a sequence. The requested array has an inhomogeneous shape after 1 dimensions. The detected shape was (2,) + inhomogeneous part.",
     "output_type": "error",
     "traceback": [
      "\u001b[1;31m---------------------------------------------------------------------------\u001b[0m",
      "\u001b[1;31mValueError\u001b[0m                                Traceback (most recent call last)",
      "Cell \u001b[1;32mIn[48], line 1\u001b[0m\n\u001b[1;32m----> 1\u001b[0m a \u001b[38;5;241m=\u001b[39m np\u001b[38;5;241m.\u001b[39marray([[\u001b[38;5;241m6\u001b[39m,\u001b[38;5;241m7\u001b[39m,\u001b[38;5;241m8\u001b[39m,\u001b[38;5;241m3\u001b[39m,\u001b[38;5;241m7\u001b[39m,\u001b[38;5;241m5\u001b[39m],[\u001b[38;5;241m2\u001b[39m,\u001b[38;5;241m4\u001b[39m,\u001b[38;5;241m6\u001b[39m,\u001b[38;5;241m4\u001b[39m]])\n\u001b[0;32m      2\u001b[0m b \u001b[38;5;241m=\u001b[39m np\u001b[38;5;241m.\u001b[39marray([\u001b[38;5;241m7\u001b[39m,\u001b[38;5;241m8\u001b[39m,\u001b[38;5;241m9\u001b[39m])\n\u001b[0;32m      4\u001b[0m a\u001b[38;5;241m*\u001b[39mb\n",
      "\u001b[1;31mValueError\u001b[0m: setting an array element with a sequence. The requested array has an inhomogeneous shape after 1 dimensions. The detected shape was (2,) + inhomogeneous part."
     ]
    }
   ],
   "source": [
    "a = np.array([[6,7,8,3,7,5],[2,4,6,4]])\n",
    "b = np.array([7,8,9])\n",
    "\n",
    "a*b"
   ]
  },
  {
   "cell_type": "code",
   "execution_count": null,
   "id": "0ca01c89",
   "metadata": {},
   "outputs": [],
   "source": []
  },
  {
   "cell_type": "code",
   "execution_count": null,
   "id": "10625ddc",
   "metadata": {},
   "outputs": [],
   "source": []
  }
 ],
 "metadata": {
  "kernelspec": {
   "display_name": "base",
   "language": "python",
   "name": "python3"
  },
  "language_info": {
   "codemirror_mode": {
    "name": "ipython",
    "version": 3
   },
   "file_extension": ".py",
   "mimetype": "text/x-python",
   "name": "python",
   "nbconvert_exporter": "python",
   "pygments_lexer": "ipython3",
   "version": "3.12.7"
  }
 },
 "nbformat": 4,
 "nbformat_minor": 5
}
